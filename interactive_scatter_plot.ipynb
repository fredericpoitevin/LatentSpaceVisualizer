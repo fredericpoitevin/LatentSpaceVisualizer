{
 "cells": [
  {
   "cell_type": "code",
   "execution_count": 45,
   "metadata": {},
   "outputs": [],
   "source": [
    "import numpy as np"
   ]
  },
  {
   "cell_type": "code",
   "execution_count": 46,
   "metadata": {},
   "outputs": [],
   "source": [
    "from bokeh.io import push_notebook, output_notebook, show\n",
    "from bokeh.layouts import row\n",
    "from bokeh.plotting import figure, ColumnDataSource\n",
    "from bokeh.models import PanTool, BoxZoomTool, HoverTool, CrosshairTool, ResetTool"
   ]
  },
  {
   "cell_type": "code",
   "execution_count": 47,
   "metadata": {},
   "outputs": [],
   "source": [
    "from sklearn.decomposition import PCA"
   ]
  },
  {
   "cell_type": "code",
   "execution_count": 48,
   "metadata": {},
   "outputs": [],
   "source": [
    "from PIL import Image\n",
    "import base64\n",
    "from io import BytesIO"
   ]
  },
  {
   "cell_type": "code",
   "execution_count": 49,
   "metadata": {},
   "outputs": [],
   "source": [
    "def make_scatter2d_images(x, y, names=None, image_files=None, clustering=None):\n",
    "    source_data = dict(x=x, y=y)\n",
    "    if names is not None:\n",
    "        source_data[\"desc\"] = names\n",
    "        tooltips_desc = \"\"\"<span style=\"font-size: 17px; font-weight: bold;\">@desc</span>\"\"\"\n",
    "    else:\n",
    "        tooltips_desc = \"\"\n",
    "    if image_files is not None:\n",
    "        source_data[\"imgs\"] = image_files\n",
    "        tooltips_images = \"\"\"\n",
    "            <div>\n",
    "                <img\n",
    "                    src=\"@imgs\" height=\"42\" alt=\"@imgs\" width=\"42\"\n",
    "                    style=\"float: left; margin: 0px 15px 15px 0px;\"\n",
    "                    border=\"2\"\n",
    "                ></img>\n",
    "            </div>\n",
    "        \"\"\"\n",
    "    else:\n",
    "        tooltips_images = \"\"\n",
    "    if clustering is not None:\n",
    "        color_map = make_color_map(clustering)\n",
    "        cluster_colors = [color_map[c] for c in clustering]\n",
    "        source_data['cluster_color'] = cluster_colors\n",
    "    source = ColumnDataSource(data=source_data)\n",
    "    hover = HoverTool(tooltips=\"\"\"\n",
    "        <div>\n",
    "            {}\n",
    "            <div>\n",
    "                {}\n",
    "                <span style=\"font-size: 15px; color: #966;\">[$index]</span>\n",
    "            </div>\n",
    "            <div>\n",
    "                <span style=\"font-size: 15px;\">Location</span>\n",
    "                <span style=\"font-size: 10px; color: #696;\">($x, $y)</span>\n",
    "            </div>\n",
    "        </div>\n",
    "        \"\"\".format(tooltips_images, tooltips_desc))\n",
    "    p = figure(width=600, height=600)\n",
    "    for t in [PanTool(), BoxZoomTool(), hover, CrosshairTool(), ResetTool()]:\n",
    "        p.add_tools(t)\n",
    "    if clustering is not None:\n",
    "        p.circle(x='x', y='y',\n",
    "                 fill_color='cluster_color',\n",
    "                 line_color='cluster_color',\n",
    "                 size=5, source=source)\n",
    "    else:\n",
    "        p.circle(x='x', y='y', size=5, source=source)\n",
    "    return p\n"
   ]
  },
  {
   "cell_type": "code",
   "execution_count": 38,
   "metadata": {},
   "outputs": [],
   "source": [
    "def gnp2im(image_np, bit_depth_scale_factor):\n",
    "    \"\"\"Converts an image stored as a 2-D grayscale Numpy array into a PIL image.\"\"\"\n",
    "    return Image.fromarray((image_np * bit_depth_scale_factor).astype(np.uint8), mode='L')"
   ]
  },
  {
   "cell_type": "code",
   "execution_count": 39,
   "metadata": {},
   "outputs": [],
   "source": [
    "def to_base64(png):\n",
    "    return \"data:image/png;base64,\" + base64.b64encode(png).decode(\"utf-8\")"
   ]
  },
  {
   "cell_type": "code",
   "execution_count": 31,
   "metadata": {},
   "outputs": [
    {
     "data": {
      "text/html": [
       "\n",
       "    <div class=\"bk-root\">\n",
       "        <a href=\"https://bokeh.pydata.org\" target=\"_blank\" class=\"bk-logo bk-logo-small bk-logo-notebook\"></a>\n",
       "        <span id=\"1102\">Loading BokehJS ...</span>\n",
       "    </div>"
      ]
     },
     "metadata": {},
     "output_type": "display_data"
    },
    {
     "data": {
      "application/javascript": [
       "\n",
       "(function(root) {\n",
       "  function now() {\n",
       "    return new Date();\n",
       "  }\n",
       "\n",
       "  var force = true;\n",
       "\n",
       "  if (typeof root._bokeh_onload_callbacks === \"undefined\" || force === true) {\n",
       "    root._bokeh_onload_callbacks = [];\n",
       "    root._bokeh_is_loading = undefined;\n",
       "  }\n",
       "\n",
       "  var JS_MIME_TYPE = 'application/javascript';\n",
       "  var HTML_MIME_TYPE = 'text/html';\n",
       "  var EXEC_MIME_TYPE = 'application/vnd.bokehjs_exec.v0+json';\n",
       "  var CLASS_NAME = 'output_bokeh rendered_html';\n",
       "\n",
       "  /**\n",
       "   * Render data to the DOM node\n",
       "   */\n",
       "  function render(props, node) {\n",
       "    var script = document.createElement(\"script\");\n",
       "    node.appendChild(script);\n",
       "  }\n",
       "\n",
       "  /**\n",
       "   * Handle when an output is cleared or removed\n",
       "   */\n",
       "  function handleClearOutput(event, handle) {\n",
       "    var cell = handle.cell;\n",
       "\n",
       "    var id = cell.output_area._bokeh_element_id;\n",
       "    var server_id = cell.output_area._bokeh_server_id;\n",
       "    // Clean up Bokeh references\n",
       "    if (id != null && id in Bokeh.index) {\n",
       "      Bokeh.index[id].model.document.clear();\n",
       "      delete Bokeh.index[id];\n",
       "    }\n",
       "\n",
       "    if (server_id !== undefined) {\n",
       "      // Clean up Bokeh references\n",
       "      var cmd = \"from bokeh.io.state import curstate; print(curstate().uuid_to_server['\" + server_id + \"'].get_sessions()[0].document.roots[0]._id)\";\n",
       "      cell.notebook.kernel.execute(cmd, {\n",
       "        iopub: {\n",
       "          output: function(msg) {\n",
       "            var id = msg.content.text.trim();\n",
       "            if (id in Bokeh.index) {\n",
       "              Bokeh.index[id].model.document.clear();\n",
       "              delete Bokeh.index[id];\n",
       "            }\n",
       "          }\n",
       "        }\n",
       "      });\n",
       "      // Destroy server and session\n",
       "      var cmd = \"import bokeh.io.notebook as ion; ion.destroy_server('\" + server_id + \"')\";\n",
       "      cell.notebook.kernel.execute(cmd);\n",
       "    }\n",
       "  }\n",
       "\n",
       "  /**\n",
       "   * Handle when a new output is added\n",
       "   */\n",
       "  function handleAddOutput(event, handle) {\n",
       "    var output_area = handle.output_area;\n",
       "    var output = handle.output;\n",
       "\n",
       "    // limit handleAddOutput to display_data with EXEC_MIME_TYPE content only\n",
       "    if ((output.output_type != \"display_data\") || (!output.data.hasOwnProperty(EXEC_MIME_TYPE))) {\n",
       "      return\n",
       "    }\n",
       "\n",
       "    var toinsert = output_area.element.find(\".\" + CLASS_NAME.split(' ')[0]);\n",
       "\n",
       "    if (output.metadata[EXEC_MIME_TYPE][\"id\"] !== undefined) {\n",
       "      toinsert[toinsert.length - 1].firstChild.textContent = output.data[JS_MIME_TYPE];\n",
       "      // store reference to embed id on output_area\n",
       "      output_area._bokeh_element_id = output.metadata[EXEC_MIME_TYPE][\"id\"];\n",
       "    }\n",
       "    if (output.metadata[EXEC_MIME_TYPE][\"server_id\"] !== undefined) {\n",
       "      var bk_div = document.createElement(\"div\");\n",
       "      bk_div.innerHTML = output.data[HTML_MIME_TYPE];\n",
       "      var script_attrs = bk_div.children[0].attributes;\n",
       "      for (var i = 0; i < script_attrs.length; i++) {\n",
       "        toinsert[toinsert.length - 1].firstChild.setAttribute(script_attrs[i].name, script_attrs[i].value);\n",
       "      }\n",
       "      // store reference to server id on output_area\n",
       "      output_area._bokeh_server_id = output.metadata[EXEC_MIME_TYPE][\"server_id\"];\n",
       "    }\n",
       "  }\n",
       "\n",
       "  function register_renderer(events, OutputArea) {\n",
       "\n",
       "    function append_mime(data, metadata, element) {\n",
       "      // create a DOM node to render to\n",
       "      var toinsert = this.create_output_subarea(\n",
       "        metadata,\n",
       "        CLASS_NAME,\n",
       "        EXEC_MIME_TYPE\n",
       "      );\n",
       "      this.keyboard_manager.register_events(toinsert);\n",
       "      // Render to node\n",
       "      var props = {data: data, metadata: metadata[EXEC_MIME_TYPE]};\n",
       "      render(props, toinsert[toinsert.length - 1]);\n",
       "      element.append(toinsert);\n",
       "      return toinsert\n",
       "    }\n",
       "\n",
       "    /* Handle when an output is cleared or removed */\n",
       "    events.on('clear_output.CodeCell', handleClearOutput);\n",
       "    events.on('delete.Cell', handleClearOutput);\n",
       "\n",
       "    /* Handle when a new output is added */\n",
       "    events.on('output_added.OutputArea', handleAddOutput);\n",
       "\n",
       "    /**\n",
       "     * Register the mime type and append_mime function with output_area\n",
       "     */\n",
       "    OutputArea.prototype.register_mime_type(EXEC_MIME_TYPE, append_mime, {\n",
       "      /* Is output safe? */\n",
       "      safe: true,\n",
       "      /* Index of renderer in `output_area.display_order` */\n",
       "      index: 0\n",
       "    });\n",
       "  }\n",
       "\n",
       "  // register the mime type if in Jupyter Notebook environment and previously unregistered\n",
       "  if (root.Jupyter !== undefined) {\n",
       "    var events = require('base/js/events');\n",
       "    var OutputArea = require('notebook/js/outputarea').OutputArea;\n",
       "\n",
       "    if (OutputArea.prototype.mime_types().indexOf(EXEC_MIME_TYPE) == -1) {\n",
       "      register_renderer(events, OutputArea);\n",
       "    }\n",
       "  }\n",
       "\n",
       "  \n",
       "  if (typeof (root._bokeh_timeout) === \"undefined\" || force === true) {\n",
       "    root._bokeh_timeout = Date.now() + 5000;\n",
       "    root._bokeh_failed_load = false;\n",
       "  }\n",
       "\n",
       "  var NB_LOAD_WARNING = {'data': {'text/html':\n",
       "     \"<div style='background-color: #fdd'>\\n\"+\n",
       "     \"<p>\\n\"+\n",
       "     \"BokehJS does not appear to have successfully loaded. If loading BokehJS from CDN, this \\n\"+\n",
       "     \"may be due to a slow or bad network connection. Possible fixes:\\n\"+\n",
       "     \"</p>\\n\"+\n",
       "     \"<ul>\\n\"+\n",
       "     \"<li>re-rerun `output_notebook()` to attempt to load from CDN again, or</li>\\n\"+\n",
       "     \"<li>use INLINE resources instead, as so:</li>\\n\"+\n",
       "     \"</ul>\\n\"+\n",
       "     \"<code>\\n\"+\n",
       "     \"from bokeh.resources import INLINE\\n\"+\n",
       "     \"output_notebook(resources=INLINE)\\n\"+\n",
       "     \"</code>\\n\"+\n",
       "     \"</div>\"}};\n",
       "\n",
       "  function display_loaded() {\n",
       "    var el = document.getElementById(\"1102\");\n",
       "    if (el != null) {\n",
       "      el.textContent = \"BokehJS is loading...\";\n",
       "    }\n",
       "    if (root.Bokeh !== undefined) {\n",
       "      if (el != null) {\n",
       "        el.textContent = \"BokehJS \" + root.Bokeh.version + \" successfully loaded.\";\n",
       "      }\n",
       "    } else if (Date.now() < root._bokeh_timeout) {\n",
       "      setTimeout(display_loaded, 100)\n",
       "    }\n",
       "  }\n",
       "\n",
       "\n",
       "  function run_callbacks() {\n",
       "    try {\n",
       "      root._bokeh_onload_callbacks.forEach(function(callback) {\n",
       "        if (callback != null)\n",
       "          callback();\n",
       "      });\n",
       "    } finally {\n",
       "      delete root._bokeh_onload_callbacks\n",
       "    }\n",
       "    console.debug(\"Bokeh: all callbacks have finished\");\n",
       "  }\n",
       "\n",
       "  function load_libs(css_urls, js_urls, callback) {\n",
       "    if (css_urls == null) css_urls = [];\n",
       "    if (js_urls == null) js_urls = [];\n",
       "\n",
       "    root._bokeh_onload_callbacks.push(callback);\n",
       "    if (root._bokeh_is_loading > 0) {\n",
       "      console.debug(\"Bokeh: BokehJS is being loaded, scheduling callback at\", now());\n",
       "      return null;\n",
       "    }\n",
       "    if (js_urls == null || js_urls.length === 0) {\n",
       "      run_callbacks();\n",
       "      return null;\n",
       "    }\n",
       "    console.debug(\"Bokeh: BokehJS not loaded, scheduling load and callback at\", now());\n",
       "    root._bokeh_is_loading = css_urls.length + js_urls.length;\n",
       "\n",
       "    function on_load() {\n",
       "      root._bokeh_is_loading--;\n",
       "      if (root._bokeh_is_loading === 0) {\n",
       "        console.debug(\"Bokeh: all BokehJS libraries/stylesheets loaded\");\n",
       "        run_callbacks()\n",
       "      }\n",
       "    }\n",
       "\n",
       "    function on_error() {\n",
       "      console.error(\"failed to load \" + url);\n",
       "    }\n",
       "\n",
       "    for (var i = 0; i < css_urls.length; i++) {\n",
       "      var url = css_urls[i];\n",
       "      const element = document.createElement(\"link\");\n",
       "      element.onload = on_load;\n",
       "      element.onerror = on_error;\n",
       "      element.rel = \"stylesheet\";\n",
       "      element.type = \"text/css\";\n",
       "      element.href = url;\n",
       "      console.debug(\"Bokeh: injecting link tag for BokehJS stylesheet: \", url);\n",
       "      document.body.appendChild(element);\n",
       "    }\n",
       "\n",
       "    for (var i = 0; i < js_urls.length; i++) {\n",
       "      var url = js_urls[i];\n",
       "      var element = document.createElement('script');\n",
       "      element.onload = on_load;\n",
       "      element.onerror = on_error;\n",
       "      element.async = false;\n",
       "      element.src = url;\n",
       "      console.debug(\"Bokeh: injecting script tag for BokehJS library: \", url);\n",
       "      document.head.appendChild(element);\n",
       "    }\n",
       "  };var element = document.getElementById(\"1102\");\n",
       "  if (element == null) {\n",
       "    console.error(\"Bokeh: ERROR: autoload.js configured with elementid '1102' but no matching script tag was found. \")\n",
       "    return false;\n",
       "  }\n",
       "\n",
       "  function inject_raw_css(css) {\n",
       "    const element = document.createElement(\"style\");\n",
       "    element.appendChild(document.createTextNode(css));\n",
       "    document.body.appendChild(element);\n",
       "  }\n",
       "\n",
       "  var js_urls = [\"https://cdn.pydata.org/bokeh/release/bokeh-1.3.2.min.js\", \"https://cdn.pydata.org/bokeh/release/bokeh-widgets-1.3.2.min.js\", \"https://cdn.pydata.org/bokeh/release/bokeh-tables-1.3.2.min.js\", \"https://cdn.pydata.org/bokeh/release/bokeh-gl-1.3.2.min.js\"];\n",
       "  var css_urls = [];\n",
       "\n",
       "  var inline_js = [\n",
       "    function(Bokeh) {\n",
       "      Bokeh.set_log_level(\"info\");\n",
       "    },\n",
       "    \n",
       "    function(Bokeh) {\n",
       "      \n",
       "    },\n",
       "    function(Bokeh) {} // ensure no trailing comma for IE\n",
       "  ];\n",
       "\n",
       "  function run_inline_js() {\n",
       "    \n",
       "    if ((root.Bokeh !== undefined) || (force === true)) {\n",
       "      for (var i = 0; i < inline_js.length; i++) {\n",
       "        inline_js[i].call(root, root.Bokeh);\n",
       "      }if (force === true) {\n",
       "        display_loaded();\n",
       "      }} else if (Date.now() < root._bokeh_timeout) {\n",
       "      setTimeout(run_inline_js, 100);\n",
       "    } else if (!root._bokeh_failed_load) {\n",
       "      console.log(\"Bokeh: BokehJS failed to load within specified timeout.\");\n",
       "      root._bokeh_failed_load = true;\n",
       "    } else if (force !== true) {\n",
       "      var cell = $(document.getElementById(\"1102\")).parents('.cell').data().cell;\n",
       "      cell.output_area.append_execute_result(NB_LOAD_WARNING)\n",
       "    }\n",
       "\n",
       "  }\n",
       "\n",
       "  if (root._bokeh_is_loading === 0) {\n",
       "    console.debug(\"Bokeh: BokehJS loaded, going straight to plotting\");\n",
       "    run_inline_js();\n",
       "  } else {\n",
       "    load_libs(css_urls, js_urls, function() {\n",
       "      console.debug(\"Bokeh: BokehJS plotting callback run at\", now());\n",
       "      run_inline_js();\n",
       "    });\n",
       "  }\n",
       "}(window));"
      ],
      "application/vnd.bokehjs_load.v0+json": "\n(function(root) {\n  function now() {\n    return new Date();\n  }\n\n  var force = true;\n\n  if (typeof root._bokeh_onload_callbacks === \"undefined\" || force === true) {\n    root._bokeh_onload_callbacks = [];\n    root._bokeh_is_loading = undefined;\n  }\n\n  \n\n  \n  if (typeof (root._bokeh_timeout) === \"undefined\" || force === true) {\n    root._bokeh_timeout = Date.now() + 5000;\n    root._bokeh_failed_load = false;\n  }\n\n  var NB_LOAD_WARNING = {'data': {'text/html':\n     \"<div style='background-color: #fdd'>\\n\"+\n     \"<p>\\n\"+\n     \"BokehJS does not appear to have successfully loaded. If loading BokehJS from CDN, this \\n\"+\n     \"may be due to a slow or bad network connection. Possible fixes:\\n\"+\n     \"</p>\\n\"+\n     \"<ul>\\n\"+\n     \"<li>re-rerun `output_notebook()` to attempt to load from CDN again, or</li>\\n\"+\n     \"<li>use INLINE resources instead, as so:</li>\\n\"+\n     \"</ul>\\n\"+\n     \"<code>\\n\"+\n     \"from bokeh.resources import INLINE\\n\"+\n     \"output_notebook(resources=INLINE)\\n\"+\n     \"</code>\\n\"+\n     \"</div>\"}};\n\n  function display_loaded() {\n    var el = document.getElementById(\"1102\");\n    if (el != null) {\n      el.textContent = \"BokehJS is loading...\";\n    }\n    if (root.Bokeh !== undefined) {\n      if (el != null) {\n        el.textContent = \"BokehJS \" + root.Bokeh.version + \" successfully loaded.\";\n      }\n    } else if (Date.now() < root._bokeh_timeout) {\n      setTimeout(display_loaded, 100)\n    }\n  }\n\n\n  function run_callbacks() {\n    try {\n      root._bokeh_onload_callbacks.forEach(function(callback) {\n        if (callback != null)\n          callback();\n      });\n    } finally {\n      delete root._bokeh_onload_callbacks\n    }\n    console.debug(\"Bokeh: all callbacks have finished\");\n  }\n\n  function load_libs(css_urls, js_urls, callback) {\n    if (css_urls == null) css_urls = [];\n    if (js_urls == null) js_urls = [];\n\n    root._bokeh_onload_callbacks.push(callback);\n    if (root._bokeh_is_loading > 0) {\n      console.debug(\"Bokeh: BokehJS is being loaded, scheduling callback at\", now());\n      return null;\n    }\n    if (js_urls == null || js_urls.length === 0) {\n      run_callbacks();\n      return null;\n    }\n    console.debug(\"Bokeh: BokehJS not loaded, scheduling load and callback at\", now());\n    root._bokeh_is_loading = css_urls.length + js_urls.length;\n\n    function on_load() {\n      root._bokeh_is_loading--;\n      if (root._bokeh_is_loading === 0) {\n        console.debug(\"Bokeh: all BokehJS libraries/stylesheets loaded\");\n        run_callbacks()\n      }\n    }\n\n    function on_error() {\n      console.error(\"failed to load \" + url);\n    }\n\n    for (var i = 0; i < css_urls.length; i++) {\n      var url = css_urls[i];\n      const element = document.createElement(\"link\");\n      element.onload = on_load;\n      element.onerror = on_error;\n      element.rel = \"stylesheet\";\n      element.type = \"text/css\";\n      element.href = url;\n      console.debug(\"Bokeh: injecting link tag for BokehJS stylesheet: \", url);\n      document.body.appendChild(element);\n    }\n\n    for (var i = 0; i < js_urls.length; i++) {\n      var url = js_urls[i];\n      var element = document.createElement('script');\n      element.onload = on_load;\n      element.onerror = on_error;\n      element.async = false;\n      element.src = url;\n      console.debug(\"Bokeh: injecting script tag for BokehJS library: \", url);\n      document.head.appendChild(element);\n    }\n  };var element = document.getElementById(\"1102\");\n  if (element == null) {\n    console.error(\"Bokeh: ERROR: autoload.js configured with elementid '1102' but no matching script tag was found. \")\n    return false;\n  }\n\n  function inject_raw_css(css) {\n    const element = document.createElement(\"style\");\n    element.appendChild(document.createTextNode(css));\n    document.body.appendChild(element);\n  }\n\n  var js_urls = [\"https://cdn.pydata.org/bokeh/release/bokeh-1.3.2.min.js\", \"https://cdn.pydata.org/bokeh/release/bokeh-widgets-1.3.2.min.js\", \"https://cdn.pydata.org/bokeh/release/bokeh-tables-1.3.2.min.js\", \"https://cdn.pydata.org/bokeh/release/bokeh-gl-1.3.2.min.js\"];\n  var css_urls = [];\n\n  var inline_js = [\n    function(Bokeh) {\n      Bokeh.set_log_level(\"info\");\n    },\n    \n    function(Bokeh) {\n      \n    },\n    function(Bokeh) {} // ensure no trailing comma for IE\n  ];\n\n  function run_inline_js() {\n    \n    if ((root.Bokeh !== undefined) || (force === true)) {\n      for (var i = 0; i < inline_js.length; i++) {\n        inline_js[i].call(root, root.Bokeh);\n      }if (force === true) {\n        display_loaded();\n      }} else if (Date.now() < root._bokeh_timeout) {\n      setTimeout(run_inline_js, 100);\n    } else if (!root._bokeh_failed_load) {\n      console.log(\"Bokeh: BokehJS failed to load within specified timeout.\");\n      root._bokeh_failed_load = true;\n    } else if (force !== true) {\n      var cell = $(document.getElementById(\"1102\")).parents('.cell').data().cell;\n      cell.output_area.append_execute_result(NB_LOAD_WARNING)\n    }\n\n  }\n\n  if (root._bokeh_is_loading === 0) {\n    console.debug(\"Bokeh: BokehJS loaded, going straight to plotting\");\n    run_inline_js();\n  } else {\n    load_libs(css_urls, js_urls, function() {\n      console.debug(\"Bokeh: BokehJS plotting callback run at\", now());\n      run_inline_js();\n    });\n  }\n}(window));"
     },
     "metadata": {},
     "output_type": "display_data"
    }
   ],
   "source": [
    "output_notebook()"
   ]
  },
  {
   "cell_type": "code",
   "execution_count": 32,
   "metadata": {},
   "outputs": [],
   "source": [
    "n = 32\n",
    "h = 32\n",
    "w = 32"
   ]
  },
  {
   "cell_type": "code",
   "execution_count": 33,
   "metadata": {},
   "outputs": [],
   "source": [
    "data = np.random.rand(n, h, w)"
   ]
  },
  {
   "cell_type": "code",
   "execution_count": 34,
   "metadata": {},
   "outputs": [],
   "source": [
    "pca = PCA(n_components=2)"
   ]
  },
  {
   "cell_type": "code",
   "execution_count": 35,
   "metadata": {},
   "outputs": [],
   "source": [
    "z = pca.fit_transform(data.reshape((n, h * w)))"
   ]
  },
  {
   "cell_type": "code",
   "execution_count": 36,
   "metadata": {},
   "outputs": [
    {
     "data": {
      "text/plain": [
       "(32, 2)"
      ]
     },
     "execution_count": 36,
     "metadata": {},
     "output_type": "execute_result"
    }
   ],
   "source": [
    "z.shape"
   ]
  },
  {
   "cell_type": "code",
   "execution_count": 37,
   "metadata": {},
   "outputs": [],
   "source": [
    "x = z[:, 0]\n",
    "y = z[:, 1]"
   ]
  },
  {
   "cell_type": "code",
   "execution_count": 40,
   "metadata": {},
   "outputs": [],
   "source": [
    "bit_depth_scale_factor = 255"
   ]
  },
  {
   "cell_type": "code",
   "execution_count": 42,
   "metadata": {},
   "outputs": [],
   "source": [
    "thumbnails = []\n",
    "for gnp in data:\n",
    "    im = gnp2im(gnp, bit_depth_scale_factor)\n",
    "    memout = BytesIO()\n",
    "    im.save(memout, format='png')\n",
    "    thumbnails.append(to_base64(memout.getvalue()))"
   ]
  },
  {
   "cell_type": "code",
   "execution_count": 43,
   "metadata": {},
   "outputs": [],
   "source": [
    "p_scatter = make_scatter2d_images(x, y, names=None, image_files=thumbnails, clustering=None)"
   ]
  },
  {
   "cell_type": "code",
   "execution_count": 44,
   "metadata": {},
   "outputs": [
    {
     "data": {
      "text/html": [
       "\n",
       "\n",
       "\n",
       "\n",
       "\n",
       "\n",
       "  <div class=\"bk-root\" id=\"b197d5b2-d1cc-4c2a-9191-b84895f3b733\" data-root-id=\"1151\"></div>\n"
      ]
     },
     "metadata": {},
     "output_type": "display_data"
    },
    {
     "data": {
      "application/javascript": [
       "(function(root) {\n",
       "  function embed_document(root) {\n",
       "    \n",
       "  var docs_json = {\"41057955-924f-449f-8a09-ee62b36f5f5b\":{\"roots\":{\"references\":[{\"attributes\":{\"children\":[{\"id\":\"1105\",\"subtype\":\"Figure\",\"type\":\"Plot\"}]},\"id\":\"1151\",\"type\":\"Row\"},{\"attributes\":{},\"id\":\"1140\",\"type\":\"ResetTool\"},{\"attributes\":{},\"id\":\"1157\",\"type\":\"BasicTickFormatter\"},{\"attributes\":{\"callback\":null,\"data\":{\"imgs\":[\"data:image/png;base64,iVBORw0KGgoAAAANSUhEUgAAACAAAAAgCAAAAABWESUoAAAEK0lEQVR4nAEgBN/7AGLLKpu8Ir4iHSkGTBEchdVpxoX5MbWjqHwn2h5uQJnCBO74QTX3Uf15CC7d5yA5IdU25oVbs55ao4cFyEHdbC+xAvPFAP6MVeLQCTA3a8FY3MJj7SLZv5ARl5d2eu+z9C6wAXq9mIpbzkIXRbxqLK/t/3EgGM6eItbKsYwI0S1NER2wAUYNt1pSuP0M7K6AX58raxbu14Me8LEtZIXkUJvGG347AcGc//aT7yJkG0WlzGNiPO/P++D5t30MTvlagY+X/qfiAv8iOvMN/jXwa/B7zho4k6b2E6DFhK0eekuCYMPhswFUAMGgfAJeP3P26xaNnQNb2OfbdrRjZOHYftriF9Igr22fAd+1OLaO1zbWaWk9rs8vzOQZK7YQQfF4j/MX5/qB2yLpAawFzg/G/au+x4g8LqUbFIZSAy7fyNJ0pFh4T2L6yo33AQ832ahDdQRBCkIPJ5aEo4WPkbQU4yhKiIpCHibj6/n3AhFlcz1d5RNhVmUHKDMYQFajCE7it1fOYBuyNk6Z4lHGBPho/TQ3Or8JtuaE3nW/BjD9AOudUCoGVPfE7YQwy5vQAvp7BOiX+gwDZpqLI84wKwIFt64LQi3bbv1GdFnJ5fTxAat/HY/K50Sm199LG5ezAzWc2GYl4zHvwE5Y1xJy4lUAAvoQH2VylKX6RQykBX57+hzn/i4uo+O3NOaDzQ5pBzcuAh6aKE8It+ZbYVJYrFzNnzWu3nfm+THeZZU6QqQeeFIPAYXdp+YdJV2Uxygr0OaEbyXCP15wmAAk4vl4G/psB8cDAHHLNSbNQzeTa+t15mOu/YU6r3zL2PvItPLIN6oHe6ECAvvT62CpKacY3cGfxI8amRQeR03+LMntJuVXU2ZZgywPBIoby9oJQ9VTdMvApoYY3fd6RP8D8oveHust+87sQPKUAp99x4f4i/1t6ZTQZv8S5deyuw04fvHA2ven3Ohut1MWAG0o7B/kokql3Pu+chKQi4e/QivoE7D8bs9KlF0S2tHkAITt8n76AvZ4i3wj+dpnwaoplwu+nmQiXh3uLj8wWCSGAfD50X/etDxkh2ttq7No6QIO2bYHMTUiSG4EMF6Ps70OAOVRFUqojxV7rruluKYMIg7qxvjCQHv5DBSGW8kN96L7AI0NZKFD9dHKCUwCUdRITWvFoilEE+kHb53Qq4tjLbMDAJrJ59YB34gy6C/R7sHuV9HfFom3LE3yguANv1wQAERaAuJ0d/nRHgZ9XC0/+yE5dpKu7PNCnSAV1klNKMWhGNItAVqn2M/FBuNk1MrEInkYEuxGdRwLhEfXFV/mwQcn6xk0Agc4tA+aEkMxXfE7Ja9eYLsMxBP48E9ul66rWH4Bcu76ASVgHB1FJwYvTvjmblEZ5yoNKHRlivtWzvV28xPdbbRReHsFc5SUeuQAAAAASUVORK5CYII=\",\"data:image/png;base64,iVBORw0KGgoAAAANSUhEUgAAACAAAAAgCAAAAABWESUoAAAEK0lEQVR4nAEgBN/7AZfRUGGMROVgC9dwWrcf7Nu14xrxDXC9c0ZDAOp733E8AGbKzm8tm5qq2WoIR3llyDOh87ThgOZeIpnrmLKGQZQzAs+fPM4zOji59TaSr/4jeKSmgSdN1nD7FJLUbVwA9NCUBMITsrt4Km4MdHWwA78agp8J1RzrPewobbtQxuwhejlHAMuYf84FjEsCoreNPuLqHDtrBLAgGmcUVwLu4uAsn+zYAfPEe2vcjUDsYnDlLSDvDrY33N8YUNEr8gVBA3/R5RUXBDO38xgpGulC5DOtYY45UkPXkXoDJ6zLvy2ZNkAcfTtpAFaaWvcglOTgOvjN2jQkELFDD5/tiNxsmHtElvoJ4rMSAHfuChXhMfz0DjJbQh4MS8RjsduFBhVzyknLbolu1tMjBAujl+NixoXdy0jihLBmAT4NM1RoQp4N4Tr963ImUn9CAPSNwWJJLOX3W0+4xCsX+rCdjzgB10tm6FrXx68OR+qVAbQYvE0vQ/jwAjqQF03VIWxU07XhsjvRcz2sgJTRG4x5ANvJc+3DEyfRY++29bDKlXJOBXHvsgmE1p0i+MhQdYsCBEgxqBj1lQIvHFgt8bvDbMsmvqNqV0cMR1L26ZD9BdAEAHUP3s/xLNgxkBMFTuLvqorrIKPSxvMqaoDGv1KsXrdlAfhLTGwkBQVWPEzyHA7xS+r8ClE/t2EgT98HDMcQRpsJAeC+FvS+B+hGnOADq/Vn2FUbQImCp8Q/KDhh14KM5etuBCTF0YBxugHy+brQx65v3KeSjlhw+hpJ6vsMRL36dF6kAgXRz5fpNRA45383p9U6x1IxQdJt4yQxHc8LfjvZRRLlAJkBDUXslHsXTqQgCy555ehqX0vBTy5oCur7yNXWFJ3wAo9Y9fe01vgDOD9b6gIgvbh7Ag95s+lWVCU8zTDI0zaKAYW86Jq4hSEL1DKGVjQUdcri+4y7f0//O1M07vXgRgerAC495Cq46xslXPE8iOjLOKPQEzdTaGcKdYg01wXnqTjIAVT3Hy/OsTpdP54WEg91srRIVXxx/u8B9B/bwILrZiZmACHGr0UCmg3PS66ni1LjYElFBmjb4jAVlcA/7bM9VMA7AcHozixIWDkMJ+EWvkhYU4u51gkqWsbiRdfi5bEI9PwJAixeh8bzSuC0HZ0O5rW4AWbeNvopPx9VKfkK8uWfe96IArgnpPilD5NBK0xnM5kUdvU/yV+Fhhhll0/F7PWyFBtiBHP2zWlw1u/vlN70+dm/lPMQykREpRArZ6HzRSf2AR7hAkMWu2G0XEsH2MP7wNmTxPlJQKYcZ/6M2grEBgA9tH1YAtyxvm3G4Hc9wNAjYvkXbW5SPzfaGOjP5VChw6IbQnEjAkV4xRGfVuwWON37YkubLLFLAMIt9VAkDDMBipDV7V3xZpD9viokV2gAAAAASUVORK5CYII=\",\"data:image/png;base64,iVBORw0KGgoAAAANSUhEUgAAACAAAAAgCAAAAABWESUoAAAEK0lEQVR4nAEgBN/7AaM1CKke98/x1YF7KIv0X1wTyoeyohuQ/bBY9IcOEHbRBMUbt/XzTzI6sgF5BkLMo5nQKRibZZjrxKtDwzT7dSnHBMPT4bsyM+8fZxhzw6/NXHhGKkDvfO+zwCA7bMwA5v6dAdRKzu+QB+kIs+Q0EbpxbP716eu5K7QlK4WrQ4FEntHrAue9yq6C6631a43ML6nxHYkc7wPKK5hEmlhh1hFKdfs4AD8MJ7WvyMQzOP63qSROxRX4MY0bGspNGVgaQPq/qVa1AXLH1Ls0z+8Yq2G9lnAarw6/wUBH47KrKAVKAgyI1xbXBAAMABFkNS/68VvEbydc6C92OzjzDk0HuT6A3tZcZqfzAvYURsBqgcgRVOioQu9YDHHBf1LUmmOAmtws9O/hVeE+ASPWjj4oI2nnSrWs7R6dquY5L6YTQAEv/69BuHHIbqLRAPp5H+ezPp3OGH825xCCNcAck700JgWdp7+qGZPTfVStAUGlqQMsRJs0fS0eYYErFvr3aw35LidyNhKhKVEy86wGBCQX2Vs2fC+KIAHWsBoIEmAWCKJM92fbS5JsX/2X2wxvAgd0HEcHAbu9HsbOWxlv2AcHJXeEMCeO8bSmjmvp3ywQAnm0/dCQTNkt2dnZcdgidAArPMmC/xD0U62U3wGXkS16ABmbxGTPCk3jO2Bf5Tf60ESazs4ZE4ay7XDH2UzuxWMsAd5onlS8Gbv+yKKZlNeGC69pz1pbV60LBAX8BPVRxyXfAHH1uzUbtRRU+7RgWmUOdMYK+vsjluLRp2Gqr0EcVCdFBET2DZxVMR58hNsbLlE9+x++VV2X00r7tfIa/Fs0qaiXAJLtdJFkTnP5REn+AfRDBwTV2Z6aDrjvXQe5BoeTPxbhAlEZ7ID27YqkJfR9WWuqxxuf4o7oWgk7GQRrDmP7hSKkAcoJprWAxjVcwK07Ap3g4AmuH5WxyOrsIqID3q+VUgIBAJChXoTFDTkRpPe6f9KKSXvzVerPyhQ43dhU5sZlFswaBPKQNXgPu+SmySBiLx3XtMLy4MLoxj/w/GvBJa0xM1LBAjoCRiMiyeMAHig05jd34u2XDRLwpjS9L1qGdK8+mvzwBNQRVwUP4UDX7mg/W6ITXA//idsxHquj7IDyXwwLwVFaAhldXyvq0x7kJZJcsYbRrSYH1Yf0pDmfsPF9pCVBwf1xBJPsbkXuxGfkM7XkfwC+LH7L74E4xtNiyvMn7HA4e6qlAQpKymKmnwCjSFg+fR6PGp89BCnbp541WCediQDeEeXfAl1S7H6GPyv/F0o3TpEjXqTwKhT9PI81GxdP7DAn+ioiAnQFFq/stF74mSbdC0WTvOCDEd4TVf03GTDVGs7syOLZAroNOPLuGyz6gpp1CZTt73zDT8vV+wAjeTJh8ZVqD+vIuSv6f+TwDnkAAAAASUVORK5CYII=\",\"data:image/png;base64,iVBORw0KGgoAAAANSUhEUgAAACAAAAAgCAAAAABWESUoAAAEK0lEQVR4nAEgBN/7AIwu4C7WpmhT+0oZ2Img3mIr0gNgieq0Cp8jjLvvMLdNATOSZbgxZVnH57hb/h7Rtvm+lK5oyCim5oHpMMM5fx/fBAAM7wA2n4xLzh/90Dvf1SMk6+KidQcayE4/tQnt1bDCAToWG0tQRyIUEybUhfPWlAbj1m8TWWmLw8OwFyM/9uKdAV1CzVCQ6YRJVbn5A0Iee0wO/ePTpqNA/CXzMKKIXdpZAug7UnNdize+5AVy+20e+Cttis+K93LHKD7GZNkmYBgGAELo/kQR7CbTTwNJHkBVS9yiw0nM+wGIugU9NBE7C+W4BEAophHGWLFNikXRN15ODmP8HlPV8bL7KriP/MFkfy9OAB6VetkQmDLDLKe1eRFVJgv+4ZqjDst2BVPfjng5Av7bAv/LSi7FABBgXBNd5djBtY3K1Vm4LOjMh7NQ8iWD/+GnAjtI9sJHFDB6YCIkI+8BbUTLr4Vpzo+2C6Lq7qStPMM8AG5yPAAUhMaKQBynQ7GrwYjY5QDytOn0FO1S3xAwAbvaAvwt/UF88Oq20S0sGIO+oLZEtZP0XACc3wLBB6k7yk8sAAqs54z2uCyve2g484lGC6V2gevQaUaDqli9hepk6XXwAJk0dx06PEJuxDIiCwITmM9I5ldBOAABbJHik8ZG1ROiBJZrxmrrdYqU5eZUABK3PwIVi1NvgeRa1o6h6BxPIvp/BE+tGgVsENTO+POMeG8OSN9gFHBHMBP/r4HQ5SogTWe7AM6+eUso1jm/Yeim1xZw48I4vJmDMPSg3YFF2R0Ytt3vAOkHqVsMBwa9HNg0Ffe/Om/wFTZYPLQRiOQkTDEMrNwiAk7Lc3ktgOsfAZHYX+Hg7g8yXw8MqX/r3vbdXRUSF58rASkX+EpFg+evoAdG1YtNYO0FPzgH+YCk7Ut0bMEU/DBoBLqDCDmB9wVtts+D9H7E2c1zWk8+rn/P1sPp+tIT+/HqAI9eeL2cSOBYZJxBZyzakL9m2QFLWAzkQuSvT/Iau8crAdsf+7r7HAkzFMrNyCpMOESTLLX2vw/EGKTa4plJHjBdAH2zYduvFoBVRtY5efUtVu4brSVkWK73iQ31WcA9r0cqARZNCjj9VrF53ps3qUvg9tyZ0YagftLIFKUqsKcAIS70AvHDRldbjIKupvxzH2gp8xEbvc63oiRsoCzY9PHE6ZlAAIflREVs5vBCfouaEI9IoO6SJyZYRiwmZgHttAIGz/JeBIrBotd2vPCH2HlNqbQTXi2w4dVcofKB7P/baZpLST74AgIXR/B1tVICE5FS4jAQ8iGOiV4B+gOkGMTVvG1MndgvAZnhYep5k7AlnXq5+LFH8Q6jBVo5Qj8wIH4zcfy3DmcHBBaf28iWHzLsOqQ8c/BMOB8m2D0DN7UTYerpMvp9JqFVCMP7keBDkvkAAAAASUVORK5CYII=\",\"data:image/png;base64,iVBORw0KGgoAAAANSUhEUgAAACAAAAAgCAAAAABWESUoAAAEK0lEQVR4nAEgBN/7AEiitqf9i8ixxGkFsjM7jwCYf0PHvh4Le7RlIPMNSS/rBAmPQLMJhQ7A7GeF7zikQLEIsqZzKzkAGNnvzM8tc7cdANXd3w3tQ7FbI9gFHEIaS9g+VshGwQE4CrxsKOsISKUaBGsN+QawEgHb+MWehmCcuTqBEh7rCSuRL6gqSYoC9MQ3AO4OuI2jhzaJOVQgig+kp0wWO7xzmwTVJNfmJVL7WKpaAFY+j8VAJBUh5231922E4PT2E20nCx0jlLV+mNtwJtwxBFTV7vxxFZExZr8EQMhQ7psAtGJS/Sz0mVW68/bxp9weAsfzwFOqReo/qhhHZ/4mdChGCId7GgXUAXatEOfUCLOCABCXlwzY7zfp4QMUkfKZ98Fj7jTOZl4e73nH6MVSm4qOAgUtVRZIhBewDwVH/rdoMfKfryl0RLDj1fXNXD4KTO/0BAsGdzvVIyCi+iEmVWPhS5Z7otq04n4nBXfV53M1UMqnAHCITfQn+gCaWdb7qRwZYTY667NqpSx4KiISIiPPkLEWAE4KywuETOgmR3o/5AoHybYOeP59UvOgJOgtSplk4TNEBLm4NdL+Jv8xi9UU8f43YrFeA7FtXI2B2/AGd5DdUTAZAboRYc1XylhhMaEe1yp//geWCE9QJzrgggUGS1z/+72gAOqYCyKpA9UazRa/y+2j/b6Z3JCG5Su1hqnOGZy0n+IbBG+JhVU+4x4r+Qmi5joO8EmosxsCUVGG7QzAH9yJVryaAvJI71RGOxtHovbQ396yD9rg/uAbctpkwVTYV5G2/SEgAiOioLvj/NMlHbMlitQcZpHXlc0DD09PPhnOm+1Q/qTQAip37bCsZ8FX/r40PYrn0hNafnoJXcjyIWC54TnhcfZGADjE23nqilWEy0Ub2ivcGfgCL+wNhChGeTNIHwAQnG6wAiaQKTLn66cYohvQFyGGAvxVE8IKRTJuewe6RQQ0C7h2AtsxuLwILxEDwVnn3UxnuKiFQ4S5LsYTydhXBv6GvlaoANq13Rj8LXDtBhZW2Y4hGMkzpkFfLJeJb2UuQZJCB/wkBLnh+9dWqOJLCrP6cpeV7stEINs9+Od7OomxQpqk2VX6AIzD8jFmGou+1HgcJDRuxM9SF6wfytM4CWmo36cllfdPAQ18DFHxYCZWEnZSObXrQiMMM2Y54tD44S9HLe3aEGaBBEIaye/teOpLbhPRQtbnkzrfuc3qfyc30SkeS4kCPtfZAgC3dgIhrKi9FSZFam/mmfJJyw337C0cuqk/qIuJI3NQAFyxxDrdq43bXLH84SyrKYjl0A2lQaG7br0HOsGFhVJqAdYf75O3kbP2guYnbnbCqtATKRWyvYoYdHNbx7qUkhcTABc4I7ywByWVy0YFZBdpJJFvG9KH2FwqAguY6aGuGrWPx33vnFQ9hXUAAAAASUVORK5CYII=\",\"data:image/png;base64,iVBORw0KGgoAAAANSUhEUgAAACAAAAAgCAAAAABWESUoAAAEK0lEQVR4nAEgBN/7ATCXsg0qw+TOzuDTcm+Ros/Y5swJ6kMLwt9sC2ynU/5mAQc6cwFvDYGADDxF31/nvEDaA5rJaP51+2MxFCQTdIITAOkzLMkCzS8X3BNsFhEogG8hMKjruUH5EiZc1Bwj2VgIAMrTjMu3XLrMuZ8rxPFM4r/zsJ8xuqTH/uiwUa32ZR3GACK8PjFNwcM0VrH3r07S8g5wWeIlgdQh/vs4rGGyDf7XBIOkzWOPlxjaZS2Eo+aHxKv99wczxSXjvfTx2PLMP2vCApbu3f2qhzomkfZHSSKoHRKj208pOF9RezImehPgwqGQARNUEHCu9oQ2qDYQGFkLngOrZmIhj/zJgwAXIoxJb+UBARdE/r/7xA+c/yypIIcS5v1Sh+qPgHo+pj35z2vsoGZmAHisjl/cN7YEdOFI5TANcpvXABuKCcJP4b9LhcUxXRNsACfpcBsjJzsovBkPyfVRmGgyDsQupvgJdKjVTQ9FRGRVBPYSJu1LZo0mV9K7tbqFW2THb94klva2/X1e0trZGPAeAGVpGAGBQSbcszrN0EA3sCy/qPgjALmQiCt3W4jJD57aAesJ+JTNymbaAO7lhiHdqqalOTqAKJY4ieX6+P5fZPlHAeWCCk8znveSgSI7rSlaXTa45e6hmc3zJIWtWkjvPd4xBLgoLW4Z4BZgUnC90QbZJxcnH2EWK8y/J59xM5xT+BXYAlgHGgmf/JdzSCgA/AnGeRI66NFDPwlc9eg60EO3oDJhAhXnBSVj4NGvM9nB38kxsbR18gPjVe2921Q55Az6v7/RBIhGkWXfsJdt7vDNYTZf4kIL4sym+GZWHYxh4vcMQ8wOAdIvsJeWCZT6FTQ3TKbwzcEaTWHpKWAYAgRhr4pNciucADyhWPpuauX+gkQpfSQ4PWgraZrqpaC+UAPIStFF/YnGAck5B4EJ/sWAryJ1kBC9vtZyqWDBqu7VSorHW/gWka+JBGdX9mIuNiGC9gBcdY/hHDALw1qNGd8QRt0RQcgoDI8EASH+HyP+amO67WKfeY6h3gErBiTCMc2wnMT/66TkG8eOBNsMwESCnuw6PYEi8PAoMT3yvUlMOwFUHvh4kC4QqrUbBNa4ofoWODwzugPD4FfZCTNjmxidabs33uafajJ3MihwAEKOqYsBDwnNAQPfNDtBEFnl1LgTPLAzVonTBv1kJP0OAR2FrKM/+mfs5/VV9GkiDaF6GCIQ+EfN1dTt3lr5JUv4BFUeIvo23Ogvr/DmVDkQUE34I+Ev8syWRxvF9YKm93OOBN30rLZNMMEG/owi32UFtjhKg9MN9JV563w1+bwF+OGdAdk5W0XdUUS57INX+ikppfC+9uH5k/6Vk3yM2mWM4LbfAjudmsJTO96+85m8uwNICcDZMmd3tBNih9fgV8v6qUSd6roC8iKDJ5MAAAAASUVORK5CYII=\",\"data:image/png;base64,iVBORw0KGgoAAAANSUhEUgAAACAAAAAgCAAAAABWESUoAAAEK0lEQVR4nAEgBN/7AZm5gvCz2CyOZlJ/4yb+Pw8iq245EevDvT3Lv6zqy8kTAVb4MNd1G2NIUzRKH++3oHmupnC4CWwnIBLdC0IGqUGQAAVUcLP6OCwqGjr6adcs2z7PWxweDmbgfykMKF90xDJCAhELN9mrT5j6A/kknB4kpQL3eLzo+pjj7YWf6XzXAI0FAhq0IeXAF1voTQh+O47FFA/StxRtfRoikBZ7F2eYjS1hAUhCN3fl2Q/7mLiV93z6jufArU1eqvqApwodLeJ8OLYXABrvfELlfUrKQF0tRFfeLA3bnLPw7QMw940tMuYILDjsAQNnil3qk2wpdwNl9jsxxVeiPeIlitUmCRFxJ6TsDaV9AhgmJrNx2SB9Iow/P+kFVBc0Hn0NPF9wD2CFJwAl54RDAbVfx3bZx3cipV3w4twCx4KKY/wyoSXZ2fS5LyBxoBHXALvome4o3hat5m/JzsWmwwxBlvPXERQI1jwX7o83XZjrAvpM5f44WkHRGozGN6m+HjGWlmVHsbV5UwPCvBJSzhRXANjf9ewb+jMDBnQeO7HmE8Ey2KmNtqgCptPqahf1ftHNAG+m74vfr7sokTSA1iOCxveznvZ1CfEv6qK3vRO1dFj2AHyiCoTD5WvVJ4hwEdxGHYn3VrpQrKGtHwxfKZGUAKRNAulcCHO+L1DMA6FNtPMRx3VVD9TG9hYD58EELn5u/ueCAPJEo6DInoAeHVSrMd5PBbS9hREzs6vtRakr3c9BELZKASm4ym4UwW3mcdqw/Rkwm5T1RXQa4J+V6teGr5W2/kIpAseeSTwOOgA6jXHpz2f6GzK020mA1Hf+cQMXYsuvGdpWBE+cIB7ElDbFp7bCKeiMNjIuMPd88jdKMf0J+QUUE3MAAVPcwJEd3n7zmU7m/JGHRioU7kspBlz1xqesdMi18NuHAp7pOP31pbxTBE2s/1Fz7lKim+zdivZEqGdHxl5juXe8AY7uJOxpg95nHK6FfPLbtOs6F3OIcy11Wv1Fve0Oz2d4ATpdz/IfXluXMDMzfNm1C9hPxjEBNrVjDfu/byyXNj9pAT+ZISP8Rkq7ewbmYAvtKlcs1EGo9dBWOrlwuxOPgfMJAPNypxojch6pzZz7EFeiCCydU+DmXqymbiEjy48S+DsJAiQp8zJpHwdFVQ1mpwd2dCednblhHKc2L6wjuqz+i/LlAOuEU3q7NOp6QfzXXHRr+bUqWM0vB/d8ZcmzHJjwZwjGBKebBgck1nbOYKZRItXo0kGWEvdg2/cqegSLHFUnYV/kADKmjRvsORV19GvYTvdgAWpSN/vVWQQo2y9gbe2n14m6ATxj2gHwePkLmgy+OxORfRGUpAwGroFaP+Q9EZ37kWMNAMAJMefihTXrplCGpRzzj/Wgp4MbfDOngj80tRArQeqw0RHz0iSr3eIAAAAASUVORK5CYII=\",\"data:image/png;base64,iVBORw0KGgoAAAANSUhEUgAAACAAAAAgCAAAAABWESUoAAAEK0lEQVR4nAEgBN/7AUvWqhqS9QzPkngxzyPMUBnZUsHzlOaUBdKRkAfkoY0mAk+Pu/wF13RrtcPIie5PkEMnToLkFhDcatzFqTq/V9HyBMRLVADj/kWu32lq+S6do5ZlfiPtEfGj9sY6BPyPRD6JAV4kw294z/Rm7sfEPxulDYILJLnkZ9sTG+O62I6mL7B0AgN7G/g5X8lbZArhItPa6eWc9obOggrQQKUJL1Sc4zLnASgRwlLBTSWrMepKuzSktqABOA6FuaRLz8CpWL4o1ShdAkpIA7FjRDX6WNLnpRBpHOxq/w0TpjFuWAENSykzOcgTAEdHetjuJ5fuzEfFxhI/4hehWjqUtOPStUfaPWbCPkoKAEfbmK1+KzRLqhb0hKe7/jozAL4JwMgXE/SlWt5kdg0lAItQO02Orwh85quAMdE8iOtrHFD0lAK9iRqHvJ8T9ugUBAkTLFVl+5U81HSmE2opMFoZBsUThJhl+mOt+BVKHGJ+BByOmout2C+b8vHvFP5rEZPwWImkUMPSHekaFoAU2I+6Aevxk4YlD71PPFkZMLjrNNQiygZKE0BWznD7/ugf/G9DALd941xF50L8sz6PklGAoWA3zXbdFxo66bVqDoEySc+oACIHIqB1GZMytEQH8/ThVH0e3thfmGdx+XwugtTqZ4A7Aau31wg5sTqCgNPiQlrzRNztqSKvwNbA0ZMCrez8MxDXAe+5JjR+Qr9UgDaDwusS0M//E5nB71Ai2QypcPjgurB1ALdACFJapxkaCIo6Xwb+RRyiTsydLuZVxZ7IEdSZlgpYAv5dP+4gNIdMIKMIFHPVxlfztJtAFJ/3ngibZxEpSWDVAGPGBrVHshSiWu3XIcgnPHYHWAUCjqYSKbRZZuUVZ7EkBE6mVqHH2nkll/eyKQ1o5aeE9EDE7CetLjHvLPfLUShuAg7x8Pan79aHfSo+LdeFubVdwQegmPP6aT3GLR/HfOCeBK0C19gLlmJ2UKNnYudmImSVo8tnP8pO2AFLEKkXIu3aAtLvtdQf6ZkDV35jlTdysAMDIWTmDk4iJScvc2wEJ/FmAVS5Sl+yWfhPuQaGYu8/n0XRVyu71MfwEzqc1iUEDqZvAIlhbPF+KVteN14pB40PmoA0VXMeuGTW2zOpSfUPJU4EAQBLpY39B6jY9HY3vNEr/zxML6JWXB5wOI3u/u2Hh9tcBFYO0TqWrQImYL6J2UiZGn+cdkmG8SYwiNR5LZ3kN47xAksWSu5hKsfzL9NBzZmFkhZkqiEzxLAI/BkWNmfHHV78AZ3CaEq80O9WQY750x30I+ueZBRCMRFCoa8O6zsG3essAFUgswRDd5BS6mvpNOBxK/nbYBUE/vnMF2CsUHBHexdMBHdk3YAzDFaqDPnQ1Xqr5EA/uk7g8PgRtc35Q7gGBpPEnT3zoi5tY4AAAAAASUVORK5CYII=\",\"data:image/png;base64,iVBORw0KGgoAAAANSUhEUgAAACAAAAAgCAAAAABWESUoAAAEK0lEQVR4nAEgBN/7AKUXb4fC8GIiGANmD53Ljb1jfQnWxfCLAWowK9CV+g6fAIYdJtczIB3xqeQWpBdKVFNs+ybqHnwUEY1hDJNFseSLAqUWFFocD8c2vwi38g+x203k6ChlRUM/0K+Bh+fS0WZPBPS1yPH4+Rk1CRXtiS2+CObq4KYeethr0WeL5B/zRBApAC6T6v41jPXVLfXEVRpXqivCjsXMt/fI/Cpnk0DALxaOAgZuKXC/aQtCIg3GI1rfKwQorIP+4ufcT15H53xmNYhtAHKUqap30tkKmuH54D4EqtttmhWrCaILfNMj0eADXkx5ABZHFOQO7bistc9SVceMxsoiRue7AHdywDnWEu+VHsCXAua2tTP+YD4mcHuBS3noNR0z0h7mWYUUHkkG/zn2YvoKALiCJro4vA4vVKGSTvIOcheHBhNeFwmdSg9C3MlKfmgKAB2kmazOBMZ3jBpUkWd2FrbFKU/+tiyp0i/CJKENkL9ABBhp/W0adJNhtpH+H5LqVGRMyj683iZEtFe4ydcBJlBgAhKC55D46UM7HTUUyWXnjLOrjDrXbAEpO6tAhgMRCbYZBJjeOGLbvQbj9hJGqbiil/rB/wQBKMPvpTMna4OY5SoWBNjn/V5EoFAHljbkKdfSkMjrMl9CQCuhNtS6X45nV1KSAf1W0+tGHM27/G9AVhSsLFdd6VSaF7FEvP047Tq+xR+JAnlK1f9XBmnDmpon1QQg3vS8T+zzdMtuI0AfC8AGjDEQAYWo/1VI0PgFNlKfjw/EThiJG+0RC+d+IvX/2Hevelu4ArajOPVGur7R/UVqi+6F8C9K4CGxK9E0YJQeREgfmOPYAfBYLZ2l/GiVQu5ktqQH9KKvSm4OqXsSIiYy6TIsQ8LnAaQeUfKVrbGnja3txPU1XVMPL9BbIhWlZpSCGsoVPiPhAM8jksQ4izQPtY+xli218gYKaBSvnPBwrdFrK10aPpT5BBCuVc/l8ZA0rA+a8QbKxoTLEkP+jSEDt0q6oT3cEgFKAtCNvpfH0lfzzP7teK3xyV1s4bZh2ZrALTxz8ZuZVRE6AgUrbm5UieABpcsHEFv/noYwuxknzv1CksvytYIv9BMyAEfQ5SicNJ0E7t3gVUAa8dM5rEJFfbx8RIbXEx3wSR2gAiTFwGKRnOnu5N/4w9KZoewm+bzePA0+HajZmykBSJn0AjwADq9vaJK0Q8/sJ3aKKVv8HeCHcv6cvwHmnwDh8HsnAr2+pEUJ0ODTrRU5RHoFq1D4oL5DNCoxYvLABd5d4JuMBBbb/ZRF74vHi0IkZFfAQvPyPYvlDTQWdEuvGEczzgI0APYI8izVfHVsvTIRCHKRSA0NJLp/u/DtS2j5IqGLAIroBHgwlDfmBldKM+3xUdRYbHDn6ho3GCakpnf4wTH7qCwJd/f3584fNGIAAAAASUVORK5CYII=\",\"data:image/png;base64,iVBORw0KGgoAAAANSUhEUgAAACAAAAAgCAAAAABWESUoAAAEK0lEQVR4nAEgBN/7AUpP+zdDIFi/5IWsqZtZQyQxGOZmAPP0MxCLHfJYiP1bAbTeO9zTSDLMDOzfRWHo0zhD/Yaz/Dqg7fbJ4SyKiuxUACzEksRyzRKVcAeOONWbisUgGVoFuL8yt+Xo4IHt2iWWBLGxPzQK0taR2ylIMeorD9xfUC3v/frhIELA+9JQ6JxGAAjxhSiJiGtTDEL9DWFmDRCyrW3MGABv94zV/D/0nnHOAM5mxXol+czfy0GxWBHPUKYTHMhmCqURBi3owDTNVh5cBIWvJl27uydazhG4w2zY/vtO/pVAY6td51f3qtqN3qWzBL/I0jZK42WHtU8BRed28C8vLf6G25TSYmct2gJF07XqAptIn4ZLxH1GpJwaSFlXKtbN8MpgDQyq7jrTEdLexgi2BBQzwjMhXm76Cv7ig/fMulijmqiWAmZrAVwjIEJv1SUBAOMcuy9b4edKJ5wjqo5tDU1kiEqNGgL3P54Z17lWPWYQAuXrzxgeOQIymonHH+8PgQMl/fxDiQ/x1gvISpOwB70QAreF7Ira/zqRFblFu0hNP/cwZT419MsYY5wINLhbB7W+AcLVPKs0CJ8Ts8q1J5ZNE92kdHqiJcBuaS4czgpytVU5BGpdOQF3JQKI/9iLIDNbQLFObGpH4hX2oiE1yx2/Y2EWAJjzy7zcROMvJiWbQb2q+58vFZv71FhWD8BcAYuhvkFmBNXRFYHL01hzbewNMdTicyVzvOy0osL6P7PH7SAggEvpBHiYbQ7y/DHniQJdjeZVLj3zEKjMAnTc8KDHK6/6YMmdAU0l6eOetvDM3ytk+m4B53j3igAGdlaHbzEATuUVES60Au0DQeVNLBg5Ro7XIXt5c3j3EeGcrfvt4z8vPt2+2XYBBHbCPA3GQiD3W8RlBAcurws0nlIiUA8T2DBIRT4op6mtAju6n6XtggYPu+59IJRjlJMQ68wfbxUIAvBeH+SbC8kFAVDEQwE0VrarKcjzbLCZmT8ofAbS0mnXAhtZt8tBXvOZAff28zTSPdbg1al+yN+aVgX0beoP5GzWA53radZPwF2sBKbpwRj6iA/fIy3vP/tJg6T89k/FZlvp2s054D2msxAlBD6SICfgEms19HwvMBpCPvgQ5tYzNi3dKZVHb/18Rk3IAboicPgy/E9H+R9Z5WphDVlD6T7LyZcVzVE3O4q6qqm5ApD/+ntZ2pT+eZO5/bQZNp6ZJVMn96+92UbVS+6pBMSjANzqehgQvQ12EJaNE80topXCn2bnmCSI6swt5gaTJfVGANZ+2ftb3LKHalkwGLPXKGFk/T8H5dEOsze1VQQTrExIAD+fd9XJ+zJpPXnmnmTqHRoX5F9n4DHzIPHuhaTKjx9EARHdV13ZVy/ZIJYFB/pA6RZu4OQYclfPELEA+C6kTQ+StOD+wkWSozQAAAAASUVORK5CYII=\",\"data:image/png;base64,iVBORw0KGgoAAAANSUhEUgAAACAAAAAgCAAAAABWESUoAAAEK0lEQVR4nAEgBN/7ACazvY9UUs2gJ9b+cOYWgkLkGHbuRvSxxb/tyzxbAMnLAlQtl0jKGuf29nqKiyaT2rfbzfDuGkPq/IOVwnxKV2+gArPqLP7AwMvw0xMUSG0WVEINvCWiwYbb5vhZa4fF1bbNAEMlCH5J6j/OufL44jDV0zU/Zx+M7WRUQGLLdSjv73v6Aiu6mPi7OS7uqt3BP9VdNmSfQCzwm/+/WTrWSeIhhp7OAjO2n5BAQznpZkn9CczOwxJ4/dG1WexD5lZpGtcR2JX2BP+TI77DfsQ2bQuWuZWq+KlgqQKgcCXusDHUVllUAGctAiyPOg8bdJ0Mts7vJK4BAoktMkr/ONUkHqiw9omE9MP6AAFzAnfupr8uBoTefisNRnN3BFxHFsfvDqMYCll2ojYjAFIQQAznnwx8T7/dK/lhseU6hwhxbjmcAXfOuizhkgLeAlXW+F3hVFrxBG6KvhHUnfSIY7fntwpDIxRyJlnyGdoeAQdSHqEp4E588vIvV2nyELj6HtRlcXmQAGK+6X30rdq8AXEZ4KEY3wrSCgzvyNSSwpWpRMXgfzmQ4Pi4ifvdQQnuAn2cJvrx2eRhsvgQrKQ2vleqUszT9LXl+srq4/VyBS05APyYsCBkyQ7QcyOmBq3vE5Uc7L/oRFwWUS052bOyxpgrAh1vuZ4G8imUkeXXpMMcI+L/kezXLRrlKEXzMhYgSPhXApBda6UFAiRvvzj8AsSq0W4lRHOqbcneGLAuXuwYdiQMBPvYuOHCuk/M1dylvEvBnBEEjOZMVaCbFH/zE48Owh4rAW2oAiczmeIo8DF2bDFctgT+IsWS36j0w2PzHt3Ve8ScAT4h/MfpKio7KQoMAA50wZAgMiGFneTcwWPWUDzoHrutAtF4oga/wxS8/9Yfuds+nj+606cAN0Lfy3yuAxFN9vvIAokQLDpKVjHwD3L6ypUFFZIBwINvuviONhXL4UElH3ROAVTOSiXoOAq13jwVl4vHERNf5IpXeoxKIkYX/WHMtc6qAhvXs/jTm/ni8Byi4DPxJejZIAi7DfBb4gZc0LbpzSPPACpgP6TUYMJ2IRaOdc0D2Z4goShBmq7rouGthIH+t/GWAOcZpNb4RFtV4NxJ6O1uLOYvSqXPqRlnJsZH+vDrUvJ1BEZkbZc4uwZOUEGuy7kfAirKKQulSPIDUFnSJANa/HOiBB1TaZdO5BVya9mUQU3tV/tavOYQ6fk9Z3HTNzAsOumrAMwLAe/KvhKYMG/fZqsQRxJ0FE5mLkuwj+aFsOHJohDdAVQXhRUkN9Pc/EhVTDs0n3Iv+xfPgDqDbghjQOnMILcbAhI+Q0gHFUJTsn2eWdVCYnyDBLQtCfwPl8TQM1zl15EkBHJ+uEhXlqsHHFYzQSIcR0wpFvAE9DKz82ZKW+DhakQ+/sMD5RSXYxIAAAAASUVORK5CYII=\",\"data:image/png;base64,iVBORw0KGgoAAAANSUhEUgAAACAAAAAgCAAAAABWESUoAAAEK0lEQVR4nAEgBN/7ARZcqyNbGOmPBH3NQOJ/3sD1a/UkM0dmihTRPoFBPzkyBDmjgUUZn2G7CgCr66l6ViUIr63jVzFJSVOy3ii3CFy0AIx/jj3DLvzPCuyZy7r0Yu/x5DyQzlLS1TfE5EskTVoQAoL92m6/LhYigplSotMms4vR+kk9+C3NsoXQ4/B3rwUFAe1MYdq0J0KpdN3/fzp+4+DIjQglWz/3S9v7jXPUpAoCApqEJOeK2Vb9lfjRr3pLCPMb1wiQj0SqnPNcnMrR7y4uBC2I6rWNBK8agqDXFhubDoJZSkbwm0HmQNf2LqyUn+XtBA083Zpo5Zl3JvXGNjropgXiC9p1qa4bc2e8Jw43/bX1AiQl7hf4RdNOzoyvXHHmxEWuwNHiETbwjOs4nJs7KWAZAP4Qkmq1RwfPJO0Mk9mTiZkR8liiM3+SJYqLDPnJb/zBATEl1B7y/gJOa0mkBEenAFZI+x/Y3LjjiR2TQ4C7UAPZACnPIcyXDNHoogMe6yuN4mm+aBWHrDY1cFR8Rf4pLn/uATgLODEqrDXZXvYuZj8omd4kEjhbu3tppLsbya6ro/FkAM0Mcmn7M0gfOPiOEQyNPfCkTdtldXwpJQLe9vA3aLi2ArspufQedjDo4kXJnyX5D1u/rzxgnRMPRydYVBGx0zyEAA2C+xXg2o/069RLeSQfbEG6jR0pK5dP4SZr/cZgzn67AO9YnB2gBXqX8R3d7QSUXy8g+JnkE0dPBW4ojP0hEozrAqDyUo/rJ7sSIrUSPD6MQ6mqCClH7psL2DDP5MVp6AuEASGgNJiPiPfKr0Vo3uUTP7WodIRZHZ/pJye6tVTwIDQdBL33PwIV+xcE5a8uYVbOAWVwzyvBuf7/hoEWg56e6dA/BFMvLB67BDI71YzLD3xqeTQhvACKK+KdD+5T1YawS0DmAm15NfEPp5v2gEa6bfwMMvJFLxujBmd3Iib6UwWgzQM5AlNZ/kxeZO9VTfwJXPMvxU7JnA0To8omc8gEUDj5K+MGARpLA6O9aly2obI2BbnHSSftzRHvwf/a3mmDqXgg2uEHAR7bUwe4Fg8pgg4uDLbxyLiE5skI6VsJKakG3KvixKMOAp2hjiMs+2YFXdB9seRbvqpTAUD2vsNkIOZD1X1izXPNATEJVF0c4jVHnBGeEATryj3Jbv8Mv4c7Frp6fFrJ03w2BI4ZffzRgt4Jlh8ganKsfd14zvrDTFLBxSpBzsEECpwRAFjx8IVzHbeMK9VkxC4XI4R19hOC807GgZKF564CxrCvAOlvtG9rqHIIx74VE5n5dznyV/7+dbxq5Q2umS9CbB6aAUT/kkSKJLbOIiiMOlKv6HIKChfd/QnH9Xp0VGXlHcwbBNM9OIzAzjo/I82yBtybOPnK8wCsA0tP5h7UnNqeitZmHOn4CjGfHNUAAAAASUVORK5CYII=\",\"data:image/png;base64,iVBORw0KGgoAAAANSUhEUgAAACAAAAAgCAAAAABWESUoAAAEK0lEQVR4nAEgBN/7AX/mAsbbNJvgWA18vckIVJfavO/VcRPh+SPYV3orWIcQBPodDtWqh31cMdpmAvUTjszc9iLmyN5ElRu2V7eW/IUlAi2fECGbNqoCEhxF0AYetY2cSRSvUeGtixkwCetQYH17AAKFAGgzn7U3EndPRYb9Gu+xWYD0zmIRGAKeouY0KDW/AY6o/9ODQvb2VVRawfXsXcxHnG/m2YEhLuOsBTu+BdYjAX8fmmn1gD7HIPpv/qirBYoIMo+nDJi4y77bnG3XMNSkAXu/lVl46khZpPdyQ5VfPPL+KsO5afzGyimLKDwuvCAcBPSKG4RLgrOjQUariwBNGfZIC9TwHrsBKspVKgRwaBjzBPRVk4WcF7yqWj4VBOaI+gmO+pUx1x+jzEtvS7MlQuhrAaoDMe+y6fLiWycIDJVvNcvjC9lN8NdcKa4NdgvPLb+TBCBBj6V3yvvTLiFC/Y33OSsfQhAyzbqR02ZXKd2zYIfuApxl1ini2rUKTbp8PESyK9FBaLzjl7mWDEQ05dAR197ZAEQD9Es1s1t+gzDc4lwQtw2OwhD5nh8kMapL208m5T+LAkU8m8PQkFcFPAE/6g9+4bIwZp/lhDHJ7y+puzwBzPhcAHaahdNG/o0BxTK1Yb4AgOj3GVwKA+qQ9RZBY3ktE/YEARt2aSx72fMGMq/fRuF46hngupIB8s47dCdSwzxphj/qAb5AJcTN1noRHDb0YvMrEyHHELEm7+u3h7WBSvgwD+Z+AL6aYeBGFjfq4rUL9wxdhrGAcPK0E58JpyWGVBajog8AAdFoBwCoaW1/OTbNSbMT7gT/ORhvQt98qT70MzyaiKJeAfcgnWIvsePrv3B4fOFBpRyL79Se2PvvHkLCxB53lAvGAGgzOokdDj1X1J4Ey8eWd59l9GJ+Ilf+7YzPswvjWdccABgbxAZL4nGXWCZoDhLzUcP16gQCGa/dDFaku0lbLAzdBFXO7Jq78A3j4GcjVL+W8fKw45GPSiJ/7fb1qMepKcY5AiRa02iwYK38jd/5vibutTsSU819ZzVSV+PnnNjX6fX4AN2ugfV6vxXyQc8glyCFygliJ+YC2RkKJzFv+uKWbvFmAOkqQB07eYogAzfi0PVWFn2q94AaGE11D2BGv+1A1PHUApXd4PHp0KTZfS/uFZPFBBiNZgqRc84Bw9nz3CsMPT4KAscJc8ML5/MAM54ysoH10qX4zev2Kf0aAA7zMcLubO4gAVYZyH32vFONfpxpuOCfphwXKAU1JwnWAVW5OlxK+FzoAYTzRkROysifvxfFSrxT3Amd7w61Kt8qXErq3jPQt3MzAvfAK9u0BiiUNigvbrIqF/vcFopHpirLlSAr5F31Vxk1AvR5dPw0wToLThjFLx/m7SzDTgSvvXXAhFiJcDrr5jqDDN38hMppMHMAAAAASUVORK5CYII=\",\"data:image/png;base64,iVBORw0KGgoAAAANSUhEUgAAACAAAAAgCAAAAABWESUoAAAEK0lEQVR4nAEgBN/7AIPvY/OYO8X5q5v+S/1A/mTbvqnCLnu7PFlg7jomfTfbAfRbCtfuVeoV37fUav/fBhjgkSZNWk14fAeSI15p+hQmAhk7p/pD8PWb9jdDzeCq6WxT+pgUIrW4/VwOq+ZUSUgLAr/YVvAGugOaRJWM/8EBzolj03RMQlTQHaDpSjcXrN7HBAEF9cYq7ziX05gimXsxQETqCPpR4uyJ2xmsUTr83sirBBJL/B08+kv/u+995cHqP1Cx5RIXtoA2JgJxvgUfWnaJAHgmg0gFpWneuIQS4ELmYTBv9EAc2qpj73fi+hCsXIpYBO5BLdqQasICISpbLYDqAKD0k8uGzi0fdjgl+qjhms23AiYNtt8FWvr6bPYk0yOPFtVPXGc5OZhe4QPFAcCpuskqAQNQnveFAGI5kEGPP5DgpM+z6gKqC9vhCNAxwryhSaIyAjW7tNYbV8ic7J6p2q4TKvrO8qM9yxCY/fze57kw4NWkBLdSwhRFesIvyOHPC1RW8Jbcg8muLugr+RscPrq5E4MVAFHUDyOAEVyGnsGNF9xONT8cagt9XzsMI6LRuBm2RQDHAbvTMZY+3nI5ANgfY//rrJ4S86BjCGQV/pX4tydmmwSlAK98LrrylaNQwYXPVKa6gZ1Euuh0AnPRk0Ew7/JvxDEHAhlvQ9b3pvmgAxERxm8hrNrV8s5hSsDIk3EC4d0+TkeXBP60rUO3l1PClB2QPj4UVy03tvx1qqYx6RA88pYt2U6GAZaZ82O39kohzeSYwHem85eAz1A2IAj5H6Y0XBx+kAH+BJeezeVQ2gmOxXwFR/7oJjsrDCY8pKEBEA7QYvv059CYAHABFsvBhCowBUSGUUz4SIei+iuyB+0JJtMMRqKi9i6BBC1/mA2wssSf9FsxnS8mVqm/DbKcPdzBuhTjYO4sXVazAg5jlR/s1Mjgz9yFa9xU/18fgCqpe3b9JUDyoga/yItSAGR4UniWbEjtpviaGNHB93mbMp8UJammHplGvkiDzzAuAn7SIlGHF5ho8rNRC9QD64/UFQ9uEpaKrDL3TrkGsc3PAftNcgbh/85ulJ5tw7Vc7g9D7PxPnp8oI7VhoCf7RqoCAYQz0Vu6YQm2qE1A4KgrBA9sLI7EKnPs41gHyFZ1GAW+Ajmx/Jaa3tkEYZA/ufr4duSa2A27TDBIFsC4Pmrufun8Afzvwp1BGPjte3icOuAz3wrRdNNQOGe7dgsuS5qiJGoNApa/ZgYCWM8UfGA5Ag8rAvSO/eUCu32RxcRYYl1VhWQDAfDDqWLKz79sWBADxirWu65/jNmuzwcYGg7ySl5U8ogEBIPguOh+0oKG8q74rfKDF7sbFCOg0yrmb7RK9uf4cvZPAZQnVfedNTXLDyIt8w1PxWgO8v/vJf/IZfWyM1fSUDxrUjkI6qrrXDcAAAAASUVORK5CYII=\",\"data:image/png;base64,iVBORw0KGgoAAAANSUhEUgAAACAAAAAgCAAAAABWESUoAAAEK0lEQVR4nAEgBN/7ARP1VgekA1fWEH4dbXr5bC8usRXSt9k5e4z9ShhUzd7RAYuub5ulP+g5E6P1NdLm9Bd9aWUaFcxBxTRP0BkXFUQ6AhFXrbO/BwzjsIzytx1v87vlMlnWawIv/6pj34IJjiloAHcnb2LV6xbDzaQg4Z+oVlYFMOaqHMT09FbEXPVnw4FgAvL5gS2LvxwwpZaZygNVJQMzBjUdgAGAFKWLzvv+G7h5Au4d7fBF9VpRfy/EwPiL2Ll18nkYDByXkFeoINaQBCe2Ais88E+MIogVXM/+WoKyE9zWBApY5w01I06SEp85FI1AADH7vz/0mAgwQ+QJpNaNsz3hmyHrCVLCgM3yYHN6FFDFAa3fMiCavOSNkwXjFUIcnJ8C9Orvlp0ZpSvL2u4C3fsyAR+1kmXNIqnLsNRbtpQr+E33GLb7uvwv0s/Cc3O0HhEVATDltrfT3bE3spUN+g78WV71kxogty5CeN4PPerWzaFiApeYpI4iAPNksr4oP9u84EmhRCISDq4DkTG1O/yWVQMVADxOz6w0WGzY9Uqo93hFLXc3e/Hv4TQtYCSHK6bvODhjAd9IJfgNYlaMbCI5pOQgUyQugKY7nYGoD9/m/fQYhA//AjYodyQB7tgu2NHNcpnwVQEMAxeQ4crHq9wAkFzaLx/iAkOErQ76/UUEOStCewxww3bX2uKXW49p+Z8rQRnJVIcUAa4y2/q/9ku7GhW3/PbNnsDZ3EbKrMX7eDbFtMwEvnFVAs6dcm+N2SVaedj1uTAlYP7eLHkoMP50TxVvJtvNLl38ACv87vWQv2g7/LMLuaiID/PU60dBdS8Ok3EP2wwx/Wk/BBSI6hlsYNmXEcbNwCbn5itmDvEcN/roKJ4JBu48q9kzAeJaXwbRXus0pM0GTnKD+Rqg5vcet2WgxJzDirYyU9GrABCrD93wHPbZkuNWEiBIMWyAtjAEe/hpzrhrK0P4YqGPAN7znJPriLOePF/MOYs1hvc+VFaWyDqJBIs3pc1uMtMiAYDfUk8lOrrQMXer21kW4Dx/DCXy8x4BbHwaisQcAilkBHp0KBVNJLLMe6KF3C4sh+/R0tjmvA4W+5D5vDkETgZdAjXbSPm/EBhUdhxQDfih3zA+qwJZ/kLeAZkonqb4L26WALZ3RL8tbV5sLq9L2K3sUu3weSfeFUVEN49L2AVaFcjPBAYR1Cr6VuFpYdI9nbszIv8SzeuJC3UUUShy/AekwlKtAM9UEt6AZ+LVDacJpNERj9DIY+7kCucKNkDtSDsPjRKUAMujFlTrMkSZjiy2Ecvw5MJ6zxYjQFI4ZSPOtaUceQyTAbFeEnQGWS0uNex4bSMZQBI6rZ7dFNbYDHwzPwvE4O+CAOswiNfKCs3mWjosC6oS/mP9JSlNSIa5VlRhyzGWAH4QtFz0qn24H98AAAAASUVORK5CYII=\",\"data:image/png;base64,iVBORw0KGgoAAAANSUhEUgAAACAAAAAgCAAAAABWESUoAAAEK0lEQVR4nAEgBN/7ATtcEU1iaNg166dok83aJoIDz2xxN/Tr0YwenyfZneH2ALMyqexWRj8GpeXh2/HIYF6ytGuJTfDPafWTxiTD5yqJBEj2bZlBC/Sf9Pbdm8xMOkgpG9dJ/Md6BBOHFgzpXUbjAoZoPQy2EB+rf0PXx4xUJqge8sgM/gOWLdb7xMkKcLtmBPhcHfEdzfSF8Rr7C7nWOuV11iA1ZFzYqIdKlHGiSnA3ATCcBuR5NG+I/BA06RdjJB4TxlXywBGj2k5bwAMefKntBC14XBWtDz9yn+LUMqLjj66omXG00lvieCPbCwBPzMfnAB9w784SPt41M9rfvIYojuldzBo20GizV5YN7XoCequ4AvPl78boApbNfd034tiOpTe8W+4W1Rs4CBzuZj+TR4/VAAC9ovMi/gHwzZPr3J1SvH0kFGXBYcA10TV7wxDifEWoAXX3/dA73P/Fw3JqrC29ySaE2IBKv979/v2FNoKBcxQkAdEIC+sSiKGHLRLsrrQydTOVs0X1v5g/+odO9RvGFvhHABf+ZkRwQ7YXCdq79UdNjzobgAwziEsZaEkCt9oAXxIlAO6p85EHhif4I/rsIFcG3K0/ulI0Flw5sXIlZQohpCxGAiUF7Qx+iYjz+MggsUk8p0xF0TTSParWpVEx33TI966pADH1MMSIs9RHMufdQscrP0bJ3XNtif3YYT0FFhJc5LsuAB+4iRq4LQ0oauKn9bTCmZQAxfe+7PoTuiGSbyNYl8CzAcO87KqESrMOwsk07dQ4Ryu01Lddnx8OFu602EkyKHt/AYA21mNbxAIzX/vvzzw+C1D+7WUZ74FklBkLPxpXFWnzAgVZ41y2NN3eNwlkr954df+L+umd8OMUJhXeIC9uoizYAsS/wVG9Vd5IncHY1MSxJS3PKJ2BQ2HhKz8faRD7hDX0AisO6gH4j+43DyIC1PRuAKWRCHPVtDULkPTQGHbZaN65AjVcHxFLI0hnpswcAgLixsHfeJMQ3PRsQw7XWtu9p9MCAKX3uSqF2lM/FfYj8UVxikyzxbL0NIXsSpIeEtAp5VH3AKN8ESckDNaoFnq/F+lEQTH8OyvqgDyzu9cAo6aTGbMOAYhwAsoI9sCzbU6q3yja6N38e8sVWxbEjwJFqz7WD/bZARF353jAJRNzB8bfgkSgxFVS0FN1P/u5ryM/DecyoEPyBA9i0Uw7t7+FvAFL7DpEMEEI0z3+4wrH7aBB7zsyv7hFAajMR/h9MknCCO6QgPVINbPMVHQBGNba173xzUP9QPrwAf1dPp3zr+1x3ChzDbEFUTQ+tLe1eBqlH7SbSBXdEkGsAkXCrkpnFjg2br76MBmp7DI3MsZD6k5u5Xxp458md14wAD6kW0dDn7A0d1DfQlj8gA4GZbcg6o5DWADVeEsg00XIyucBJJfzxmsAAAAASUVORK5CYII=\",\"data:image/png;base64,iVBORw0KGgoAAAANSUhEUgAAACAAAAAgCAAAAABWESUoAAAEK0lEQVR4nAEgBN/7AJHT7aoiJmAM78d9uhWgtNpvXP7CLd6roPHuWt6wivwDATIrLB1XTOK/KLD1DgRqC+dZAeJy44VFJoSJH07Du9syAOBLNvA8Cn6eEgQV6GV6Bxq2asN4T3AlNRYk1LYR5Md/AHrEVmIIMh9CfAxZTkfpIibSAlJfJgOew+WmHt8GKLwEArUlzdypcukjrhcH7NLEx/4eWlvlbl0DfUbOZgNyce5MAPa6nu9nvNRDYZLbfSU8OjsTbr9rkQ7i5dmaClbj+9tcAvfE8txQKHZ4Nuwu26taAnvupRLIRo5etogCfVQdID/jAXTuDij0LT8NwV/uzW5l0wwdB9+d3gtMM0HOkBHDkclQApAhy8mhSU9TweA8SIM1FcgsKQAuB03TOW72lKz62Gy1AoAQrK4P6m0ESh77B3nqvdcDc4/O7ySUP08Q7KvT33Y3ASaEuq9656ZWqe8X3onEx3CQ0gS43BFuHENLDg4g5hdeAfVBHowByiKQAyhJEglBwDMBdCY1VzTlq3W3ALxipPqQAWjOcIn6TeYGEOVNrtwv2FpZn7Ox37ihQFVFMb3q3aPyAY7hgdmDRIWrbnkpC4rTK8P81T08LgP+5DolyN1Zb/d0AATXtVdrYlYw2QFsqVPD89/xKbu2e/YQ8X9f50DFkxbsAb3rcYau7sVJ6PJZnjfG7Y0jnL4l7gX8SDrnI+gwULxPAK/OgzUoyhwjEy31CSxLFy0SKw36phxHyh6omoPeCeV4AW+RfiOuRZ8citwaQWzchfQ27JsNDB6Z7wHZLP33Wht3AO4LuTuqz7AaNuoprPEovvlwrSXUt/tRJT4Jq4na1t3VAEY3HE1uHj+/hJs374LEWcTREEblRwzyHiDfPbbGK1WnAFWuuxLapjzYQbNHYazfCFNWD71yCpRTK/OL780fMAPwAL01dzy/Fizrut/uh1I9CLPzcCCO5Z/7NnlEAIbrU5x+AGoGk6mLNpQlN30n6NsrP/Ku4LY7t8ezxHoIc0c//ofXAi652F3E/XMF40T5Z+j8OckaTOz5wOOGDriPR6rIQVVrAc4WFjJNDwaUyDz771PgNzLPJF3uJaYhTmr5y826VRnRADz42XQfwhFnmY7HJdK47h5U8ideCQJ26O1iQqp1vvhBAN7kxeVE8k98wBZiZhLcgdwAWMJp0ZvU96srzQlB63QnBJQGRqxF00jSAW9ZoaYG6gDWr8RcOtx2O3QsP1xQDdOrBA27yB8BRatvufUxOBC2jYgbeGnLb/tR0sArulY8Z2LxAF32h/gjxS4BXhAOdVGJ7BENvunC5UthddyLA1pacRmxAZYf73kBoROBM7W/8E3HwQMW2HobDiBBmfhhosYvjOUhAL89bEog5baq4vwtOo2rpEww21PXJWQKoV/qFW2iggEoCHT0as8yGXQAAAAASUVORK5CYII=\",\"data:image/png;base64,iVBORw0KGgoAAAANSUhEUgAAACAAAAAgCAAAAABWESUoAAAEK0lEQVR4nAEgBN/7AT4Q8mbKXxK+HPpMFCCVQArc9V+BJXjG+vZFO8vfAbOPASaM4LYuW/kW3wMFpG9H/+4i9K0Z19ipJfh3LsqiYRbrAK2nxMgKa7xFMwrwE2nWScNZ8iAlFTOa8v7Y8DZOzhcJASuuf3ij80hlz2J3dwPiUt0D9bqd7lPI7xUlskEOlclJAlskHsnh/PJ3m/gnoxci8FWVesu7mOy+YCGl+Wf6n7PMAMKIoPfSnGPaYddhuOM5TEDYcB2fl0tqSpIwDaz41sxQAH0OWnXAXjAFLkzUEV1LsmynPsjp0x647NUIEhVTML1DAkVUTKNrox5m+Mf3x8MZTtnDRX0tlDjO8sw0PagR5LwdAuTWLiIueomxNGxitLT5odmnr3Si3QH2IKAxwN/Mj0DcBFqK+NrUDlPC9XidrXNmAvaHCmtNx57axzJpCBmbIrIWAVOpPEgikqN2DO/fpP7YLNz/8JRQ5iC4dAGEld+/5ajkAiLStV/Y/thxaYp8dik2Iy/lPsv2aQUSEOR4121a3to7AOq7VtzwBzVC7U7YKYpb9dk9OLe4sGS1yW6i7p79dtUgAO8t2sUPBw/9ySDsySCeQN8OGH5kcF3hQOH0Nk88E98gAcUA8/5NLXnZBy0Nh+Hi+s7q44gQEWjhzrnJS7SUYyr+AFUjnJ544S/n0C76l+IjM5kgmAUXlEgenl+5XWc7mc+PABgIeFHaGTTm5LTnwCKkNMUoPG3DfUxgwQhFFrPeN0SfAUvfyPG0ZiMHSdjtCT9GOgyiHpwI0nmm5Vzi7Q/1Q37gAeoS10oxo4m3M1LxqMlQ5kK0YxWvGf1OzvwKgYQfMhzvAgHsRGQi0bbkUSX43FR7RFzitqy4kk+nGsg8IiqubC0RAkjurKkOgrhFQM7fSMF3pkFKvCkcJko/4OfyOIxgzbdpBEz8jnvcoPcJ03eeKgh2zZPhO46pSEYj4VwAMxDis2LXAB7ysSkdBVYWBjhAzUZYo9cdWcNFcWP3jBXuME+W4J3mAdh6IthCVxtdhQSEKDwMwObAXhO296vu6Shzx1MxLjmRAiqVX/LhGI2/T6vH8/bT7MfpXaPqEQBSBMCl614+CeHDAGgAh4QUclXLSAqQ2j/Oo7ER+PVVzuD6RUkOMUn2T/QrAPWaNIqE1zD2E4kN/atPMqi66HAA28uyJxoV4IJ8JiKGAJc8/loTOkCvh7FKr7Nxy82p7wO2p/vqkDt9Qfg7sAxHBOUXlvTJ6wzAv02D6I4eLQXF7FflV/a77jUrJ0oNYEQ1AKL6dZwPd9shllX4gkQnCyTeUNKjLdhm3kUwHexlJZPaBIxtH9OdaP6G0EMJA0TzESS+iZ2aGoGoKIjL4wQVMTmaAm46b/36fajQVeeW82znQLjye3v1+Gncnvq3XIj+WPQB6GcKdZUmlx4AAAAASUVORK5CYII=\",\"data:image/png;base64,iVBORw0KGgoAAAANSUhEUgAAACAAAAAgCAAAAABWESUoAAAEK0lEQVR4nAEgBN/7AL6DHZGZMLnQM4vVrdypdzqXPBXx6Y1JqWm7FyfvEnncAp0gEDQUhfsVdlrn53PgR77jinkb1hGhwheeuB1J1BDGACrinNypVNYXBOyLvUX05LdbtsscH2s6Wt+uAImVGQEsADXhOBBN4BCYd9TY/PEY5X8eDQ5fui1LR/Wyon0y/STTAJJTEesVnmIY33Irr3Ud9sngxcuT1ttRA1oKCI7yBkojAGouVhivbmktOVHwBDs6efyW+34NGK0VPjrvVTO1ReWKACV9CQOOcHds+j/tWuHhJKTgX909DG/ZPRJu1d/en61UAQLjCvDdInldqSvy5Mdti9AK2I33Fy5KYelVn4UcY10FAZnanv1eqNUi/3EYMQ1v6wZhOk7sBHMSyXJjkxFLWBMiAV3clErJ0YnYC+U3kZFcMkCFvwQVYwpNMQvfQ2qwrPI8Ad51uQUto3m9yzytCZo6qjyrOjbKARThetU9HRTcPDMeAWqJKB/qLGPcCkcR5m4XXQ1TzAft05lo2Nmx/tWP6qkLAd62wy7UhPDAC+EjEYeJanItSCfpxTIdY2QcIvpCfEWABJkRAIr0lFvta8TMtvMUde0fKKDHw6ZSEzR0RxbxbrsZAOIWv1M5G8jMvwweJd1SzQGwQLBlivUMLe6obHnT+TegAhxDuJE6N7bGXfRFE7eM52Xuw5b5aIposHTzJsX8KaGnAiOM93NOymMXwJ/ltGSpOmXEuTZvysILY2YWhQf6VwtAAJDrVOr6EK5JuWiZYtcvW9oBqQcWQ6wqCAQmpdV7UI2IAFHqPQneDzru+P2oC2SlPePzdwlIqEkXFnDPHdLpVfNmAXMud2OYgird1sQOPQqj+xNqKQ70CVvaXZIQt4dlmc3MAZfc8qmdDVj7miCh0sEUOpK45dkcYcFXihg2x+jkXl5vAlFERRWTDOZb+N5sepxcr6AGCnu6aRLVDEZJ/901BE6qBPKLPbUdgOD+Cek/AZ80IQVB8jKnpcKcSPfayyWinqwUAQIIrPonNKfogwl0IY0/lFhWK70kJAsv7LIRYwPPZBUxALXSTwzmun/cDVb1gdkWxcvQ04Na5xQQXZx7FetmrmfkAl4MA98rwbyqzICMLI1XFvoIav6rOy+7FYzeQeVZNZv8AUAyViTDg3blxVbh0lojUA2F28CMsk7YYgK81NMCC1KxACdiaQll9yDBBTyiL3N5z7BfH+mmwb6SaMukD4PMad8OANli4vQSweI6/Rnbhg1nVK53JAc60cbKbxlJYUQFQDGZAeseijc8Mg6W5OzzfHbh0rwMDhn39tUP7wCfH4EYG1e/BOB89CwrHDBAGAzYoS3t8v3ORW4BnNhs/xz9RGuYgPboBADeufB4Slax0rKRGsBzY5ojCwKTC4ze0DilzJFSXSnvtlPsmMzuvHsAAAAASUVORK5CYII=\",\"data:image/png;base64,iVBORw0KGgoAAAANSUhEUgAAACAAAAAgCAAAAABWESUoAAAEK0lEQVR4nAEgBN/7AXQXIV2E9YzLKcMqXxUiHM5CFOFBLHtJLBnxmt2ViZxzAVYrwOp93DTrtYWOLNsDyAb8r/3grKio2BcGEKxhNmjbAtLYSSbyhEvs+ZecEEpMuigT+8Jm6Cq2ihU1k9ZEWbS0AGZdRurzdDCTEzig+67wn/R9MD73WL0DTJF/tBsYVzDMACLtTRyvDuU7m7w1PZ74F29d4KfWtPk5A6qImg/GRCFtAaMMzImhzirhGAf3cgadot2UI7+6dwZTPY+3dU/TNsf9BJW4LxHvwCHV+BGvaqq7rvIg+AALBNlcmBeC9kwXLjjrBAvgEgBFN1OtTNcHALFAl6YJQ+0i85qshieLgepqcUHRAXgq7zsf/Prq42smYrbcExQYQ/IrPzKXHX7x/tt1QW5+BKBequcZQjOBcUG+O+mrjW6nBJwBwfR5LA1XA02pBVRnAkdXWTxk1t8MwZMCV7nYT21Vs37masJD+qmszNnv30dVAqqs2mz9hPMQHzfxZl/57UWZBuWkGJ4SaMAkqAcnIDj9BAbHqJqSiA0V9DTPy1vnvSfV4/MSEh4Nf+H+iVCJ2QLPAUgR3tfnjytn/c6ojzYXQ/BKgXyeOPwWZGca33XPDz+JAR1+Epm1QeEwWCvhMh4kBV4G5hmcjCnpOVal6Av3KAUNAZwpxOLz+pBO/PYdFpM8JoqLCSHrZulS9R9knAQ2PBEwAFRnOhPAQkvTqm3dvnquv6Us1ExxsBnNEJfn7vF1cAZtATJQ6egXwes6AX7wog6y09Wc1KUSGCpSAz4CfLrv9twSAbtxoON8L+iYoq28L2KwcO817e/QQ39LApEK8tiLwTpXAAA/6gTEPyGL5vcNBIQ5ywYZkABMDnRZqq972mEHeP13AgGJ0I7uM0jFOLUWGAw9W21wwBe/utU7HuFpPCuq2wcBArG7yfurCeVo+em+4iL4g7lZZRO0uQbUTLPn4W0FGmXzAT/lGwtd+RWlBCjcZ9UY8S1y/QJYDP78L1ZBU3wNG4bGAivi7huxXMaWiOERsxURwEYLBUkCrjbthzPqb7RvjJ1KABgEZGcPMzBE/JfInhT0F6G1ALRo6QnKASd47q9CNNrFAbCiaplFrz+5xWO5Zef1c4W4qklANRX8zriVus8Z7coRAOif6B1q8FOMOEyeKXfjcgU5OFRNC5drx99lqszke9sGBMs3Ey1VBzLtL7ePTMDzLDWC77Z92MVEdTHcxqzNndy2Ad3l3jBrupRy8Zxau+nzJQzs5g23SkhQfCniwsZE4S70ACftquLfhY99CX3m+lvha0u5NTvMKz1GKlqY7R/5IF0GATRVekUFOYupyo4JT4jR97jFtefkEc4f4yDM1DYR1Ox6BNIN61DQRf+HoWLKZxzaBxxMlq1/iCfem3Y2DQYLv8kUMLv1RKU9GdMAAAAASUVORK5CYII=\",\"data:image/png;base64,iVBORw0KGgoAAAANSUhEUgAAACAAAAAgCAAAAABWESUoAAAEK0lEQVR4nAEgBN/7AaQIMc03uPRE7NZcwSz1kwgIEO5p11omLoN4qecHYG5tArzkwP/fqbTre+TYKbU0IM8JHChVU42D/wQOfVEoQSq6AcPWEyOg86AW2p8kpkEI4yQBGyCCxAAUrejbSDQrQv0tBMuiKAsAjRDB2uXp9eBqeTS/O/UbcMLKtlDwy0NKCwb0AGc/79CDbkHJFQVEf0eTEgI0scw+6vZhQz4O8JyOpgUuBEayXtDGlaoNKEUPNqfkLsBboGQffNXYbdr9K84lO2/aArICE0Lk/pQ4ljc+kdpbrWC7Rv8Mx+HX/xwkgqjrEKVyACRZ0PDAMu7Xn/6ftE4x8xcpihOtZTCWPAAmW9NaFCDDBLqN2TIuAyYNdCkRN1wnQLKslFLtzHbScAnpP7yYRAcVAmriqcUwNH9S06vD5IvODr/DzhfZISXqbu5Pjg8IZOesBNmoO9MQVhs9Mj1aHndLmopTRDYO8uAEgMbaeXLsaCDbAZw5WKpDYqBTtD5eQq7D8zHk+emiICDXfA8Hg5Ej56uGBJzSwrX9+LcVEV/5YS5cnoDYeSSseBYTZ4uCCb9yPhdEAvyztzam/prONKmeIF29FCzTu09iMyuGfcIuSCIKbNi+ANsGUPc9nkG5BQtOmhMEObidHeKxItMAEE/9NAyJmBBgAZ2A3YVOYlD1/eWj17Z3choWHfnNF1Ym164a3COhc32FAF3Pfwcea70jXr6wqPxLHYmFLwql9t/1VSfIxn62yeptBJhHaHpTcRNBUo9zB19V5goAJRYgjP0TVlzT6PFEjw9rAMTrBBkmiUqK/PyOzO3m1yrR1RgAuWswDAtGJcAvCsBWAquilsNZjPwiKeD/bDXeELfyGT62+P4Z4wQM+LwM2KvUBG/uc90ixkYgL/nIOmsTKmr+LJz+7xlrmetbkL6ARJEFApmL0kK1/ymfy4eae81NpA7bE0M0mgkw+6l5hmQlq9AcAiapr54LQlBcdvNPF6whC8e+PudWzjgEUp3ZM518xoyzAj2InBXIu68n3IHvxuTBEOIAt7f7Kqogarbqw0RMukNCBIMJtIL6As5bfa+/L4I9tDZmPs06o2o1U9ceC6qZ/BxYAS2V6YP1fji11VRQpM4nu0boiKDP7dMdeTfgaHLPAgr8ALt4+SsFHeTsKLJcJExCA4xVdRmnW5Yp3EErNTOxRgvBAf3ADtQFK86EJInz0Sd6Gfe/DFP3U4iHCs/jO+3kPGBiAs/f8XmSDey0j70iWb/cBvq4SFaR5wplOnLiAilFFQnkAjunuRLygQTC4sbu64SIEC8AA/rUMlIluIJf6qknCdH5AFmWBiC6Qzf+LVMGroQxKNUPG2+6xB5mOgIUEBJf8ahkAKHex6Uanclv/g1/96QyvSCckZge45RWeffcD8DeEhIB7fTswhcZkvIAAAAASUVORK5CYII=\",\"data:image/png;base64,iVBORw0KGgoAAAANSUhEUgAAACAAAAAgCAAAAABWESUoAAAEK0lEQVR4nAEgBN/7ACfcduYqqG3TNyB2eLzFCamSNrleRBeM1LhY2lnTduGPBJZigmmB2zkdGXp4WaompbD6mMNEGwGiIUXP18lkzxKiAX+bvAARv8VpUOQA1xAoT8IiMNL9XorUPQRpQ6TwDXALACwmt7gsEQ0Gm8Y/cPSrHOFOKNqCcjlrC9RNzIEYuqw1AMH1zSSGukpG8Usk1+9uMyLOF6vbl4oL60aATDrcjfgUAHvRA6hvNdojwIrIHeMP68b3s1LGO88txSoyAO6AzRaBAmE6zLBxWz/0V9sYCYZcWCN5Nzfdrq6VFGLp7PMDqdjZAH4BDBsHuv2KMavy1gHjtkZF/RSz3HWDpQSzX2vRxwtjBPHpTVoi2AFsq3juog0rp+GhNvNXxcWhiXL5d7Wf+fG+BHPlmQXkZUA7kR+loALlAefPPAX4DTHiio8SVq+znimwAF0jojQD8e4Xc1N/7SEYvin6PMHiCprnk88/OXWtgaJ/AOZhuid5+b9dqOc8y5/kMRT69Od/M9sA26SASDTTIAxwARPNsFN2VtB9YTTRBWzQDgY7O4H6tK1R2kDShLNSfvi/Aqexj3St3wXRC5gxUcZZ9eq8unjAskkL9zEv321DRRDWAPj9AQEimqmx+h5iiRTqk7EBWQ1ON13HL873yLkkQOQ1AVVF9AlIGNF4Xfb0wbRb/+aqdvOpDCxrL3H2e9pDCezaAsabLz24tExQBjeYCxYh5w1XHrQiHJfT7q+IpDYDNyHYADWS1TUJE86w2fmJ5QCpvpYAXqcYm01CR6VSjd7vt3ywArcOWW9hh6ozZ9cumpF++BTELQUGpI8Sya6hC6GCMikNBPpXcQHY563jH54gNgtH8Xcxi1jope4fkWoBqcSYOGvwAHZs30civepbL53wJ6JwI6Q7frqaRNcCd9GAI0Vojs2QAslZxIJ0P8HG6fnCRwP4GIuapPmcKCGDuCSrCBmsRdqSAG3y9yfKjztI6Fr42TIaCAQ3aJZtjjfb9lflGuRpRYgZAgRVroud9CEHn00vNEMa+iLGBsq8NnSU+qWJ3YioQQlkBO0I3NKpFw8mp5f/Vfd9h1nbkgk7D/JiZOuSQD5tiAPFBIEEAiTA+9Ym6awPU97ELPr4htUSE3/4K0lY1aapVe1qALNnLhIsiNBt1n8z/BnqYEpluC/HxUMe5xiYmEw3k68dBCr3BcDaymzeXpnJKoUAbPwp1YaNFf3y7ijOwCQQ7cFEAIxgbNQdK0AAwGf5UjqRRYseoksVtg39pwT2utufindGAXozOblflb5a4MrZfhwYzbk450XkSVDuganw9YlFGmhlAj84tfNOFlr8/xTZN5M4zvBdsdiBy1/l7ePoGEghF3tSBLqDHwI789Si4oCJVr9rvlkOTWa64QDRHHFBaIwSfci68Xz7PCHq0gsAAAAASUVORK5CYII=\",\"data:image/png;base64,iVBORw0KGgoAAAANSUhEUgAAACAAAAAgCAAAAABWESUoAAAEK0lEQVR4nAEgBN/7AYUuQW4oijlxhT/nlAQdBgcwUw1xgMYLo2ynLAIAfCk0AddmBVNy9uhtxNKbRIyGjfIZe9tkC8wTR/cT3gZUwh4kAZyYYmPOmhVFrv/X8gH5EwxKF6pUgCkLbmPFZvHjf/E1Aux0DKd8WyMdKewB9wDEjMs7YG5Dkvh6UVfx2B2Y3VeOAnoL3X7uYjLWf1vUoOHiDD60ZhwOQB3bsxVcBhMXxuO5AvfQKbHfI8WOtbS0Vdktrnri2AYODl4LojjJaqi8ybFJAZ/YfLGZcTK4pfgb8SVqWC85Hdk+X1yE5UX1KzRS6qCdAdpoo/rosz3gVZGP2rAE3Qz7hfk8dJctJ0DZh8d1k3uWAZlxEUoKUqjDDe5DV1BGLl752v/NieUtnzdLc87LNLvQAfYD6KTBUH8xE2aRFkRbkeVF05fLvDBimIMLx99ABCPdAmqzEa0Mdsq+Ac8WvRVPe1ynDO6cpM4QJT5Kjo5Zn/CYAimOj4PLnF6egOOuS0pfECpX+/X7DMJTBE/YCqITFUECAeMStwDJPFOHEWnPEqy7hn/D4yK2rA7DDVUYqkS5nC2UAhj2tN/QHb4T8QrNxy3hwhvsD2hfhLps7MFuDaqQKJVzACjfIemtgx+vvL5nRzd5iQh3FesrksSrEKudvxW3Ew1HAEwiOQjmVTz2IiPyQ9HFVst/j7Gh+1Ndw1bBMn4DpRKrAYkbNwDaOd06J1VSGb+V69By+f/8qkUXMmPvrn/js7QbAEc1bllawLNXlIgT+M2fD69d0z+hL/D+Ojy62bH1Crc8AORUOefngRjGt5ZAy2HfLXl6t44vh1s2/UMZjk8cb/nMAbJBk9iZPudGGEk6UOdfCtLBatn8uPfg7w+GOrrhrFbKAkHoNC6tuPWeLghLEKGz0Url0gZqQjM5BtB0Lft7RIMoAPV7sO0++bRDjdXnEcQCBnwFYTwqG6fuXRQURT/epoUtAE6diPhIUUUr/a9f5uP6ITCp5UXrc8zPv1EIGZwxLplpAedOl9D1wrGCsqjw8pL5AwQT5K3nTVusAv083m6TZ6ZbAt+oHFka4kjUFFDFefrJA1JSBclu5PAc3QzVvMPs+cewAEQ+9zJaIqvOng9ZghiJ30gu7bq3niW0ENIthhBnw13eAvAKc9RqZiRru6Y9tEvc+mwuZhW7QsMwA9/irGf88fIbAE5ePMoPt8TurABU/cH9H1YmrVJCCqYe6/mxM1Oke0CwAFQqE/RFmRBkT9EGOoEKRzxcCDIfEJEKphsTfNYw4jBGAaoSAvK0QzwSAZkpp202LmNlyc74GuTph0NtB648UcgHARw2NlJyw1/nf5Qdpvk4kDEvtnyyxfos7HUV7EVq6CVCAJADl0LZHFvX6sijCvlS9q9yT/Wz5PRopk3SNlRGicv3KPPz63OrL8YAAAAASUVORK5CYII=\",\"data:image/png;base64,iVBORw0KGgoAAAANSUhEUgAAACAAAAAgCAAAAABWESUoAAAEK0lEQVR4nAEgBN/7AL7ezkan1Hc1MR9nau0QMDYDb+QR3sPlWDGJCl1OMLOTAm8R5zemdzsrZfhaULbhG82mGIxJ2l1rLAswUxABnN8VArBZrD6Xel4B89HnidVzFqRgCUwO2w0thPu5jWEVDyzvAcATdlq4AS0fheV29w7Mhmb7Nw61tgLRRGfITbID39QVASpglt6+WMGVEjvk903jzT7wB9AeVQyfKzp9Sm3f7XFeAg5rBJq400pU9GRSZu4gqfENOXLr96GjwhL4OEZ/IvJgAN0HgskioH4hqB0BD/d+Cwbl+8nPziAYhxIeq6VHnJqdAGa3mYjyxRC4BtdVptPdTcreFlYMMDNL5QEdtVESjdmZAGTlSgHd0RXbBYbt9Srew1O2ctzBpr+k6CtjnStQwFfkBAH8/HQNlb/Q9sK4Gy4uRZAVpNTM/OHbJ+NolDo5M1lVBAoiZHcS6ArNAW/8c1DcTHo9SF31CbmBVuZDIl8MqAUzAFJg6ZPcT8AiuficpD887U8cIsd8AU/GxP0qHW7fgwYEAO0YOLQtSPo5BtMBWnGdp/ui9KreMKj+OMA5xY1g+ZxpAs+qoMy9A6Ko0uEY818oDgW8UloEV6LFIRixn1HaMwr/AYPMn6AWIOtl4+4Mv05ZylurfjUduinpEDp29fYiEPL8ALIDMdr0V7V7LH0wH4JtnCuuZ2vbdWvWGsw0ufXva40cBPBjOoFsgfE4DClHBEvPnDHohnkD9E4WKNsLib7E+bVDBFf6wfhnuUfckX1e/SoPAumvOsWx21UlcPyO1axY6ZcgACACvsHkHQbUBBpIUrR7sOy2c/flv7sfv8xvTtDHA2HaABnIIfMzfeahQ2fblbAqJ0EQcfmJKWAPwwXHMRkt+3G9AiuRx0F4DAvaQAkx+G8lqOBO/t6hnnjELXGylEcgGKYSAnkOEc+Sg0jTZQ7dMk79JKGvCyOdqbSbgP0oV/1lElx7AaZaAFL16weGIVi6zwCrsZ/s+6j5w6sMbfPn3ADvZUxoAc8QfV/2/+j+VaIR/D4aJFUjTsBAgrS2pSNOmPHZhvhWAiuxebKQF0LjbD6Fzc7k8PgGdeDSN/kQPlqV/HS5FyrHAF6kyB8Td8zrY3eEgSVhwzz75zkb6dR0pAAeCSAO8JsjAkVKVNtleTGB9rAi2DAWD9iYII9E6rzxjga0dgDwLSKBAIkODr/7qnhFPrJspfAil1YBYE3V5k9qBir3ujc9ctEWAZvCOIU0NtUXKY6t50Zhxv8mpoS5nBWrCZp0uDezpUH6BJKdR0kpTQQN0BocBKmbdnGMqG0jNbIq9TZgHyLTMjROBCbq2MbWnUMIQRkTbsyRDwyu7MRoBOEy2kDXY+899DWnAaXZn1keB2VC3DQYoKk6Jktsp/Ot344+JTI7+zet9EEX4ZDvRDzrl0MAAAAASUVORK5CYII=\",\"data:image/png;base64,iVBORw0KGgoAAAANSUhEUgAAACAAAAAgCAAAAABWESUoAAAEK0lEQVR4nAEgBN/7ASfiJBQnexBkhUQU5QlNOfK4TPvuscTmDWGrPKz0oB9xAhLh6wX6mj2QdcWbp4nQLtrF7lwBC0hzFBSHTUVB8sL/AvRBJQRXnE1lySLg+bC3D+tGXBS5Rc0dd8P8hitx2MR7AHL8/PSSX6s6W89+oTFqYcfWMyF6yN3s8xkBqsBK4QwAANp7aswkBdOn+4QnnP7Rod1TimCoBjaoWZNLTvK4+y14AITK/d1ALyC/BmCyX2vjavcFr+oeOz7W1E2Evjnnwl0CAOoiEkfr8zKFD/NSvxlsuSImFPadNwFcejPGTtXQIkWDAF6BGRZY3T8Bfecj+rS8JbbWZYn10jsVUg0PhPGdFAz2BP/3/cEfXh53OOFUY6ogUc70p7HjMFAa2ju+UwHU7LPPAb+MO5F068/ev+0H+SZbIkogwUOQpwTifSM15M3flK7cAvHQRI7taPYPn/DrbEmO7KQfDEtRFJ+mXtScKn5ZRhvRASu5/U4h9j0kiVwSuud7fXabTVoiYPF2cfFkzdHdVciIAINF+zdP/rp1C30M1Mjw33cQGFCO3Y5uzLRJh9zn9dHEBPH9X3IagZ+FR9IqJ+GO6WNOuvBNTvFTKOC8Nt5l2qMnANfhfCuOaFe8DeJZGubnF9vmWw58WYoQTiWB/mLuT90GAOOhmw09I3ogoUFiAJZ0Iy2qzaaoYcsw1yTLXvTQwxjLAEDcDhdlEC+rHkVb8lTFcAIr417CjqX1LBZatpwimGPWApZF79FQ2JPBd8NSDu9045oTMVFW+L/3vW/LNPQj281rAFLt9nafLpYC+7AKRaMxTO5XTNNe9X1ivxXxhLB0/baNAHMCxIUd1w8GeRNh7IIBYOQ8mEYoNOWZmkZzFeg4t6T1AQmD/yEOE59tgtzgYGzX+iZa1CviqaMclA2bfSQMKO9aBNrFxmp/tuvATtHGuD+8PyjEidju7AfLksCKlDOnexfxASip7fa26Gc0vqddplxZaj22le9cyXVXVaXz7h/ouEzIBKHqDQbT68MBewZF6dETQsVOjBc4FTkNC8dzObeQMUMWAT9ZjdK0IOKbLbIbAgiw/aeBc77QNSzlP7xa//lbmkhxAFoU6rsNrGDMD2+JHhg3GA7RFWTyW55Y+/Te+Ok7A8wzAcHlIbjdoDpLAhenf9+VWe40TMb8RD+gN2Yf7Keydt6WADYxbPJH9J49gXwOr7+qBoaCoM+VB8MDgxTUFXJL7A80ADkyaKcwCFlIHduduUQNfwpg+d8FyQOjJ+wEiDESJ8R8BBMg/ccHHw6jihpp9s92uyyPVEJh6CgqFXZ2K8P4EHfZAozzOH01CNb3CRvYSffHzD4h482j+vlNjy4uEvQ4OIQQBGrF7BhDzrFA3qYd+SiJyW9zywxyRS5647f+OLk8dvgDw2sBZ0KEiBcAAAAASUVORK5CYII=\",\"data:image/png;base64,iVBORw0KGgoAAAANSUhEUgAAACAAAAAgCAAAAABWESUoAAAEK0lEQVR4nAEgBN/7ANZY49A2h1LjiAxl64LbAgxej6wMmE2II1EdZpMHVkmiAWSyPQTzyiNsc+L5q9k07hUpPhTV6vcK9NIKnYUIPNvNAUKtjxVm6mVJ9dwQLsbPme8AiUKgSUpRaOdkH1UIIy9wBGw5fjNsdgolFAEinVpQoc39Ov2Eg1E77VSosJ8CVLFcAiKxRE8ozDSkUSWIExhrKnFcjQ2ZllRv83IRpBXxM0u1AQhgtgQxGqjpPIlG/TJMSCo13xA7puK0EVJbJ9k2PN1xAN0f+uXrrgruWQCuBxDtGwpmlvDJgmrghvGes0Tw0oT4ACEYJm1QUe39qwrw9X70aJoEzCJrKW8CzWabaAlYWAscAm4H/M8MXKJM/pCKi4ZMyHPp0CItsQ//6V1g9aDIqTDbACClSgHAQgYeW5xwv1ICUiLliOi3BJgwOmVoVwG1pHgmAaSwTfXEdD32n/i7Td5M28OszOy9+bNCC8A+qjIS1mELAk0W0kBXmWFVfsVEOc1mAPjjnjAmsTP+F/vWEGvHXsznAX4bZO0ywcb5KJ6XqCDh7eRU9/fQHrlNW+Bg3AeKp106BL/M26f+GRgFmjjr7xU3Spg95lLk3eFQ4XPwv52rC+lkAgulRuBT5pD9h/3tGJojt3CMhyhFAKkv0mzCsMFSNs6hAhNf2h9WjWM1yKbNqxFiBA7aFEzI6cSTy8Ow8y6taqpUBCZFad1S3z3s3F7/1BQmo9oY4WiszqP0eAAW8o8fFUYTAeBwHLIM7HLOPO8Fzghnam0Vyu/5MUMUHCr3tD74FIXIBCqgFz4YDms5PfERFK8MWHxo3Ocb/hF2MN4HuD2ThJ9HAckmrF4ZUD09Tlfu0PMxJCr7W8o73DGoIFLsdQSQRAXjAVfgDOPqSLwCgt5azbtPbcTwJYNIo0/gHPwK4vEsPA+bAkOQbDKVKgrIJTd2MdhgbTezusBgjrw86ikfWezjHl3KACVJ1AEb6xnUtVOImTPE+erWU7+T/N3GUdaCCy7PSu0aAKfHP+c3wqICF0zLN7fRSJQEDJ1dSBKnu+C67muhJJdMAjhsT3IDB5y5/FGoL/L1S8o7m7SSc/8In6TzVqJXSES4BNosBy36EmFLRi3Tvc5GB+vlt3Pq46jqmLfx62uYTCWCAuPdRLPfv6FIDTpOecM6qscSAKYJEGqhSRBG+DUAkRO9AMTFy8lHD8d4fhWYSuROYEDXKciSOAWxnYXbLLkLvPw+BMa0aHxTXzPtWGP6dRCCJCQYs+M/yzQI0AH8CSQ5h7zVAIo4TqI+gbFBzuZQ5bpuLbhYJeswogl3JZhrjx017CjIAgpLvd6e1cH7LfxDTRQiB4ev4zW9lZKne0I5ae8OV2ADANIzhwG915cveogE+L0mASk/MaenXHBCfzkP1ooHpvqntVjuUFE3D+EAAAAASUVORK5CYII=\",\"data:image/png;base64,iVBORw0KGgoAAAANSUhEUgAAACAAAAAgCAAAAABWESUoAAAEK0lEQVR4nAEgBN/7AaTBINEThsMEHPSwAcvYPvBOXHcRhFLdMmKgOPMNUAGoAkTa78Jy2bvbQLwzSstffvw6F2r/tlOg6Fu6+e1qprZPAHxUnT5SA72OqgOqN5zjjNQ1jQJ7Im+kLV3JDeqHEgR2AuhRK9gqIKIUxH7GLPZ9JmTa7ZQuF6SrSsEe4fWUE7X9Agq6JmKCKYwrn8/qUS39bQ2zfKgXv+EKy2dyiaEBLwZDBCD0vKnpXB6IA05DQG4BQU2GKSZuKiNDaEabTgllM5WVAZuCSxhZ3xOo7GXx2OE0z5fQDvhioah7kgNZsh5gGhXnBPGnSlvs90CndQtYpW84kdRtddn3LfxovtPy4HhiIQa3BNGyj9UF69Ry6BGtpRCsin8L8GVNM/Cr6mjpfsEbrPZXBL5N1fDhTpdcwp6YQtmbJdIB/vf3FkcPcg23rC8COqIwArNpszfD+vxoJMfPEBiP0TICNeANKq17tRdYCtp3K/efAiKk3eU4P65U9kskRb6sySea7fVkz8PE3PNq5+gJnlowAW/C7CilmSMvNa2P6azURPXxjWjFaakP+exFe+gVCTLFAu8+0RNaggFm/zGGPuOn4K4RzLPcEqR6bkBBWuRJ1zUIAApbl5cG0Dd5EoUW4BM78v3pKC7Dr1x2vEzITedkMzjxAojurKIHgvw7TC+v7ksXfsXegwpSwBmX7OBFWgsesYAmAvf5YdzdzSys0ORvydAf1Iuk0rg30Es2SnAiPh/jCPvWAEk9vo2vL9dLYwOv00oMX8/VVJccDRupTxqsc8aiceZOAfjg0hqB6MQDwwvFEyIbVQ1e0pTD/j65iSNmCdST7KCzAm3od+bs+KdSpwoanB9VppALKUv2bSvUonrMOS0EHxYhAWr+b+jwdrP+i9foWzV7QO/QwrQP1PCc5JLeN9yYNvV/Asp0AqAgKhs0WBlmENVqKIXH5ilUDW294uUDEA+Dvv6qBD04bzp65rgjET+IAgkbdk1uH/jNbirVtacyPMQ9SQHhAbyL74gWIxoQJg4NiNLFoKohrNJqQYcHKqcNrU2SRlkdAMLAMefsQ5K87ytWnC32qAoQIkwiJ2U+WynnY/dOIrslAqoOGluvpvhmxYotfK4y8BVhFd6CQ25eNVPJHtBFKsDHAMTBLtWH4vimTeKopI00LbwsetBHX6faTVBzOOsp80AJBEzM4N/hTynHWOIV7a+4CrcLxld8L9xcz5dkrSos4UIYAIqH0RSk0FWR5H8Ny0ExaBhnDHnzJKp/6uLI3rkBpr+dAkN3bgjQ9gTe3uvVUTZ9uLP2ypLo9y7s34hwv3yuuBJfAD7oXMfiCqoZNNTbySDWN3SrTpw8IuNBZ0HmxA5JL6+eBBmDGhaOze1rlTJA86G27kRejD5ZFFQz4t3chkD4GgAdWF37Wce+OxkAAAAASUVORK5CYII=\",\"data:image/png;base64,iVBORw0KGgoAAAANSUhEUgAAACAAAAAgCAAAAABWESUoAAAEK0lEQVR4nAEgBN/7AOqe34UOhthEEVh0ogXh3d9VmVru3G5mWNexdSU+934IABLwnjklJprxxBZ2RAT3Y+M6BHsc5pWD160g7U2skarSAZT30XT2f1YGoslu90fnmD2rLuhczscTagSeXi9jKF6IASTF4rksBNgRIBv7DsmP146PD0h5q7pl7hRH0doY/GUCAYZQE+ye+/Id+I7AsgYj8ACEKNXdQCz0EEYmhyZRjwIbAkECvcDtZ6RFvybYeP8xvAmyoBCbGVhKGcgmcs57myUdAsvH6tzldED7qPZX2HsOX4sWBNUbPSW2xSMcXAXsIUgPAKMwzgJmfVsyVAVTFd3Yj0kJxFketawVCarU1Amb72ehBFBkuiLq5/RQEl20PiYjyqe4Bjb2sF+pvg8H9DFm5CcqAuHzqRpRLt4vIRQeikTAUZvbPM+DFn5ysdb5a1CHqTpqAgXihSvezYRf8PxMbiyyF4yhtXGpXdWk8/cPvfN9bfY+BANy9zlK3rTiOZ7vJZZWS+fRot6/tI0HdOcuTqrPwb37AJE6wdUuC20q5PcbA19cXx9R3wF85DhOSAlA4J9j0V5oAKvv2ERNzPwE+BrLbdzpUtAtVslLoXPGjT/Z0PQ8egDfAbhfZAMnF6iEPhb+X17BjU7HiIN31i/4FTFsutxO3A76AZSG9jInezZW8NKY04T9Rf34Kjji2c3AkCYnxWyp9md4AhylPsduKk8dz8LL/QppGUijxmo/c7Vly0nr0+wQWcUNAFaUWTmO880z6MVd7h4JTipv2ZM0INNEesPH8zyStU56AHLzAvCDIkgU8ONDmVuEPR2+/HkidImOFAIBl/wKA40YAiWgDJ1BlALgb/fv4yONj9VT10NjThfpJvVD/QnQOviwAUdFldvY7dLRs+ZivJlaEySrVwDYzKZrXgw18MwVD73RBOkoOaD1CEC27AyvxpGTIxWYNehRMlL291Rb17d9kKDlAVHBhrJIOFCtIrenDWxcG8PlDkJSTvUNpv/s2ueJ/qahAmTZEE6ld9uy5bc4YZwoabAn20WwbvAYDugWlOkOg1zlArV9S/osR9cfFEU66KAEpjOFNUZY3Is5E3/nKnXcXKqxAegkzNVqnSfESSwcb4hjWZzJMNATp8PKt9z1HU/UjJTiAgMt1EQARe0mgBHFHaGSW7sfiqAIoRpAGjCI4xGezNP/AKXLJKo+DaXMpGlvBwAxsoM6YzLj3eaTB8EDP15j6B4jAebCwd3kf7Q43qVO5N8WKup1+607U3GssZvGqR7I7udHAri+Y1qkX64Wu8r8fYEjC9dj+aePSwYHNh6Y1SrG9SdwAt8RJ5j+cDQf3aTurXWEhffD+lGNPkJ6GNHxxaTS2D/hAPpU7nj6LLA4RZz8G1wIZy1s0oXx2hs6+xBPw+5mtN0D/5MCpnrD748AAAAASUVORK5CYII=\",\"data:image/png;base64,iVBORw0KGgoAAAANSUhEUgAAACAAAAAgCAAAAABWESUoAAAEK0lEQVR4nAEgBN/7AIG8AHvs4yNGU/xBWQOetMfBncGZJMY+bBgF/vEktFVyACKA6xvzotHHRibTDBC9G3XIFh0PvErx3cgmprRDNmezAGZALcQhSY6gyy518N1QXNpUO852NfWxZ8yw8MEE4J/PAN5FU4XlrDYY6jel6L3hatDzTRM5wQcDCvUAaPJdGWLcAQD0880Fb/HAvexKef3doext9nxyC/n618jH3z80XT8iAUcKnQIl+UhLnfdKCN4ysitoB+2SQ0EnXsFofOcAABNCAfpVGyObpLsFBVY1U3CNORoDgBxKvoTdoN4URzJnWuH6BDN3+xM7+C56q3N8mDbINBZoMHvPqtEZTzdkyRdDmvgsArIzL+bNqiX/tDQkYsfzGEmOzFXbhc9pBbt4rEzwADRDAPL+m6wSDSTjtoXijq0/MrIv+KVxj+D7OGV0m/oViw4VARgGy2nsUwtGHinUDrr/sUFwFQwyX21ANgBOMXIrZ7yWASDKu83tDKMce4bck/khOr8ROV0GCXkD1VznamQn854HAU81ULG68RufrAbx4H16YRNvnl0bJeFFmwA6N5k+NavMAhZc87r/aMlowig9VJ/kucC5s54avusO3uP/UlFzpczEAh07v5TAdm1dJZoRc63hSEuF1Ue3VdHmWChcI9cuOfrfAPJCFrY8xaoiLCiKOuC3xAO2wArJzPVBdga5evMTLm6QAAHrSrk6XfVGQtgLbTMYiGBhbbMtEJ9JsCxajFb23yW/Aj3gEOlSWMR35OwFJKfpjEbM54eO1ltJxQI0YhWN5w3jAKXbCdYxLZrxrfUZLXBwYEFA4mRR/RKgPcS5LZE03uvHABVZrGIESwoZwgLXsmEI4et0nIIZTvK5DntklfZYPDE/BHlEpYvudOcV7BD8JEDZkQKObrC/D+8yzefDm5j7iDWXAfMQKN7SFlwQp4vUTgy5JuPXZFEJhs0YxLQfJ0Wb7auaAF1AfO/7uzXz14snxTC8/cx5oq/zYu9ZHC2oZ9GZy8QTAZvehM7kBPMgQAqMO6jlTOVGRGSD13dPqhnS8ripAI/tAYGkzsei5KdU1pZn3h9qIngzW8gK7kplrbr8MjjPAg0iAZxXvbTlAeixW/Z21udND5KmLMP42sfj6TDe3KaGTzhcAjuh1moe/gFX8xYmqcJzyBIqRbXS0ZBHQIg01ghtm/W2AP0GLK3oJOy8snACs3O4YLqygsLxBeqkCW7mA7g/tR11ApheN4LS3KVCFrau4VcAVLUWQs4RlsBGTte4Pm75BOU4AANcgTGU2WPII6q47RWn0c/GJphS2xAWpTIlAMID4yUuApXG8RyheJrS+pAy45Q1fADSXUpJ4vS/fcgDlbkSxx/+AEkj/hVkqFfpS4D3wIbuaWAQLMRHv5Sj/oey382VX+lW5dL9P3+SpAsAAAAASUVORK5CYII=\",\"data:image/png;base64,iVBORw0KGgoAAAANSUhEUgAAACAAAAAgCAAAAABWESUoAAAEK0lEQVR4nAEgBN/7ABye1EkaqPTFgjzjkesAznmCxTb7hqhTQ5hlHM/AT9qpALswF3fmWftLBllz9kYMgah5dFqWBFlM4WWEes/47aw6ABMoN5icxDtPMAz9Tb70o8KGFeh2Fcw+Urg7H3zMK1HnAbyzegf9uSrXmAdl5LXxfgr3oG4m3qAWFUHVyM8Fcx7sABSWnMXdsHtVOlOODIvfC7pGGPYpSgETsiIb3xBl7wLbAsJZL/T9xtK7Tgl7VSsJ/NZf6uVAFwZAAcKtXdI98jqdBFApIfixGX8do/2YoNvQSDQ2Yndq/BQPJwA/3KkPCw5yBEryO7pdjygnmlETYtFT6FioEFwP1JD0iR0hTPn6MEkYAMUIg4s50LQiPNNmq8JxxOv43t8BD9A3Kuy8ITHAOTOMBO4fCkdkJQG40QF9AavAtz/B9srVswzfdyNgN0uQUuebBK9lVzQPCKTt3/3+92OqLHUgrkX1FwS2/GSxz+IrJ2jeAucsnL3NJaitMSbR7vc5hehD0Y8QTcIDaljskLQ1nPjtAGFB6PLEMqgpTXUFwmM6cca1EGH28J4ZM4rQmeBJ1/IkAR1VP6cyBR7472JUXOzQ1E+xmsz78KbrZwn6nn9NJLLHAZiwEC5EGTDK4UqSQHs6lrzf/J4TnsSPCmga3Wj6pMP0ABSie6nqjxypag0x9Xqxpi1hA0gDCw+TDBBMI1zf0j9/AF1F6jWafYv+Af1t2cB3yW/xsUMHsGVD53KNBMdXvwxJAg4+9vKOR8snADzeoSHg/bcAq9EgZGY/6ReL2vSxUVIVAKN9nAfZ7ORFto4kJlLjv2jpZBrpBOAgvSYpJrNFvtrzAs8OsEspW+C40y9ppvp8VEQT4X/veCuEEn6UUCFzkJo5AP2PQfV/At28tv3nFBWQM2X8kg+XiEZBfu717ycYcLSAAPIDPWLBm4UYzjlxbFdW0DOq/fevOMcvbDK+RLaoAx59ANyaitNu/mue/ZhN1utZFPnHdr0Fp+YgmofbtjnoQ3ecAHkT5GhTWlTLEHVHEAQGg9Ms4WDkSD6ymQiuRs+Xjqa+AsowP6EiPfLy8z/AC7RJV6MLgMv80OnrqTmt92fuF96tBAxF88VLPLD+PxNRAKPwnFrDgPgzIljzABcqaXvO4LB2AT+1615E/CFa2EDLFuAOJIQ6ANEU1PZGw5gF1cJMV0J7ABxmfyfZ/CiTSO7qEtDe0CcEE4IthVb5gyrBkyVQrntzAbiB9WyDttOvJPwE7v6zRfcNIppIt4aZLGgpA8JHLFx2AFrj32qXOqKYKqO8UfObGsxxhOoy8BcRhS9Kw2DWRSstBDT3Cdcj6t5JRLX2rMK3+dKNHvrhoLs8gPLZ5Y0otZL1AffpzPkHEsIKKADodRDRJ5/kP88BSw61Zt9fN0jryvBUWzQBGLG1UzQAAAAASUVORK5CYII=\",\"data:image/png;base64,iVBORw0KGgoAAAANSUhEUgAAACAAAAAgCAAAAABWESUoAAAEK0lEQVR4nAEgBN/7ASpU1IvAZ5iKbKeq6QKFGjiYnEWnsHqxEss29tpZniMKAGEZLTmuFYYfF2zKQdXdfZzcPZ0Mti7wwOg3Jbe4YD14AYCl9am4eZz7PvASJkjgDsOTBGIuAbt8Ou5JuA1X+zJ0An51/wSDlgysXB+zcZtm2Ub652FwFpi9RZAtD/7ftwpgBE4Stm0sgzDTG4na1XN5/DgcskkxbOb3L+j6+NnVZVv/ALYFAooj0AGT37PrIGIiR1OmpeOxyOpxejjiUJ9HQNEBAYi5XG8WaAGFytTc4pjPw3EzNfzDhMVayM0A4uIzLkQtAcOnJYWtinLirM+HfWTO7wOlWW93twBM5m8TFSq4J6E0AoJH+F1HO9moeVGySdIqbsZ3yqGqDme1/kwauN7RDXoIAsMLe/B+9bTCWQcivePPHbndUC08RqsWd/GPR6DK6SpNBK4vL14Goj5AAg5dRfRh4kLeRatlCBTLJef8z7lFCcV0AhbvBzKOtxDEz6wdg98lVC+QsO6rMva8wyf6WUBioNGQAFhJO/sWybJy1cAK3B6PiBGwd7M6Azl8AqsB8Eu0/rsuAvsE+LslzlSp6x6F9IHGL2DZjrqC3S5SA3gnd/q3VIjzAhNAD/Ve0tjU8hiEYV0djSz2sVj9DtUvqhBakPF7nmH2AenG5EuyrBDdMwFuls6SdneRGVnc3SgVe30SrocSVdvZARwwEieZWoPVjrkEss8QsWUFnQBFyerqPmVE7ja3cRD3Ajt+auVhuB6RjGllQPeEUjK6kDP1EqeRUJv1mB4lFGPvAR+jaMRGEmBDrlfsnNj5FCw/1xX8I8aPYpakEnP88O4dAcA7Vhd6vQIJzPH0W9Iu1VDGz8HLgyqUapf8yjHbFnLWAW3oIGm5dkWjgyfJDgHF/9ITwqoLRkIOqHnJZjr9nGqLABBm57xF5ZdlS0cCi01hDyPsFXrpTP1NZMXZyyDdfHrXAbM5rxDiOQG10bi6QRNNiNMJp8nHHiM+LK3F06tQU/oQBBDTdpfTrgsN+JcxO1inabuhr9rDGQQaYiychAeaDmS2AJXayj2nJtBSnHRubsx1M3LamEu80lMoEo8PtgY66wsZAGPpEPBZsw0zB6QH+ZWgGuOO+F281123B4g1QPxoXfRZAK+9KPbhKAOxbcLKljswD01vIB1Q1Rjk6DutJe/OQQsEAMc29g5MH+9TEknPtQR+9qHh/bJyxOVoA7rEfgTdYXzRABBbVJvfZckHijpzklncJV/ElEHnGncOpqV48aDnor5cAr3r3v3/6OE/wUW8l0amcyjin4UsNG23AjkUlD28qNVFAC3LeSEICxse6cFl/rbDLcZdK3d3Uoo484PzuXhDXQLQAGouGOppoOVacwa2irbg9GswC6krSA25xbrkMwnqtSDjPYP6bNFrg7IAAAAASUVORK5CYII=\",\"data:image/png;base64,iVBORw0KGgoAAAANSUhEUgAAACAAAAAgCAAAAABWESUoAAAEK0lEQVR4nAEgBN/7ASNibZT84+4n7Fro9Dx4uRpxp1/JHPEnuylUcWxY0m1pAv6CeEGW5nsJSXxlGDY/DPcCVlfr7RqgMfhiR18/AgydAA6jDW368xBcBlrx7DG/RLxoqG3SsPd9uHFCHQs0AbGuAVbv9o2rPV52+/UeHgUZvseqLS3TtXzdeRXf9YlUTmsCAB4nytIuAoYkDpzRYE1halRw0+uAGZsnN8B5Xey+8MgBAEZpdpyFIQPVCFTRKukIWQsYjbr2lA2HyMv+GtJLrhqEAkgBt8g76UXFWeyYeuXTIKFOGH8/uK+yWgo8n+bhu3dBAJLP84mK/EUY8pQZx+K5xUJjXLcxIai64RfOM01Ij9PyADCUi/liwxhXE7s1D0h5hAA+b/7t818EwI4nGuRaZ5TOAPUg4Sp+k+CXjc4EjIsGcgruAbvLqgDDuwD899ZtSekkBCnqqNeK0Ze4/7lrEBsHE9dc9q9LsMNZ0mFArsUnOPmhBBAfa75vSIW8P/yZLRjwJy7TctGZSAjQASmbNnrh1ACSAAfzSdrUYdzRwu1vA5AKBXHnk5kqFiKJQiDAvDQ9EqFUAFdrGKpCQ9csNMnCIQ8pFJxo1psLI84rqvKKeASAC668BBId8JbSY8wbe+74SBsJbQZfkZLCEuXzdttN6zaaAkt3AQq2CaDqrsaT6D/QMGDG/AkUphy8uOymR3e4KH/dIWxoAqGxlPZc4ma+Mme8SSrgOLPX8pzE0y0wHeePQNaqxTBGAMNgpskFp275IWP14KEfLL5wop49UAUtY95g+BnsOwViAbUE8ekTDTBFShtPHjXiCj+9IGEk+OsbUSyvbvN5nNWsAS0lElLG04gFp6ukFyX/YhgyMCsQ7zfTQtoEGQxN9RX0AQjhG4WgNweN8wYMaLLPtulfvDtkICvcZBB6pP3s9a7+BNDyPQYZYAdv4hf9eJH1+qfvDzJxecVPP7n/ePgQPG5LAssuSjgwfjD8moopb2+Xsz06tgfv64/oFKxdURFKu+fEANE+j0g09gDgB7wrUPNXwrvxf8v9+Usfryg7AY7bdhAyAjDfp8aYbwRoBxZiCSLHYMcf4A1sE19dimMGjhx10vP1AI+9ck1Bu8wjkCWlBlt5Z+CfkrujHKgLdVZ47zQBSX3dASQpVHkz6p/oV2vQV+UyABiQ/XKigX8CSVgPgYc3VQvdAvMeWy9PJabM0vBZpz78iWy+JPt79hI0o7tK4PhEkb9uArXzttmjaNrqFhWZ58MrM3hc/Yf59PWFTu0kWECsUIqdAgRmYbvar1kiQCuQ+PR3QGL/Xtkx3/VLm06S+25qlL7sBJ8icZb6oQVBG43V7/37NzkZB/U23J+nQglao2NeJBlUBGjSnSmkBTzpLQpEtP2qSHWqdw1wwzO3kfwDC/QSRk5rLJrwXky+ifgAAAAASUVORK5CYII=\"],\"x\":{\"__ndarray__\":\"c2tYHB84AkACnQgKUB4JQOF2z6W/i/c/A7PjvJoM9786qjC05NOaP3IfvBxbsty/q/GyvvFODMDbjNyMtnTyv7HqL/o9Res/Obaiz1tn+r8ND2vao9zaP8MmEUAfsvI/mc4vTHBJ2z+y9zeuqUMIQKFiUyIESPa/6zkLwyF217/90SKQnCwKwNXZ4dXgj/+/fxfXfv5SEUAYZHhyHCnaPxa/qTSLOPQ/ggglOg2A0b9/C4wbqg8BwHURqUqx3ak/RaipqBeSAsCtXoiaP9O/v5XzFxib2PE/zclpj66F5D+2tsc+6rwAwFUJz7aZ2cW//0RmVaTRCkAt4PidaA76vw==\",\"dtype\":\"float64\",\"shape\":[32]},\"y\":{\"__ndarray__\":\"ZmSbkOXZAUAHPsACKsnnPwk7nHx8UNA/WrLKRTed+r9G49R46fUMQK3x/N2ol/4/FKoZdA23A0ASEIEHBB+nP3AUJ//nvfE/U0KBFFGO9b8av9TCi2MDwEOxfGp7HOg/4runHCoh8j+jGtm8Lg/1vw5oHNWngdm/tevGcNdZBcAzOQ5tft/yv8VCpRFUId8/Ovak9hdErD+k2S/1tbPlv2JguI55gAPAI3CV8GrL5r8s/of+ZbT3v1JmvBD6Iu8/r+lNF25WEUCtkgtxeQICwDpAnJROffA/8RWAgFSw8D8JQPdpBVD3P0HzyAU1VgvA7aQmVvMV4j/OI8Nwf+MBwA==\",\"dtype\":\"float64\",\"shape\":[32]}},\"selected\":{\"id\":\"1161\",\"type\":\"Selection\"},\"selection_policy\":{\"id\":\"1160\",\"type\":\"UnionRenderers\"}},\"id\":\"1103\",\"type\":\"ColumnDataSource\"},{\"attributes\":{\"active_drag\":\"auto\",\"active_inspect\":\"auto\",\"active_multi\":null,\"active_scroll\":\"auto\",\"active_tap\":\"auto\",\"tools\":[{\"id\":\"1124\",\"type\":\"PanTool\"},{\"id\":\"1125\",\"type\":\"WheelZoomTool\"},{\"id\":\"1126\",\"type\":\"BoxZoomTool\"},{\"id\":\"1127\",\"type\":\"SaveTool\"},{\"id\":\"1128\",\"type\":\"ResetTool\"},{\"id\":\"1129\",\"type\":\"HelpTool\"},{\"id\":\"1137\",\"type\":\"PanTool\"},{\"id\":\"1138\",\"type\":\"BoxZoomTool\"},{\"id\":\"1104\",\"type\":\"HoverTool\"},{\"id\":\"1139\",\"type\":\"CrosshairTool\"},{\"id\":\"1140\",\"type\":\"ResetTool\"}]},\"id\":\"1130\",\"type\":\"Toolbar\"},{\"attributes\":{},\"id\":\"1139\",\"type\":\"CrosshairTool\"},{\"attributes\":{\"callback\":null,\"tooltips\":\"\\n        <div>\\n            \\n            <div>\\n                <img\\n                    src=\\\"@imgs\\\" height=\\\"42\\\" alt=\\\"@imgs\\\" width=\\\"42\\\"\\n                    style=\\\"float: left; margin: 0px 15px 15px 0px;\\\"\\n                    border=\\\"2\\\"\\n                ></img>\\n            </div>\\n        \\n            <div>\\n                \\n                <span style=\\\"font-size: 15px; color: #966;\\\">[$index]</span>\\n            </div>\\n            <div>\\n                <span style=\\\"font-size: 15px;\\\">Location</span>\\n                <span style=\\\"font-size: 10px; color: #696;\\\">($x, $y)</span>\\n            </div>\\n        </div>\\n        \"},\"id\":\"1104\",\"type\":\"HoverTool\"},{\"attributes\":{\"callback\":null},\"id\":\"1108\",\"type\":\"DataRange1d\"},{\"attributes\":{},\"id\":\"1124\",\"type\":\"PanTool\"},{\"attributes\":{},\"id\":\"1125\",\"type\":\"WheelZoomTool\"},{\"attributes\":{\"bottom_units\":\"screen\",\"fill_alpha\":{\"value\":0.5},\"fill_color\":{\"value\":\"lightgrey\"},\"left_units\":\"screen\",\"level\":\"overlay\",\"line_alpha\":{\"value\":1.0},\"line_color\":{\"value\":\"black\"},\"line_dash\":[4,4],\"line_width\":{\"value\":2},\"render_mode\":\"css\",\"right_units\":\"screen\",\"top_units\":\"screen\"},\"id\":\"1159\",\"type\":\"BoxAnnotation\"},{\"attributes\":{\"overlay\":{\"id\":\"1158\",\"type\":\"BoxAnnotation\"}},\"id\":\"1126\",\"type\":\"BoxZoomTool\"},{\"attributes\":{\"below\":[{\"id\":\"1114\",\"type\":\"LinearAxis\"}],\"center\":[{\"id\":\"1118\",\"type\":\"Grid\"},{\"id\":\"1123\",\"type\":\"Grid\"}],\"left\":[{\"id\":\"1119\",\"type\":\"LinearAxis\"}],\"renderers\":[{\"id\":\"1149\",\"type\":\"GlyphRenderer\"}],\"title\":{\"id\":\"1153\",\"type\":\"Title\"},\"toolbar\":{\"id\":\"1130\",\"type\":\"Toolbar\"},\"x_range\":{\"id\":\"1106\",\"type\":\"DataRange1d\"},\"x_scale\":{\"id\":\"1110\",\"type\":\"LinearScale\"},\"y_range\":{\"id\":\"1108\",\"type\":\"DataRange1d\"},\"y_scale\":{\"id\":\"1112\",\"type\":\"LinearScale\"}},\"id\":\"1105\",\"subtype\":\"Figure\",\"type\":\"Plot\"},{\"attributes\":{\"callback\":null},\"id\":\"1106\",\"type\":\"DataRange1d\"},{\"attributes\":{\"text\":\"\"},\"id\":\"1153\",\"type\":\"Title\"},{\"attributes\":{},\"id\":\"1127\",\"type\":\"SaveTool\"},{\"attributes\":{},\"id\":\"1110\",\"type\":\"LinearScale\"},{\"attributes\":{},\"id\":\"1128\",\"type\":\"ResetTool\"},{\"attributes\":{},\"id\":\"1115\",\"type\":\"BasicTicker\"},{\"attributes\":{\"bottom_units\":\"screen\",\"fill_alpha\":{\"value\":0.5},\"fill_color\":{\"value\":\"lightgrey\"},\"left_units\":\"screen\",\"level\":\"overlay\",\"line_alpha\":{\"value\":1.0},\"line_color\":{\"value\":\"black\"},\"line_dash\":[4,4],\"line_width\":{\"value\":2},\"render_mode\":\"css\",\"right_units\":\"screen\",\"top_units\":\"screen\"},\"id\":\"1158\",\"type\":\"BoxAnnotation\"},{\"attributes\":{},\"id\":\"1129\",\"type\":\"HelpTool\"},{\"attributes\":{\"ticker\":{\"id\":\"1115\",\"type\":\"BasicTicker\"}},\"id\":\"1118\",\"type\":\"Grid\"},{\"attributes\":{\"formatter\":{\"id\":\"1157\",\"type\":\"BasicTickFormatter\"},\"ticker\":{\"id\":\"1115\",\"type\":\"BasicTicker\"}},\"id\":\"1114\",\"type\":\"LinearAxis\"},{\"attributes\":{},\"id\":\"1112\",\"type\":\"LinearScale\"},{\"attributes\":{\"fill_color\":{\"value\":\"#1f77b4\"},\"line_color\":{\"value\":\"#1f77b4\"},\"size\":{\"units\":\"screen\",\"value\":5},\"x\":{\"field\":\"x\"},\"y\":{\"field\":\"y\"}},\"id\":\"1147\",\"type\":\"Circle\"},{\"attributes\":{\"overlay\":{\"id\":\"1159\",\"type\":\"BoxAnnotation\"}},\"id\":\"1138\",\"type\":\"BoxZoomTool\"},{\"attributes\":{},\"id\":\"1160\",\"type\":\"UnionRenderers\"},{\"attributes\":{},\"id\":\"1155\",\"type\":\"BasicTickFormatter\"},{\"attributes\":{},\"id\":\"1120\",\"type\":\"BasicTicker\"},{\"attributes\":{\"fill_alpha\":{\"value\":0.1},\"fill_color\":{\"value\":\"#1f77b4\"},\"line_alpha\":{\"value\":0.1},\"line_color\":{\"value\":\"#1f77b4\"},\"size\":{\"units\":\"screen\",\"value\":5},\"x\":{\"field\":\"x\"},\"y\":{\"field\":\"y\"}},\"id\":\"1148\",\"type\":\"Circle\"},{\"attributes\":{},\"id\":\"1161\",\"type\":\"Selection\"},{\"attributes\":{\"dimension\":1,\"ticker\":{\"id\":\"1120\",\"type\":\"BasicTicker\"}},\"id\":\"1123\",\"type\":\"Grid\"},{\"attributes\":{\"formatter\":{\"id\":\"1155\",\"type\":\"BasicTickFormatter\"},\"ticker\":{\"id\":\"1120\",\"type\":\"BasicTicker\"}},\"id\":\"1119\",\"type\":\"LinearAxis\"},{\"attributes\":{\"data_source\":{\"id\":\"1103\",\"type\":\"ColumnDataSource\"},\"glyph\":{\"id\":\"1147\",\"type\":\"Circle\"},\"hover_glyph\":null,\"muted_glyph\":null,\"nonselection_glyph\":{\"id\":\"1148\",\"type\":\"Circle\"},\"selection_glyph\":null,\"view\":{\"id\":\"1150\",\"type\":\"CDSView\"}},\"id\":\"1149\",\"type\":\"GlyphRenderer\"},{\"attributes\":{},\"id\":\"1137\",\"type\":\"PanTool\"},{\"attributes\":{\"source\":{\"id\":\"1103\",\"type\":\"ColumnDataSource\"}},\"id\":\"1150\",\"type\":\"CDSView\"}],\"root_ids\":[\"1151\"]},\"title\":\"Bokeh Application\",\"version\":\"1.3.2\"}};\n",
       "  var render_items = [{\"docid\":\"41057955-924f-449f-8a09-ee62b36f5f5b\",\"notebook_comms_target\":\"1162\",\"roots\":{\"1151\":\"b197d5b2-d1cc-4c2a-9191-b84895f3b733\"}}];\n",
       "  root.Bokeh.embed.embed_items_notebook(docs_json, render_items);\n",
       "\n",
       "  }\n",
       "  if (root.Bokeh !== undefined) {\n",
       "    embed_document(root);\n",
       "  } else {\n",
       "    var attempts = 0;\n",
       "    var timer = setInterval(function(root) {\n",
       "      if (root.Bokeh !== undefined) {\n",
       "        embed_document(root);\n",
       "        clearInterval(timer);\n",
       "      }\n",
       "      attempts++;\n",
       "      if (attempts > 100) {\n",
       "        console.log(\"Bokeh: ERROR: Unable to run BokehJS code because BokehJS library is missing\");\n",
       "        clearInterval(timer);\n",
       "      }\n",
       "    }, 10, root)\n",
       "  }\n",
       "})(window);"
      ],
      "application/vnd.bokehjs_exec.v0+json": ""
     },
     "metadata": {
      "application/vnd.bokehjs_exec.v0+json": {
       "id": "1151"
      }
     },
     "output_type": "display_data"
    },
    {
     "data": {
      "text/html": [
       "<p><code>&lt;Bokeh Notebook handle for <strong>In[44]</strong>&gt;</code></p>"
      ],
      "text/plain": [
       "<bokeh.io.notebook.CommsHandle at 0x120c84b90>"
      ]
     },
     "execution_count": 44,
     "metadata": {},
     "output_type": "execute_result"
    }
   ],
   "source": [
    "show(row(p_scatter,), notebook_handle=True)"
   ]
  },
  {
   "cell_type": "code",
   "execution_count": null,
   "metadata": {},
   "outputs": [],
   "source": []
  }
 ],
 "metadata": {
  "kernelspec": {
   "display_name": "Python 3",
   "language": "python",
   "name": "python3"
  },
  "language_info": {
   "codemirror_mode": {
    "name": "ipython",
    "version": 3
   },
   "file_extension": ".py",
   "mimetype": "text/x-python",
   "name": "python",
   "nbconvert_exporter": "python",
   "pygments_lexer": "ipython3",
   "version": "3.7.7"
  }
 },
 "nbformat": 4,
 "nbformat_minor": 4
}
