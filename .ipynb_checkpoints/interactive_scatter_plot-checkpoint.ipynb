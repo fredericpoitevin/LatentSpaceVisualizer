{
 "cells": [
  {
   "cell_type": "code",
   "execution_count": 1,
   "metadata": {},
   "outputs": [],
   "source": [
    "import numpy as np"
   ]
  },
  {
   "cell_type": "code",
   "execution_count": 2,
   "metadata": {},
   "outputs": [],
   "source": [
    "from bokeh.io import push_notebook, output_notebook, show\n",
    "from bokeh.layouts import row\n",
    "from bokeh.plotting import figure, ColumnDataSource\n",
    "from bokeh.models import PanTool, BoxZoomTool, HoverTool, CrosshairTool, ResetTool"
   ]
  },
  {
   "cell_type": "code",
   "execution_count": 3,
   "metadata": {},
   "outputs": [],
   "source": [
    "from sklearn.decomposition import PCA"
   ]
  },
  {
   "cell_type": "code",
   "execution_count": 4,
   "metadata": {},
   "outputs": [],
   "source": [
    "from PIL import Image\n",
    "import base64\n",
    "from io import BytesIO"
   ]
  },
  {
   "cell_type": "code",
   "execution_count": 5,
   "metadata": {},
   "outputs": [],
   "source": [
    "def make_scatter2d_images(x, y, names=None, image_files=None, clustering=None):\n",
    "    source_data = dict(x=x, y=y)\n",
    "    if names is not None:\n",
    "        source_data[\"desc\"] = names\n",
    "        tooltips_desc = \"\"\"<span style=\"font-size: 17px; font-weight: bold;\">@desc</span>\"\"\"\n",
    "    else:\n",
    "        tooltips_desc = \"\"\n",
    "    if image_files is not None:\n",
    "        source_data[\"imgs\"] = image_files\n",
    "        tooltips_images = \"\"\"\n",
    "            <div>\n",
    "                <img\n",
    "                    src=\"@imgs\" height=\"42\" alt=\"@imgs\" width=\"42\"\n",
    "                    style=\"float: left; margin: 0px 15px 15px 0px;\"\n",
    "                    border=\"2\"\n",
    "                ></img>\n",
    "            </div>\n",
    "        \"\"\"\n",
    "    else:\n",
    "        tooltips_images = \"\"\n",
    "    if clustering is not None:\n",
    "        color_map = make_color_map(clustering)\n",
    "        cluster_colors = [color_map[c] for c in clustering]\n",
    "        source_data['cluster_color'] = cluster_colors\n",
    "    source = ColumnDataSource(data=source_data)\n",
    "    hover = HoverTool(tooltips=\"\"\"\n",
    "        <div>\n",
    "            {}\n",
    "            <div>\n",
    "                {}\n",
    "                <span style=\"font-size: 15px; color: #966;\">[$index]</span>\n",
    "            </div>\n",
    "            <div>\n",
    "                <span style=\"font-size: 15px;\">Location</span>\n",
    "                <span style=\"font-size: 10px; color: #696;\">($x, $y)</span>\n",
    "            </div>\n",
    "        </div>\n",
    "        \"\"\".format(tooltips_images, tooltips_desc))\n",
    "    p = figure(width=600, height=600)\n",
    "    for t in [PanTool(), BoxZoomTool(), hover, CrosshairTool(), ResetTool()]:\n",
    "        p.add_tools(t)\n",
    "    if clustering is not None:\n",
    "        p.circle(x='x', y='y',\n",
    "                 fill_color='cluster_color',\n",
    "                 line_color='cluster_color',\n",
    "                 size=5, source=source)\n",
    "    else:\n",
    "        p.circle(x='x', y='y', size=5, source=source)\n",
    "    return p\n"
   ]
  },
  {
   "cell_type": "code",
   "execution_count": 6,
   "metadata": {},
   "outputs": [],
   "source": [
    "def gnp2im(image_np, bit_depth_scale_factor):\n",
    "    \"\"\"Converts an image stored as a 2-D grayscale Numpy array into a PIL image.\"\"\"\n",
    "    return Image.fromarray((image_np * bit_depth_scale_factor).astype(np.uint8), mode='L')"
   ]
  },
  {
   "cell_type": "code",
   "execution_count": 7,
   "metadata": {},
   "outputs": [],
   "source": [
    "def to_base64(png):\n",
    "    return \"data:image/png;base64,\" + base64.b64encode(png).decode(\"utf-8\")"
   ]
  },
  {
   "cell_type": "code",
   "execution_count": 8,
   "metadata": {},
   "outputs": [
    {
     "data": {
      "text/html": [
       "\n",
       "    <div class=\"bk-root\">\n",
       "        <a href=\"https://bokeh.org\" target=\"_blank\" class=\"bk-logo bk-logo-small bk-logo-notebook\"></a>\n",
       "        <span id=\"1001\">Loading BokehJS ...</span>\n",
       "    </div>"
      ]
     },
     "metadata": {},
     "output_type": "display_data"
    },
    {
     "data": {
      "application/javascript": [
       "\n",
       "(function(root) {\n",
       "  function now() {\n",
       "    return new Date();\n",
       "  }\n",
       "\n",
       "  var force = true;\n",
       "\n",
       "  if (typeof root._bokeh_onload_callbacks === \"undefined\" || force === true) {\n",
       "    root._bokeh_onload_callbacks = [];\n",
       "    root._bokeh_is_loading = undefined;\n",
       "  }\n",
       "\n",
       "  var JS_MIME_TYPE = 'application/javascript';\n",
       "  var HTML_MIME_TYPE = 'text/html';\n",
       "  var EXEC_MIME_TYPE = 'application/vnd.bokehjs_exec.v0+json';\n",
       "  var CLASS_NAME = 'output_bokeh rendered_html';\n",
       "\n",
       "  /**\n",
       "   * Render data to the DOM node\n",
       "   */\n",
       "  function render(props, node) {\n",
       "    var script = document.createElement(\"script\");\n",
       "    node.appendChild(script);\n",
       "  }\n",
       "\n",
       "  /**\n",
       "   * Handle when an output is cleared or removed\n",
       "   */\n",
       "  function handleClearOutput(event, handle) {\n",
       "    var cell = handle.cell;\n",
       "\n",
       "    var id = cell.output_area._bokeh_element_id;\n",
       "    var server_id = cell.output_area._bokeh_server_id;\n",
       "    // Clean up Bokeh references\n",
       "    if (id != null && id in Bokeh.index) {\n",
       "      Bokeh.index[id].model.document.clear();\n",
       "      delete Bokeh.index[id];\n",
       "    }\n",
       "\n",
       "    if (server_id !== undefined) {\n",
       "      // Clean up Bokeh references\n",
       "      var cmd = \"from bokeh.io.state import curstate; print(curstate().uuid_to_server['\" + server_id + \"'].get_sessions()[0].document.roots[0]._id)\";\n",
       "      cell.notebook.kernel.execute(cmd, {\n",
       "        iopub: {\n",
       "          output: function(msg) {\n",
       "            var id = msg.content.text.trim();\n",
       "            if (id in Bokeh.index) {\n",
       "              Bokeh.index[id].model.document.clear();\n",
       "              delete Bokeh.index[id];\n",
       "            }\n",
       "          }\n",
       "        }\n",
       "      });\n",
       "      // Destroy server and session\n",
       "      var cmd = \"import bokeh.io.notebook as ion; ion.destroy_server('\" + server_id + \"')\";\n",
       "      cell.notebook.kernel.execute(cmd);\n",
       "    }\n",
       "  }\n",
       "\n",
       "  /**\n",
       "   * Handle when a new output is added\n",
       "   */\n",
       "  function handleAddOutput(event, handle) {\n",
       "    var output_area = handle.output_area;\n",
       "    var output = handle.output;\n",
       "\n",
       "    // limit handleAddOutput to display_data with EXEC_MIME_TYPE content only\n",
       "    if ((output.output_type != \"display_data\") || (!output.data.hasOwnProperty(EXEC_MIME_TYPE))) {\n",
       "      return\n",
       "    }\n",
       "\n",
       "    var toinsert = output_area.element.find(\".\" + CLASS_NAME.split(' ')[0]);\n",
       "\n",
       "    if (output.metadata[EXEC_MIME_TYPE][\"id\"] !== undefined) {\n",
       "      toinsert[toinsert.length - 1].firstChild.textContent = output.data[JS_MIME_TYPE];\n",
       "      // store reference to embed id on output_area\n",
       "      output_area._bokeh_element_id = output.metadata[EXEC_MIME_TYPE][\"id\"];\n",
       "    }\n",
       "    if (output.metadata[EXEC_MIME_TYPE][\"server_id\"] !== undefined) {\n",
       "      var bk_div = document.createElement(\"div\");\n",
       "      bk_div.innerHTML = output.data[HTML_MIME_TYPE];\n",
       "      var script_attrs = bk_div.children[0].attributes;\n",
       "      for (var i = 0; i < script_attrs.length; i++) {\n",
       "        toinsert[toinsert.length - 1].firstChild.setAttribute(script_attrs[i].name, script_attrs[i].value);\n",
       "        toinsert[toinsert.length - 1].firstChild.textContent = bk_div.children[0].textContent\n",
       "      }\n",
       "      // store reference to server id on output_area\n",
       "      output_area._bokeh_server_id = output.metadata[EXEC_MIME_TYPE][\"server_id\"];\n",
       "    }\n",
       "  }\n",
       "\n",
       "  function register_renderer(events, OutputArea) {\n",
       "\n",
       "    function append_mime(data, metadata, element) {\n",
       "      // create a DOM node to render to\n",
       "      var toinsert = this.create_output_subarea(\n",
       "        metadata,\n",
       "        CLASS_NAME,\n",
       "        EXEC_MIME_TYPE\n",
       "      );\n",
       "      this.keyboard_manager.register_events(toinsert);\n",
       "      // Render to node\n",
       "      var props = {data: data, metadata: metadata[EXEC_MIME_TYPE]};\n",
       "      render(props, toinsert[toinsert.length - 1]);\n",
       "      element.append(toinsert);\n",
       "      return toinsert\n",
       "    }\n",
       "\n",
       "    /* Handle when an output is cleared or removed */\n",
       "    events.on('clear_output.CodeCell', handleClearOutput);\n",
       "    events.on('delete.Cell', handleClearOutput);\n",
       "\n",
       "    /* Handle when a new output is added */\n",
       "    events.on('output_added.OutputArea', handleAddOutput);\n",
       "\n",
       "    /**\n",
       "     * Register the mime type and append_mime function with output_area\n",
       "     */\n",
       "    OutputArea.prototype.register_mime_type(EXEC_MIME_TYPE, append_mime, {\n",
       "      /* Is output safe? */\n",
       "      safe: true,\n",
       "      /* Index of renderer in `output_area.display_order` */\n",
       "      index: 0\n",
       "    });\n",
       "  }\n",
       "\n",
       "  // register the mime type if in Jupyter Notebook environment and previously unregistered\n",
       "  if (root.Jupyter !== undefined) {\n",
       "    var events = require('base/js/events');\n",
       "    var OutputArea = require('notebook/js/outputarea').OutputArea;\n",
       "\n",
       "    if (OutputArea.prototype.mime_types().indexOf(EXEC_MIME_TYPE) == -1) {\n",
       "      register_renderer(events, OutputArea);\n",
       "    }\n",
       "  }\n",
       "\n",
       "  \n",
       "  if (typeof (root._bokeh_timeout) === \"undefined\" || force === true) {\n",
       "    root._bokeh_timeout = Date.now() + 5000;\n",
       "    root._bokeh_failed_load = false;\n",
       "  }\n",
       "\n",
       "  var NB_LOAD_WARNING = {'data': {'text/html':\n",
       "     \"<div style='background-color: #fdd'>\\n\"+\n",
       "     \"<p>\\n\"+\n",
       "     \"BokehJS does not appear to have successfully loaded. If loading BokehJS from CDN, this \\n\"+\n",
       "     \"may be due to a slow or bad network connection. Possible fixes:\\n\"+\n",
       "     \"</p>\\n\"+\n",
       "     \"<ul>\\n\"+\n",
       "     \"<li>re-rerun `output_notebook()` to attempt to load from CDN again, or</li>\\n\"+\n",
       "     \"<li>use INLINE resources instead, as so:</li>\\n\"+\n",
       "     \"</ul>\\n\"+\n",
       "     \"<code>\\n\"+\n",
       "     \"from bokeh.resources import INLINE\\n\"+\n",
       "     \"output_notebook(resources=INLINE)\\n\"+\n",
       "     \"</code>\\n\"+\n",
       "     \"</div>\"}};\n",
       "\n",
       "  function display_loaded() {\n",
       "    var el = document.getElementById(\"1001\");\n",
       "    if (el != null) {\n",
       "      el.textContent = \"BokehJS is loading...\";\n",
       "    }\n",
       "    if (root.Bokeh !== undefined) {\n",
       "      if (el != null) {\n",
       "        el.textContent = \"BokehJS \" + root.Bokeh.version + \" successfully loaded.\";\n",
       "      }\n",
       "    } else if (Date.now() < root._bokeh_timeout) {\n",
       "      setTimeout(display_loaded, 100)\n",
       "    }\n",
       "  }\n",
       "\n",
       "\n",
       "  function run_callbacks() {\n",
       "    try {\n",
       "      root._bokeh_onload_callbacks.forEach(function(callback) {\n",
       "        if (callback != null)\n",
       "          callback();\n",
       "      });\n",
       "    } finally {\n",
       "      delete root._bokeh_onload_callbacks\n",
       "    }\n",
       "    console.debug(\"Bokeh: all callbacks have finished\");\n",
       "  }\n",
       "\n",
       "  function load_libs(css_urls, js_urls, callback) {\n",
       "    if (css_urls == null) css_urls = [];\n",
       "    if (js_urls == null) js_urls = [];\n",
       "\n",
       "    root._bokeh_onload_callbacks.push(callback);\n",
       "    if (root._bokeh_is_loading > 0) {\n",
       "      console.debug(\"Bokeh: BokehJS is being loaded, scheduling callback at\", now());\n",
       "      return null;\n",
       "    }\n",
       "    if (js_urls == null || js_urls.length === 0) {\n",
       "      run_callbacks();\n",
       "      return null;\n",
       "    }\n",
       "    console.debug(\"Bokeh: BokehJS not loaded, scheduling load and callback at\", now());\n",
       "    root._bokeh_is_loading = css_urls.length + js_urls.length;\n",
       "\n",
       "    function on_load() {\n",
       "      root._bokeh_is_loading--;\n",
       "      if (root._bokeh_is_loading === 0) {\n",
       "        console.debug(\"Bokeh: all BokehJS libraries/stylesheets loaded\");\n",
       "        run_callbacks()\n",
       "      }\n",
       "    }\n",
       "\n",
       "    function on_error() {\n",
       "      console.error(\"failed to load \" + url);\n",
       "    }\n",
       "\n",
       "    for (var i = 0; i < css_urls.length; i++) {\n",
       "      var url = css_urls[i];\n",
       "      const element = document.createElement(\"link\");\n",
       "      element.onload = on_load;\n",
       "      element.onerror = on_error;\n",
       "      element.rel = \"stylesheet\";\n",
       "      element.type = \"text/css\";\n",
       "      element.href = url;\n",
       "      console.debug(\"Bokeh: injecting link tag for BokehJS stylesheet: \", url);\n",
       "      document.body.appendChild(element);\n",
       "    }\n",
       "\n",
       "    const hashes = {\"https://cdn.bokeh.org/bokeh/release/bokeh-2.1.1.min.js\": \"kLr4fYcqcSpbuI95brIH3vnnYCquzzSxHPU6XGQCIkQRGJwhg0StNbj1eegrHs12\", \"https://cdn.bokeh.org/bokeh/release/bokeh-widgets-2.1.1.min.js\": \"xIGPmVtaOm+z0BqfSOMn4lOR6ciex448GIKG4eE61LsAvmGj48XcMQZtKcE/UXZe\", \"https://cdn.bokeh.org/bokeh/release/bokeh-tables-2.1.1.min.js\": \"Dc9u1wF/0zApGIWoBbH77iWEHtdmkuYWG839Uzmv8y8yBLXebjO9ZnERsde5Ln/P\", \"https://cdn.bokeh.org/bokeh/release/bokeh-gl-2.1.1.min.js\": \"cT9JaBz7GiRXdENrJLZNSC6eMNF3nh3fa5fTF51Svp+ukxPdwcU5kGXGPBgDCa2j\"};\n",
       "\n",
       "    for (var i = 0; i < js_urls.length; i++) {\n",
       "      var url = js_urls[i];\n",
       "      var element = document.createElement('script');\n",
       "      element.onload = on_load;\n",
       "      element.onerror = on_error;\n",
       "      element.async = false;\n",
       "      element.src = url;\n",
       "      if (url in hashes) {\n",
       "        element.crossOrigin = \"anonymous\";\n",
       "        element.integrity = \"sha384-\" + hashes[url];\n",
       "      }\n",
       "      console.debug(\"Bokeh: injecting script tag for BokehJS library: \", url);\n",
       "      document.head.appendChild(element);\n",
       "    }\n",
       "  };\n",
       "\n",
       "  function inject_raw_css(css) {\n",
       "    const element = document.createElement(\"style\");\n",
       "    element.appendChild(document.createTextNode(css));\n",
       "    document.body.appendChild(element);\n",
       "  }\n",
       "\n",
       "  \n",
       "  var js_urls = [\"https://cdn.bokeh.org/bokeh/release/bokeh-2.1.1.min.js\", \"https://cdn.bokeh.org/bokeh/release/bokeh-widgets-2.1.1.min.js\", \"https://cdn.bokeh.org/bokeh/release/bokeh-tables-2.1.1.min.js\", \"https://cdn.bokeh.org/bokeh/release/bokeh-gl-2.1.1.min.js\"];\n",
       "  var css_urls = [];\n",
       "  \n",
       "\n",
       "  var inline_js = [\n",
       "    function(Bokeh) {\n",
       "      Bokeh.set_log_level(\"info\");\n",
       "    },\n",
       "    function(Bokeh) {\n",
       "    \n",
       "    \n",
       "    }\n",
       "  ];\n",
       "\n",
       "  function run_inline_js() {\n",
       "    \n",
       "    if (root.Bokeh !== undefined || force === true) {\n",
       "      \n",
       "    for (var i = 0; i < inline_js.length; i++) {\n",
       "      inline_js[i].call(root, root.Bokeh);\n",
       "    }\n",
       "    if (force === true) {\n",
       "        display_loaded();\n",
       "      }} else if (Date.now() < root._bokeh_timeout) {\n",
       "      setTimeout(run_inline_js, 100);\n",
       "    } else if (!root._bokeh_failed_load) {\n",
       "      console.log(\"Bokeh: BokehJS failed to load within specified timeout.\");\n",
       "      root._bokeh_failed_load = true;\n",
       "    } else if (force !== true) {\n",
       "      var cell = $(document.getElementById(\"1001\")).parents('.cell').data().cell;\n",
       "      cell.output_area.append_execute_result(NB_LOAD_WARNING)\n",
       "    }\n",
       "\n",
       "  }\n",
       "\n",
       "  if (root._bokeh_is_loading === 0) {\n",
       "    console.debug(\"Bokeh: BokehJS loaded, going straight to plotting\");\n",
       "    run_inline_js();\n",
       "  } else {\n",
       "    load_libs(css_urls, js_urls, function() {\n",
       "      console.debug(\"Bokeh: BokehJS plotting callback run at\", now());\n",
       "      run_inline_js();\n",
       "    });\n",
       "  }\n",
       "}(window));"
      ],
      "application/vnd.bokehjs_load.v0+json": "\n(function(root) {\n  function now() {\n    return new Date();\n  }\n\n  var force = true;\n\n  if (typeof root._bokeh_onload_callbacks === \"undefined\" || force === true) {\n    root._bokeh_onload_callbacks = [];\n    root._bokeh_is_loading = undefined;\n  }\n\n  \n\n  \n  if (typeof (root._bokeh_timeout) === \"undefined\" || force === true) {\n    root._bokeh_timeout = Date.now() + 5000;\n    root._bokeh_failed_load = false;\n  }\n\n  var NB_LOAD_WARNING = {'data': {'text/html':\n     \"<div style='background-color: #fdd'>\\n\"+\n     \"<p>\\n\"+\n     \"BokehJS does not appear to have successfully loaded. If loading BokehJS from CDN, this \\n\"+\n     \"may be due to a slow or bad network connection. Possible fixes:\\n\"+\n     \"</p>\\n\"+\n     \"<ul>\\n\"+\n     \"<li>re-rerun `output_notebook()` to attempt to load from CDN again, or</li>\\n\"+\n     \"<li>use INLINE resources instead, as so:</li>\\n\"+\n     \"</ul>\\n\"+\n     \"<code>\\n\"+\n     \"from bokeh.resources import INLINE\\n\"+\n     \"output_notebook(resources=INLINE)\\n\"+\n     \"</code>\\n\"+\n     \"</div>\"}};\n\n  function display_loaded() {\n    var el = document.getElementById(\"1001\");\n    if (el != null) {\n      el.textContent = \"BokehJS is loading...\";\n    }\n    if (root.Bokeh !== undefined) {\n      if (el != null) {\n        el.textContent = \"BokehJS \" + root.Bokeh.version + \" successfully loaded.\";\n      }\n    } else if (Date.now() < root._bokeh_timeout) {\n      setTimeout(display_loaded, 100)\n    }\n  }\n\n\n  function run_callbacks() {\n    try {\n      root._bokeh_onload_callbacks.forEach(function(callback) {\n        if (callback != null)\n          callback();\n      });\n    } finally {\n      delete root._bokeh_onload_callbacks\n    }\n    console.debug(\"Bokeh: all callbacks have finished\");\n  }\n\n  function load_libs(css_urls, js_urls, callback) {\n    if (css_urls == null) css_urls = [];\n    if (js_urls == null) js_urls = [];\n\n    root._bokeh_onload_callbacks.push(callback);\n    if (root._bokeh_is_loading > 0) {\n      console.debug(\"Bokeh: BokehJS is being loaded, scheduling callback at\", now());\n      return null;\n    }\n    if (js_urls == null || js_urls.length === 0) {\n      run_callbacks();\n      return null;\n    }\n    console.debug(\"Bokeh: BokehJS not loaded, scheduling load and callback at\", now());\n    root._bokeh_is_loading = css_urls.length + js_urls.length;\n\n    function on_load() {\n      root._bokeh_is_loading--;\n      if (root._bokeh_is_loading === 0) {\n        console.debug(\"Bokeh: all BokehJS libraries/stylesheets loaded\");\n        run_callbacks()\n      }\n    }\n\n    function on_error() {\n      console.error(\"failed to load \" + url);\n    }\n\n    for (var i = 0; i < css_urls.length; i++) {\n      var url = css_urls[i];\n      const element = document.createElement(\"link\");\n      element.onload = on_load;\n      element.onerror = on_error;\n      element.rel = \"stylesheet\";\n      element.type = \"text/css\";\n      element.href = url;\n      console.debug(\"Bokeh: injecting link tag for BokehJS stylesheet: \", url);\n      document.body.appendChild(element);\n    }\n\n    const hashes = {\"https://cdn.bokeh.org/bokeh/release/bokeh-2.1.1.min.js\": \"kLr4fYcqcSpbuI95brIH3vnnYCquzzSxHPU6XGQCIkQRGJwhg0StNbj1eegrHs12\", \"https://cdn.bokeh.org/bokeh/release/bokeh-widgets-2.1.1.min.js\": \"xIGPmVtaOm+z0BqfSOMn4lOR6ciex448GIKG4eE61LsAvmGj48XcMQZtKcE/UXZe\", \"https://cdn.bokeh.org/bokeh/release/bokeh-tables-2.1.1.min.js\": \"Dc9u1wF/0zApGIWoBbH77iWEHtdmkuYWG839Uzmv8y8yBLXebjO9ZnERsde5Ln/P\", \"https://cdn.bokeh.org/bokeh/release/bokeh-gl-2.1.1.min.js\": \"cT9JaBz7GiRXdENrJLZNSC6eMNF3nh3fa5fTF51Svp+ukxPdwcU5kGXGPBgDCa2j\"};\n\n    for (var i = 0; i < js_urls.length; i++) {\n      var url = js_urls[i];\n      var element = document.createElement('script');\n      element.onload = on_load;\n      element.onerror = on_error;\n      element.async = false;\n      element.src = url;\n      if (url in hashes) {\n        element.crossOrigin = \"anonymous\";\n        element.integrity = \"sha384-\" + hashes[url];\n      }\n      console.debug(\"Bokeh: injecting script tag for BokehJS library: \", url);\n      document.head.appendChild(element);\n    }\n  };\n\n  function inject_raw_css(css) {\n    const element = document.createElement(\"style\");\n    element.appendChild(document.createTextNode(css));\n    document.body.appendChild(element);\n  }\n\n  \n  var js_urls = [\"https://cdn.bokeh.org/bokeh/release/bokeh-2.1.1.min.js\", \"https://cdn.bokeh.org/bokeh/release/bokeh-widgets-2.1.1.min.js\", \"https://cdn.bokeh.org/bokeh/release/bokeh-tables-2.1.1.min.js\", \"https://cdn.bokeh.org/bokeh/release/bokeh-gl-2.1.1.min.js\"];\n  var css_urls = [];\n  \n\n  var inline_js = [\n    function(Bokeh) {\n      Bokeh.set_log_level(\"info\");\n    },\n    function(Bokeh) {\n    \n    \n    }\n  ];\n\n  function run_inline_js() {\n    \n    if (root.Bokeh !== undefined || force === true) {\n      \n    for (var i = 0; i < inline_js.length; i++) {\n      inline_js[i].call(root, root.Bokeh);\n    }\n    if (force === true) {\n        display_loaded();\n      }} else if (Date.now() < root._bokeh_timeout) {\n      setTimeout(run_inline_js, 100);\n    } else if (!root._bokeh_failed_load) {\n      console.log(\"Bokeh: BokehJS failed to load within specified timeout.\");\n      root._bokeh_failed_load = true;\n    } else if (force !== true) {\n      var cell = $(document.getElementById(\"1001\")).parents('.cell').data().cell;\n      cell.output_area.append_execute_result(NB_LOAD_WARNING)\n    }\n\n  }\n\n  if (root._bokeh_is_loading === 0) {\n    console.debug(\"Bokeh: BokehJS loaded, going straight to plotting\");\n    run_inline_js();\n  } else {\n    load_libs(css_urls, js_urls, function() {\n      console.debug(\"Bokeh: BokehJS plotting callback run at\", now());\n      run_inline_js();\n    });\n  }\n}(window));"
     },
     "metadata": {},
     "output_type": "display_data"
    }
   ],
   "source": [
    "output_notebook()"
   ]
  },
  {
   "cell_type": "code",
   "execution_count": 9,
   "metadata": {},
   "outputs": [],
   "source": [
    "n = 32\n",
    "h = 32\n",
    "w = 32"
   ]
  },
  {
   "cell_type": "code",
   "execution_count": 10,
   "metadata": {},
   "outputs": [],
   "source": [
    "data = np.random.rand(n, h, w)"
   ]
  },
  {
   "cell_type": "code",
   "execution_count": 11,
   "metadata": {},
   "outputs": [],
   "source": [
    "pca = PCA(n_components=2)"
   ]
  },
  {
   "cell_type": "code",
   "execution_count": 12,
   "metadata": {},
   "outputs": [],
   "source": [
    "z = pca.fit_transform(data.reshape((n, h * w)))"
   ]
  },
  {
   "cell_type": "code",
   "execution_count": 13,
   "metadata": {},
   "outputs": [
    {
     "data": {
      "text/plain": [
       "(32, 2)"
      ]
     },
     "execution_count": 13,
     "metadata": {},
     "output_type": "execute_result"
    }
   ],
   "source": [
    "z.shape"
   ]
  },
  {
   "cell_type": "code",
   "execution_count": 14,
   "metadata": {},
   "outputs": [],
   "source": [
    "x = z[:, 0]\n",
    "y = z[:, 1]"
   ]
  },
  {
   "cell_type": "code",
   "execution_count": 15,
   "metadata": {},
   "outputs": [],
   "source": [
    "bit_depth_scale_factor = 255"
   ]
  },
  {
   "cell_type": "code",
   "execution_count": 16,
   "metadata": {},
   "outputs": [],
   "source": [
    "thumbnails = []\n",
    "for gnp in data:\n",
    "    im = gnp2im(gnp, bit_depth_scale_factor)\n",
    "    memout = BytesIO()\n",
    "    im.save(memout, format='png')\n",
    "    thumbnails.append(to_base64(memout.getvalue()))"
   ]
  },
  {
   "cell_type": "code",
   "execution_count": 17,
   "metadata": {},
   "outputs": [],
   "source": [
    "p_scatter = make_scatter2d_images(x, y, names=None, image_files=thumbnails, clustering=None)"
   ]
  },
  {
   "cell_type": "code",
   "execution_count": 18,
   "metadata": {
    "scrolled": false
   },
   "outputs": [
    {
     "data": {
      "text/html": [
       "\n",
       "\n",
       "\n",
       "\n",
       "\n",
       "\n",
       "  <div class=\"bk-root\" id=\"d5604728-f60d-4eb2-bc82-614d940c0203\" data-root-id=\"1049\"></div>\n"
      ]
     },
     "metadata": {},
     "output_type": "display_data"
    },
    {
     "data": {
      "application/javascript": [
       "(function(root) {\n",
       "  function embed_document(root) {\n",
       "    \n",
       "  var docs_json = {\"164ae2be-1f27-47f7-9a7d-6b22c59d0fcb\":{\"roots\":{\"references\":[{\"attributes\":{\"children\":[{\"id\":\"1004\"}]},\"id\":\"1049\",\"type\":\"Row\"},{\"attributes\":{\"fill_alpha\":{\"value\":0.1},\"fill_color\":{\"value\":\"#1f77b4\"},\"line_alpha\":{\"value\":0.1},\"line_color\":{\"value\":\"#1f77b4\"},\"size\":{\"units\":\"screen\",\"value\":5},\"x\":{\"field\":\"x\"},\"y\":{\"field\":\"y\"}},\"id\":\"1046\",\"type\":\"Circle\"},{\"attributes\":{\"callback\":null,\"tooltips\":\"\\n        <div>\\n            \\n            <div>\\n                <img\\n                    src=\\\"@imgs\\\" height=\\\"42\\\" alt=\\\"@imgs\\\" width=\\\"42\\\"\\n                    style=\\\"float: left; margin: 0px 15px 15px 0px;\\\"\\n                    border=\\\"2\\\"\\n                ></img>\\n            </div>\\n        \\n            <div>\\n                \\n                <span style=\\\"font-size: 15px; color: #966;\\\">[$index]</span>\\n            </div>\\n            <div>\\n                <span style=\\\"font-size: 15px;\\\">Location</span>\\n                <span style=\\\"font-size: 10px; color: #696;\\\">($x, $y)</span>\\n            </div>\\n        </div>\\n        \"},\"id\":\"1003\",\"type\":\"HoverTool\"},{\"attributes\":{},\"id\":\"1009\",\"type\":\"LinearScale\"},{\"attributes\":{\"bottom_units\":\"screen\",\"fill_alpha\":0.5,\"fill_color\":\"lightgrey\",\"left_units\":\"screen\",\"level\":\"overlay\",\"line_alpha\":1.0,\"line_color\":\"black\",\"line_dash\":[4,4],\"line_width\":2,\"right_units\":\"screen\",\"top_units\":\"screen\"},\"id\":\"1059\",\"type\":\"BoxAnnotation\"},{\"attributes\":{},\"id\":\"1035\",\"type\":\"PanTool\"},{\"attributes\":{},\"id\":\"1037\",\"type\":\"CrosshairTool\"},{\"attributes\":{\"text\":\"\"},\"id\":\"1050\",\"type\":\"Title\"},{\"attributes\":{},\"id\":\"1011\",\"type\":\"LinearScale\"},{\"attributes\":{},\"id\":\"1014\",\"type\":\"BasicTicker\"},{\"attributes\":{\"overlay\":{\"id\":\"1059\"}},\"id\":\"1036\",\"type\":\"BoxZoomTool\"},{\"attributes\":{\"bottom_units\":\"screen\",\"fill_alpha\":0.5,\"fill_color\":\"lightgrey\",\"left_units\":\"screen\",\"level\":\"overlay\",\"line_alpha\":1.0,\"line_color\":\"black\",\"line_dash\":[4,4],\"line_width\":2,\"right_units\":\"screen\",\"top_units\":\"screen\"},\"id\":\"1027\",\"type\":\"BoxAnnotation\"},{\"attributes\":{},\"id\":\"1021\",\"type\":\"PanTool\"},{\"attributes\":{},\"id\":\"1022\",\"type\":\"WheelZoomTool\"},{\"attributes\":{\"overlay\":{\"id\":\"1027\"}},\"id\":\"1023\",\"type\":\"BoxZoomTool\"},{\"attributes\":{\"formatter\":{\"id\":\"1053\"},\"ticker\":{\"id\":\"1018\"}},\"id\":\"1017\",\"type\":\"LinearAxis\"},{\"attributes\":{},\"id\":\"1053\",\"type\":\"BasicTickFormatter\"},{\"attributes\":{\"axis\":{\"id\":\"1017\"},\"dimension\":1,\"ticker\":null},\"id\":\"1020\",\"type\":\"Grid\"},{\"attributes\":{},\"id\":\"1024\",\"type\":\"SaveTool\"},{\"attributes\":{\"source\":{\"id\":\"1002\"}},\"id\":\"1048\",\"type\":\"CDSView\"},{\"attributes\":{\"axis\":{\"id\":\"1013\"},\"ticker\":null},\"id\":\"1016\",\"type\":\"Grid\"},{\"attributes\":{},\"id\":\"1025\",\"type\":\"ResetTool\"},{\"attributes\":{},\"id\":\"1055\",\"type\":\"BasicTickFormatter\"},{\"attributes\":{\"formatter\":{\"id\":\"1055\"},\"ticker\":{\"id\":\"1014\"}},\"id\":\"1013\",\"type\":\"LinearAxis\"},{\"attributes\":{\"data\":{\"imgs\":[\"data:image/png;base64,iVBORw0KGgoAAAANSUhEUgAAACAAAAAgCAAAAABWESUoAAAEK0lEQVR4nAEgBN/7AYTXNtIuqvWU1og2krSh0zSKk0CCJ0cdkCEon3pXEytPAaxPIkOmnhRMLXkdpf4CPa5Sg9XPtcBIKz9Hj2o4L+wnBMkbKWvtSshKlOYgHMheJOylQBRGyFCz+ZAXyxaszan0AGicxCjlGFemNzXD2FNaw4Dxuj3lzijAQpkQ06jnWIsTBKP73hHKYNMt0m3u/Pd9WPbs7Wwkof8tBc5ymBZKjLPEBJu5/cwNyfKgrPk15143LcCmqDjN+StaRnwVk/cv7gVrBATy+oILaujUgc0VUErO9R5Wg1YW7k88bsZXC9YMG9bnBKuEI0w0dbzYKfmhitOTCLC5JzOiNPvmukwb/ueMKcgLAikcLgTngjAwHvb+UeeIe64owMp40irdfSqMXUFzv44JADbdYCY+WJVaFcdLp/FTQ1q1LGxN5/s4pxQW/DE2DYuxBMJM8ZwhTQpRD0+xLZDNGmGkCvfnCkYrIlWpwb64n6nuAi8Kc/z60QOKNvLi4MNRrSGeKh1pSGgrXgjPRDQY3pBHBIR9frdNqH8KY+vIYf8kQTMcfRbE3g8fIiA8FeYDMMIHAPnvViIDfAf25uVCOO56ze8BU61IUBPh8wAlMzW8SLE4ASwfoBhRBj9eD3kypBzokOrsNSw4O7AYXQOBhMmcb0SPApH7lzLvuBP7joPaJkZERgzp/shN+27Cr5jSMh8vvn1/AAUWzCljDPUzzyG3V6fgt3jCmkYDLHvfLO56V29sg+cJAEmgTmrd5l/hxCwI5SEXjP5z8sgwaiHXfg9OUB5vlQk7ADLaROVMP7E5E1mUcvqbd7Mk85PbqsNrWPTDx6xfKcDhAe9id5iAHYslSrLC7DE2Zh7x9Gn9ubf2nPIcXl5X9fwfBBQOTWtsByZMqH5J684RQqKt7C6aKniC6fYrNvwPKWHtBPCEbEmrqZK6Gl8BBOF0UvvhYnQOS1qAJ/pJGBm+m+QHAq41LTplKOoyLpcHhogtx9CE2P6bhcvixRcepgr9rkVoAWRRQsjKbwXgBc6ZGLw/j2cBm2kzrkHa/RQG1yV9CUEgAblOiTpM81UyRlQjMiI9YR/Ud4yem2b3g2TIOgjuvs3fAYf7LBY6Yy/R3A2qLHjc1gu4XHOp3j6VFCcaBzALIgGmAXv9JiQl3qgK+9Mg4LvDDXPXO8gMzkhkBJkalwO4cDl7AtEPnNbh4ZMsWYgsija99vUTX4YfLRAdZ+DyPKeOMZliAa38NvQ1WxW9NQCsTOqeQpXAzp49WWxXSTOXTEbOAYR1At5tSulfvVZ8MUHNvKKcSvq2HESy1XcRPwwZwhxLpuZHAErU4pYmYApd0fLy2SfKZ5737iDqv+Bh0bjl0un+v0v6AivCFixKrgI1jyuOmKj1zaj9OCnpwEIxMqRk5cbAJ2E2cuftqkv6uGsAAAAASUVORK5CYII=\",\"data:image/png;base64,iVBORw0KGgoAAAANSUhEUgAAACAAAAAgCAAAAABWESUoAAAEK0lEQVR4nAEgBN/7ABrFtBhNg0izXPQLGjcDBbLV858iyqhKFMERqRjfyrhbAlPQKMtlDvO84gqh2Xyf4QHGF+x9kSs1nlsRVadRDTz5AX7oFozKPejFHzIC9enAtL5o8XRUS73xIQkDQcd5LvOpATD77sV+0vlnbut7URHCBifaJoWxKG764DGeVk75ApjEAk9UkqlMxf0UuswjycKvXtmrMmZpBjyYNgXVt/9F3SuzAi4KDqI9iZsq8O0R0HZGkz8j2fTqnd65z+TwP7GIKZwfAIuGKN94JO9QM1m0lJ1eBWEo2dCDyfRAIepHGKgSoFSMAlWHqQBxSZTVWPxG4+fdyz7HrtnE1wpAn1YYhiU84M8YAhEscaXI6l43w8N1XbmvNM/iIJolUmPuvfBFQDDAh2v7AXn4aF78k9BXBVAsR7bKZ64Jt4QM7qxFDUq1zjgpnmb0ALrkG9mXb7mnQXbXecz+P+mST7f+pSQFEaZIY1Q18lOYAfumLrXI86kss6VXXFIBwBPw/Yb5v82eODpzE/N6DpVdBOWrA5EPDaHb/ySP9nWR/3EKBYUhuAOiD9/94ui8aTPqAm3KUL83bPDCTf/1SOlsE+QNRWiYd0MbDgxjKo5B+SrMAOAb7sAI8xjQE57Y28UY2UGWVZ6ENIQ8opud+jAF9rL4Akb95swbJqEIO9Eqy3/OZOGBcu1sYf8XZhAv60a/bHHLBAgffbLCWM6nsw+g9267MkCQxw3oEYWj6voGETZ/6l/GArEJKgQ0x7daqPoJjcmi8K5BBIfr0QpPvCUzpDBjIA5UAfcxUFXPSavcBwwjRFTRrPwUFqi6ppkktG6uN9nGnm9rAXRPyvvQHAsaNl+neTaGJxm950Z1TZS3EjjhderS/hH4AVlPAbNZXULRjgSysdWdJpAFRj/1QtHSefthJYHpqL5dAEJ3wVQpUYgq/qkvEJMnQewl57oCb0XvDSEhGb3gYuZkAhOMxNHi+n5cvUM1JyQCY/RLDu3fUcGtYeDdQ9rbgsGaAUijCPDoHbbf1v4t7UrrQV+ZVhV6hyWvkwzzIeMxfHNABPAVvl4+V7kR+ku4EyRyF4yifvW6qdZEcSypeMLiQhFkBBM21F//j0iBVGkvRnsj1PAAQNjG2H2rDy4Dm7oEKe1OAvEqlj89vcZdteIrTJ7nv0tB6CnbAi6Qanbjs6gYuE/gAOb1WuV+/SKbKhqjIbIqtVXVN6DtfFMdFCJ0+SLW5VgkBPZqeCk4jvwuJcFapbtM5bwDW/gvE/nnuZx97f+RHYHaAdYZVAuPPxFYlL6ATNtQlJATEeyCPxyd5B3LLwgyaIqyAdgoDngTwzc2yc2ald8Ky2pCV4kmfe3m9aHSwW8IE2tZAbZxOl8LcYHBA07LEroS5t/zgzRZAhRU9y8fYvSjzgAyi9X9je3ook0AAAAASUVORK5CYII=\",\"data:image/png;base64,iVBORw0KGgoAAAANSUhEUgAAACAAAAAgCAAAAABWESUoAAAEK0lEQVR4nAEgBN/7AArWgELTyV0Sra9SFXviyqo4Ki3PMxb+xSo9Kwb5Vmf7ArE9waiu/R2Dwr1InxCk10gv3DGay6Xvg//AOioHRPxBAmlRWQlMPlfd+IXd1wfZ3LfaEICrL5Xf3U8YDYcmtSPzAGI4/nvXpRC6+B/riCjncLBm3UFwZqO6jeVVP3DW6sEDAI2T+AQR2bCZZ/dcCBShUkmNQFHO7TrgGMkSkQ+44vXOAhGawaum+oD9zNjuwriXAPuz5D41nfaxwyxQc7ARaJ8gAe0AzLStEYH4M8CQEAftFMEYUf5huZhOBgiQMh7HOecwAvGFkXXX4EPOCvop2JnfGWrrEeCL6w4CdMrhDnDDNKkMAJH9/d6CIQ95cgm9cJxwLnwBnwXnU3keAzzGzQb4F+2jARr0AFHSrgCbJt14p1Ft39aBWMtrfMuM2PPIYL7MAhplBKCYbWiWPxAcy2fY7PQJtFjFpgUSO8volMIcG9bWoLsLACW4JlFXNY5ksPxMvDgUVDuwCk0PxQ9cvHL4W3fQs8rfASUSLlmkmvDxpE4ixfnfFC3rlbyiHrZ8AVHYOu/fO7lGAKhXkiItzXZ6QkbWKZH5CFUK0ifscmQXGYLLNSxu3cVVBCkpVNyq3JR1XNNUBQcMMrJe+BPJhL1D7E8swVDkf3IDAR1vXeAzyDhjl93k0koYmfOrXCXvhCDFQqtbJDHiL6HCAKMnmQcKKgXxIhDEy3MUEZdzyCvFOJ9U43rCY7gCC3NvAZwnzOkJ3U2l0eY0d3csE3hd/40DGhLyROarstkOQgw5ABXtpgvgR9oeNRSQteDZSQC/ijAlY7TBCw3O+A11wzirBFDn5LASiQv56xeqBk1jQDtBsjNNSjzUFlIY6xW5PqdiAOf7Q7Wt7o83EFed+m42BNeBgKflbNJxZp8q7LNG3nOaAim4Gc1j7r444+or2yjMqiRTb/GwzCjyx7kOlBL0I/Z8AABTvxfX2FDAZPJF6kYwnh1EDHbSnbCWoQONwgKzHlKLAHXBB6tChkfxbCaoBmnCuN89jX76Ld8zPRKhBjd8gB/sAke50oSdFueFisPr2DLvAvRMOTlK8ougLlHYzg1AKj8jAfvcrrPynr1g6kE4/vXBhvfluPxywD6DdSJkGgwI3jiTALnkxx5m4rM7AO3WnaC87YdORKRkOyvxnDYf0HPws/wGBGRDV9EI9OEuKGgydVlNRQrCGbIDhuwhIpa7dJTl6wSYAAIrExQ2+yEJroqtQsCl0MjZZB50wifdeSngC2EhN8EJAk28LErpDhpggx//Tdtm/IS8+mg6jkfr+BgxVOhtkqNQAvjHQi+s5nc80uCoc0ltJqLPffQUHvBywkSaDNYpDbL4AIiBFiSJY9WzcovZpUgt+S9FsiK254mZ6mD9CraiNZb1S8f7nQClWMUAAAAASUVORK5CYII=\",\"data:image/png;base64,iVBORw0KGgoAAAANSUhEUgAAACAAAAAgCAAAAABWESUoAAAEK0lEQVR4nAEgBN/7ADoy0/AvH2MFZKV72wf5p0dZlwfbQ0QQN3lD13wA1EopBMyvmhoSeim4FdRJRqD1SRPBtBEd6uAxnnR4FNir953zBMF4fA3UEWO6xEzvECtuXW3mKWEjPEl9MaOmvT/H+egKApc5SuYcHgwjz0m2Iz4MI8cuWElLWi+n6P12VZUXfMUNACS8FHXyE/YWz/NwqJ4kPxvoPauk0eYs7D/q7lPE7J3YAmdejz8Q52YvykQBHYpuKOFtjPlv3D3s+V0oxu2bfRPbBNP5efmxphAYcg0D14CAv6rswy4MupZfFKpSRpcM4Dw5AFNSh1C0iMFj327g5Tx+lEXWKuj6KeC72Q2cruLgfRBeAkOwWfzMetYk0fw+BQNcBPf2Ztre+N2dJH4jw2fqfy2VALqJat9MF9+MTu3X87lnJ91blMUXYQnJ61gPMiWBIEH6AJPe3C6hjMH0a4ZDwPI+IE58BffRqKps9nbd81XyzZXUAIlO/AQJTW4JU72zhPH15an9Wd9SUrCXiDynEUcsUAbLArtnCAByRVO5BdvT+XL2yUQfswkWGCXzRMEII7ANIXA4AhGI3/VZ71EN0dmv47bmHIC8S+D9V10P4bZFsUI0wdmtBKYUs3gxcd4cT9uF9iQLJDC01SYrvUTQ/p27keYrEyWnAk/xvgsUVJLCmoViG68G4zI6M5nUQR4jp3c79GnMAsaJAbZzrsvt0ZLvNTFxo9EVt0g7ETD5sSAqbBFqi+fqbLnwAvQaNicxMF0YPy5XMWO6YU3tHQWq+qkHtXcp0fkVU8NwBOZ2U7H/oMGKrygDIHak7/jmEUyT2B7wv1umbwwJRaf0AvWRVWFEB2X0yBa1659es/gQRH4WOfxd54T8Vh1oIPqvAkPeXFihipOWAwW5pb0lk/OdiBtWExDrfQTjDidlFIWeAUzAiOwByDQfj1dFhNKNNbr33NrQ7CFDZEIe+y+mJqU2AEbAIZCWPSpS+rRraxPnWCNQLUmJvUrnAf0VU/FUSxCIAbP0RUMVEIP8g2FUE4vbJxOWHoS+zxV4OhFlQ9TKVTziABw0MFTPvJpR8ftmzeTzr6wbncPfVebMFMM/tYIJWzBcAu26bc00LQgzYJUmWhIgxO3V55z5cTeLoERjAFNcJBR5AC5HG3D2qfAaK0s10QOrjnocuB8z9IAXdBaJWLu2F5Z3AAp3xluPiiWfFM9GpKQvA2CcCkRNtidRGFkNhwjLAjjGBD/Ul1YLyKfhBMjImkPLuQ4YMqpdnOM7cwsq3Nm0a/Z9Ahd/SSRsdHYA9BK9TSjzMw7gWg9L8nCUIKacM5Yccv0TAT2uXxv1IdRhz9CTC50i5X46yBQPEjfoNOX7RLvclPezBBdUx30ZFSWreAfIspPF98yIPOzcm+0FtAJbPmAmKwG4/kztEmfv3DsAAAAASUVORK5CYII=\",\"data:image/png;base64,iVBORw0KGgoAAAANSUhEUgAAACAAAAAgCAAAAABWESUoAAAEK0lEQVR4nAEgBN/7AWyn1sLc05Kq++thQzUk+hESAGYgXJKNuI26gEdQPrYTANSKxl3nJ77aBkg3TqaXDkLFyaROr8deOKaXEfD8cf4aAvpOnf5KIZgMTxFHMNSfsAemQ+Lo9XMKzrwLJcSPooDHBP9G5DpezRpjR2qsm7oG5jYm+KmoEv1znOHR6QP2OWLoAIuEBpQqadJxfNvABQeZAbXw2Oc1yVTseFz+kcvb5KkTAAFnivw6AZKzQC8I3B6V6itqF2jRkFQ1hs/uvIkEYXZEBGMTX2IXdBtIN+bR8bYblNNbusViRGXJf/Jkjd6c/MEcAL096+tC3tzeCfW/FkQ1iYPSZdVRx8GrjtQLd5g1I/yrAfaDFo+L2gZ538ahDdz+GBmljcNQZH66eIgrUeziOVcbAbpb7I3+WzwXK3naeQwICAwxrw7Zx7zNWxxcBbBNiOKbBPZWbVQSIRgny3szJU3y2q383+rLY7lNVCtFXpzuXll7Ahe/ZBDuDed45RReKNUA7iU1se3Bl8h2wgpHQfYThIdLAPXkVfBekSgTisxuBcugki+HLP4GtPYX+CxCP6pg49y1AdS0q1yaFKK9SmuFes+i9/kDvvvm3pQHCJm+OW70eMx5AtdjKjHuiRjn0hiCdAfL7nhKpIrUZLTT18ZIprIdkE4dABHYpB0fsX/9WYWh8jXt1Z7s9WUjbQPvGhS/Lu/FIHoeAvK8lOqRkXP82jmJLAP6LggNUTP+SMsBLl3EnAYNcAg0AnEYLBEJEf3rCNITnvEibc7kCVbp2FQpd+g1aNIm2pn5BO/LD7TAu1giFkCncWAC+O+WC+W5/wxFc/agCd58jBriASbJkRUXo4FGddYl0mNXTZDPtxsU99azUzwyp3/L9atHANpS2404ycT+nBtT1hrFmzvXHAkR8DW0X7ozNVZocRwFABOsuA2vNeD6YjTAsb6jP063wx5kQI6AvPr7E9aJy0G/AQxy5cm3JbINS01VX7bsMAnyN5ZirbpzqRy86wDxKj+wAHD2swVtpcqbz1rWJEDCLosWR/Jk587rnRIjC9WAaeBSAKvzlz76svw/ayE6adKkKWlzNT8/tO/cDOKFuYP1MrHMALh35u0VzRU9/BzElZk0ta89posEadOAyLkZxRGLwhXnBN3QbAubeqLfVrmGJQ66yBMGPdZTVHysIV41sSNJpahkAvnnTsSXdYXFF/bwndsX5F49Pe93iIpwOTLnnBPhknTiAbvP1Kxb9fabp7Vbyfg/5ewVedxF8O8SlDSRAWx/vuEDAhO9ZEGsVeR7OebDTSAa8AkG8UpbCgP1muAtjrpkMDl0AIc7PvgrgJrTlFEGrG34AE+yqJqZ9lgPvETIKf0xkV73AvcB0D1ozs8//2Elf29MtxyiqYcEFbizqC0B4VxUO3mNgtMHcjNabokAAAAASUVORK5CYII=\",\"data:image/png;base64,iVBORw0KGgoAAAANSUhEUgAAACAAAAAgCAAAAABWESUoAAAEK0lEQVR4nAEgBN/7AUxZcM6Lgdd4BzoMC+jzLAgReEg3/RcysfUK22K2omdGAMzmgmerVhmZwQu3Bg3av1HFRev3HAIRqG5hQ9I4ZQMxAsKEUvPxhxoHfjMmT9pCrxc4pOOyE8FncvkGu/QfijxhADB0HbdTB9jMsF7n8cWuHEvrl/LnLuAXiDfr6Wi1DAvqAZtSB+S70v6T+zKakou7nRmyitoY8wfNsebjSJ45yxukAOE+zZn0yStCt/EaOXPgiu6d6AdGnepYHwUIBuKIBy6nAt0aKzo98Ya6D86OvlrA6RaB2Ywb9KYrybxKzP4u0hAIAOmRlBHR1Cm+eg/O8kbe/OSRvPN2zlJAQg51wxHSHrMgAUcdyBgYgXJe5g+R4OouW/UnYJLgdOhcC99ZwUkWEtHYAjUYzTg9TWzI0TL51SxIIZIU0zuyyODF4SnXd0rC7KbBAN2ESgfWbJMApiN6SZIAHnQm5wBq8zX1SMk+mZV1nTFwBBk7NgDS6mD0HWyuIlYF10VTrLXbkAOagDxM28N4bUGFACgbDcjudJyElwNyqOEFXjbrbckh5A+KEd7gKebDcoUyAtbhuvxwcX4Nar3c0g5jeRNBjtwKskXq8/1Ck+CZHQBLAfP9EFWkRLrcrT6h/wVxYXTjCmxe0FweFX+c5Hm1LGf2AW/ZKhqF+HHqxaVjyu2u95QAWxuFrWIDPq0fiSeEdbLbBOGZ52sO8fTqkfvH6Lciqa00bnqS7Qcg1sUmrMiigAXBBCzq5Dr/EesLH4u4ymckuFJ8/URuWEfZcKU3LSsXBHoFAbgsz941lgR99a78sjbN+os9/3mPfZoq5ATm5wG1HUqiAbLa00n7Pnnx6XebPT1Cf7rBedoqE7hv+7mGzbYLJ9C3AksR2TfjgVMwKRSRyAQZFvPmsXRsD/DSJzqDstXGNVoJABQk20AGjH0iJ3LgU1sfqw8sAVWbfaX0WdK8+b9DUqdpAgy8skwfF6r1huX5BjtYFVGtLb5ZI3RiLs4GVR7GH8FAAasbLe8mHt2bzhHWbSq51cResFFPpTOwL3OkzMY5KXfSAdm5/Dx+UK0zq/7xFMMPZIcucAsCQmToY1mazN2yJDhVBDSTUvanRdYPguDkJbwFJuh69fOc6e6DOOu/P7Eik6bzALIHJTTnCuOek00aic815efudggLohawL6hj2Vv1hAUHAiG5LbQZa+g16/u2utvFQvUlfMYv9LbQw/XQMN7gJZSSALXCeXXRsPNkPwQqeexD3WStbRzeVEqBuwU5pe4Nxgk5AOF3TvucSqm1mQyIFz9+TIccIssR96HqHLJx0CgN77scAPhbD0oqdPUC5BsZWbscLMgQZzcISTuh1hvtMWJ3DhdxAYlR+adXGZ+/mJp47d0UC9at+k3z7tFU11Bb05YJHhfSox39G9wyw4wAAAAASUVORK5CYII=\",\"data:image/png;base64,iVBORw0KGgoAAAANSUhEUgAAACAAAAAgCAAAAABWESUoAAAEK0lEQVR4nAEgBN/7ANriIvWmexrlMCPUMcYcdMv419JciJzozK5fj9ViHusuALaMCztKG9vntwnFAsoa5X0p7duVCd71osoNfqs030eqACS9+8/+vu7qhw+e6DoowabSKnkGW+KoHexUzBekMxGDAbrow93YI4kKcO7HmSjLAzxKLFS3lwliRLbZsvgKuV/cALL5GcC4xSGgelaXVgX+r88FYtmh7B9TQ+trJKEUeqj2APnv2s+J+wZZ5a4n5fY4izbMsV4B3NRsE4DKruAeeCe2AN8yunJOBcotf4rZaOL7I/DbyeAzRm9411nmNQeP5H+CBF9Csp2kGI424RUnqdA9BOwv9IBMOArpPnXsH7YWBiqBBMo9NvVe+Lvs3dvLCST/N5SRPxSNKZ03Ez2jwAwcfWivAIbiefmTUeofFyxoDd604EcGEhcx0+3MOCP6IsjtI1eRASYjeNQtEjCjNWH4VfuFr8Q4fZxWubv0oRGdFI7eFmMwATIBpevvS7AARCGv+XDtPTupmciX+gu3G3b881u/etk9AivQHQWLIB43dU7bpTFScxQJkPNG+NK/szCEfFcIHc0vBOI00SisSuWMZw9V2djjs9QrJTePI/u+XNYyv3we7PzgBE7IhufiXEzipQst4+MTFSQSUkpzas7SgsXv95HG3dYYAPf+dbWiWYhGuaPVjAtAMHXFUgwvtn8d3S7GjvDZO+vqBA9Uz+dujA86KQcN3czlIPaa80zqL78Ya3Wq/gxVDNT1AT8Zxu1aV0KwUzkqBC+ZLRqbdzyJGhbktHigH2EXQQoJAqv1F+Sf9Jj5EMAsrHFCF+4DZ+FWEa84jJ2DTXu04+vkBINZ7RqCouhiLsEQAI5gPCP5FNThHQBIAjxy5LLJl6BBAqQYCpyLrD75vujiiWgXZFaENVTYEunnW8wFnhIhJXjFAkFuEuUd8mMmk1jD7VtGGlmHZajB1PdvIR7h6gCMMBdnBLhu6ScIoK/jvxWQbe1+kzsBgHnSKb7oE4btIboMxBz+An/RSrcQ1SKEYRoKO1Ud0j3b14ueOqV2HteW8lLILwVpAZnMz4H55c8lSuCU83r7jwwbF2c1tlsvwUvsCj4dPYRjAWYP6ONORpJ7sZ1xM/+A+XocRLX/kxYdinStlBRM5M0DALrOM/DXH/E31W/A3NfsU2sL8L1CriF0XQVfhDin7lB9ARP0w4Q8QXXb2CRcruDJPVw4VkSss+jhKEaQ7kf36NRLANiQ5BQGCjAbRDJxkL09sutagq4CmVCw3CKMnSpW5ikWBJUE+Y0lJB5EnqjePvK6L94gQ05opg3+RAWrGvumqU5eAaBdfVkXmf+kIEAHB5S2AfZNgBTfG5Gj2A2pRmYkPjOXAfIxU/lol0/rupmCrgpENrwdwn+FJGUJYewTF8yb3LxmXJ37dTQiyqMAAAAASUVORK5CYII=\",\"data:image/png;base64,iVBORw0KGgoAAAANSUhEUgAAACAAAAAgCAAAAABWESUoAAAEK0lEQVR4nAEgBN/7AGDQddzfy3usBO8zGK/402xZDfinWy9HhxCU2MeuM+HJBBUzKhDV43E9Gq5kHuIU6CPupryIlf5WoLUVKIIiTozOAPvvAwEWJotd+LU4Ig0jzZ03CM1fNVsJHsh9lb8ywOsXAepsQ+bE/DCe5C+M32sNve+1V0imFLARapAV4VpOJt23AlVA7oIPevDoFoAkY/Tp34Yco98EZ5AYl6gcQzztJbK+BCPjmnVwTaixLIruiiEHzHY4xBKIu0Jg3wfCC+35+iuIALpS0meqFuwFdrD8VWJ19IGXF/P8+zI+qIf4l3VKSQpMBKVNKkIoBg3YnDnNlM2QUMn35gfjITcE473wAqcP36teAeA7T5KMw5JtU9hsxYkwPY07t+NrwyR+vQLg+DkD68mtAG5pkIRtlACiQ0bo+SfFGtEpqumXNvXA3JHhT9E2+KXDApKS2M1WWcArWLx9/Oq+x44axO/dQRryFo4zU5fz57jPAMrjRqMAj27svbXMdpYOltEeOI7TPV1Rzp7rfNhGfxbkBIVMLI/xKMy31udSIoSvSpZx4gr0XcMMUEQX5RqzT7ciAcKEp9m8XS1oSMD2El1+DCTq1khLV5pLmA0gH3Yy0qjQAs/gGVBeyom66AlcytbTxR1r+nv/zBwguWOglxl+2SkBAvgZmcJ/biUbKWtG9gq2u8Gcbk2BwhTT443E1zSXtwXNAjXBuAkbHpGwK5vcBqnUrtVw1lPJBR4ZNXWnJKuzbMb2AAhBfmbPJYnqA/eulQtgEHQV7ZLBX5P2ftL7HbsXJBReAu83NqJh232rhSohKmdBDt0QzQIMTCwbRViv46i29IFLADroDFpOJcQwD/0tFaslYo2Eqwh3rKx9v+s0l/lM8zPqAdCzEUrRMkskCOmTlZF3I1m+xO1EbSfWjMMNn02y2UN5AvZM5h5jyo0dZcKL/EoVNNa5d+/NTHALeWlFDIoDw8EOAQVDJRRfcKubPwS34wBHyauypCJIeieOch0YURYu8FBLAJH4buid2F80SNzX8Wt1tDW8kXzjtDe2uOju0L2RHz7+AAUodDO2GyKjzBHCcaYBrYlBNLKKy9k+RKozeEkYK9ntAIGlJJ0oLAH50aCxVbTXkOrk6MkyKizqYiA5MdPO9qtfATDqf2PU/DlSEx+oYxvrhz/xNwxbSz0kz1TQhb3nU5kEBE9l+jFHfbQSecxeTKL+5WMbH/EgW8J5efXpB9viVdyRAFIds8lT0IY77m0aI2hyDAb+DhhgzVYcU+nSqQhUBd0hAiGiC2BgHvQiW4H/OkXdh8O2aA9/02v81Pn4kdAB6omHAGnyYgMz0J8yYmNzwCDXwCZU1DfoSnIvRKf98VJlIADLAPeFmr/nWhXS4lj5sGqP+vKB21arjcL8pnZCATfA4DrXzGYAMzwOnMMAAAAASUVORK5CYII=\",\"data:image/png;base64,iVBORw0KGgoAAAANSUhEUgAAACAAAAAgCAAAAABWESUoAAAEK0lEQVR4nAEgBN/7ALMxi2bixEWS3wACcKR9Rfwe8binSCFLtQjiP3KzM2PLAC+r8BT8a9BEynX64CC3qsgCX/bZCd24Ulu0e4OfBAJwBLGgGlU0EyhS0/zaEcht9NA3AtEg/LcoOHEllYX2bkdJAB+ED3J9aK7Uth8JYcrMvVPVm0Bt3VdAo0Px+8ik4vxGBGmfkNBDIBRkCYZnB8NPqCv64YF727NSl/LZqazjNkY6AmqR/9Pv6lyhSXFY+tpf8Y523G9MKwWF3yc9+rCW+vVnAcpeJxk4tJcDYiFgh0UBiEwqBJp08g+IThCoICpHeisOARbFmYy6Rx+NL8a85blCIgkn5TcK3nXEuc0WUJEG+0TeAKYF6kwiPZEsBm2dpuvq93kXJXK4E1m/e5Aftb/VLNrOAvY1+jWS6BPxWl/VsN4UkFM0H9ipz1VjzvcYH7UzOhuVABQMJvhv4JUMDRMHSC5mM5TxJIYP8U1fh/xJJROAcz5TApBA0JyKNwnd+Rc1HpQv3AL93TNT2TyqhBPu6+rFBq5UAY5cMWnTI8a9+IYKQVxtLzmz6UnMnte+coSeHC4cRifeAOOkhsC+sDjrau9Kgj/lJByo69MCbPtLF5kL4UwX5sWVAof8+XAvFA68GEVVVwcGAW3Je/jZSZNQz0skQ4g9BpqGAc+CXwnP8zB2ImjogA4hbx8Dc9MbfE5Fcy34U91YLuwZATpnTN/r77Ga9rvPHvb/hHMpCEKNPm+3SBngkEO0r5DkAuLELT9g663siuShxrb/DQXuzFvdrHQLtXgji6EO6ULzAJsnugfKAuh1CaVzjC4DeAmJ+1cKOnTJq/jA1gRg22ToAM4eDGK5M5PeHjoavvlxMxJNdVPVQ+LcUnHc9r0oaqBmAipE5gweGRFAp/wCzbXniYdxwXwZDfIUzzyoVMRj2TCYAY43+DZaJ1hLQtwHgA8VZErL89057v7v2BM/DKhTJf/VAmeO9I60YqKBJebX/8cjHnLiaAquVN8vIBsQmHbaEsalALzpDozsIH8mQNd0UwuoKfuTuLuSK9lLtTSjUwgapDipAPcHhGNow+MFOPxv6frc9G0KS11+R6uL7d+zVqYu5vKjAZyHHB9m6NfYbleM71WDCjr6xgWfoDxXxB3/SrySK0QPAPVlxD++r8bLCCdx3TFsQGDRCU1rAHUoPAZ0xM1jDtkeAfrsjRbSnSzxHDAnVRFqkNofOY/2/K3SkXjgZPpHRBF0BH+lvQ3ivwyFyc2VEAnHKS1nXcFZXy/NOfCL5pA06IgEAd9l3XIBHhBT1xVVRgzoj2kKBbh8HbhItdSgDbkpIgcpAE9fJVVzL7Q9P/OXBM2pMggIQUKkJk8z/sabWOvC6YMdAUE5JZVVKxtUeB4hp42yqRC9/GzZBBe69VQ/KnPtddcFZ8TtA6exNXEAAAAASUVORK5CYII=\",\"data:image/png;base64,iVBORw0KGgoAAAANSUhEUgAAACAAAAAgCAAAAABWESUoAAAEK0lEQVR4nAEgBN/7AREgXoPf61M3beo2ug45GfHKQrK4/xiwman0/EwNgdTdAp7xN0lOvuD7Tf02ME+qvkbQxKvqSumcS3+A4bhs/fM1AHqYqhsAAWiHK/pZgPTCsVsks1DmseTorR7Jx/jW2E3yAQqRrTiOzNBRxpkSElEb2Y3g8JyrEPOfI7497QNfWWOcAp9JreBC385IY1SHCz5oxVqwFZsZbucE1+fs2fne8FBAAQ5WDaRgo5rybQdd2MnoO2CQpFhGWpcqf0koLcDLFTWvAQD2vQsh2VUN8Yospnn0BojZdvT8VhDd+K8m1wnTLo98AHhM4nI7sVDA9wJCMi3g9MAiYfXCC3D8ROrwqlEgAnlTAL678tsH5MFRaCrC/joC3nEYJUsN74m9QIJn4IlVUtWwAYjV0MEbPY5hbkvlmfF4g+a8vDXbtgDrwT26tB34QjTnAIXhqF4bTvMqIsBgLNdM05Uz8lQIEdHe7EXEhV8twUGcAdcZgzQyuBkyK0t5w2KR1KNJQwH2JB9MYWJpWJTeeRPBAcaNaBTLV/a4AyER2vMsTNM9vRQtTcwnVO7PIvPQodrjBDAkHoiFGAXA168RnrCo8FRTnLIRq6oBv8arVGYJD5yKACpwGidsoY71rz+Xmr8CXpEH5uQIVBFRrnQJYaHauCbxACRccEP8oM2TF2UT3F608hZm81O/DSWJx8tFsTgeIdTXAbLlS0WOw7AmirVQD3Lq8z32M0HNCYyydQmpyRKUyGqwApddeBzzzeBILVtkyDO4Mzy/i8SYEmaZLVqVGEX8vNUfAS9PvML1dGTv+edgAoH7GC8RoPeOe3MPzFht5rsKfEDkAH4o8n840qA4UbSONMJXBSOE8oa4bdZZWlsKyxl0/fo0AQSm/aQw21DSy6eKDmJc5BUiXAOj+r0dNatIPCNuRrWPAHhPz+4fy9LJpus7QoPfF+IgxilAfhxO5QroRFu4NaK3AcZLiqkSMmNEpOOMD2P8Pt2gjcLYl4HV+sIQavyuXKG/AOWRHs2iWzFhHJehJrbZOtGsCKo7j94Pq26/cOxl4dzfAIWt92tc3l0GsqTE6Mo4mm4GqD9aiV4OE6ZB5NbQnjhIAR6tYvMoTIix7qlX08cK9uWbLBgD2+79YPP6feYNA08MAhGOrb8G3/8mW3+j51z+nfUZFgxcJjkDrTGL5iBOKpsWAkFGEdAH0lFk4qzUjBDmM+Nj2GkTQfCg7L3/caz4NT9iAjbz4UzhPUfpbE0sxA2GFPbfKokDtCqI2bMmVaMh+MMwBBREJLXSzU7nRXVsEo4RLJt9V6gB8RHmWPN/11sRUC5tBDxEtmjbNC8J3SoLZo5TlvDxQG15wPIGJ6vwmRp2shcwAll3xTPa7ySAQ2maxLyke/46Je6/9OEvwXiNIYd3y/reeGMFVGGTVwoAAAAASUVORK5CYII=\",\"data:image/png;base64,iVBORw0KGgoAAAANSUhEUgAAACAAAAAgCAAAAABWESUoAAAEK0lEQVR4nAEgBN/7AdTJg3sTP7nLa5iakDNbGiCFsg6ug8H8P/mmCZl0CkFgAJOhhN4i+WwQpwAD1hHF9xYOGI/sMN7zXP2RkAetTSbnARd1kr+GNPlc2nJq8Bjr+hKwEsf1O8gjmncNgpV1G7iuBMBXB0wV6tUy6bR+F044QgEkXftAHzkjkRVeefoEJ71RATunehRc7zLbHeHK6F6skT+fZ3xQPgtT2jW2Gr83bO7GBIhH02BmSQVFZf/0BcxRUHj5tTK9XaG1oAQBUn8Id+biAHlcD7sCoOrCgIwEPdFYtbQ+wtYQN+frAt0JkKe/zALJAi8BDjjdRdad/3HEPwLFmmfrrMjrI3EPV++gpb0yb48eAmE989888nCCTyWW+v5K6r+uFJxy07f8NzXREfkR/zwJANqGMntbYd6Re/Ch+mG1KEytNQB2ywijIs7i0liVRQk0AvCjYZErr3P5PfPFC+ZZ3ZJwvpan/n0B9xZ8zSA3Oy0hAbT4Hf/gQakPITIq90g35UafMv8VtEXwYNJqqq3UA40oAozLAps5pxO8ZzelWzZEpQZE0Hj77xljYpyRaiIWpoVCACP8Jf0ChgnOVwyVIka4AXDDiCq0J/C4YN9K6LbqWGPjAh6xAMAKVTE01s4KCsY31QvT7+OjaL8vy81Ibb41Nk7PApQa9a+3N/xaQ9in/1L+efsUQBLH8YS4cY22PZX/ztHTAH0Adti99abnjtOY7trQtRAuLDsi0ccxMoe2T+xF8SWvAiAiGBr6pLwbQDhNwp9PSQbvFO07FabgKqLNM/QhnTGiBLrBTuYvWwTJolXXMhrqvUPPuZRoGfQ5XjZRZ3TdDyxIAWnCjgU4fbqCvwkKxSPlCCE644heFXuGcLGX6T+UqNu4AggM2GbinO7EnFjXLQaZ4zKu98uRQxYw9LxVygQPEIKPAgEEFf5WjLKPaBuqgRMKE7dSxQ/2r0ni/N91FfSxVScoAIub5K343lYQBOvhRNNQsuqMmlGzBuCQCzoiXGf+8JH+AMfxUTAe2vQzHN1sZu4slHJo4fxNT7L4ggFhbTx/qeoUAJzL04vv3loL65kB/U/t23qeRzGLmOJyAUf7rcA2SUB+AOBfPsm3dJU1rdJHaOHCOh1K4h0ZAd80tjBsY2EeRSfkAvbiGI/hYYqVIWdDiqES7W1uWhL7mYuppQm/9SkW3P/XBIJVxTiLnvQqsBsefqICc0UYVUz2Khc1AstKcI4LVPgjBPKnvkLDzdfNoen3GOhU3YSCwPQn/irdClMATg83O9rUARD9LBjxaKDsxlfa/y5uZDe/HPvzPw8moB39AbJJFwFVAlMLNBJvyF0gWa9JAm5AX7Meimz4Ghho6mWWSpIR2W5hAkieyx9hGUtWwFlWMwMo9OEjB72ZUl7FtdSM1zbuuIyhjM718QrNqtEAAAAASUVORK5CYII=\",\"data:image/png;base64,iVBORw0KGgoAAAANSUhEUgAAACAAAAAgCAAAAABWESUoAAAEK0lEQVR4nAEgBN/7ACFikET9CV8F047Om8oA54cbaBLCZd+FB9VKHdKnYk1rAVwEbIEX3rTU2epg3crBJKeEK/Bvpn9CGY3RLeSVwtWhAcn+1JEcwb7N18tIMVqZA+lEQZITraQb0ztouslAzTJTApn+pWELyw/fWuEUfYZVp+H7Qltk5cpWGFWp2626DTcUBJ4OHodtQ/cYCG4q+/5aBeetAino7pmDS2wcZFPUftMBAJvgFq9gmSeVVBrapM9X0ADJ9cvxqO/WX5E7d/I+P8FzAk3m+wJCYbDnm0g4YR0kFgYeXb8UKrVe0lBP4zFHU3cjALMU8mgmtOx1ybr8aW1UFcCaEbtkRp5Tw4upNZ7DE/5BAOCzBHfhZSD5SMqptI894tKsJpHmHB+1O1cNNEVD0X/JAYn8H7A8+SMh8c5p89pTv3MYbjNiHqe+8K1ay8ZZryGHAQj2S+jclRvb6oTqJXYEEUF4ZqtlBK3AZsYZXzmjMGAvATSTzOYJ9RrKUXnVp4bKKP110zrXj+XGBRPz5TG9sRx9As7d+9xmA+qo1/cLDtUaEvdiEhOgHIcQcGQnaZezm/lyAS4RMOsqt/McAHniJpyPmoJEhudyEq5pW64pX3x3/OHZAb2W32S6NbfPxD7jW1fWWvX6bkzv95rZ/ND/fvI/rbBuBPdaA2S5TZgS/+bR70D+EIQfInTyyM0TDKIYU5KQH5NhAjZWZ9nXznr18PgQDr9OA3Deb/xO+NVsfXYg/G/jFE3OBOoU52/Fcj2QCcVcnpwFPR1xYWiVoR26Axsvi0DI1gHsAuSiZ9NLBwBBUXZ0cUNrPTgW8JmvJVtjwdIMrRNt8nhHAb0NLe18Finj+1B488Me9rwP8ScFwCkZexzZSAbv1YiuBOYjWeB0Ka07TreM5iYOCH1HPs4eqBAEWyaj4dcYeACmAHNPZz3QPZ9r+4gdYZ38Q9qjjzcl6MeLOt4s2waWtyCdAdMIAkAwLcwc5WZ7Adjb/YbZot5QEUQ7sof2HRxu+ctWADmgpwfVBar75EJUK4alhZnAJk/n+GTweGjdJwTq0sgQAWnRtwG1Lls9OWyU3JJY+rqrLxGi7B+SUNn+rJTQT07mABMHouQScD7ZUigjH+QVIcNGD+NEuHBgoEDDgZpXoMHbAbv1WpJ+HTxmIp//CScL1d+qZtIhNkJpsorOv08H7vPvBMKYY/LnENNjsOJcA5X+XSDtt81bphPmQ5Gz9iQE9B0cAQGCKnc6Ikm+tjaAH+Ae8W0p9xk1WUZmqgjGAziYuEAdAP1NeeiEGvgV2UvSVqoZ1s3MuhMAY49+TFiUGEuzwacHAQEkMAthgOlFE/UM3Z4h1Rf5zwlGqJ/dtLtuZaZZ62SgAa0T1ZNpE/40svBDNyabsJicMRhz4XZG4L0styZ0nJxsQ8/76bguEFcAAAAASUVORK5CYII=\",\"data:image/png;base64,iVBORw0KGgoAAAANSUhEUgAAACAAAAAgCAAAAABWESUoAAAEK0lEQVR4nAEgBN/7ALtYuxPd32tHAN+mF0jenl6xRWpKAeSPCQfF9ZHfE5/eABCRbCvt5NobdozQ3/ulCrraE/WSfRdh80v4Xr8Nfzz5Abnz+8ni8eJTeSxe4v1F0fLOnSLmaHQ0zfXrXoFmPCc6AuFjOcAu5vghgjpKyIRrJsrgIneGCRKVffbSy0WlkMntAjodrDoUov60UR+zX4HDMNIhFWn4S0pxm4o+g+zZg6EeAhXj/HEVpZtR6sziGKV55xzlEbcqeO1CwuIrf7lL+dWmAXpPD+eo6DHZkiN8b8fMg1MzKY5ISLgW9v612q+in0d2AvzT4s8HcJTGHrb4kBACy/Cw6XFUPePc0upTo4ECHDqxBKd9ISIh6B/1I0hoSicJf+U3AaP0Lwyq+xU6N7FGitKjAj4CA6xM9cRkkfv/9o3uU6TGO68c0RKJOSJtjAVsakfQAdcsNKnksv5V6d3I2Ujv451NffaYLfzT6CgLgHjlkHSiArw3PlX8rhkOC6we2m9Oa8rhhEDkekcyLYLHzHMeyemEASz88UoEB72/680UXsAURfW95BL+aXs9yE6uoNoJQjv9APuQQezwi2mCzm+9M2JKoHA3ENc1u2jZ9fL28lwVs0OTAiXf7mLM3c7/f3zvN1PQIFks/MdW/IEntpYLHbR/dv5LAgs0Fj8KKh3twXjwFNtvp0uwVnluQxT8/YBSn9HY0lDRBEyHpBisiOYhxfD21ZyOFuYFcRLz2v5b6lIZxkCXlC7rAJo5KY0R03gApWyp38QvLKUxoLZEDeJwPzGALwmuWYHDAqGn5N9i4q7xBdmBQI3RSSczsy2qxd5kQPQhuuMp0+Q0AqDUFiJh5e2t362PZbuCo89XZVwZASIIHFRDkEbbcRKFAO3YKeyp9YMATIYXW4uF4RH64CWgEVauMbZD5u4Tu0PhATggMEjeUEU2D2f17IMoLfhslwadE49+XGrBwCd9vs6/AK3u4GJ8iq3xzP4sp1g8+PczEJ9e3gmXyLfAM2PNVVn9Arxo8qhfEBt0sP/41baGqqkj5xapFAFiMAnX6hbIQMx7AovWsQv7Ogby6oPqEA3ZKadggmFbYZ8zkFwzILAXvpGFAB49JkfUwIkGpxf7RD4b4aM/PiRJQhW2CzODyCbnzC9HAvVUedndEbQBe2mWtdeZpCsQyNccb/riljwFsxALq6iPAaSgLvOsL9oXyw4QYtiQN81CAVvtR74BXL+69Zf32IEiBL381WQ2OdAeqvBFNS05FIjnF0oZ3ljaeRYR2eYga1z/BDIyHEqPz+bRWCTH+Or3+H4bf3O6AVouGacUTzVGKUSpBI79DrKC6hNmZ2ZUN6+IIDBtIQ9bRe0F5F3AZuoqAwx/AiHAacexWuZVxBPmi/sxqRDYk/MRGuwTl1HA3xMAzPPF0q0KJtY0Ft4AAAAASUVORK5CYII=\",\"data:image/png;base64,iVBORw0KGgoAAAANSUhEUgAAACAAAAAgCAAAAABWESUoAAAEK0lEQVR4nAEgBN/7AUY21Bno+ArtHr+HCW4ydRGNCgSLE1zHplXG9PmugFRKAYRQ7zDlqar3Bg4O39I7EzKcNSK8DCP9sr9fOOqlAw53AA0H9cEwzmAECwjTbPdeYQpER6DTe3Hx0Xgg8FUcvIYFACF33OkpV4n9Z0q+AgMs+CCquBlSzq/f0fqAW0knDMNZBM7/eKB7cSfxpuauoJpAy7jz+0IG9G8miOvx0hhqthDuABEIxewh6yL03yvfkEwDtpqDBDiF1U8GzxUerx/C71aIAsL/0UYRRbk0shZw4RAT0yezq/Y5zSsa7m1xKHEXj/ApBFtXF44x3rPo0i4JkgsrM+mQG/lxKDfIrqrXvj8IAfY+BAypu7OKseB0JAO6wdiLD87o21HKBqcQ46aU+tQQm/sSAd9WosrvBSJlDTYhNG8qFKUwUBjWjze7F/DmKAKK4cg8Arzrem34CXNoT9ZOA3DlflFc+eL0Ib8xoKgPWz4V/nYMAU0kbaTy+rvYeQS+ObZc3e9XTeQnHbP+cn+iT/w6otNgBLsk8Wy3kxYq1hz1SviIH+7p+4kNDr40dackKgafCE3MAUTDYRnYP7ftwZNpZqGTpKwTJ3gI/AWP9bLLFv8Sq19ZAF/ghtkpWeKGicwjS/r7Flue9nTXCoXb54yPaislrjGmADVvT97culor1RiQwusFakSiDnqiOgLPqR8ymZYC+rz2AreXIwK35txyAOlb4U5lPZni1voXbF7GL9F2FC6MNA0rAu9VHBfgWfu+BAZq/5gYDLsDvz/ZVrP1G2NMkdIoLKesBM4yi6/AQ+QCWhfsBDbK3ZzjhhiBDiO+GIckPB+35V6hBDCgVLQyWQpk+hfVl+86l96MxPOe/P7kFvejLt9HwOnAAIPZcLna3/HMFcP8JAGhUfiC0asAI87MRiklmwZGa1jrAWg97mgZzNKSwShH6vIV+kPEMWVAudNtCA9WkjHtT5LrAkv9PzdKUrQbGnkymhB21cGQCexDffUD/UnEb2xamS21AjcnocLGRlzHxtlKwx5m5A5BCXxJ/mub3W4EydzomyswAHXMiPH+eqVnu/VnHM46MCemRREzTw+/7xOHvQMVayqHAt7YO3gnEAXsYF1vvu17RdbK43mFoe2DPokUKDyWCyFFAPu/nEf9Ifxdsw238gOxZ2A4L5/P4hDRUiOZ1RIINQvvAo/vYBktd8vGJEo/VMX6JwzRkP9wRT051a+m1uAhTi6HAMH9dMgZTlt08Na2HbHxItlMrINH3+fp9oFjMAhfqAmTAFGRlionDETO9byT9HLLCeWgKBrxTfgpaXqH8PyGOsFCAojslJfM9x/UEZ+pyRFcvvn9ouFUehGKuvyy9S8L6EzQAPDGFm+hWduh4p1BM++/HSDCnvFlKFcBsRSMP/M75gwSl2n8umCgp1kAAAAASUVORK5CYII=\",\"data:image/png;base64,iVBORw0KGgoAAAANSUhEUgAAACAAAAAgCAAAAABWESUoAAAEK0lEQVR4nAEgBN/7ASw3BWXBWyCE9GWlYUc8VtpNk0bk68NobcW0BvCntKsQAi+E3SRhXjTOL0AfSs8BFTFJ4lCwAsfQPWzSdetkSU3PAio5AADD0J3UQIfXR3GSsFVQXNJLj6fz9XzO/MezfY0KAN5ZHiw9ULDopff2xGEclPQ3SH7q9YVHG+dzM18AFTfdAfDVfWEEPmKVRvrWtOm7/YLaIxQiMoC2Hd6i5p01qPtUAPcJjk7c46TEQmJ9C68vf2443nPR7ClZlyy8aPPRENWbARyO4S3iRdst3ovYkXqsBAUoqrB5EU+km/LocPe87eUJAL0TqBs9YMIfqqKn/FfEYx2NEMxhPrM/zQi2dHP81I6nAU4OROL0pNofuAlOz5+5lJ6MHv594wohccmoubQOCKwFAJ4W7mrdrKe1Ghfd950O4BeXo9cE12ligyFhuTLjyXA5ATM6BMNDgpFdYzDCJSbXoFDLC3BHPz9bVk9VtffUqc/DAahzQ/km027SQR/KiAvJPzn6u9zxljaCYHA95TfPQYe0Ak/NVf9wKb5ZNBS4Wt923gdAr7c6rde0/OAQokBeKVePAt1mDL1bvZlSnNgkrD6kWgIi4mOQN+7Ime7c++gv00QxBKB3MzNKSVFrrVi999ZYmdRTDi75pcXC9tYK/LAga1fjAN8AQ5zfhKtI/NmEN31Rrd/b75sdZd/8ztvOd8+yNC2TAM9nwqYKFn8aWBqflOfRDrI5n02lG2zU5KP0P3xAadqMAUiVVNoU+UWa4KJmCA3hB4E1y7zdpeStxNbn+6w0/AAXAgur7FEe8LuG0lEpv4DjlMWXvXb/yGNuZwirE/35z8cUBL4DnOhEQPbWqFUFDZnjLS0pOFyWd509ht9Uc764XvKnAfl4F46PTBdR4QsylBKoKz4qA2HpHtuo5UkC4hsWss1UBG61pUsAFVwgMzqwI7av8Kw2bOjWzdarl2rff9MUSQG/ACljlgHi3zwa2ZWr2SfJxKWZNPtv691Dm+8FNlkFvyhUANf1ekWXHYoWe/qtOQYT+OeEyDKtHilkrX+UL9UbU5dVAIcZY8FJ2NN/MMc5E8aO+0tGscVn4FWDegobzWJxJFP8ACmbLLzplyjwa/s7eo3ayBJr0+IA8fkbZl5i7cBBt0P6AJzlMcmFktUJJECSbRXVkGXlnJS6+eR9AivXAiPUH/StAdW54s2uhCSx0fQp8TsdWtw9SLrJbh6RLHyugYwTDQhKAXQolfImXYLbdgENyCpa8Wmeh0HwLIUtVeIKxBaNFuHgAK5fRbLE8uq7f8JMZQvuHwuqUa4AKtTzn5pdJEvEhwf4AqR7BzgAM7j1Cw/j6NoSOMT5PvXZNZ6yc8Lj0XQ52cTIBCIbgHuTOsj5+2+et+6UATE45YXi/DjbSpi3Zh13kO/Epv8Lx/k4P5gAAAAASUVORK5CYII=\",\"data:image/png;base64,iVBORw0KGgoAAAANSUhEUgAAACAAAAAgCAAAAABWESUoAAAEK0lEQVR4nAEgBN/7Ad3tSa4asIqABvDiIeUtp2HnghtQ1eQceAQ7CpMEotG7BNoyzZbthZTZUyI7rS4LggrE+eonvFCV+gFv9ib6zmPXAscpPVclBi0J7nr5HsBtvQKChRQFIGQZSxDI6f3yBycxBLxuSEdaMtwd1i8xzyjZZ1ydLdgBPto3VG2QxUHhQ//fAafWL322DbviqXo/aNTxLX3cC4VLoWwgmgB76AEJ/CTmAuy4omjvPyKwmemfJvwMb2B9ye7M8Sy+YVrGHmdn0j4NAH2UP7426ZqGsibtZHCHJcuG+tgp6YOq/jvkCekonIUhASNEdbH9rYbZ0MKtOMqT/cmhuCLn+Lv+ttkvsVDKKcwtAYbTGmJEXYf2unX4Hxwg+usbF76gRCnDxJkQyiFhNoXvABvdyK5UzavEw0Pm+LdDN6HlPtpXx1qlNVoPG2DmwfXFAZlzQvMK5jcWFvEi8yf7vJMAbKD6WOofIvK0vclqvt5HARXCqc/9e8TocF/x9EIZi0YaIz2mukzyjkM2sRMeSD+JAa3njiLuwCsHXht1t2FrGwAmwMmhtAaF6RJ2LnTxFIYMBL4JoklTrOjXjfHdqwtOowfpZJ7HVj0Uiv082anQZ1LxAYwfZmVjyi1uEEZ8ajXv9RvROBvyqm/l+tNJKOwqvpb7AQlM0O5cdtPCiNXw9pLol1NpEMZKCYZJOqDaFlum1Q2jAP2RxG4NTj6cUyowB9FrI9MufC3dCszHqyyScj6HtelOBChtQe72WWDIWugV2RNXWpxVcQkL7sOrfoVNeEVXMDU5ATcxTbEx3fluLukJ9klYviW4HH1BgcMpUareCuNrh9sEAmoOzQr4FgArZjCCCO5PF6N9CvC5UzyXDetwVBqRQTasApn0AZ0sEJVj7Sb51q+g3e+3qsV3Fe8QANa18bIQERMsAd5aFOCIGhh3GXNAAy2CP3JE2RPSCokN1In1rHLvmTYhAvQcS/dTndzqB77ufnR/H22Q9bSe/iIiUhPJVS4DNf3IADMYts4H3a1zKCPv8d1Cr5j23CvJW0p1y+YWpBc1R/6tAQDknfHp89zHENN+kpe78CTUktyUlRqDXhcLzw13Q2lLAi/RMkY0Bwsy8/tZ3ZxCFx/FcgdB7IDJzGKIP1jzfzWgArXDMTQjFTgu77sz+xkOwFm9rD2w1su18SBO3ijzfQgQACG8Mcidp+zpk17nfyPSi3W80yUryqwNiSMSDYnVEPvDBDxQvdXRBKJaQ4spEa8S6KDsmDQ0B+mxSmEoB7nsU2D9BG0WSkUbuWl/iHL4gtz2VgQN5r1xvq7JNAgth6Ibm/I1AoYHPCBj8FigdbY5eFDq9/odZYCDkrVQ4aQp89zzIDPbBO7WjPlAz3NkXX3hW2jQJEcNwB5Ml4rmoqTV7dWUK9pOyuf+iFr6pMcAAAAASUVORK5CYII=\",\"data:image/png;base64,iVBORw0KGgoAAAANSUhEUgAAACAAAAAgCAAAAABWESUoAAAEK0lEQVR4nAEgBN/7ASQQWAeR4Mh1gq4Fvu7Wu6TLE+gM35p2FELP1hvjIPh6BBbjA/eeZl/b6J0TK20s9IDef252wT6aKHbMY0QG4/f0AD12ERgTpBnMAY4iFWFJB2LyxL1UmnQ/dbadDy0/jzX1ABqRnzCCowwPcEpVQhLd0W61MPCQ3Ou+Wcz7hEno+MyxAMGA2kpHNjad+u6esnu5aa1kncklcS4OmQV9HupsE4UEAO9WPvkGTiutGMEe3bpmq4ctFTAJkPDLUJf3/ng1iLwvABdDbLxk/AqE+mv31PgXRIPnsWr36lruyYINvjb1AVqdAH+gPDbUaPI7qYPkmxzxd+1g16xPu/hzkrepOsAlFhnkAkSF/xO+r/4jMP1aEHA3wWeKZWo6z2By68pwkb+O3OWMAtAQccIQMSwXYm7eOsefJnZYGibH71KvSQAQpw2fgMQuAgj0RT3cl8H9D8N+U2a1DX4qUTNStNWrl2fZBm0G4d99ApI+vLDpFz5DNdcoeieoYwo7qGJPKgef7cVKHUBWZlEmAI0DEvRJPjpOLGbpixZG8xEoBhRjZuZJN7i34WgH5y8QAvBVm3sKMVDXmJJWO42mmcBGNv3e+FX7Gc6s/g2ViOM4ALfdhsw7gf7jA11hBzuZojgjriELttEwF7ga7ESef7ePAQ2Iw3uLGNcOG7KHM7SwA2I/5K40VUlLqya5Lsr8nPSQALoL2zlawHzOY9yToiy+XYs6Ag8f+d9SOtCNCo1bsNnMANyHZbsQSp+JJMAJkY65Mumj2QmgB9Ds0aV8qFTn0SEOAt7uyx0fMZkrovAHwhGvgIT7GnCp2rAiiw+NfZTwnA8eAGntODRWAPtB2aWtliDPTNIpNCPk7NwKZ33pxHCfHsfqAUEJGbbTmGq4U/cAgrDhV8KsIrHvCtkG1QIFuOfym+emBAhdXJnsGvrNcSxwc+dMNqkD8eXHe5K8+hON88ukPL1RAceD6n3KSbo4Vy85l+isRbcHBAgZgdzy9fnyO2ctMkgBAWMQ9ukXBIDuOqrtmL9eHoaUfj7URWJMPIyQCuytthKFAMzHw/3fHpObxLnL6gTDfTvzKnIwdAV18WjIhALEIRmgAGffT9lxbBy8xjGMKL3D3fBqos+U8cJQAummtYodJdW4AR+m8aR0MCYd6UnX5BSUejppf+nJvQTnva4fSTW2dj5JAeH98w5+XrczUlDOfyftKgF1WYoTh1QeE6hmJjy8z0c2AvUo7ZTNMaGq9tMoE69Teww56JAl6Kh9nKRJj6tcGtXuAA4/Aj8XFVESQ7lkk/gE8F7HCqXYnJK9S1pNkbMM2ySOAE/5nhfWvpLn0hOSa1DytPUcOR+vzVuPzuFNtlP9qU7BAtIv8bOqtDCmFYBWim+1yvegEI5c0wXtWd8zfOrzHIHoiFH925UbJ8UAAAAASUVORK5CYII=\",\"data:image/png;base64,iVBORw0KGgoAAAANSUhEUgAAACAAAAAgCAAAAABWESUoAAAEK0lEQVR4nAEgBN/7AKAYVlg3ooOaKa/am8UH0+zdZ+2YDGgSMqQPWYInh8prAHHl3Qlz3G7E8EwHJ4J4DcXw/uagcv655Bl5MixnKW8FAfSpSiGh2MEjiLSqT3hHNgfSoGKO2Pv1BObbQHmQ6sWIAFen52v7857xONYY194FvtkLhoI/a+DfTmY1EDPQTSknACqUF9d8794VrgW2CiMtKV/E4vQ3pAuJ0oXSjgmePCR7BP/yYMz+/t7cGkePAmN1WLxbpzEAi8lGBoWbwyKpQM8gArr9JV4YKNDTbjS36hnl4oc8d8dS8SOEM1PItHtx8x1EBA4Fj1JhJxYzA8mnd1sZ+5bxQNX3wB0AOV4sH+38iuikBL2lnvCYh9KxpatSavzELP8mIx9Sk0E/2hQVvQa2B8ldAEfFXsIqxIDTktKRTNTGUynuZApInLgKwANa37l9PPZsAbYgCJ/93lXak/Hunrr8SPDtvIxGSxymrB+IHipdYkZKANFFvgC7aNGWxIyHPsiwREFT/bldco0UB8E0BQGdIvlNAq1KxuLzHejxr8fH2vB5/owxljeqEIQ5ASeA+VVrCHssAc23YH66mEX6Xj6rB+hbnycMN6mDDKQ6wp0wld8t/bpqAhL2MAv5pl4r1L5QD5iNKDcabfZlzvkxJFYPdaJjDMnoARARASYtQ+M84yG6jL4oinVz+wRPfRXz1AAZ2ZdfwUQIAFH81sAkDtU3ZhIctmfHb0r4UBMmJ4WgXRRz2XsXwXEsAcKtdK3QMr4M/dklUc7o0WGSxpmE2GSjwRbehpoT5TVqAmho9jT4pQlq7hXyP84WARI63E13Lod5W74ZlK1ylvGdAsaxiOJH5uYVh074MVbqBvZIoNESlnJ8n2v/xMyz3zGtAAmGz4Ihg/Xg5QMQLzAecYNs7O0VsCTCK3vcxGVH9+jBBFlD18TCA/+7v/XMzY2XAFe3yGKIni1YGr0T4OAnjoQxAWwVyamuYKVls90hp/Y5VgJIVN1tPrel0RrLyiZXFhERAQmq0SYMPCJ0+QwDcQ2ZF+12L8+xU2wfDlb4E8D2XDiJAH0sKkQhFbciBjdM4Qzo2GohR5hsmft6SHRV2FWuYkj6AR29JEjjabgQUjXINYM2IxLuxY/0YARehTCARwioFwXSBETMB1oMKK9gDNMpdOxSmgoPcH3j78F2lO/2IlQlsvuuAi9NbzgiE6m9v0x8iniGDZPbobJQACO4wuYz6rYg2GMRAB+lSAgP/M2OTkFPNxMx2dD4uU9nA0AQ7wsJzWURp/snAlLA+WdZJPeCCU8DfwkjM5AYfDjf0iSkKpqGCLXzETCwABHXwQPok58uYOdyADJ8rvSCPyAIZSGw7wqRGJLy/LccAkixsSautkbwsIS1BBQ7AkaJJQ3JSuJ5GgMssfzPl1Ry9uDs0barYZwAAAAASUVORK5CYII=\",\"data:image/png;base64,iVBORw0KGgoAAAANSUhEUgAAACAAAAAgCAAAAABWESUoAAAEK0lEQVR4nAEgBN/7Acxw6EGfzga8gH/V9UG4FlzjSRpQvnMQPHHTC2wuoR8uBHZgNlgTaijHK+0XCYirCY7swKvmZCk+J9q+bgsa7Y64AhuP4N1Xihlg7l6ovrM40j0S4h6wbWyRJD2C2x1P3qPKASaqVhhMzCBg8xNLy0TdTYgWClMl21YFE6tQJQ/Li/itAu8TP/PVXjDEFLUa8pQ7CdW4mBeICloG9eVyb83ZNMqLAUo2CKhKuGwD0QkN+5EWo/lEXxH1yDx9nPP9bZyV0mIJAfJOPfONloUDaDHIeAwSQiK4G1KPE9iXO5PwWTKN6I/AAl+IAfFf/QM1GP05Q52Q9C+p2HKdV2KGsE0GU/mcSKdpADftGGBeSc6Lk++BGcfNyGn26ZZcCu1iVQ43rcNYAPC+AWroMrJElp5NTyK/0hkzB4Lh+FLiBMUCEDGPZtWK+iCDAdUl8YHhDNukCId/CcXYRrqF6eTluwHQSIQL9yINAQbxAssoz+Lj2//hT2hvhw+WKu0IRCUlkMhH2hksoC8AVoCGAcraEQURRYgwtLv8nqBymkqH5PYKZURNic/k8HbIU1gCBFcBDd3s25RJlsQQ5Rc41KzkQUVoL7oEwitKhhLoym91Adu8LygG+In5YbwKtVPRMC/eaYAF8cyc2oRoqIr3M5D9AO4vlUEu/lOVCafa39DOUZL34acwY4UOg70D33EEFM+9AOx/vncELs1gY1F834o9fs2QAC4N4NbNTjA+pa8szzcFALw1yzPqaXoPM0hUNbXu4nIiNY8GaNsLl3a5B2WaPFsiAO+LU+OqTFsUiqvoaEjedqt2Dy0JcWQfG8wsGhND+u/2ARaeCcCcT9v5lrOLB4IM9vZqyKoJTqIQv07UhWOU9LjaAiTwHXVHHw8yEhApH5S0NkMXimbdo1ofnBreXpFjEx/YAffC1R+yxwW4He9UNmPAiE6ZlU6+9BkRADddSRoe/yobARux2BUC2bENMJZgbBFGGg/n4PzomaZ4v+twnMCsLuAoAkJ2Abyy7q9ox6Xoz/juE0Y18FrV4WNQS4hTLk6IottIBGasILjJynbGac7kh9XV4efOKvPVIStLJPZY99nYjAoiABGwJgpDp9fFtpWqyqkBWLiokAUBZwle87nvNwV1wtkTAN0D4vUWZiCgYzoSYe9/2uTXAw5YVMtanv0ti1ZTF7OXAfe8p25NShkW/6D/ehUP8pn9PNlSchc2tRx6/YRtuVSQAPxAN/2MDKXcFJSwDasUV7nFtLjrLDxJY+9RU4C7IhxHALH8KouN8hXYRpAntDQ8Whw1zB7hoV4h1ZLEBwwJxx4eBN+nkVkb8HMaMPQtYMBD/QfML5A7UNRO29Nf3CwhEMOGAD1F2tnqQwZefEiO0VUw3an9TxYYulTItEOu4aySfwq4qGfuoakibm4AAAAASUVORK5CYII=\",\"data:image/png;base64,iVBORw0KGgoAAAANSUhEUgAAACAAAAAgCAAAAABWESUoAAAEK0lEQVR4nAEgBN/7AX7Hvoob/mCUZshEZnDSM5a7DCL93BTqZf3K8nwEhI5sASaJjF3YBu3VhacIVdHJLKkfUT49NuRvAct9sYXGLaX5AOv6kWDnJ1739qQ2B8OrrDoI2Kp6TymtWABNHaVGaUq5At4SLKhQ8QtCwbgGSXZfDgEivKTUEI3y5srmbu2jOqSeAOazoCthzlC77+y7DnQdie4rXPxIDya0GQoLsz+dR103AfDtSaoXJyC3qJgnGiOz9OdC8YQy8Fdnj1LpFT2+WvuMAWFVNEcs0STIIUlqy9W+3C4kWs/qx2TQrbHIdtkzkFw+BNzOGUX2JaE6XkrGzTz8FEBzYM9b1BOl2VXs/7gcHS9YBHXHxeI8zDWQ9mxfh+wO6jdIMumx+WfIyRQGwUE+tpDdAvYkeuG73HysMyQHbtM3CVzSbzb+38PS4bsQ+VcSULkBAOoC0GTQ82gtDuy8qTCNXC+pe8zewI5VLu5XgQksMcFIASRcaQFV/VS5h2uA/XH4ZK4nCFh9L/dNy+KG9THMJxDjAO2fAmG+zDktVjxs3sdUlUl4AEsv18IEkx6KLr34EFoKAJ6ZOtsL+fDwOlbDo+vWfOEKQsofDf6XvxfagEYaDsshAJkjtm473m7+IQZOJlKIJjQjhTGYcDfZym9JXs7gcCU1AufmLg3s6gsKv4sROUto5WFAEBsj/i2dzZIecRO7bmkmAB6kXMal0Uz6ReArZC07eOQTjz124cnQ5A/KBOQ/VqsABJx+/y2+BdRw6dXdvvEWRmRepI0Lx9Tf2gOYC9O2N4SnAtpy54LWWc4PAJl7NvHa8M6TQm5UIA7HCLbb5dJh9SOKBPzxC+rJhqVeFh5QxkanOUIzBgRyFb1S64UQrMvmGnkkAWtoI7hFp/HacQfARKXjhIpI+DmE26Ci1v3e5DnBuJMCABoNEB4L0ecPYuOsTemy+0wE+GLWzsE5750lZywt+XGYBAcKP1WR1LzM5dr0TwBjL0c51eT4ddg4azGQdCHndFscAlZ35CUZyQLtOtLaoM9I0UjwKmb+dlG4GwSAOElMjl+6ACG0rBlUJOlNi3pJnPwR67H6ajrgJwjtcr/SPs6Y63qiAVrbTib8oRZ/pGYtnR8CvH5+ZdUfe6lKNHuO5AP9za0SAlgcwZ0fRt1HGzmt/6aHGHoBmXosz8fZEu+uLQtSIJ2MAY3tUq2tGcf05Uvj1q/SYPCHtYY79786A1Uh+EoCgoNwAijhEgO4C6Jgz7jGuoCL6276v/Q3iUgcXxiM5w5kqZTbBAodeWEjCvWVvf7L8uKEz9U/9UcRZOjl+J4LuwIYrUj4ARJDO04cJuNbJg2qdgcXXhNLBKkjSx8Zis7R+WY18LHkAKDdBsqncZYHnHf5FMvgHdpmsMbDaOiJcrnfzmN9+wCGftj+pP5t0JsAAAAASUVORK5CYII=\",\"data:image/png;base64,iVBORw0KGgoAAAANSUhEUgAAACAAAAAgCAAAAABWESUoAAAEK0lEQVR4nAEgBN/7AVEyWuVZjrtF8T3towlwTm6pyVIVYo3TI1lEoOkv3UDUBLc7biusIHx880f8bQhqrgI/Jk31N0r691GMhBpA9+oLBAgAFV4nIYwP5OBdD8JznvNAvYj/a2V23ZbU2KGCnx9OAM0Xx0q5l7wIicf3yJgSmYFi550WibUJ+EVzGzS7UZAgAJaMGWS1rAAGSd5zRega8xrpN7lgIaV2R+qeoF7u+9b2AcpF7eS2e3Duh0M0rl7hDI5PPatz+/HzJqH0+IkbM/YNAIbScrPkPiEzzDxY6RgiOWRH1N8pEr0fZmnthaj4BHfMAU7huIrWobvugHERnH1e+p8RVW9WCOyUM2GWEg+0K7fBAj1UyLYddvvRuweE/ZQGyosxKjQhOrQggDbjgMjAbeQAAPBVEbQFbtx44z3+2AZ0I7Wa2O9UkgjUFM1x7mL7Ax8rAUSmDwm3dEY80T9kfVXnB8kJvjcvHsiJlr6lIyvBlwS6BCZANp4zBxkjSsKmF2DqA+kgNf4s4tkp1Q+yBdtzdyuwAQnbiaD2f8nH9vj+rVd/+i3IFwEE3cD6syQmb/HaDAyDAv9Y7rKlz39NXV09BjbdvzD+OML16M28gdjZpmbDQLG6AMRduuA4O7pgSuCwEsdZoWsBo495ovSU5J0E0xKi9sHvAu5biaeEVZ/JHhG9Vk8grhWZOz8aZ+4rmBpIT1QeN+qaAOwtxkshpwfEKCWzToX127n4bdFYH+Z6leciyLgy2dTOAN7EZaVPvxGosk7d4IAjfuX6+RelZgisRjX7OPg1mFJuAJ78IcjnCVTILEAEmkKV+vf+EcaBAsM7XlzfqyarFMutAOXn+nYj592VqYabNwaeYEP6RNa/jBFJn0gDHDEZ0wKYAOvkNVh581C+zHpbqZ81PPEkBf4OR9RLs+iwR9anKVsOAuJdN27gBDOnA+4PhjAncerd/zAthNHVMRNySUQ3h9AyAETSqWCgW9v0gCVsrD3EGdxO5GTrfSYQIRS7PSI0GBs7BDH1CQaT4K44Eh94pQ/OleeKeckO8jFnfzISXPwFyXiwATYFHh0Y/CFJo5T9H9bvfh9szJhQc6cQI08C2we9pHi2BH0XZowTNZ3z7td9AvVQfAz1+PmIkHXTDvI3g2RK+1YsAE8PQL/kaFmNCQt47vYO/RrJy+oJInRDipYE3EyXohI8AYf4Gxva4nY8NMYgZPXOFSjk2SM6dZRrNSueJ8BeDdpdAQwE7PboHRdVnwBvHxmNXu+I/ZwNNK9puQsvmM29XiQFAG3LADICzsROp9bPzni6KAlt2XQiFPtlwkz7sTuzhBcpAkt12DFJTTMdlcMP6+1xaWhVkEcBfGA16AF/nv/Ry4vOAYk9Zm7DuXRHvvrxhlgSYG8pGtYIGapFyc1NSu3ZzMeMgCP1cl3PmHwAAAAASUVORK5CYII=\",\"data:image/png;base64,iVBORw0KGgoAAAANSUhEUgAAACAAAAAgCAAAAABWESUoAAAEK0lEQVR4nAEgBN/7ADN2HSrjZI7PXZcEP4pUMFqqmNkKgDZo4YsCK9UdzjrFAhgto2Xa+1F8ZTyzMrnBNxffML058ADW2RXBGfdmJUJaAliyvIzx9eObGOXW+aySsElI7iIYAqNhWPHlQwq/uvTOAHnTAv7BXhXSq00PCPGviljc4Pgpy8/vORNY/hikVLGdAF0oTW4vwRhsXeHvAwvdMa4aF4OGN7DZeUo6Dz3DsWHUAcmbvNlSFg9+Kyr3H/alfH5fvBPV41GbdAMkMejzTySRAt4UgUNCb70dlK7pkUF7XXmM9SEnrxCz3ky0Fjew6dgKAIBQi5iCDa1bf/V+6BSGmRu88PaFB/wj66+CdPOmLC3ZAgcqGDQR2ZgJ8yr7LmNCzHZ9pj8pCCx1epxkOIxD52IYAD3N0F8qOFDCuhcvxjsN1gp0E6uRHPTOFZpql7RD/L/bANvUGgLvtv4PmjHG9mTjwVmMvThLViPyE5ysOqrLUJBUAFk9XgNTGyELyKwg9inIOck4g+RqotjEqyCBpLHB7FVcAqAmN2osCAShF8YAl3CSZ8sbX+B1NQFLzVypEUnqHhUzAMMEuh8rHmZd6yBGhhrdA0oCY571+gQUdRmVnGYx24oMAsEUxkpuAoIfuBP6HQwCLtmrvVB42isNUHMCWu/VamZLAgjm8ppJe5HpYhMHtBlDyS7WPj9RJT1WGd8I00YFeCfUAFeuGT4hfk7yYTrwRxtPquR1Jq9WNQwRAnlKpDamTFlWAMj8xQaPO2SO+LFc7OkqAusolzHO5zs4CPbmwTtrZYIZAW9kBqCyv5od4cPKlrQmkov8Ypz8PzP8STYg0RSl+rsQAfr/B9RIhRKSocXx/xRPotueAlgjE6zzT/fD0Va3Ik8bAlCq1JjviyJMj/CuTPrT/mI8PjQTZxv4gUVbNidJ8A9vBBYtA1YSjAJKKY9OkgRH7aemtq+DTqLBzImT+uMS5snEArr5XqgPKOzCk5gR+YkC2kLfPkgQ/jxZWakzdg7VvQdfAZ4ODC7eSGpMUtIVo/VF1hVj1Fr141vX1ARiFeuQxl2QAH2zStFLrfRXKQDK0Ydx4kr0Jt32qQADgpXKsHNGqHwgATxn3cqlK5XsD6E7BG9IGlHmHQpEyvZgt32Q9egJtRp0ARTAZrhnFaa0wQ/nMfkq5pq9LfStEcclZzzZFxel4VCaAGfW3wa7zJRAGD4E/M4E2+UQ/VvIbALufVDwE0bBf1b5ArnYM5B1B91KgQcepgOKozXJE+wFfXbKPNYF0V0wci/hAlAwHCrlUNjrQvuBs+/796J0NS4SJw+PZhoOUw23zvD4BKEb5od+yZMd+O08s5kvUAfQUUYvlJC3x7X+ES7MghB7AcFCCQfPYoDPF6CHPKPGzBwPxNJM8P4kyc/ZuMFXLYSTMabpByAKCxwAAAAASUVORK5CYII=\",\"data:image/png;base64,iVBORw0KGgoAAAANSUhEUgAAACAAAAAgCAAAAABWESUoAAAEK0lEQVR4nAEgBN/7AYMbrvWAGdNrygugwWi+TBfItjPETGGaW33LrNP5qCa3ASU7C3nwXiRwZzCF8pWlC1hHBsPuHrv+BZRvVn4g9iVeBBTqVPbq+PrBEO8IK546c2bsMPO6I0YZ2lIBCUNuH1k5AC2LpRUGDvHp7I6r3MMqGLXcDPk2zV0O1cgN1wTzvj+dAKTdANsp268wI2YSO1wwwTwaWtJf3ZmPQVezdkGV+GpBArIcCb/jaEt62fyz+fPeORe50/hXeA3leJy21xe5bKYhApaT4iMxoplJlCNyFhvPB9aoGeo4Nflmx+t1+oAdNHiGBIdHWfqv8RejubUBLhVKwCVKN6eub1gJISOXq1xg9NZkAGE++cHReNGg0N1B8BBLsxWO5cmBrk/81gUq0PXFSO19AICJIV3PtzUdCJapoavJ37MWFa6B7T7ZoP6AtfvUCmDmAPXnZ7jAk/N8pnlMq8JYQxJapww75E9qBFobbO8kxiUZALcMbnWbsTThqYuU/A8HC/S/Hm4YR8OzpQGyUxRFV9P9AO7Z39/tq2z2QisW63b1vx+6b1rp2qv8aTutCbRK8v6LBNMvVa6s/AI0tXdaOjPiy5qn8QNK3LAmwAJkBn72zB71BBsoHfPVet5R/EVHIsDfBxt54brXq7LEuPkv/LR2VOHmAVr1SInqUgG4xACUOzwxzQI5CfjNAR7pegXm0cjSh2spALk3H51akT8hlQYnpNv2k+j8ZlBVipgHHQCxnRAnK9ypBA5/aeyFFO7bTOtqMPU9a1N0KrZ3k5NnAvcDAArxglu1AWMQ9Jlz1rXSvMNkK/FLBSWj1+OD0dYcR3gLE4lS/fCaAdFVbNA1RT/7nht4SqZx8hnOsZZA7+4KtKGwQFki7jNZBKQN53rjMERiPoqIvZimdUAJ4MDzauv61Cy1GqO/VMjsAAFTAcJs4+CXbEe/IKhcbtHmzStV41rELpVsRtXJC7+6AZss5agE9sNu30vNHgUVqZr1JvntJMIedYjeo3DSY0V4AjshfyOtW3Yh6mTzqEMnNVUN+iArLQLbfHgwG+YV+PrdAbequyRb8l6L5gkJT/2B1PL8QYW1CCeGmz5nO6VyBPnnAPKescfLCh0oSQANiu26GBfaFLgT1V+oQPpMVtSVJL5bBIXXVznxjE3Vs7OyF/fu5sEryekD6GcNsaT8i2MT9muhAv+Lyo5AKqTa34vtwtpfeU/hL2P4XwCE9p5dgd4wkvi6AJUBnhkCXN09z5RLISQoPCj8KzbRpgWxtLVC+NzdzzlHAUFQnb0LCykWLIqCL+/tygwBRC1P9d/hZxI0rrU+7YJYASo/EmnCvlXFk19N7u+MX6HW5z5cL9cIJ6XAmAcFhToCAdUQsgt4pgSbHuEJPgIV26FXLgRcGYHQzQEFlgWSjoCuNbsBOGA36wMAAAAASUVORK5CYII=\",\"data:image/png;base64,iVBORw0KGgoAAAANSUhEUgAAACAAAAAgCAAAAABWESUoAAAEK0lEQVR4nAEgBN/7AK+4F2qkjDMR13qCyQ6BXe2uwB5ZRH4Y0QfJWw6FQQEQAWvvQAHHaCD5YT2J+gc95wWdFTgv/9NBmxgksHSLGBo8ARirjAekFRq6m0ACsSgV429Nt8vN5w1ZtuWsO83M+J+3AMwcoRmzvxKyf3/l2/gguHvpYwi2pk+fEO+JlhwkDAAOBC492AEXJovtlD5VcdeovmsZxUtTVOL2HQ7QCd6jNKqnAITLdq6uCAqFpD209wPu5BeaReYgsZZzM4vzF2+fQSLIAgmwcOVcd9TBfv2mMVfshDAjdPTr5ZUBoHbUwFoh7CXMBGAhIkIAO9UgCjdr+BFPXlexwha9biTtJmflUOsW+qOOBCYPpsXYLQaygzASs9THN6q1i9hchI3WO/r5+SonO01KAlrUJ3V8nKzIYoVIaPRfq/pMGO9KJyanIPBePRYtbGJeAgEq7MzV5AysaAls/vEr53q9HXSWE4jfoHII59GVTx6QAlC0D1MeUoSzFeoheZfzcdLEdCf9ADLbQqwlRX+rLBgFAsTJuyQJLNRjpG7+SDp7vCoL/BZLYsTYLbFYHMbHxIrzBBNtYl0zk+JXOKwCMtvCKWpCIfHVcyvo3U04XuET2arzAvN91yW+P2kJXLPgLjtFvLSKFVlItMREAEdMcRlTLxmTAKwr3NC9+6xFpDZ0ss+eEWD0jBBVGHy0JMn5zB7ZGKMSBBCEmCNVmsdAMOxqRRlAE3dra4wc/JEkih9Gi77l++dLASMDJUEMIv/o7GzNYK+3ly5dByJHg+4Tq6gFGUZyjPuqAkMrVFDVqj3lKgHNtO9ROZNebcbyyzbY20Mszpah8E3EAjM6R9vMD2+WlrA6gw8HA6t+11/OGOEZECW2MhJqEv+ZAAX7CK4ScVCN+Gggu/iwLGrCeZ5oXaYz69lICEZ27D1XArsSLlBFoiDLEP8QM+rwX7JVdsPv4jxbxiRCMJy0xQ0zAf0WGbXF7exlVm4sD5hrcvFLNxMAnxrJ/1RZA8dF0g58AQMSGoBA/OS3NdSV+3CHgykywBg1dh37XhQXBusXCySSAbybeLgI+NXu5yeMPPFL18nB17aFgpnWPg9lCtv4PcPFAePuexVYGy6QAb0zpJCK/GQndYXdKfn4yFY+vsIZQpvuAt9WL9a9oGDh+er6MYsMvdTK+2S6I8fvjVE/owNxUTrMAo2l9F3QmzNfYuE0CQId6LS5K1/M/QjqHKouysjFNY/+AkH6auuhJqX1RqNPaYuz6SbhHDctaEKMEiEiKyTojvYLAW7MAekEhiptdb+h1H4fA3uod9B7RAADHmz2//ALFZz+ATwRiu/K5uz8TEjM3SgahLhUGYWEm9+7ykXgC6/11KG9AGD2lSXc89CGz4/vseKQdapBg7NzqtY/2UetDrUNMULOTrjvnqfiXfAAAAAASUVORK5CYII=\",\"data:image/png;base64,iVBORw0KGgoAAAANSUhEUgAAACAAAAAgCAAAAABWESUoAAAEK0lEQVR4nAEgBN/7Ab6aOseSgkTJnpHfzi0Uzf8Fi2wTf2DtVK3G28hV7rqZAWS8Pu8iU/BxywnONlXsFU8rGuQdVZno079Q802HeFtRAO8sje4Y+BwvM5ufaBTf7CNDyRajkrx8oawsoCv23zz6AjQ7400dhEWLHAcI63c1rMc0siQO/9vzp9BRZpnZymAQAHbw9RWnxCCnjz/KUO0PHanCsZq5Plt124uwt+SeTvdRALXJvn8oReDmHtUWXrwAJWDLc/sG+J+9ROI0vxseUDDKAr5Y0PLIgw+fj3FVzKmZzRACGi0ZvF9cpV931lALewP7AlUydiWYdp9M5foKQNhExvdPXUhhbq7l9538mEEI0niXAAWUGLzR0PcTczOn9l6v6hNvOicHRktSNPqsCzGjqE35AL2ALEbLYQF+O/MazwE/aiNe9yQS4srmu+sIAhNZFaXKAeCUe+hgxn5N+LZFPOclfsz3CNbKZUuzMAauTWAWUCzDAdA7c9AcEjDhMBs4IL3Gr5thic3HGmcOcOHKAiWsI9TMBPJUjnHc2ncD4lvHvwu/+u7/Zky4K+pNrVnP0Q/rvVqnAsTcXrGMBPS+ZsGkSNzh4TbhAscCihCRp7suAGM8e1GoADqxW0rB0JHUWh17cRtEEOCmFcdnXg56+D/xRiN04WdnAtpIh1rzmSkA7ZeSD6LrKKneC8MAB3FtZR5DZWFYxOdlBD37VO8HSCOwGeAvJS4KpVOAWhtZyrQfOETHchja0YFsARJuASj4GlPwnsYpOQShRpq4rAOlEDJdutfyFBvcU7CeAarY2g1srqpVzka3OcS8OqNhAmnoo4SgkCzGge1cad/pAYDoXLABASuR96XqnUYdXIKLnzMrLuErJLkUvQOg647kBAPfVt2wExDogMwXBz64KKMPBwTO77Mu+tovYQuyd8aNACHJO1KEFWyJ2vcyfQqzltZm6kpdxevXzkb5WJEwvzE8AMoi4co0ZKENSLMoksxfOxQAVb3flcgf9SyuQ/IToJuOAtEKNmocNqGyqbCOAGLqN6PuQmn1B9+lYYtc0Ius+ZBfAV/sNuPv4OMAT/dO6ao05blbfQfQtu7j70zf2Zz0KuR8Am4HAYcIQ8pQybEYv27jUWeMqTy+8/AtP99/OZQpYxZgAnNWOfhJ+gUa1X+sk7H5GISZ4PXK5WOSvD5mZrurwz/WAMh0oTNhYfAEG5zoQZHBOSQ9vOAxL7NVqkEPST0csprvAU2tYw8OOv4EwmUE4nB/1/a7T5UkGKx6+gvJIKTm5gEMAbGwnMcLAHZpXoQTL65sYuGuBdAhtEdyXesPyf4LsX2KAJ4FG8NQeKdP5Pf4JFHeTaX8Ttqe5x9Fe0YNLnbk6rjTAClBlDB6HcJz+6T4m+NE5Zeb2hGwZ/husWlOi8+XzzHGCgv/0/WT2JUAAAAASUVORK5CYII=\",\"data:image/png;base64,iVBORw0KGgoAAAANSUhEUgAAACAAAAAgCAAAAABWESUoAAAEK0lEQVR4nAEgBN/7Ac9FxEnmNBHyLwnKCRd/Zpn/wDbCK3jMcYbH+p5EjzurBNcK4yyMNIG+1SfwOTajmdBAVNPgDZbdJn0kzNANY4APAmlsP18x2N96LIRf2OJVqiCY9boTDM5pVGRpI4XbQ04JAAkfFVcZx9HvaxZgNxMihK0moYPa+xu4v1u9HIOP68NnBJYGW/qA7MQrhQr8B3QXkiDk6TZVVpbs2xD1nDtqIARnBDO4ICbHLNOkRJmfsS59gNpm7cO/BZ534AFaPQM06eLOAgRI0jpVt34yMDbaqay9Fqth8h+fuw3FekRpQpycDYM6AokrK1gE/qw7Bmqu+SU4CupM3+3ApNp2+v7vVuzf38kLAb9z3HeoO39jqdxTm0VP7GQiIez6ev/x8Ef2x1/1zvBqAoZE+6BM1MrEBAHa2iWjXxCFQfnVO0c5IVwZmCDYRyDrAXP+o8cLEcLX1LU0HSKRVBOnXIHyF5UNFl0iJOd4AUW0BMXxwerhjoAcf3E0dCw0+O2xPfRQzwD+TSBDhS+fxej+BFMmBtO6zAqxK1BSmV3bi7xH6Bjw1Zfca+DhRIrPSgzgAp/+BOxdcZfiGUuRJ3QtajmKxxtqGNY1ERYxAHPprkyVAMVsjuBj3KWH3IvMQC/8AwfzyTkjo5QrSBmzVsgsCO0rAVW6Rh/E/J7gR2I1cQgvy4dCjzkL+zRQs9uaibpBnUAvBB4mXiHj0vUWrxJBFHJ0Aix8qIYT0z42coE2454mafNfAcRVr6VaJRHjEe/9q+d1ynF2PAmpVMaueqr9WyG6BvMKAaz27gVlvulAYR027oHeRw0uSruoW4ivtfOqEMovMjurAS0b1iwCUbWwG7toNqGi+8sT9yoc3p66UhrbLVn+5LfVAdxvMRnUNgwwNfmSHisaiHPWGCxv3kw7vr2K2+iqAqdvBL/8VwbLwbgNWWF+rcMm6bW19ulaaR8RB0z5xBMv9Sc+APLwjv3S51fqqngswPJpufk5rKymDbZtUuoTrxw4t+6jABaccyev5Nf4wR/f1ur2KfWjs4oKaOurj13ALvgWIsfyBAU59fa2OOLZ44sGuxkFI9m6CQOZ9O+GNXW+cBO7iY0xBIr1FGLqgLX/8v4lm7aMQuoP4y+plW0ICBvEkYgZ6VLAAXTY+T0LslZk9gyYL68gowSzSC6kEcgZPhwbSArzCUKJArM7xD/HefFv7I8dPAWyeSH6k+WrezZzjqHoUl74iAThAB6pzS25z0l/iZYC0RDQrvEs48MYtAAUOfD30j8UG0hvAgYf4iYGzHgOhPGACj6ZZIHm0A+gvh1JWDycEmzHlsrdACog2w9X2yG/Aoil2B+i7vKJOiMwWBDZqo3SZSoKL6ktAJZ5CWI1dd5HxDoUkzG3G0UsNGbBWRGJWwSu8OWpBSab0Qj13/cy878AAAAASUVORK5CYII=\",\"data:image/png;base64,iVBORw0KGgoAAAANSUhEUgAAACAAAAAgCAAAAABWESUoAAAEK0lEQVR4nAEgBN/7AC0RGQMRpfDS99g9UMACIEL0wzERxNJKL1LNqu7DYTThAH0OyTLdCx1kUYu9xReSyDW4ft3dcNj1SV6rH85R3pDCALVUAmLLFcMTsDjdRa8naQAmA+gBzF+S4pIr4VUocRXNAQCSIeTd3+N7/97B2DSYw/LzgbA6Hbtffz2cJ08SiA/QAKkUc1DqBB58qrUipTRAOVUQ2UFwu9N2ybjqNMg12X05AiA7QN5RxDeeAcxBVz107+b5bIfohoT4bbVPwtvvmbztBHLFMgxpo08IDi09q2+83Gq0A6E3dcTp1TONg3m+tkoYAZbikrI+U03dV+saAXp06Qja0qJuohkKPcWnE1caa9UZAEfnMhmJEos/X276zRc9TOqi5rf+lR1IeevGKjA98zohAE+6oonzekKumZyl1pzrVA1MT9tDD4DsO1KuWOtu5e3MAg7gdAr/bQCEcu5MrgJP8MU13XFEVwAx0ZNvSoslfZFHAF3oLkUa0vlo6opCMKlOEJgmZA+YPbvIZxZvzCwD5RiqAqAgxhfXYIsjhgc4uRVWNyEt6WNvXVwOKONkPjD0jVLkAhdOPSMmuoLVDTdBwpG6fBewUIktKyIR5GgKVN0tK2HhAZBk1l/pUr84lzUDzkn2LbYh28EacvsRJUt8odTr1b7kAUEMTNE6UBvT5eDRVvn6941ZqcnBEPa78Spr/s9m1NPVAv4AT8VTjn5K3qOyvcS6+Uaaq3rLMHv2ELgiguoo8+ZUBIocp38Rx377GYKSLmgSLEG2F+37CDN//O6LwgvjI16YAvDsM0Y7Mz1i408CSD2ekzEU8Zdh/n8iJWPRM6KlwcvTBBuzs/k7cmVCCD5AL5690IlWON2tw3PxTn/RXwliR2f9AdIo8tsYPihf9gySFPQr/+8MfVCjoQRyWERqCmtr8QBLAJ55m+UWprxGj2EIlaKwOLGUY4sK1i7Yr2JCC9o9vE/pABpl9NYfa2BVt5zqHp8oyOH1qwRvOuOVZAOLQ9TqYR0qAmuE3eDRIVDmEYP0F9fw9c5pJqMeAMmjFG1YktN14bgjAvujgtQg1h5Y2Cxt4UDpRcM0vutl3UR/I/TXBsJ9T6W1AFdre8OZ9IzkQikXr7eB2tqM2w4IpkcyGd9KGaT6nPkOAFh5uTRL6/KcY57+Xq0jHQ7H+Ek3qs0nqBiJjyfs6po9AKjRHBHmKCCA8LZBTvqvvlNrAJ49XmRbzzA6jk46YescAvrrYH+Paufh8Jg60jp2/lmQwdqFRwcv/vvPX/LpmabJAPX9JX1UJA5pdv6+E3MA9VcZYFngYkB0MXzhWhL+YeuuAL1rBTxis79X+R8CLSz9jpTeC0fpy0YqejgpnuB+SwrkAGi6LFSOCvXhXh0g+BfsDwHg4MOZEfDCecPtKpuC39aqLob86F3cdIIAAAAASUVORK5CYII=\",\"data:image/png;base64,iVBORw0KGgoAAAANSUhEUgAAACAAAAAgCAAAAABWESUoAAAEK0lEQVR4nAEgBN/7ADki6+dSwyf5sCn4hNzyyDJ5X1E6gmDBU3TQIDx5zn9GAus0VRTUFFUQqAOjKx8Os/k25Lo2GOtguC5aQhgqVyJnAg9fmmztudEl7wTVTc1v1pMfGn5SWNE6u7p6/I+N6J3eAhTiB7z4FKn+LwceRapyTWRwI+h4fJoLYO3ATXefOWYVBJIiQaFktuysXjKwGhEXN4GPXLUVXygfNt9IDZbE6curBM5GFq70qQqhcEGaFwcxyuz3rabywALr/RCj3cU3j/z9BKM20NtKbgP2gQWSBeqfJp0tLukjuey97+MyzGUFoBQYBFBHbBbiNgQKHwJFLu/pRqMi9NeD9yfBaJfGixWAxzPxBH4BxbAAE8JqBxVB2Mgtj47o0vTIV4z8rfvs73fgS7JWBElBZ9jjUf3QSYa6J+Jwql4LXvTjybyUBU3hwaLNx2t6ARKyI7G0FIwHbSXeING9NEUrbuQWM+ybZOKE9qCC34HIABEqa2uUzUWyC5r83w0LNjLaxchFJYcOsFxEwy19W9p/BDFQ4Z3IbFRFYmwS6TwIsOJNNA3/r9BSSzkZGHp1VdgHAOZLEH3EIi8gs1HOWTimHjUEaD3aliOn4vQokQZ4yeOdAQPjcNI6l4zRKaH28CH4PQei9WzkLlPCVqbqvSC6Mi2nAEJWpAgGc1sAgjI/RVIHNLxIMulT/rum+C0QTgtMZT0WAGWkTJsZwa8+9ksoss6nshioL1/c7ZawqCortnPicU4EAY60p8/W8C782nIQz5dobCWInIYeW7BqJdP3wQdvOCKaAgo6Sx2QlRr5Gy3SHBjKPcrGLmK2U/cEUtFSzMpf8goYAAWB1XmnJa1S8t7t5Bk/cZ0Uuz/Gp+TEFhRsPs/EiqfLAoKlkOSF9bCwUzBfwQVI4eQW1GubM+xGxEDkS1r62yfaApajuSXVaUbN/PC4iRg6vz+t800lq9z8/wFZJLgClAVrAUsgLhEO1l4tt/Up0jwJnObWyZ8KUdGqaI4yrOKP4JYFAOR5IMWoA95yZ0wFtgXk/SM4vWatwm6DbajSqwirS8FGBFgAskQzyaJ++tlzNCaUIFWzxAgcPeRHlNy3qqzJvqIcAAG1GaIWdzbHkKmzP/IOL83e8+KmPBmD0n3Q6IK273e3AT+0SQGezfbfPOGjWtQBHfBGOBKn0vsDteCvMXtIZ4GLAmpS2KiICSTEPkJItPYI42vRMzvdQdToZ1kSxu+JE8WmBOmW6cwnH5yihxgIw5ddJy0y/uVerb8T6MXe+W1lpnEoABJDK7En5SILxYn2ZR9hEVjocfQd5Fx8lP1/x2ncB/f+BK8QKWncNq76wu+nPhJZnFTRwGvl4EL/6kFxD0j88noFAEi8d+XH5D05hwk4TVk677nXlTHkt/s9vufAoq1qJX8ElQz9TbTzwpoAAAAASUVORK5CYII=\",\"data:image/png;base64,iVBORw0KGgoAAAANSUhEUgAAACAAAAAgCAAAAABWESUoAAAEK0lEQVR4nAEgBN/7ASW/FHYayV9rSTE7v1su/kP12BUzKYL5hhYSKFT74V9wAKnBZM1kl7B+AEH8LELe0cwKE/0y07II0YAeiQ6mcnPzAZqpxU8KDjKn1pVWf1UA5PYBuxUTpiw8mFrLUQgeRVzkBIayaL+gC8JJ1Ry23v/O/tbFCU4Wv1eU5j5K6FNl4WYiAMgDfnMJLXcGiwDlLN3TlP5Px8Qub2HtJ55+krGNShhMADnTs++pEJdU5bFiBRq324mC2kMbdJRcQfXtFHj299xwAYzLDcd67S6ocAsD0it5CiToROgo0M+TtPPyk5apkSAAAVLEagobSdG9YzdHcPo2vgqCF9PDNEPqOb3U2xXnzcrJAQmnA8i4waPK1yxw0AR0I2aEHm/GO9Lz3WVOuNkGS+cPACabFXodylawp+qAC7tA1raL3kvtHDT1UhAqZSNAQtdpABkoIzrxTsTbSHqzU7+LPO8eK90ijtzgwH8xtRknBRH3BKPt8dWVD0GjW7S0TSJPcI2w2VrA8aKgHV/bEP5NNYPGAGRcFZIil6dKlvS8FLI/FgxQh37Ahwl9kyKP0TcvpfZ3AgdQqsUgWcfgph860BYjqtOuRua1fhz810AgADi/KCD6AoQiA0e+38O2QsJULrZNfJI4Xovp/we6stMY//R/403OBEx7OqFilo7M+SM022LY+qsSXuLX9X3vBZPwB6UBA58ZABGWrCo5sfcx8cAU29rpXQoaMRtmOecnEAoq3pwhjMyOAA8CIvxry/MY8q5tRI9R+++yZc20y8ZNDALU0Mb8TtGfAY062wdpcU9yEx6A/YBB8paBMpMc8D45qxq802kfOTAlAMdVGMf6X62kr7z7nVZhSNNczxs5/tsBSMOn5SPf9YJvAeO4I60wUE618kFp/QH45lxeaU+oSakKoSnkU0sSS088BLJOoWg398KXTm0T+d0FbsiY6SFM0X75ty3Wuy+coSC7ADV1KQXyCxSPatRBcynjsVm9uxMPr+34562cBL1DNn9QAqwoYAd6DwEdYiY+TZwL3O0YcWXNvJwM1dT7/hLWy45VAqRLRjtFsvmTNHPeAWMayFptEcLSszOxbhjZ6Hs5NDPmAbj7RRtVFgpUuWNGGAs9rimOb2lfp3Ab9AaqFiwh5qp5Ap1+3ldIpO613lhFOV/y1+dpMm6dOYvtLy4F4SPPNSxdALYXDrolI5ISE2jujfjPdDumCLvPSijy3jVixYVGNK9KBDHiXhLr9aKdFxTIIxurOPVo9kQUQLOJS0QmWAoTEG2wAgILbPJxc/Yxr0pbFhV+0GwuVpsp76UUWvAsVOhE9JSPALhdV5qMM9Dg9Ksytq63fNsTsioP1xcd7iM7rDmY5B6fAAtZwB8HkG47w2jZnPUUNwxKBCX0JQb6W7OdYeR9ak3iikjt5Vwx+OIAAAAASUVORK5CYII=\",\"data:image/png;base64,iVBORw0KGgoAAAANSUhEUgAAACAAAAAgCAAAAABWESUoAAAEK0lEQVR4nAEgBN/7ADmXgvYEeQKUtmEOc9vUOAtg6kpCpqnkcgHcgAqCWLvXBL+LBsgKIRgGpzjbc7iVC4Y3mwqH9kQxfOTC2dkuwmVTAcE8DCWn1EuQZiR4y2YqR/49Ch481tQNEQ9matk/c1eFAs1hzueeOngCgXobFVibxjdwODTXJ/yFZsnsSsOc33VyAQ8vNfcUh2XG5wLavt97F6lEIyozRpp/LcvSXxFa21rsAiUWH58AnJsC7xO8fAOb8leo1A/Y67sXq9ZAalA5gfSMAhM6xuL8FhfWdtICgVD2uhG6Y7wWhlFbJhB0mtEzGL5pAa/7peb5IdnAmBtjvw3dUZ/petcG5CL3ITL2xX28HFfOAu+S2kScDnOykEUVSgbsHOYciakGxj+I351f3gD/xeN1BPkIiJJMmO/4nUF69VxDflz68j/lnM+/2xnm/gEi/4N0AeGyLe7x7hWseCb7sRtQANWN6hnrJoxP6xvFyB0hlWERAD3WnzMaaEWKIQ4C9tp3Kbx9CGc+j2bt5TWSADTRTbG+AsdFyJ7+dy0MDaDsjr/0o+arOyWAgQUByEJfTZfH7UCWATQjnc/VAKUE2CCXwJBilpbw1bvWcKagEc+h9I/63/3VAZ794mo1vtLqp1Oi/97tD8h3Dy4181k0LT0Opj0VQmmgARrsavmXIAjCvAt0BRLYPQkOzH4p/kfZHg0M9fStYW2nAp3mA6aiAIonANqujMj0vrWJGxalKiwocFBNeV8GaKAiAeGgVgmpx6T+TgLIcJRIeR5sM4yx3pd39ij6n+gVA17iASg87th4p7MKOwq77MFl2Whp+o0bE7ns9QB4tv1lOEAxBNb9PolQCi6Ys0sBncSGUJDFTk0nOwYGNUTQDcnMOnOfAsAhv7YTnfQzbPjo2kqvIhYZdtZnjWh6uhUuxm7/SCKTAuq8V+8vfWTREL/AE+GBl8LJHc2Hvbf4nsAs+DCoDZ7/ATjjEKVR2AV/3iT8loSjBc9yM/0h6PuJfQmHDVQmDR2NAlSx23livGL33Q2sbAiNE2Re7kJQ0qgFBBH0UzDrqW17BOLy/DWtcdzsmSRcO0Xk9RvZ49V8q/n6q1vpHifxI+7IApLtx+D8B+NVBvdBw+lDziUKm8L3SgeufD6lE5Ge6E4rAomwsS1XVQBL1I3y6uYwAjVjOvgou+/I8OeNzhrAU87BAulmVXkMyb8pLhAXZpO6tzLx5A8b6gbJSl4kFbReqFv9AOcFtl7PVZoBEAjg+KvJ8hwiI9kFIDVBsiawC07poWQxAjzbM7icUx2F/kslnnrEQUWGSQ+/BmrCRCcHDP7r1dEVAa7OI+gGgYBd3ZOxAMzesaPdF9sBzGrTBLI718i/pVgXBAL3DogTzA8lXyVI7lDdJEh/L+Z7iGXKWvz495RhDtlYuXn72Zz/2bIAAAAASUVORK5CYII=\",\"data:image/png;base64,iVBORw0KGgoAAAANSUhEUgAAACAAAAAgCAAAAABWESUoAAAEK0lEQVR4nAEgBN/7AZ/ZUxCY+BHX/o05OrtK3O3N+zM6SFM/G/YujkME+bMFAFarM0zsEZkvvVcW7HPRZEnuDCNwudD5zwRxcveXNlj+AG1niXMnika/GMkzOKgG0/vZM5nK5kWzHQYRM1PRGdt9AHUpLikV443KSua2cyDcocg4vfLND6oe0AI5749fwa6tAICZ0n66UePGH4TzNt5MzU4qeBuVYUtWh+96WRsP2RV9ADj6cNPcAEcVHp1SPSPvN+HINfaLN2HHIznTrp3BqU/jBHYASbGzrSDb9rvRJ5rfoISsKKdSG8Q39Z5zL8idntTTAfP62B82VcO3mwSTD6pQZa6d0/a6xwbvY/kb5rz9Dak6AA5YYmjbWrmJ97L6FDCNU38EXCIFwCg8euE+uhzkaSViBBgScegUiEL3/fZsee76TMnTq9jvYs8jzRTgPz8ZsWZOAoP3usc/pguM0Td0fewCG1pGVP3rTzTjFACwQiY2KwXCAt4ZxC8wyMfXtgOEr9goI+k/ULztCymLoa0uXR8zGSqRAjn2qcwarVTVZGNuaz9X+43p6RfiHBsN222JMT8OX8S1AfWTAb3CuDxV0+U09GTHKbZpJ7f56LmBZzekDj7WZQ1hADI8bkdHhzHbzMYfohwv4gs7/ZOct7I/9YavjeYL32PkAgtBRJksV4RVde+UxQQv8JeZNAziwLVH61rV3aAm4eUzBLwQS+6aWdOnOacmA1At9QFkudmq6oGkEfjyVK+WsmN+AnaixfE6cQAS8zDrU6bwHmBPjWseLKoHf+5K51eRTqq/AboG60wETh4fwRTJHaAsVCg6y+pL+ZU4mt8pfiqpaqHOBLIp5724eVItlTKyDmSNB+rHnGn8upgUNn5askGSGzTUAQ1d+5eZa5HE76ULTz5i5kg4LtcNVvT09JT39KF2iJjBAWBKuiRlyS3CIK38pfdz7hY0KJI79Gb3qWzaLBdA6IWIBPMJOTpE5wNWUrV44Ee2AgZ/OOicepM0Z1LJ0vsXm3QhAE8bwIwkEV3OJPW9XNe76Fjp5W+eGKvNkig1+DtYah/8ACqogRVuXZ9XbPvVdQ2eXPkBCusbsANo56QhdgN5kSWKAoe+Vjar+vQa4EfgKCsBQYWWGgoRSp33LKz7eYfcOc/IAp1j6/oKe5ICdSC3SA/VD5W34EYYsN0fJ/ENpYfzv3GYAthkCew1FJtQzSrXibZ1BqzuhNZNU8PPOgaKQpwE4klDAJ+UMLH5cc7HXiVSW+oH8AmReG0Wb+MvPdG6A1os5KuuACPMwRDv1CypPqF1CKCY0tZJFDrp4gaelTrg+ySayohbAnY8VzAC8rnkrqEkIBJs+ssCFi8UQFDXJ6zKPNwBfYPAAGi6FOUTXqkYhLx3Sz8ppM2+CPjYNNegMNO1632/DG8TcPn52Llrv4wAAAAASUVORK5CYII=\",\"data:image/png;base64,iVBORw0KGgoAAAANSUhEUgAAACAAAAAgCAAAAABWESUoAAAEK0lEQVR4nAEgBN/7AH9IwzGJlslcF/sGK6gkvzDZBz/FKLDN+lrWFOD8EAp2AQJa2NoXMXtfEihR+evHEPjE6g10QqFbZIsC17CQFp6wAZYZoxrAjBK9tA4IUGRV+cv7TYP07xAFBXkcybjv9gdLArLTSMQOmm3Cg0/YFUw7pFQx15nUf6osmhqDG8j+iE8WAjZkxaouMrIvzycL4SdVEs1gKzOygMT/U9pi+a5q/OzGAEOl0rZQ19vhPL9bigO6qk1vCyoJ7rb7GnbAXObs7q6bAHlR5naXtNgkaYTcGpzvA9gdVrJd9zlpvj7nkvGTOWj8AX5PiMpLhdGnEHkFC1nN6gQzIOZ1yPKo4pLlEqPk8QOKABVQxBhrniLnmfWqC1qp4s9aEUeysSWQORjVXbyhTOkkAIjPW+o273TpBhYqZ8gma665MlQSzCLaSwGfSDDGlOQHAo/ZfBFufx2YsSy+6KMUyOmJw8ZJvfpTJKhx98JD/EzuBKaHG5XsKZXaywoAWMii3DYsm2qkUpbU5esJ6OVnxky7AaJBcF8CCSf8187lcrhy5cxMs9r2DmOxCHDdZdDpvju2AAjr6vAzvk2GXdOhxD/z6KKKKDrx6fHC1zcLR5RME6a9AudQy1DqOcWFBGoxCBOGR2dF1hMtL7fiwh8sAi5C29ONAiN4yrw6I3kYpVO90EDZdGs777YFq7jjIQvvMNMcv9ckAumlf8LAIeuGSmSwFOtyMAoD0mdSaeSX4P9RM5cQ2PpuASFhYxydRmgbb8bz4fgbQTzWOA/2q+cDepVYWDHVYQ8DAL/efnne8gT8x7RcYAqW7Q1uMl3qups84RetTBrTG3tCBIE9exnS3sP3/BHgJLzAGqZbYgFEhuzE5qMheeK5mWfPAhNrQjjH+dT/04GKpBUa1bMiICAEBHVqNOq5rLL93pyZAexcrNpzMW1ELEDxDgAOYApq5GoMv8ZpxbkCtzVn/Fd/AqyJmB/DLKWeaP71vQ6uHSJE9iAYMjsbcJNfUfqM2+TiANEwWTV6O2UAYAw+0APthusJEF8P87mWylDoqCyBQKQ/BCDG4fJJY2VBJOSfQZbl684GwOwZRuo/zYSZT51JzQirAmbKztj5G7L7IHa5rOFI6WTWN0LH8lt9ZGzzDuXxAnNjAoApDpS4CBLeBwwD3isMDxX/PWK3MPaaLXCvI5LmCXKlAK00zv0Dyf2ZmT1wsJrVLbt19z6X+TY8Yi6lUhRh378NBBIczwzEfREO+LCKGDIaaZ7y3CcNQfbuFksGdVNehQ2pAT929MTZkXITI9jhYg8YlZPJxz0FF3g9ZFr5sDyYFMN7AZOVXQd67w6gSvc44ubRaGkJdw+KqtwTRwWo5wtUHgL4BPZZHMEFd5sXMQZRZ19uFE/cSWXX0obMJurJak0y881AGLf7xYvaJ3oAAAAASUVORK5CYII=\"],\"x\":{\"__ndarray__\":\"T16Besq62L+TGT6B4EsIwJFKcI5y5fE/WNX16VqK+j/DcSGKj83ZP2X1EQ4s4/i/27kE/brkyj8rjDukuiXkv7dLzxsl2/a/BxAqmVvm8b+VnP3wo/oJQARxXhvXrQBAZ7mC8GW29b95XjhBCzMCQEvhoOr/XQVARq8JBrVLAEAK7Skgc2j0v15L+L4o78y/n75qW4s94b9BNgodeJ3zv5nPIni/NxFAPNO6R4REA8A67qZpC6C3P0uVgaOEU/U/cWsc5naU9b9OSq+fjqn5Pym01QgR1g3AQjUTrUzmA0AsXKYihdvkv1e5J+Sajvy/7IyThHsRAsD7QjN49Rnivw==\",\"dtype\":\"float64\",\"order\":\"little\",\"shape\":[32]},\"y\":{\"__ndarray__\":\"hA74pwPfBsDsbSv49zcDQA7dc/V0dhFAL2sO73pj97+6YjAGr1UBwDA3c57mztC/Wx0EUywI8b+O/wvzSHgOQLiqh+rH+9Q/0DrUA0TM9z8CJqxJGvXov0l5l3xTd+s/NGnnKqyj8T8JTQ2IoaPTP0EenHv9aQJA3sScsXmfuT+l7+NLjKQDwEbo+wu8fve/ZP+ps6tN9L+OdNnvoePrP0cV5ftI3QlAU9ePGdhA9T98XDrQznjoPxl44Wd8M/u/oV/J8A5t8L/Oz05BUEP1vxLNzl0aZ/M/y7Abo+5KBcCph/LCZ5LYv/2uc7hh+fu/pk7OfL7dir+YpNCONSb9vw==\",\"dtype\":\"float64\",\"order\":\"little\",\"shape\":[32]}},\"selected\":{\"id\":\"1057\"},\"selection_policy\":{\"id\":\"1056\"}},\"id\":\"1002\",\"type\":\"ColumnDataSource\"},{\"attributes\":{},\"id\":\"1038\",\"type\":\"ResetTool\"},{\"attributes\":{\"fill_color\":{\"value\":\"#1f77b4\"},\"line_color\":{\"value\":\"#1f77b4\"},\"size\":{\"units\":\"screen\",\"value\":5},\"x\":{\"field\":\"x\"},\"y\":{\"field\":\"y\"}},\"id\":\"1045\",\"type\":\"Circle\"},{\"attributes\":{},\"id\":\"1026\",\"type\":\"HelpTool\"},{\"attributes\":{\"active_drag\":\"auto\",\"active_inspect\":\"auto\",\"active_multi\":null,\"active_scroll\":\"auto\",\"active_tap\":\"auto\",\"tools\":[{\"id\":\"1021\"},{\"id\":\"1022\"},{\"id\":\"1023\"},{\"id\":\"1024\"},{\"id\":\"1025\"},{\"id\":\"1026\"},{\"id\":\"1035\"},{\"id\":\"1036\"},{\"id\":\"1003\"},{\"id\":\"1037\"},{\"id\":\"1038\"}]},\"id\":\"1028\",\"type\":\"Toolbar\"},{\"attributes\":{},\"id\":\"1007\",\"type\":\"DataRange1d\"},{\"attributes\":{\"data_source\":{\"id\":\"1002\"},\"glyph\":{\"id\":\"1045\"},\"hover_glyph\":null,\"muted_glyph\":null,\"nonselection_glyph\":{\"id\":\"1046\"},\"selection_glyph\":null,\"view\":{\"id\":\"1048\"}},\"id\":\"1047\",\"type\":\"GlyphRenderer\"},{\"attributes\":{\"below\":[{\"id\":\"1013\"}],\"center\":[{\"id\":\"1016\"},{\"id\":\"1020\"}],\"left\":[{\"id\":\"1017\"}],\"renderers\":[{\"id\":\"1047\"}],\"title\":{\"id\":\"1050\"},\"toolbar\":{\"id\":\"1028\"},\"x_range\":{\"id\":\"1005\"},\"x_scale\":{\"id\":\"1009\"},\"y_range\":{\"id\":\"1007\"},\"y_scale\":{\"id\":\"1011\"}},\"id\":\"1004\",\"subtype\":\"Figure\",\"type\":\"Plot\"},{\"attributes\":{},\"id\":\"1018\",\"type\":\"BasicTicker\"},{\"attributes\":{},\"id\":\"1056\",\"type\":\"UnionRenderers\"},{\"attributes\":{},\"id\":\"1005\",\"type\":\"DataRange1d\"},{\"attributes\":{},\"id\":\"1057\",\"type\":\"Selection\"}],\"root_ids\":[\"1049\"]},\"title\":\"Bokeh Application\",\"version\":\"2.1.1\"}};\n",
       "  var render_items = [{\"docid\":\"164ae2be-1f27-47f7-9a7d-6b22c59d0fcb\",\"notebook_comms_target\":\"1060\",\"root_ids\":[\"1049\"],\"roots\":{\"1049\":\"d5604728-f60d-4eb2-bc82-614d940c0203\"}}];\n",
       "  root.Bokeh.embed.embed_items_notebook(docs_json, render_items);\n",
       "\n",
       "  }\n",
       "  if (root.Bokeh !== undefined) {\n",
       "    embed_document(root);\n",
       "  } else {\n",
       "    var attempts = 0;\n",
       "    var timer = setInterval(function(root) {\n",
       "      if (root.Bokeh !== undefined) {\n",
       "        clearInterval(timer);\n",
       "        embed_document(root);\n",
       "      } else {\n",
       "        attempts++;\n",
       "        if (attempts > 100) {\n",
       "          clearInterval(timer);\n",
       "          console.log(\"Bokeh: ERROR: Unable to run BokehJS code because BokehJS library is missing\");\n",
       "        }\n",
       "      }\n",
       "    }, 10, root)\n",
       "  }\n",
       "})(window);"
      ],
      "application/vnd.bokehjs_exec.v0+json": ""
     },
     "metadata": {
      "application/vnd.bokehjs_exec.v0+json": {
       "id": "1049"
      }
     },
     "output_type": "display_data"
    },
    {
     "data": {
      "text/html": [
       "<p><code>&lt;Bokeh Notebook handle for <strong>In[18]</strong>&gt;</code></p>"
      ],
      "text/plain": [
       "<bokeh.io.notebook.CommsHandle at 0x121aedcd0>"
      ]
     },
     "execution_count": 18,
     "metadata": {},
     "output_type": "execute_result"
    }
   ],
   "source": [
    "show(row(p_scatter,), notebook_handle=True)"
   ]
  },
  {
   "cell_type": "code",
   "execution_count": null,
   "metadata": {},
   "outputs": [],
   "source": []
  }
 ],
 "metadata": {
  "kernelspec": {
   "display_name": "Python 3",
   "language": "python",
   "name": "python3"
  },
  "language_info": {
   "codemirror_mode": {
    "name": "ipython",
    "version": 3
   },
   "file_extension": ".py",
   "mimetype": "text/x-python",
   "name": "python",
   "nbconvert_exporter": "python",
   "pygments_lexer": "ipython3",
   "version": "3.7.7"
  }
 },
 "nbformat": 4,
 "nbformat_minor": 4
}
