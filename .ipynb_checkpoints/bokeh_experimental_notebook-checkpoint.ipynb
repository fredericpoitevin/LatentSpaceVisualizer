{
 "cells": [
  {
   "cell_type": "code",
   "execution_count": 1,
   "metadata": {},
   "outputs": [],
   "source": [
    "import numpy as np"
   ]
  },
  {
   "cell_type": "code",
   "execution_count": 2,
   "metadata": {},
   "outputs": [],
   "source": [
    "from bokeh.io import push_notebook, output_notebook, show\n",
    "from bokeh.layouts import row\n",
    "from bokeh.plotting import figure, ColumnDataSource\n",
    "from bokeh.models import PanTool, BoxZoomTool, HoverTool, CrosshairTool, ResetTool"
   ]
  },
  {
   "cell_type": "code",
   "execution_count": 3,
   "metadata": {},
   "outputs": [],
   "source": [
    "from sklearn.decomposition import PCA"
   ]
  },
  {
   "cell_type": "code",
   "execution_count": 4,
   "metadata": {},
   "outputs": [],
   "source": [
    "from PIL import Image\n",
    "import base64\n",
    "from io import BytesIO"
   ]
  },
  {
   "cell_type": "code",
   "execution_count": 5,
   "metadata": {},
   "outputs": [],
   "source": [
    "def make_scatter2d_images(x, y, names=None, image_files=None, clustering=None):\n",
    "    source_data = dict(x=x, y=y)\n",
    "    if names is not None:\n",
    "        source_data[\"desc\"] = names\n",
    "        tooltips_desc = \"\"\"<span style=\"font-size: 17px; font-weight: bold;\">@desc</span>\"\"\"\n",
    "    else:\n",
    "        tooltips_desc = \"\"\n",
    "    if image_files is not None:\n",
    "        source_data[\"imgs\"] = image_files\n",
    "        tooltips_images = \"\"\"\n",
    "            <div>\n",
    "                <img\n",
    "                    src=\"@imgs\" height=\"42\" alt=\"@imgs\" width=\"42\"\n",
    "                    style=\"float: left; margin: 0px 15px 15px 0px;\"\n",
    "                    border=\"2\"\n",
    "                ></img>\n",
    "            </div>\n",
    "        \"\"\"\n",
    "    else:\n",
    "        tooltips_images = \"\"\n",
    "    if clustering is not None:\n",
    "        color_map = make_color_map(clustering)\n",
    "        cluster_colors = [color_map[c] for c in clustering]\n",
    "        source_data['cluster_color'] = cluster_colors\n",
    "    source = ColumnDataSource(data=source_data)\n",
    "    hover = HoverTool(tooltips=\"\"\"\n",
    "        <div>\n",
    "            {}\n",
    "            <div>\n",
    "                {}\n",
    "                <span style=\"font-size: 15px; color: #966;\">[$index]</span>\n",
    "            </div>\n",
    "            <div>\n",
    "                <span style=\"font-size: 15px;\">Location</span>\n",
    "                <span style=\"font-size: 10px; color: #696;\">($x, $y)</span>\n",
    "            </div>\n",
    "        </div>\n",
    "        \"\"\".format(tooltips_images, tooltips_desc))\n",
    "    p = figure(width=600, height=600)\n",
    "    for t in [PanTool(), BoxZoomTool(), hover, CrosshairTool(), ResetTool()]:\n",
    "        p.add_tools(t)\n",
    "    if clustering is not None:\n",
    "        p.circle(x='x', y='y',\n",
    "                 fill_color='cluster_color',\n",
    "                 line_color='cluster_color',\n",
    "                 size=5, source=source)\n",
    "    else:\n",
    "        p.circle(x='x', y='y', size=5, source=source)\n",
    "    return p\n"
   ]
  },
  {
   "cell_type": "code",
   "execution_count": 6,
   "metadata": {},
   "outputs": [],
   "source": [
    "def gnp2im(image_np, bit_depth_scale_factor):\n",
    "    \"\"\"Converts an image stored as a 2-D grayscale Numpy array into a PIL image.\"\"\"\n",
    "    return Image.fromarray((image_np * bit_depth_scale_factor).astype(np.uint8), mode='L')"
   ]
  },
  {
   "cell_type": "code",
   "execution_count": 7,
   "metadata": {},
   "outputs": [],
   "source": [
    "def to_base64(png):\n",
    "    return \"data:image/png;base64,\" + base64.b64encode(png).decode(\"utf-8\")"
   ]
  },
  {
   "cell_type": "code",
   "execution_count": 8,
   "metadata": {},
   "outputs": [
    {
     "data": {
      "text/html": [
       "\n",
       "    <div class=\"bk-root\">\n",
       "        <a href=\"https://bokeh.org\" target=\"_blank\" class=\"bk-logo bk-logo-small bk-logo-notebook\"></a>\n",
       "        <span id=\"1001\">Loading BokehJS ...</span>\n",
       "    </div>"
      ]
     },
     "metadata": {},
     "output_type": "display_data"
    },
    {
     "data": {
      "application/javascript": [
       "\n",
       "(function(root) {\n",
       "  function now() {\n",
       "    return new Date();\n",
       "  }\n",
       "\n",
       "  var force = true;\n",
       "\n",
       "  if (typeof root._bokeh_onload_callbacks === \"undefined\" || force === true) {\n",
       "    root._bokeh_onload_callbacks = [];\n",
       "    root._bokeh_is_loading = undefined;\n",
       "  }\n",
       "\n",
       "  var JS_MIME_TYPE = 'application/javascript';\n",
       "  var HTML_MIME_TYPE = 'text/html';\n",
       "  var EXEC_MIME_TYPE = 'application/vnd.bokehjs_exec.v0+json';\n",
       "  var CLASS_NAME = 'output_bokeh rendered_html';\n",
       "\n",
       "  /**\n",
       "   * Render data to the DOM node\n",
       "   */\n",
       "  function render(props, node) {\n",
       "    var script = document.createElement(\"script\");\n",
       "    node.appendChild(script);\n",
       "  }\n",
       "\n",
       "  /**\n",
       "   * Handle when an output is cleared or removed\n",
       "   */\n",
       "  function handleClearOutput(event, handle) {\n",
       "    var cell = handle.cell;\n",
       "\n",
       "    var id = cell.output_area._bokeh_element_id;\n",
       "    var server_id = cell.output_area._bokeh_server_id;\n",
       "    // Clean up Bokeh references\n",
       "    if (id != null && id in Bokeh.index) {\n",
       "      Bokeh.index[id].model.document.clear();\n",
       "      delete Bokeh.index[id];\n",
       "    }\n",
       "\n",
       "    if (server_id !== undefined) {\n",
       "      // Clean up Bokeh references\n",
       "      var cmd = \"from bokeh.io.state import curstate; print(curstate().uuid_to_server['\" + server_id + \"'].get_sessions()[0].document.roots[0]._id)\";\n",
       "      cell.notebook.kernel.execute(cmd, {\n",
       "        iopub: {\n",
       "          output: function(msg) {\n",
       "            var id = msg.content.text.trim();\n",
       "            if (id in Bokeh.index) {\n",
       "              Bokeh.index[id].model.document.clear();\n",
       "              delete Bokeh.index[id];\n",
       "            }\n",
       "          }\n",
       "        }\n",
       "      });\n",
       "      // Destroy server and session\n",
       "      var cmd = \"import bokeh.io.notebook as ion; ion.destroy_server('\" + server_id + \"')\";\n",
       "      cell.notebook.kernel.execute(cmd);\n",
       "    }\n",
       "  }\n",
       "\n",
       "  /**\n",
       "   * Handle when a new output is added\n",
       "   */\n",
       "  function handleAddOutput(event, handle) {\n",
       "    var output_area = handle.output_area;\n",
       "    var output = handle.output;\n",
       "\n",
       "    // limit handleAddOutput to display_data with EXEC_MIME_TYPE content only\n",
       "    if ((output.output_type != \"display_data\") || (!output.data.hasOwnProperty(EXEC_MIME_TYPE))) {\n",
       "      return\n",
       "    }\n",
       "\n",
       "    var toinsert = output_area.element.find(\".\" + CLASS_NAME.split(' ')[0]);\n",
       "\n",
       "    if (output.metadata[EXEC_MIME_TYPE][\"id\"] !== undefined) {\n",
       "      toinsert[toinsert.length - 1].firstChild.textContent = output.data[JS_MIME_TYPE];\n",
       "      // store reference to embed id on output_area\n",
       "      output_area._bokeh_element_id = output.metadata[EXEC_MIME_TYPE][\"id\"];\n",
       "    }\n",
       "    if (output.metadata[EXEC_MIME_TYPE][\"server_id\"] !== undefined) {\n",
       "      var bk_div = document.createElement(\"div\");\n",
       "      bk_div.innerHTML = output.data[HTML_MIME_TYPE];\n",
       "      var script_attrs = bk_div.children[0].attributes;\n",
       "      for (var i = 0; i < script_attrs.length; i++) {\n",
       "        toinsert[toinsert.length - 1].firstChild.setAttribute(script_attrs[i].name, script_attrs[i].value);\n",
       "        toinsert[toinsert.length - 1].firstChild.textContent = bk_div.children[0].textContent\n",
       "      }\n",
       "      // store reference to server id on output_area\n",
       "      output_area._bokeh_server_id = output.metadata[EXEC_MIME_TYPE][\"server_id\"];\n",
       "    }\n",
       "  }\n",
       "\n",
       "  function register_renderer(events, OutputArea) {\n",
       "\n",
       "    function append_mime(data, metadata, element) {\n",
       "      // create a DOM node to render to\n",
       "      var toinsert = this.create_output_subarea(\n",
       "        metadata,\n",
       "        CLASS_NAME,\n",
       "        EXEC_MIME_TYPE\n",
       "      );\n",
       "      this.keyboard_manager.register_events(toinsert);\n",
       "      // Render to node\n",
       "      var props = {data: data, metadata: metadata[EXEC_MIME_TYPE]};\n",
       "      render(props, toinsert[toinsert.length - 1]);\n",
       "      element.append(toinsert);\n",
       "      return toinsert\n",
       "    }\n",
       "\n",
       "    /* Handle when an output is cleared or removed */\n",
       "    events.on('clear_output.CodeCell', handleClearOutput);\n",
       "    events.on('delete.Cell', handleClearOutput);\n",
       "\n",
       "    /* Handle when a new output is added */\n",
       "    events.on('output_added.OutputArea', handleAddOutput);\n",
       "\n",
       "    /**\n",
       "     * Register the mime type and append_mime function with output_area\n",
       "     */\n",
       "    OutputArea.prototype.register_mime_type(EXEC_MIME_TYPE, append_mime, {\n",
       "      /* Is output safe? */\n",
       "      safe: true,\n",
       "      /* Index of renderer in `output_area.display_order` */\n",
       "      index: 0\n",
       "    });\n",
       "  }\n",
       "\n",
       "  // register the mime type if in Jupyter Notebook environment and previously unregistered\n",
       "  if (root.Jupyter !== undefined) {\n",
       "    var events = require('base/js/events');\n",
       "    var OutputArea = require('notebook/js/outputarea').OutputArea;\n",
       "\n",
       "    if (OutputArea.prototype.mime_types().indexOf(EXEC_MIME_TYPE) == -1) {\n",
       "      register_renderer(events, OutputArea);\n",
       "    }\n",
       "  }\n",
       "\n",
       "  \n",
       "  if (typeof (root._bokeh_timeout) === \"undefined\" || force === true) {\n",
       "    root._bokeh_timeout = Date.now() + 5000;\n",
       "    root._bokeh_failed_load = false;\n",
       "  }\n",
       "\n",
       "  var NB_LOAD_WARNING = {'data': {'text/html':\n",
       "     \"<div style='background-color: #fdd'>\\n\"+\n",
       "     \"<p>\\n\"+\n",
       "     \"BokehJS does not appear to have successfully loaded. If loading BokehJS from CDN, this \\n\"+\n",
       "     \"may be due to a slow or bad network connection. Possible fixes:\\n\"+\n",
       "     \"</p>\\n\"+\n",
       "     \"<ul>\\n\"+\n",
       "     \"<li>re-rerun `output_notebook()` to attempt to load from CDN again, or</li>\\n\"+\n",
       "     \"<li>use INLINE resources instead, as so:</li>\\n\"+\n",
       "     \"</ul>\\n\"+\n",
       "     \"<code>\\n\"+\n",
       "     \"from bokeh.resources import INLINE\\n\"+\n",
       "     \"output_notebook(resources=INLINE)\\n\"+\n",
       "     \"</code>\\n\"+\n",
       "     \"</div>\"}};\n",
       "\n",
       "  function display_loaded() {\n",
       "    var el = document.getElementById(\"1001\");\n",
       "    if (el != null) {\n",
       "      el.textContent = \"BokehJS is loading...\";\n",
       "    }\n",
       "    if (root.Bokeh !== undefined) {\n",
       "      if (el != null) {\n",
       "        el.textContent = \"BokehJS \" + root.Bokeh.version + \" successfully loaded.\";\n",
       "      }\n",
       "    } else if (Date.now() < root._bokeh_timeout) {\n",
       "      setTimeout(display_loaded, 100)\n",
       "    }\n",
       "  }\n",
       "\n",
       "\n",
       "  function run_callbacks() {\n",
       "    try {\n",
       "      root._bokeh_onload_callbacks.forEach(function(callback) {\n",
       "        if (callback != null)\n",
       "          callback();\n",
       "      });\n",
       "    } finally {\n",
       "      delete root._bokeh_onload_callbacks\n",
       "    }\n",
       "    console.debug(\"Bokeh: all callbacks have finished\");\n",
       "  }\n",
       "\n",
       "  function load_libs(css_urls, js_urls, callback) {\n",
       "    if (css_urls == null) css_urls = [];\n",
       "    if (js_urls == null) js_urls = [];\n",
       "\n",
       "    root._bokeh_onload_callbacks.push(callback);\n",
       "    if (root._bokeh_is_loading > 0) {\n",
       "      console.debug(\"Bokeh: BokehJS is being loaded, scheduling callback at\", now());\n",
       "      return null;\n",
       "    }\n",
       "    if (js_urls == null || js_urls.length === 0) {\n",
       "      run_callbacks();\n",
       "      return null;\n",
       "    }\n",
       "    console.debug(\"Bokeh: BokehJS not loaded, scheduling load and callback at\", now());\n",
       "    root._bokeh_is_loading = css_urls.length + js_urls.length;\n",
       "\n",
       "    function on_load() {\n",
       "      root._bokeh_is_loading--;\n",
       "      if (root._bokeh_is_loading === 0) {\n",
       "        console.debug(\"Bokeh: all BokehJS libraries/stylesheets loaded\");\n",
       "        run_callbacks()\n",
       "      }\n",
       "    }\n",
       "\n",
       "    function on_error() {\n",
       "      console.error(\"failed to load \" + url);\n",
       "    }\n",
       "\n",
       "    for (var i = 0; i < css_urls.length; i++) {\n",
       "      var url = css_urls[i];\n",
       "      const element = document.createElement(\"link\");\n",
       "      element.onload = on_load;\n",
       "      element.onerror = on_error;\n",
       "      element.rel = \"stylesheet\";\n",
       "      element.type = \"text/css\";\n",
       "      element.href = url;\n",
       "      console.debug(\"Bokeh: injecting link tag for BokehJS stylesheet: \", url);\n",
       "      document.body.appendChild(element);\n",
       "    }\n",
       "\n",
       "    const hashes = {\"https://cdn.bokeh.org/bokeh/release/bokeh-2.1.1.min.js\": \"kLr4fYcqcSpbuI95brIH3vnnYCquzzSxHPU6XGQCIkQRGJwhg0StNbj1eegrHs12\", \"https://cdn.bokeh.org/bokeh/release/bokeh-widgets-2.1.1.min.js\": \"xIGPmVtaOm+z0BqfSOMn4lOR6ciex448GIKG4eE61LsAvmGj48XcMQZtKcE/UXZe\", \"https://cdn.bokeh.org/bokeh/release/bokeh-tables-2.1.1.min.js\": \"Dc9u1wF/0zApGIWoBbH77iWEHtdmkuYWG839Uzmv8y8yBLXebjO9ZnERsde5Ln/P\", \"https://cdn.bokeh.org/bokeh/release/bokeh-gl-2.1.1.min.js\": \"cT9JaBz7GiRXdENrJLZNSC6eMNF3nh3fa5fTF51Svp+ukxPdwcU5kGXGPBgDCa2j\"};\n",
       "\n",
       "    for (var i = 0; i < js_urls.length; i++) {\n",
       "      var url = js_urls[i];\n",
       "      var element = document.createElement('script');\n",
       "      element.onload = on_load;\n",
       "      element.onerror = on_error;\n",
       "      element.async = false;\n",
       "      element.src = url;\n",
       "      if (url in hashes) {\n",
       "        element.crossOrigin = \"anonymous\";\n",
       "        element.integrity = \"sha384-\" + hashes[url];\n",
       "      }\n",
       "      console.debug(\"Bokeh: injecting script tag for BokehJS library: \", url);\n",
       "      document.head.appendChild(element);\n",
       "    }\n",
       "  };\n",
       "\n",
       "  function inject_raw_css(css) {\n",
       "    const element = document.createElement(\"style\");\n",
       "    element.appendChild(document.createTextNode(css));\n",
       "    document.body.appendChild(element);\n",
       "  }\n",
       "\n",
       "  \n",
       "  var js_urls = [\"https://cdn.bokeh.org/bokeh/release/bokeh-2.1.1.min.js\", \"https://cdn.bokeh.org/bokeh/release/bokeh-widgets-2.1.1.min.js\", \"https://cdn.bokeh.org/bokeh/release/bokeh-tables-2.1.1.min.js\", \"https://cdn.bokeh.org/bokeh/release/bokeh-gl-2.1.1.min.js\"];\n",
       "  var css_urls = [];\n",
       "  \n",
       "\n",
       "  var inline_js = [\n",
       "    function(Bokeh) {\n",
       "      Bokeh.set_log_level(\"info\");\n",
       "    },\n",
       "    function(Bokeh) {\n",
       "    \n",
       "    \n",
       "    }\n",
       "  ];\n",
       "\n",
       "  function run_inline_js() {\n",
       "    \n",
       "    if (root.Bokeh !== undefined || force === true) {\n",
       "      \n",
       "    for (var i = 0; i < inline_js.length; i++) {\n",
       "      inline_js[i].call(root, root.Bokeh);\n",
       "    }\n",
       "    if (force === true) {\n",
       "        display_loaded();\n",
       "      }} else if (Date.now() < root._bokeh_timeout) {\n",
       "      setTimeout(run_inline_js, 100);\n",
       "    } else if (!root._bokeh_failed_load) {\n",
       "      console.log(\"Bokeh: BokehJS failed to load within specified timeout.\");\n",
       "      root._bokeh_failed_load = true;\n",
       "    } else if (force !== true) {\n",
       "      var cell = $(document.getElementById(\"1001\")).parents('.cell').data().cell;\n",
       "      cell.output_area.append_execute_result(NB_LOAD_WARNING)\n",
       "    }\n",
       "\n",
       "  }\n",
       "\n",
       "  if (root._bokeh_is_loading === 0) {\n",
       "    console.debug(\"Bokeh: BokehJS loaded, going straight to plotting\");\n",
       "    run_inline_js();\n",
       "  } else {\n",
       "    load_libs(css_urls, js_urls, function() {\n",
       "      console.debug(\"Bokeh: BokehJS plotting callback run at\", now());\n",
       "      run_inline_js();\n",
       "    });\n",
       "  }\n",
       "}(window));"
      ],
      "application/vnd.bokehjs_load.v0+json": "\n(function(root) {\n  function now() {\n    return new Date();\n  }\n\n  var force = true;\n\n  if (typeof root._bokeh_onload_callbacks === \"undefined\" || force === true) {\n    root._bokeh_onload_callbacks = [];\n    root._bokeh_is_loading = undefined;\n  }\n\n  \n\n  \n  if (typeof (root._bokeh_timeout) === \"undefined\" || force === true) {\n    root._bokeh_timeout = Date.now() + 5000;\n    root._bokeh_failed_load = false;\n  }\n\n  var NB_LOAD_WARNING = {'data': {'text/html':\n     \"<div style='background-color: #fdd'>\\n\"+\n     \"<p>\\n\"+\n     \"BokehJS does not appear to have successfully loaded. If loading BokehJS from CDN, this \\n\"+\n     \"may be due to a slow or bad network connection. Possible fixes:\\n\"+\n     \"</p>\\n\"+\n     \"<ul>\\n\"+\n     \"<li>re-rerun `output_notebook()` to attempt to load from CDN again, or</li>\\n\"+\n     \"<li>use INLINE resources instead, as so:</li>\\n\"+\n     \"</ul>\\n\"+\n     \"<code>\\n\"+\n     \"from bokeh.resources import INLINE\\n\"+\n     \"output_notebook(resources=INLINE)\\n\"+\n     \"</code>\\n\"+\n     \"</div>\"}};\n\n  function display_loaded() {\n    var el = document.getElementById(\"1001\");\n    if (el != null) {\n      el.textContent = \"BokehJS is loading...\";\n    }\n    if (root.Bokeh !== undefined) {\n      if (el != null) {\n        el.textContent = \"BokehJS \" + root.Bokeh.version + \" successfully loaded.\";\n      }\n    } else if (Date.now() < root._bokeh_timeout) {\n      setTimeout(display_loaded, 100)\n    }\n  }\n\n\n  function run_callbacks() {\n    try {\n      root._bokeh_onload_callbacks.forEach(function(callback) {\n        if (callback != null)\n          callback();\n      });\n    } finally {\n      delete root._bokeh_onload_callbacks\n    }\n    console.debug(\"Bokeh: all callbacks have finished\");\n  }\n\n  function load_libs(css_urls, js_urls, callback) {\n    if (css_urls == null) css_urls = [];\n    if (js_urls == null) js_urls = [];\n\n    root._bokeh_onload_callbacks.push(callback);\n    if (root._bokeh_is_loading > 0) {\n      console.debug(\"Bokeh: BokehJS is being loaded, scheduling callback at\", now());\n      return null;\n    }\n    if (js_urls == null || js_urls.length === 0) {\n      run_callbacks();\n      return null;\n    }\n    console.debug(\"Bokeh: BokehJS not loaded, scheduling load and callback at\", now());\n    root._bokeh_is_loading = css_urls.length + js_urls.length;\n\n    function on_load() {\n      root._bokeh_is_loading--;\n      if (root._bokeh_is_loading === 0) {\n        console.debug(\"Bokeh: all BokehJS libraries/stylesheets loaded\");\n        run_callbacks()\n      }\n    }\n\n    function on_error() {\n      console.error(\"failed to load \" + url);\n    }\n\n    for (var i = 0; i < css_urls.length; i++) {\n      var url = css_urls[i];\n      const element = document.createElement(\"link\");\n      element.onload = on_load;\n      element.onerror = on_error;\n      element.rel = \"stylesheet\";\n      element.type = \"text/css\";\n      element.href = url;\n      console.debug(\"Bokeh: injecting link tag for BokehJS stylesheet: \", url);\n      document.body.appendChild(element);\n    }\n\n    const hashes = {\"https://cdn.bokeh.org/bokeh/release/bokeh-2.1.1.min.js\": \"kLr4fYcqcSpbuI95brIH3vnnYCquzzSxHPU6XGQCIkQRGJwhg0StNbj1eegrHs12\", \"https://cdn.bokeh.org/bokeh/release/bokeh-widgets-2.1.1.min.js\": \"xIGPmVtaOm+z0BqfSOMn4lOR6ciex448GIKG4eE61LsAvmGj48XcMQZtKcE/UXZe\", \"https://cdn.bokeh.org/bokeh/release/bokeh-tables-2.1.1.min.js\": \"Dc9u1wF/0zApGIWoBbH77iWEHtdmkuYWG839Uzmv8y8yBLXebjO9ZnERsde5Ln/P\", \"https://cdn.bokeh.org/bokeh/release/bokeh-gl-2.1.1.min.js\": \"cT9JaBz7GiRXdENrJLZNSC6eMNF3nh3fa5fTF51Svp+ukxPdwcU5kGXGPBgDCa2j\"};\n\n    for (var i = 0; i < js_urls.length; i++) {\n      var url = js_urls[i];\n      var element = document.createElement('script');\n      element.onload = on_load;\n      element.onerror = on_error;\n      element.async = false;\n      element.src = url;\n      if (url in hashes) {\n        element.crossOrigin = \"anonymous\";\n        element.integrity = \"sha384-\" + hashes[url];\n      }\n      console.debug(\"Bokeh: injecting script tag for BokehJS library: \", url);\n      document.head.appendChild(element);\n    }\n  };\n\n  function inject_raw_css(css) {\n    const element = document.createElement(\"style\");\n    element.appendChild(document.createTextNode(css));\n    document.body.appendChild(element);\n  }\n\n  \n  var js_urls = [\"https://cdn.bokeh.org/bokeh/release/bokeh-2.1.1.min.js\", \"https://cdn.bokeh.org/bokeh/release/bokeh-widgets-2.1.1.min.js\", \"https://cdn.bokeh.org/bokeh/release/bokeh-tables-2.1.1.min.js\", \"https://cdn.bokeh.org/bokeh/release/bokeh-gl-2.1.1.min.js\"];\n  var css_urls = [];\n  \n\n  var inline_js = [\n    function(Bokeh) {\n      Bokeh.set_log_level(\"info\");\n    },\n    function(Bokeh) {\n    \n    \n    }\n  ];\n\n  function run_inline_js() {\n    \n    if (root.Bokeh !== undefined || force === true) {\n      \n    for (var i = 0; i < inline_js.length; i++) {\n      inline_js[i].call(root, root.Bokeh);\n    }\n    if (force === true) {\n        display_loaded();\n      }} else if (Date.now() < root._bokeh_timeout) {\n      setTimeout(run_inline_js, 100);\n    } else if (!root._bokeh_failed_load) {\n      console.log(\"Bokeh: BokehJS failed to load within specified timeout.\");\n      root._bokeh_failed_load = true;\n    } else if (force !== true) {\n      var cell = $(document.getElementById(\"1001\")).parents('.cell').data().cell;\n      cell.output_area.append_execute_result(NB_LOAD_WARNING)\n    }\n\n  }\n\n  if (root._bokeh_is_loading === 0) {\n    console.debug(\"Bokeh: BokehJS loaded, going straight to plotting\");\n    run_inline_js();\n  } else {\n    load_libs(css_urls, js_urls, function() {\n      console.debug(\"Bokeh: BokehJS plotting callback run at\", now());\n      run_inline_js();\n    });\n  }\n}(window));"
     },
     "metadata": {},
     "output_type": "display_data"
    }
   ],
   "source": [
    "output_notebook()"
   ]
  },
  {
   "cell_type": "code",
   "execution_count": 9,
   "metadata": {},
   "outputs": [],
   "source": [
    "n = 32\n",
    "h = 32\n",
    "w = 32"
   ]
  },
  {
   "cell_type": "code",
   "execution_count": 10,
   "metadata": {},
   "outputs": [],
   "source": [
    "data = np.random.rand(n, h, w)"
   ]
  },
  {
   "cell_type": "code",
   "execution_count": 11,
   "metadata": {},
   "outputs": [],
   "source": [
    "pca = PCA(n_components=2)"
   ]
  },
  {
   "cell_type": "code",
   "execution_count": 12,
   "metadata": {},
   "outputs": [],
   "source": [
    "z = pca.fit_transform(data.reshape((n, h * w)))"
   ]
  },
  {
   "cell_type": "code",
   "execution_count": 13,
   "metadata": {},
   "outputs": [
    {
     "data": {
      "text/plain": [
       "(32, 2)"
      ]
     },
     "execution_count": 13,
     "metadata": {},
     "output_type": "execute_result"
    }
   ],
   "source": [
    "z.shape"
   ]
  },
  {
   "cell_type": "code",
   "execution_count": 14,
   "metadata": {},
   "outputs": [],
   "source": [
    "x = z[:, 0]\n",
    "y = z[:, 1]"
   ]
  },
  {
   "cell_type": "code",
   "execution_count": 15,
   "metadata": {},
   "outputs": [],
   "source": [
    "bit_depth_scale_factor = 255"
   ]
  },
  {
   "cell_type": "code",
   "execution_count": 16,
   "metadata": {},
   "outputs": [],
   "source": [
    "thumbnails = []\n",
    "for gnp in data:\n",
    "    im = gnp2im(gnp, bit_depth_scale_factor)\n",
    "    memout = BytesIO()\n",
    "    im.save(memout, format='png')\n",
    "    thumbnails.append(to_base64(memout.getvalue()))"
   ]
  },
  {
   "cell_type": "code",
   "execution_count": 17,
   "metadata": {},
   "outputs": [],
   "source": [
    "p_scatter = make_scatter2d_images(x, y, names=None, image_files=thumbnails, clustering=None)"
   ]
  },
  {
   "cell_type": "code",
   "execution_count": 18,
   "metadata": {
    "scrolled": false
   },
   "outputs": [
    {
     "data": {
      "text/html": [
       "\n",
       "\n",
       "\n",
       "\n",
       "\n",
       "\n",
       "  <div class=\"bk-root\" id=\"491e1e4d-9335-43b6-81e0-1edc0e6688bb\" data-root-id=\"1049\"></div>\n"
      ]
     },
     "metadata": {},
     "output_type": "display_data"
    },
    {
     "data": {
      "application/javascript": [
       "(function(root) {\n",
       "  function embed_document(root) {\n",
       "    \n",
       "  var docs_json = {\"8240de29-53d1-4e21-ad85-462b7bee3212\":{\"roots\":{\"references\":[{\"attributes\":{\"children\":[{\"id\":\"1004\"}]},\"id\":\"1049\",\"type\":\"Row\"},{\"attributes\":{},\"id\":\"1035\",\"type\":\"PanTool\"},{\"attributes\":{},\"id\":\"1021\",\"type\":\"PanTool\"},{\"attributes\":{\"axis\":{\"id\":\"1017\"},\"dimension\":1,\"ticker\":null},\"id\":\"1020\",\"type\":\"Grid\"},{\"attributes\":{\"source\":{\"id\":\"1002\"}},\"id\":\"1048\",\"type\":\"CDSView\"},{\"attributes\":{},\"id\":\"1022\",\"type\":\"WheelZoomTool\"},{\"attributes\":{},\"id\":\"1053\",\"type\":\"BasicTickFormatter\"},{\"attributes\":{\"overlay\":{\"id\":\"1027\"}},\"id\":\"1023\",\"type\":\"BoxZoomTool\"},{\"attributes\":{},\"id\":\"1057\",\"type\":\"Selection\"},{\"attributes\":{\"below\":[{\"id\":\"1013\"}],\"center\":[{\"id\":\"1016\"},{\"id\":\"1020\"}],\"left\":[{\"id\":\"1017\"}],\"renderers\":[{\"id\":\"1047\"}],\"title\":{\"id\":\"1051\"},\"toolbar\":{\"id\":\"1028\"},\"x_range\":{\"id\":\"1005\"},\"x_scale\":{\"id\":\"1009\"},\"y_range\":{\"id\":\"1007\"},\"y_scale\":{\"id\":\"1011\"}},\"id\":\"1004\",\"subtype\":\"Figure\",\"type\":\"Plot\"},{\"attributes\":{},\"id\":\"1024\",\"type\":\"SaveTool\"},{\"attributes\":{},\"id\":\"1025\",\"type\":\"ResetTool\"},{\"attributes\":{\"fill_color\":{\"value\":\"#1f77b4\"},\"line_color\":{\"value\":\"#1f77b4\"},\"size\":{\"units\":\"screen\",\"value\":5},\"x\":{\"field\":\"x\"},\"y\":{\"field\":\"y\"}},\"id\":\"1045\",\"type\":\"Circle\"},{\"attributes\":{\"data\":{\"imgs\":[\"data:image/png;base64,iVBORw0KGgoAAAANSUhEUgAAACAAAAAgCAAAAABWESUoAAAEK0lEQVR4nAEgBN/7ARAVS/wsKFesVJ8LvTSMXO2V11Y67IgLM6rA6Qk1C5VzAsdMFVP9hMRXth+uauvUk7hASA3iT9ZD+mckuKXiMj1CATiB3gvZ00pMEy1b/CjktmQFEkK8bz17/2WCAQGpRLPzAgxi/zfu+VvTC6UV/nlyGvpHrGtth7bK9kavucz7kYTaAJ3M3Q+qphFD3HxJ9I/r7s0o5Qpp8heaHtdjz6phjmfqAjqLQTHjJXIqCAcLEwLlmOsvpjtV7rxpJykVd8X52ugSBBokzrzbVptKFJivPPXT4t0ItP9efDA5SxgcKjYK/XahBMwFF3PLpIyBUSiI/FVR6TEW21a2G+1OrLjrJ3kQWljPAifSJphdeL/vFekPMfCbGlZPtbuE+Wtp7rPURrttJMTKAIsMNR+Tgn/GSLfwYhBZAFMf7GPBo1KltOIRDkp47UIIAYQHCUo22N+2o+8Ob9U9AXk/FmK50tgKU+fW7N3oyfXPAMXLNLZ9exl7mDSO+tPn4swvKOWcsk6IVMkauJrtdus/BAwVaBQA+GaF29/XWRM95W/uxzG/NP0nFcqXPK5QKTcIAt18d8vtxDILjPFyHRUstN8EQfcmvjqowwoJVil17G5oBLmESfWc+PaKBNo7EB4cxL83ZpH/8w5t5JDZ1XLhIvAzAYULTTQ+79feSwUoJT3TK8sUT0uFcYWHIwkAsLPN+9s/AktZ0hstOGOViWWEjQbDMA5Ub/AUOkkAVfB2EUMZAUHrAbXI45khDlEGu/cBWz3MF89KvzCEW8kGTvCtHy8ZGE7GBAjx3wiWZSDP5Gyay+q+ndklHsK5ATHh4ZkICro+SdA6AZBJyRSi8R3jFylntz4gIY4trQMi5ohaM1IrSV6oCJQjAiQR2kaufQDrGC52EjspixPTbm//32gPvpT13FbnpaVRAkbgO4v95Ownfc1zI2AbBqdAloba/4oBZtt/X0OJWqEKAGnA4zw48/xcPi8YHQ+d7w3xYGudJIxsovwvnQb1GPIrACE67sLPZunTiYdxJLULsSqH5nCHtia72o6tO+zMrCd3AuAFeL88CfRQCY/NddT+VyZ8UoGN0cvY9Mg2IIbExQtFAVVguPpi7upwPA8EDD3+NBvs3PnGGYWeIuauMlMdBPT9Alq9AtXx02zUaiVj5iNfWY3wkSH2zFEaHPisyOmIp44KALiKz0TDPsWxnhsdOm0hDpzmOGLgwRfTrViIFvX+eRraAXL1JkP1TlH14fxThlivZx0TGVyl3tc8pcfxe9vPOrVPAHnS+zmRqWq+nsJagsbRLKh6NwUdXr67+wcg0YMUx2oJAgI9exN0a0RK8GhP5+QjlbluPpTqDE+qjwwG+DZ3g2ILAkKHdi30jPixB9mNuKsiFd7bDkz6zHw4kTyh7SCpUGXSmaDzk54W7Y4AAAAASUVORK5CYII=\",\"data:image/png;base64,iVBORw0KGgoAAAANSUhEUgAAACAAAAAgCAAAAABWESUoAAAEK0lEQVR4nAEgBN/7AC6MVEnXbYe6E0HfzToc3GQOX5x/nMuXLfBM2RgElPSjAEEv9RfehArP1Cf1fY0LqyO5H1y0Nq9z92QX/qhvFcWqAjy5AElROr3K+2C++2hcQhg1iWnug/FJVSou8e7b0WnwAvUjLaBqaQG4nyriyMMUbQndrtpLEcI2EiTyb0wqP3HeAd1rhr0S1SN+haNg2SvtlAiSBP6w8ubnJ9lkJA2tH1GgAi780+oe1cx375cpphAlspFayFLesCh0CRoDBGI4RpTrBAN7IAdyReStxpyFHqz8N94DTowZ+/jMPb7NKPzIFKThBDwVbRWSQaDfm+kGLvLuAhMFRVIF1DnPKTUdWA4zWt0oAZnzPtQ1DeT01BmvkA75gD5bznvgIIpF1RBvsFc2Fc0eAJ6E2/Tb5BD547yyHxeZPeIOd9QNGcWgUP7Itu2uoAftAcBrkOvOQXB0GnQg3S37Lgbbhi0vBm3/DAZK8fMrZysuAJTpFt+pR7GsQjLsr8k4EHkfBStHmjJJ6La0EOjF/bX4BCMXE9oSyEDAXdK0Ja8v+w5fs7U4mbIA9KvmUrnoQpPBAWRhyQ8yh72RIbD1LafP1ddR9xOvkyrqMhKLCmw+A07IAsrGmSvbg4cfGt5GYwlnf+fvx08Uy8Hszto6xmer8xw+AOFxn13ii9eiPCfrzkEKLofCLoFUmPy8DsDCoi+BNnrGBJqx6CRXicKtFhvAsxd2fIzB1fOzDxnbBCi58TxiAdqfAKBS3xqO70oNCw+a1hYL7QtmeZQqOT8EPhE31U/rdW1gAqoWuw6xAYXH5jfA8mtO8aOuQ58DKfqT+QfZfFLz7ljuAPCKC+v0L46Afh6uH9CzEX2fEUHY95YASdwy1jEwY4mIBA0Q9mYl1Ebx8MHRNkjdWO/Cs0ZNndpjdOTX8iTg0fxaAphBLNN1u083SDo/pheMFuUpTogKMWAJit7GbTtTAzNhAL1+O+nsgmGMSf0iLi3d/b5QS0SzXQVsuxmJaNMO2YUKBK/qDknkYAq8ykEblK0PjZqpyD/fLzV0HI7ahOA/5t7gABFK+kiqMesrfCK7JNwkUMSIpqnIIH79rUnFk1KgelYeAKCH0okfiVMdheUz4ZxxBthGDdJ0bTU2mRdJOCfBDyuQAbOfvbF552UOIX7fY5h3GBugNsOhPZircsUFUr3s4ejxAC6u8Eq9MaMo5/PzwCFknQ5q02YE0Q/qmQBSFlLNhuYEAiINmbSD9f1PWNX8BR7J/opxBoCUM/l0C0uAXxYMPT/2BARxuotDDZlM7OFp90q8ES8biCWEw9X6skHFrkBBqOYQAng5CisIqrv6EhyAM4gsOTe60rl/FiqLvikEUF1psxc/ARKbuf3sL8hEIrxLYzTz8qfgxZJUIbEx6mQeAGhslqFiEpfy4d3rjowAAAAASUVORK5CYII=\",\"data:image/png;base64,iVBORw0KGgoAAAANSUhEUgAAACAAAAAgCAAAAABWESUoAAAEK0lEQVR4nAEgBN/7AIPBv0wZkxzWmqZPstHuYfHjrLScw/NcG59QppQ00XYdAjqdQ1LrUvwUK6ZZ2wiayoj/LfsMNqDREfvykwsL862hAhPSaUBg1RODaiB7KsL741Eo6vjS1qbWc1v2O1c2fxxgAuPkBiMK9xB5bxdJlSH6k0xBmAVtKNk2aJU9TcOlRzm2AWCe4Bh0FG17BreVt/aw6KMSLvPWP05W1gaDObf2IstuBIJaFurXKcDX6/TjmX59uYczLcgtBFdlmCeM+32iPsFIAc/UYOXWb4pq4v10BBMKzh6ZDxTxZuEGLL/Lah5OVL64AN1BGA3bvETsbNO85NOfjxKqZmlSCMYxrb/UGtvMkz2vAp8nqVKJB3qQLASfnkwnKerlcehqFRcsDjLzVrLxslYQAcJDsbEp/lXcuhlF6JgbTzps8GIztM6EkeuxJ7EWfFqUAQPrDsdrHcgT237s9CyF3rvS82uvjg4d6+CQFSPOKybjAln7fDOzXicS1Nd1NoS8wS4t0Ur7nRkgR2DBIBuNDBQYAHAibKABh+Cw595xxRXdBnd7B7TpyrjH3GO0GsE5QygtABVeMWptJy5+9EUKgw0BW+/VPJ3A469CDjLeImYEFzifADAee9A2Lz5l4rjPIGTbApcSxv1ZltWd9QXjhwUR9smSAfnGPb6vrgSO5AfzuySO7Tw4w3vOrIJW/fOk2+TPFOunAO0Si/fv4pvoDU6qa/QVnAbIV24IBdQ3uJYzDlXC6TjpANOYqC8rMDUYB1zC7SSTLNEEI1osWbjUHZ0931UqC2ExAp+DjZbzXydI0HHlNzDPCS+XyfqpLSpnXffMOPSukz/AAbhTjJeFIkJNDd7nSsU6eQ3Si/1GB9xVf8fvricH1WL+Aki+nBM/5lHS9sRnuqOjfcReJdwQAyfm0REEIpvH8O4YAu9QFLeRbqUKhQMNJvUSOMqMB/ylahqHob4advPrw9xUBCr+EC6aW5jHfa2g+UiCyrXvsPUrHzW7GxQii2+U3SY/AkQdxYIM+cSFzbSw+A0xLZIAkz/1vD/EFqFGMvatVStHAVcBtte6aDv4BGY8Fw0fY6N0BiLwnC7vZcuEMqTx+Y5qBBTTGDHAgZ7R52bOn1vhIwtN9pXT6OrCrbZdw50gHjhmBIv0Df/EqBDYLA/I2UxN3EPqkK5vnWDI6wxA+ddZvEwCBMQazionW/zp+sNBHQDpSbNFzzDJ4mxZnua+0D0q/y0CACxTC/j71tPbb/58mg1r3zFXyPXo1DNI8JYBYFZEZIDKAqFJ2vKFJkgeF1K/rrYgYYc9Igg/0fXWEDAtft0twB2vAm+HFa0YzfHbVVTo/RH+QeMX21X8voI9PmuFcf/a1dwxAXvAD9eoe17Ou7WnDM0oKSlv2CrHExq8HT2M0PEwVZmR8Sf+GgD2MXYAAAAASUVORK5CYII=\",\"data:image/png;base64,iVBORw0KGgoAAAANSUhEUgAAACAAAAAgCAAAAABWESUoAAAEK0lEQVR4nAEgBN/7AHWRy9dbudG5Y07W+/kaoy260OnQnFkm4KW12/uMC+xCAp6v+dLWcv6wDNWKbrix797/OQzPrFeR79xXCu7hKXWNAU97TcPg0M0MeujuxyUXHKLxp0bmeCo5WQl0aXdXtEudAMNuxBgUBuWa7PjAFlxDps1Ryp9m7+jPGRYhWHFkHu4nAHcOXATDCpKOHzodkuEyBjjFB9mUriyfGT59TCALAqBPAQMYI1I40qXoHn6jqx2j57+OiLXdQVaqAgbbXwtznqIZAfH43HJUUeDoh8/9EdKn6Cnv+ufB38T+vsWG2qGQFfc1BCOSCGyzPD0HomUINckz9jtdv9zyGLSB9A9GFpDzkHGcACG+WAvtqq4H7WudFTAvC2jSWHfvZ+fykpqA+SOZDYikBMAW6PFnYszTIME+/iHr02HDtP+0nWQZqC6JphnA7aQYAFHKE96QDMfNS4UThp9WkYOMsQjyDcCasOOXIHn6lBNaAVKZ/QMecgu7z8/m94RjOM4CqyjOGepCqG9ZOApnB9rxATFcnygB7850tV2aejlROtYfz5tJbxFgXjDgboCN9t/vArKwUMVZnCbENP0I1C72r9afVsi/K649yEq7lvIBExjOACdYSxyX97zowOcr47zFGBjvgWTrM+1I/TkFIlK/V/FZAA6r7dEgZTnZAZ8nVC0UuiLZKM0H09goOBBnwpEvweOiAu1d/3zxIwTJzEQB+j/iwjy5ulWd+YwGtkY8Lre7Si2NANoKwTwv+7WAHIGmT+Tg0DYipK/InOjgkdgxiByKC7TQAfBqOqcD/M8W6hgXUvYSH9z9QGgPPLwXTHXWbkqtI6V8BNKq7D/A+gqtnyPYDulBwe1didQECh54LL+lhcIj0Bz8BP6fKw9L+gwJ4U9wZ8nloGEir+tihv/f2uQtqy6x4M+HANjtLZo2fbClFDQPnAD+97zUoi1gxyH25fPLFAeIw1tzAbC62FoR8Zyk+1L4ElFT1zwvv2z6kNjs1or8/BZlnpj4AGogNQBgC00VkJBg2GAbG/kPOkkAuE/QL0GCFLOIZfiTAYsq2OSyYh9eHy+S5m7nTAhhkUov4+2vWFs7xBVOOCGoAhHhCToS/AXmqu3I0TkIBKVK+k4CVC5xwrxZQFBDnFkHAQV5LPif4MXgGBZixoEIKFKol8EoOKpd39CPIagGPGeoALXTykUkJJ82rT+QughLwBYajMG/N7dG6t4wOMIBOqxiAQRwWYz3CWviNgWQ6xLHe8dKjRlqqS/NBDTOozdNCkbKAHpzILan7MYnrfVlSldXSskYgy/sS+C9VeL3NBEjMoTBAK/3O+bxx0ihWsuKdasm+NrWirVO6rEE7/fuCjzMH+LeAAOpHP300Zwn0jZstiJZ2R1nUwJ5HHfrLSvuUfspA1SqVr0E095GilIAAAAASUVORK5CYII=\",\"data:image/png;base64,iVBORw0KGgoAAAANSUhEUgAAACAAAAAgCAAAAABWESUoAAAEK0lEQVR4nAEgBN/7AKgA4kPnwUDemLfMAClFlEAGKihXNru8ODfyr6FV4YF3AVjFVnBsG43fckQPQFoJ1gxU835JtgSnC9DfI1dqC+6xBBMWQJXSXVJvJlXUCf3+3mfjuP2pXwycbrkJzMvvWo2PAUIHdSD5BtGQeWferbbvJ9n966vavT+ChkyQ2sqxef5sAJRBBqWXa8/C9f4T7evMuTSoNnfNuRHGUYlHw38h52juADRTkr/xiuMmxF7rmN1XtH8Fu81TFYVnRMisClaJFA1UASXGbeZtfcBR9xOGug1EzaZb/3OwE1PzGm6pPUKGBWvcAlHDLwiQdEsDcZs44RXrwszhn2tIcvj7OFfj2GyFtvqDBCos4+z9Zc7xGi4mMWm1f91VQYVIN79eQj5aue/LMN3QAY/PVhDf/7oZuOa5v+TORO61kuQxzhN8rFgoWML2lpe4Ai24qkbrZ/E2mj4GSMMzUyuAnEbYPLCOQjVIaQ02CTYOAdKCFAdV80cNRgIcEQgBWthRwNwvrfY+3otFc4fMScYNAH4H24gFOCMxJc9tBHfQOXeFdiQNNVnvAqRKGpzYQss2AfQWmHauwP99nTvxayvTE2/YdEXX12+nCh2VSFQvE9IjAaaMesv1HyGso6dhEP6tpbAR7HZdpv6MJjsA6Boe4sL1AEwHzjz5/p/r5x3E85KbSaQ1Q4zFAdl30huyBckHQ80hAaqsJRDX66yH7PI521OFEcMAkh6c5BhrxE38vSNZF2ezAQDsT4UIkBJO/z7klgS/NA64bWfaAXjoUD6a71VCYlfoAVr+GA7Rs04fFk+ALQsNwOIVZhsWZmTeSYqKtvJ1yBy3AmBlhwBjUazMHhLuZdgf11+05RPVDTHbMasKrKnYAAhSAQWrPL0suSmrvmaFE+79KiPhxDIWU/3ufGn10iLyGKS0AeyI8mMI0XaEnyz15UMuBvVjTWusIlEW87KcJK8ccwYdAJSsSniPQrJ+GuGj/EsCYUMuc9/8M8PsNhwvKAIcQBX1BC8I4+dsMt5V88mS4W3bme9g3QUO4R5usQKRe6vII0XPAqL9ThHxlyWDVthdkPDSb5PkOPFNbYfv3vJqBEEND72rAHhOfUIkqD6f+0v2xDuXDuLbcbULJ7k1O+LH4guzANn6Akd1EmdVa1r05rA5iAO1xKQJLX8uzAkp0WjGDDze+DAWBLG0luQ+b/iAAPvqVSX68BCmTpsfIyWexGWYzZwZur7OAgfhs2Weqcwmm+PLWvYN3M9pbs5eGs7TP8y1I/oHIemDAa8lRQv+auk2LGrmeGSc7Og4W/4KIAzB3frvESRf4l79BPqiOnoT6pL9zUtHzS4Cm7B3Omg111f+cv782LsATQKpAFr4RrmT94BUC6XicsIxpykkZxXhyfp+1DharanKih/aX0r81LWXG/gAAAAASUVORK5CYII=\",\"data:image/png;base64,iVBORw0KGgoAAAANSUhEUgAAACAAAAAgCAAAAABWESUoAAAEK0lEQVR4nAEgBN/7ABzTZemY3krslDMISOCiSgJzUr+g1eIRhdAjrxps6/bLBMpomg0DgGLH6Nff+uTlQFgKDiXuRRm1qT8rJbpi9z99Aa4L/NB8o2F8ZQ+S+QiB2vD76IooSMVH8grPkCN1JsNKAuQJ2mkb288Y6FSP7Nnb7tGOVMAYk0SMy3Sy01Tt2kQFARDptt388+LbwE+iHhQO2GfQXPXWeoZil86XGYJ+kxOOAEFjef6QIK/pybcN4ZueEKg70ikw591t/bdevUcD6aNyBDzlgDyNDDNV2n9KcxS5QjAyN9QmARoVHjVP1GsNA1RiAqLof3zucdzxvE8w4wwoQTlMW+sItnVkDpb4J9s3v+vpARkssRsrEQwzHrNMHxSb9NfmosVWP6l+I+JD70M/yV4nAqDkiiA+u/2m6RM83GpboO2qhdXdkADUlsrXuUr6OxUtAPaq3ZRQlg8fzbEzvDowSKSn+StD/SDa47EDH/oW8BYJATf+6Bsu49WxwMSXbZT7JA0NlkBPKCayKjziIMUA7Rw2AFz+SUW4C9VoSNWHLbC5rlavHpRTCSvZok+ubi2O88H4Av8tW/34rdMz41OIQSLzcThAdVC09QvR+1S4oO88IV7gBGB94EzRIGhVTn7uxSVSuw78/PYeHjdIG+bouuRJk8rpAD8n3YYA5vrP7qOT/fq8RZzjIogoU0xwQio8kRdm+2h1AOG+lqvIv6kh2QUbfDPS+mBUOfec/j0Z3PQP787dV9liAuvIL9xd87lWJeKx1vqFcOQe/OOF8uIaFPRdSPvsmalLAd5CxlzybVJBU7gzJ+jMdRvFFtIbJAbRaAqNMJTP2ZzYAU4FVyUP7d2w0jf63RXPyrvzTT22kQbCPFUTSb3iWAXkBDTVMOdRY5TZuC0B/t+AUTbkJoEKm86lEdP4kb0gG/4fAus03c52Vhd0YHe+UA2/fr3w/EBx9uHM4sXB5SVTGYO0AC7isCKDM0SJbgkiUfT+Zz0X3HcqlFU1G3YCzraVzwlmAIkd8K+FDMIWOaUvzsIsWpBNsmXvx4kfqQGVP3h4/IMMAQQ0j9VVtyDuE1MVUBlaqDnWglXJYbSR9YRYGIDgQLdGBPwbVK4cPhQOFB5DhA0bP7ytinQox5jJcL3Y2NYANPZ4BLcjvwtoJojqhEvrp0HCQTnkBOoYKE4OKQYGwcE9J224Aty3OKjPSKsXUQN4Q0rEvEbGHUyPShAF8FmufY5SOBA8BP3C9hysNQQSf/GsuRH78lxrNPlicglO+mGQvkldV11LAivDVhw6OcdaGo+2Fi+W59XpIsAAKmVZ6jS8F1EoBhxlAfMdWrgNDDxbdjtD592y9zeTO2dCmZ96jhKBLKLxrQsnAlElnmGW8cgeFeAdzqar9mCC/mdB/ZsaKhLliwnfYUg4TEn8GhXAMgoAAAAASUVORK5CYII=\",\"data:image/png;base64,iVBORw0KGgoAAAANSUhEUgAAACAAAAAgCAAAAABWESUoAAAEK0lEQVR4nAEgBN/7Ab/qusZ4I693Epikmp6gHBh9vhYjLgsU9h/xlzYvGC8bAOq0CDZEQWGuvEywgr2sTuGHHOnh/CGs+tteCT41sXHMAbJTfUJLnf+n/8br02D6xWd2EH7As8jb0P74HLVHecAAAly3683i2yOs+IBDipRG8zoa5iCWG8LRWMBR9ufoSdZoAJfPOJR4++7NsdKPBAjjN1jIGDAtf/0GKXuzLRH4MKUaBAeGPwUXuOLL+fIYbPxCRnP3PSaaz5/kWfhyDt66Y1TSAM5PmdXSqyTOeHZVWP49491vzDMS5RdrQ8NL/ooyliPQASJQ64UneVLpA8qCzRmWr7KR9FFdUbH7f7xd3asZHxLEBFbkCf/uTduhBMYO2ZTcdwmuRs+HPClju5qJ5ey1oMduAuAV+hGrLs1R8U6AuOGEBd2BSRoR52wf4RIjvdRSiz2HAS3QAA3y4IUK5o21pUtGN6Vhmx/k40sPv/4kAFCKhxgJAoZteI+gXiDgp7kyE+0l7tfIF4wcKW7MnF5FtVUwDu8lAvXQsT2ijdDnilG3QIZPNxAy54Oo61XGanIRaILiMVP5BAfDZcn75WPdS2TguCEwZ9v38WnbDBIE+a0KA/U72LZMBFOIoRNRjkrELwjH6FK3Fe5U+2YAr2T2zeCoxQRo2rBLAPfCnufN0vJU8znwDMcpj47U8Kw6uFWPJrUx5fNQL5LuAMxjoNw1rbU6VHiQ8hwNDoBNDjwUVcIMt9Gb3RPQYAYIBLcj3AB0o2w6iBMw7PoRGoYWeTq9HdD8j3nYrh8HQOpnAjnY6PyFMdmhAL0DWzQ/Oc9KBfPpXo7I1U42oiZAu4MKADETMOyc/SDPcO2YJOA2xcoeLdJrqF1+3imICioEx6j4Aknf3JMxgctM7AHicUpWxBHKp5BwJTSun9uX+xfQBCh8AAChVEdAbiLLa5m28PLlTQ4rOZumxvQSsyvPXNoo+VtIAdaWcWCc/vsJxRI/ueoBYje0Q+/aTY/XnHsPpgQxONz9BOyzJMhhTB7SUjFNf+7Jy206jaEyorNM4Lrl1QNcQ/H5AJE7+/UAvmUogfwva3kEIrSUBsgPWIUN3Ie113cWKuB4BDUn5jixL/iNGDU/JF0P6IcGvsJBwEbGL4wW4tBnxbbiBJk7IbY7g8lT/eMwXBXrU6JDjr3gVw9K+//5lAgLgerjBOoPgBsb3Xoi/usO7ILwpcJmANMu+a7S3JS8zz9kbwZPAg39D5xnpoql2f9TizTyW/0IaqjsBUTKtYxbt57GM7APAWgkq6bq44IiyRf2KooY6w8qEd247rw6e8fjIcTmUsf8ASqChaTCBApPMYgwqwQdMW44EcJD7dfhDCymDhJEJp2kAls/+YKCT0fG88fYJIoUSe0Hz8EM/++50ayy4y19AzmeFn4Id7+lyUEAAAAASUVORK5CYII=\",\"data:image/png;base64,iVBORw0KGgoAAAANSUhEUgAAACAAAAAgCAAAAABWESUoAAAEK0lEQVR4nAEgBN/7ATdk1yBwV3f3+KvvxNgAE8pEiNa7ZLTWcmqRM+xpJeVJBGRLpobGJB9xsQ71dmLa/GAUIKpnIT1C5lcx9DgL9sgdBPijNy5fnD+oEruvufrV1UAUsYAEDnUa4g3pJSdVhdHFBIVXVRCp0TfInXYBLLiWKpiHQ/vvhrPaPZo8z0MXLnrCAca0Mk4+adsTGjEUKOzZ/6r+VYHDkcmz84HIRYLHWWInAt6SzGvU7E/DPXFX4eTdcZnSZUJqEBHdBV4dr/99bq4pAFV7HBOC8ofdLCVI90XgDIBXIwk7aUVaIMKW9r7Zrb/lAmYqE6yexkA8se6IOOy77Oe/UcQQKDHCMvl49mco///cAS9Oh4fQKlRwMTp65b3jNUMWu/HWlHy9Hr761FvI5oF6AAtIb/JivweuyZw44SlsB+5bVPFI5Xw4JTiu7oXzO7umAO9HxMdlQB6T8hOzRCD0iEG2XTqAM4Hm4xSCGliPikkfAmLgHlBNNcC1Tm0HFDXsFNU4soHJjOqps1Awlghphi/jAI5LEeuU4b68TQw4O5P+yvdxzy3bK7f9Mn39eCg9kmhhAqpCIH2aArlbYI/57h4koOpEHyJGVaEw6k3QlU03FLAtABZQDLefSVmvZmTwl/q5W13vgPn72o+JC873o3w08nzvAZUS8uUJaYEgsGD5++b+lFjLpZRkjsqkr8aisSSL3PegBN3y/6BQ6VnQmu2caEsfGig4Fe9KNZeUzXcJSlCKwSswAIhvDxLO7hsWbV2+QHlxUMGMzAsS42rqr/gszwTYby+9AeV24ShQ5RV/bBRcsrpCYx3DK6ctEJvfI2aGTAK5Bi8kAfmjoCopBvgu0rnRJEABsbM1J//PrJE0NSV+5A69c/AEAF8Mu0g8aiHehWfR7I/6QX2vvQ8stz2NtC6Kthe9GqvkAu3DeX0AsQs4Ne8GrU8dklFq3KtWvfDDnVviAgwSLnRdAqi2j3E/BLPo2ef8sfEWvgNurUT13IeUmA8T9AmSVkbrAmT5ZdAjWt1/q9/sNPDAgyvLZVvSavoNUgEDfeD/JSDvADvvTfRXu/NZDRN04pLK3w51h8QfRmfswmPmA28Qt0AIAkXz8nfEjJxE42fJOr3eLZbNJhB5DwoEGaznAoaMdkC9ABJ9NcMFMInFbgPdKFEZg/TU3BdkEW0XXWNUBaRxo7ZVAmtnWBzhcOr2JdGMSeTi3XsGFectkfRFY9c0OI6KQt6iAPPY34Iw7ea8XvOSR9w6Ei/fk5gwQ2rzJ/5vhkcntyZ+BAS8QgAS9lwHfksXb2vVi+B+OA4O2UaIw6gqEAvsipWuAu58qHfXQzwIsaHJarOELkAFiAjAJQxmshAHOyzsCPB1BG4GmtbWRckV+jh2TxT6YeOsZFlJ8bClrVZ1CvEABcaSk3X6rnbWb1IAAAAASUVORK5CYII=\",\"data:image/png;base64,iVBORw0KGgoAAAANSUhEUgAAACAAAAAgCAAAAABWESUoAAAEK0lEQVR4nAEgBN/7AOQSqQoUi+8atkkRina6x02hFJdfaQVDrVvRZ4+3w+wIAjVTaLYgSYFmljUv/uGkD8wJ1FgD8caECH15Lww4r8CiAY+hhvwsujBGKdIvIOLhAmxtHF4YCyOORZs1MmTzQgf8AjliusRqNVOPaq0CGmD6occrc2XiRg6pk/Ih6PylN0HEADIQJ4slnfJYXwMi1k9unp/dzUEUpxVSx5Ifpm60F5W1AAgox81NAxTtNWxIuyKTWYiaqr7QaKICgt9YrPHv5lTAAB5hoUJhGW1C21OXEwAOp/fxTxYVl5wnLOJoD8Cmjfj6BN1j19fnT3b7shlU40iIlpQSHCKYVWzqDxC/zKBi+qrZAOrGOx11zz1lSj/HQFELEQzBCyE3oNYn9B/Mtzn7YsWTAvPnuMyqCnO8W5Ob3B6MZC3N4Bg25/zvNNlC1Y4hFRiyAeLQGrA9LZQnQFa8q0N9OznShW6U6hk7wg6IyCEw0iquBDKzxvlm5jezAwypI0s9TXUjHOBvIoltr0Y0OewSCc2gBD4660JP/aAaMD63/3/PDy1nIqz4q6oOYD37XbqWRa+FBJ76AL36QJ8VsaQWraoNXChkqgqQWwAZlVowvwtB3+HlAd/x4fXSBsQ5I5mU+vwo8CkAj+5EFF9J+ONf8jbve/gdAr8cffBAn0seyhuJhZ+G8Usgkv/NrMsVtYXE9vGI3mETBPgs9SgG++Uyid8h+QfNk2oMqJcFC0FELf76NuyUZDoQATvQcZWcpcUoGg7M5hoiAgIG9TJEMHMfeyJpOB0GB7tmAuQeHS1OnhovhtOyFO6yku1u5wYV62/MOgsAwjrrHc5CBCofbt7wK/YwtfXIQ1F9BqGOHi+iDP+D63cRnH1T55C/BPYMZfpYPfEjYt7htS6gdgNYGbQ93WhLhUBRpRt4Eew0AkKKPw1JkyeUi2XN+HaCwjNR8E2/9H2vpgGHpdOeEwERAlaqhLQnCxhW3TO8pnWvROXIlOyrBjzqpX/ZmEgS9SMhAropieQZRJrAy4zGtKbbLaDM7uOk4bbS7b1/DkcsrIUBAC7uUVwExcWd0ty0gttmB9pSqCK0ZZyk0SA8N/IVNPs1AiYGngK/aUCHEkhH0npHKYrT4vhE+zyh+RgJotHvUoQwBO2W9MB9XEWG/8XZJCPKhQwdKSUgUY3Ty+ztBsmdAERoAvvIIBcZ2ScyoMU80a69qMvS08hk2CPc2tTINAgKfuniBLoPK8lT9BO4a5I/aOnQPdtNTQwHXiP0RGM/wyXUSBorAbzZRFP7GwgD6Vni0QnKQOXMF2+YUA0/11yz0cafOkNTBBa92vAzv50/vTwASiYvQOlgV960NkSp2dw7yqbndBMUAUFyc2Sqdbfz1ysqE4FAofWMzjQSO5NuAxmT4pwRDK8RV/nrc/kW5d8AAAAASUVORK5CYII=\",\"data:image/png;base64,iVBORw0KGgoAAAANSUhEUgAAACAAAAAgCAAAAABWESUoAAAEK0lEQVR4nAEgBN/7AfvWe0qUQLgBTbXCKzILfJ6T+mIpSMvX+/JVDMM0CNTgAZqu3d7g1Fkx6yHQOZvtPt28IdT4+yz7C/hWQvAAFSA1ASP+59EEASTarg51Odtu2Cpz/OQ5Y92V1MkHnjfokaeyAXcX8v0w3JSBRRHC3e2io7LPe2ODkWnzAgop9cxyetsfAh+c8YVBFMKT+edrN5m0QQ/1+Y2jgDfS9iGO8feSP8pYAc24cON7ImIrsP4Hnkn8diWkjQBoFbbGMZkG5QFNqf3CAVorFEbPYzbcW2X9d0brzOkB8vnzBtJmiV999xAS/lPzBGDSzoJlqFNj2BtbjTrvGz2zFnClRSHkhxK+Baj7peGbAEnmrTWtIjChJRIDbc5FDeR61y5FZHVnMXIoX06RjCXtAOldbtFweYvz/E3uqYir7zkdogPYVGuBFOppNlrLCN0YARDchjTQnT8gLHH2rG2qXIPO9gmIvDrgYQgV5UrWAtZ4AVzl3P28mtg7VtakEPjInXguP2VJtOAZJe9AC97KKeL0ARPdcZ9LvVy/h5CATu0174muZ9ZBI7YKB/ut8wXkYbgJAMc07mKIC0QwET95ewdjnWynJgsscaQX/GSgT/T1aPr8AjYtP33Kr9AMQOUxlhBgAZnXSjM5+PixTSd0Rpww4lsiAgNfPtnL6ahcvI79WbI5n8LtnyuYB4/W7/RWlpYqJ5XlAkYfubd5B0vf9s/58Kr/JTNrGAWuAD1UysekwR7JbMw8AHiH9+x/F/suBWHSxuW39e4Y326tOIpDHd4FOtiCIuS9AL+A2aUTbbwMR28b/K0NuSjLS9pn3qTIIGvykz3N3w6vASB9hmrTDh1QQybvBbcltK/K0xkONTDGHAUqLwlGtC2VBGyPZcrcwV+uXxlD+5b27CdNs5vx0ZWugBSzBL4VpDdZAPePTNC4scrKRAQQjvHNMMbSA+LGgw0gq9Em4PKTUf3IAS7qYcLvIyb87K8c7kLFD4Tshvqe9TDBt23wnpPEQ37ABN4IN7tAHEYJBhwbrkRAk8/eIirkhIRX5EuYO8CsZ1sUALReNS5NCigaW6p0OhpLcYbtfPn+5+qgMsTuUwqFKVWxACQMUpENg1lqGFIId4aBLQ0OzkoUDuUAcD3NK4uoZ9zrAV58pUarQ3w8mdXE6s00edvbkdyjo0/ppwr87RHRxy9TArvuFqUZuTmqEfGPJ0HFNDDEzSyh43AtpMsQz0DvQAsEAttCXcwiqDvrtcAMsak75jjYeM1RBxhm/i5KJP+g3cX/Aqe0Wdm/WqRhr17MBuOm4FAx/K6ajRZev8zZfeFy5iwZAFQTQHLTnmG+JedA8yn4zHYyaY2JRfVcZN7D2hOuGI7AACl9veB4h/mz/V22g62rfy3HMP7TM54V0LtqjgSysHEMo3wKF44BNeIAAAAASUVORK5CYII=\",\"data:image/png;base64,iVBORw0KGgoAAAANSUhEUgAAACAAAAAgCAAAAABWESUoAAAEK0lEQVR4nAEgBN/7AAP8TjABWU+n0cdeyp6C5M9R1h7N5lu9hOWUZdgJrCAaACiexw42sB6B7lKDaLG8UBsOz+BlOdgsmIDqa/NzE4mBBLukIAUw9OOnbAl/9Dg3CnjQCPDioBx9+kD7aovgRTTbAP7YlMSuMFxx0TQoO5099b/8UxSBqri1VqTpKrbyNNkvATIHbvFHYtKVaucF/I4QO5ttH/mNwBBgyI8ZAdrQBv0LBGLQLT3km1O2sEva1E6RXQezeNHc4mpoL2fsE2qs8Er/AoECJzIK86nj+RiYsrgjecqa2pQ4fZAVJXT4ifXBSixYAn7YiaOweOE3euwcI0fJv/RlAwoFxATgWaqAYeE4ZrD3Ae2WKx8pmapoz9lAO7K7CE+/Krzi35b0GEFms2b+6vLoAfIywaTa+eC80hdVRPb1DOIGQ9/vVr/8XYo5KtyruRM1Al6jurqYWu58sMe478/4C2bk7LAUMYFiZ/Kh4ZRZovRqAohI9foebdZcvBW72soWsD0nMJC9SvDNwy13NNUE80WXAdhnPjBAqwWmS6YCGhUIMZOf5iZIgeBiX6Z2YFrVij/LAsApN4oy8sbwqiN1mxbEwEJbvuec6fbwDYxCX8Pr8D0CAd41MWEQniGhlWv8Edia2ElzA5PkzVUPCrDRPeUNS5U3BInJR+qN/8H+LlkUSE3ptYH8eLgKU0EARfHiH4qF4OCFASIU/C77AldwvO1mSgORn3sQ6u0lQYhQRjG+ZlfcGWrgAlkJjihR614CYsgWRKrjurB254+xKR9TVrdBrQymPqoMAK8iywrEWb+wq6DRqrpoIIPQS+/HHX3y2NFWsZ0FM6oqAmO7p6AGQy7mLGdfiQTXjiNuGdpifclxwGA/6+oS8zlWAOVs8fTWEfsASQwhSLEnBobvtsrTfxSz/Dkdhk6JhA49Aflc0C9xzegWCBOiZi7Xyzknd0hPH+PSvDB2pX27uchdAMmj7SOiFob0ePNUn3XZB/HnGuuUXkK4MvcVMRIKYZqWArjcKB22LL9BjwUZb1ClFy2EGsYlFnNK++ppExNFCgdeAv80fRUMHAhMSBq7blQNMohzWhR2Pl3VJDHKWoXdgdqJADyfqWU14RHQiK/vwOtwF/AY3UN3HqGDmXjGXkbJ7SWxAp/OniLt9U/VE1ZjMagqIOHSkUEBrrXmbo1cLU+wxjkTBAqsp63ptSYS5yZhLIgpqXQwmCnvC+dQdc5h66YrfSYgAMIw4fxDMVEFuZ4PxezwKM1Fq4KZV3Y1znG2PnBM8U1iAUo12VeEgh7zZN/QYs2gLIJnJQ+Qrykq+uOliHBRVejdAJ9GK9nOyvZHMzuO8wYAtLZ1SbheKsND35klFhvdR+3+AL768N12ojrk0mTvoex1ECjm07EGNjNDo8pHKLf41BnHxeUBg/yWkbUAAAAASUVORK5CYII=\",\"data:image/png;base64,iVBORw0KGgoAAAANSUhEUgAAACAAAAAgCAAAAABWESUoAAAEK0lEQVR4nAEgBN/7AKRuUXfZRKSBvlGCC7suEbnbSf02zUOetCgk1SpJyglyAcRCp1sCj9LjJac+QuPzFJ5JKwj4ttAdgQ0+lgovBuf1ABNukDEsOVU2z4EDpKs//X7jJeefQZ+7EEIy/CZbvmMwAPazDtw0MU29neBY4eEDk9cXiGGpBUqBbkrzNVL+1FI4AECaGQp3RgrGKHKPia7oU6f8HFQex8qO0SSwTBWpJ/waAvjQ0DkdqWzlSvono9SoEnT/GcpKJPEN+VdUQWiqPeRuAe0isZ4ady8WLU0wYDiqfljg51T546EnBhWLzsSSEtS5AOaQe7kWr13HdTd1WSEJHLUYINYEH8KF98f29wlufz6vAoY3RgV7AlRo7EiIYPnGSznxMgQXCCfMKuyaDFN38xfVBKg8f8R/PPDNHNrPxet7dJEVBIeT2ele7jbzEwYKuujpAiI1tvqlARwbbC0L2KTwUtMubCgEgV+eSTvVh++0JTBYAiVgIfIuss4IWTXRHiBNXIbFgvCMq5XaKOwxhR7aQsJYAlDBol53dKsbFzk3778DzNvcQCElFmX28EJNoKcppW2rAPbItX3PNzjlHgc+jnU9JbkZVNX6dLCnwusrtgt5nxNnAtfiwadtNd1S2+tXzNDcVk22DvZ1XT+1JWVr1RHc1EwlAGAZru5c+O8Wzcf67c0JhxE1wChvDrH1bY8Ld+Ok1wVAAMAYULtAZg3NeJXVPxyc7HWKAuO88H6i4Mwt5Ivcy6seALGgqsfrojh77Q6LE5sH/s332pf4Obi6p95z9KwKQu4hARADwGwqrQs7SRzP0umwvPgRZC7C+XsEqi+f4EE0bMJOAoi7P/4GETLe5o6DCmd8PGy+cgzFGho4uGa8psTRJL/MAQkORaTgnxPmZFpdjGQARvf/H050GDKp3cuvc5M+l/68Ah/e7S76207c4H6ycDJKJPLyiGj5jSd1jCD5ZuzYl8T3AsPVU6Y9BUkuY87/RNVES1EhvRQZNNcVXuf6HljbUvfOBK3FxFoaw8xCch7XrA8JhCX6GaWlOe3qub3eo8dLDjPpAStrs1TXzfdrJWas3cHwK8Y9ysufGsvMmuV1NapytesTAtCwyd5FoIaoSRzBTByaxwulQ/FqaTPv2VBbBbhiAwUNASfxltNoqk1sRCx1FV+qe9gd4iaUxmhwRPHhGFRB2+zIAK2k0KMkbiSn5lWp4fM6GKME2yTRVN1U6KMf38Zw/E1GABYV6EVb5fAz7RE0b/Xw9pxqOVL5NMAAli6zoiTgIyuaAhFlLiQ9Dgc5YuWFeJN1ARL8c6K/AHr34mL9/vfYNMTWAl/oCr946a/Jq/Y3xQJ6xcH+xu2gxeN4k639tJONGenmAKfdJcN9GS7nc/MnERUjhZ4bNVZbNzjqYrlxDgIHfNygDiUAdL73P+wAAAAASUVORK5CYII=\",\"data:image/png;base64,iVBORw0KGgoAAAANSUhEUgAAACAAAAAgCAAAAABWESUoAAAEK0lEQVR4nAEgBN/7AXH8STNcMWa0PcNtMXnXLGugsshDzSaHzPSIsS2i4s/VAmMqssKRAi+TILIUuM/FhDMH9p68772NJkQz2qwrA1AgAhqb+tS2vaqZxtaGIAdUfdPhc/Btrk/p2ILv3BpFC+2AAQndybDz+dgBhGoMzcN4bPWQfPNtOBgI/jTdnbYOYzJpAOCjb9MECRFmQPp4zupL0sbAUukUt1+F6/Y2RHBFz2SKANg8y4+r3Fq1iDqnpE3x1jt4UDL8XBvDIHtoLOQPBUYLAv5DsFwK8vplJkSLTgpS4rNVFU1dK7J0RCNt6VET2OKKAGfCUNBWC/W/K0GfUlo0aiilsoLqOt6FBSR+2L4zXxIHAOAolTTZyikE4eK/WcFSw7fXcBe+ZQBWzszyF/x9qHWrAtrR1apmXjLcDh7NWOcspFZXAvFqC4pdhOHDFaGSio3dAo9A3Dd5pEaY0wZouh6cRQsigCah6Nsh68bGrcxGVq1nAElG4xwwsgaZ6guzRWnUXHUFuE5LZFYAwAtAVFQhHsm0AA7XJLXVAlEczXDI1lyUNUmVdsugW7nRVn1K/IKHAj/4AGwwG0k+Q8DeiGvNote3rOpb3lBYApDcJSwz5iTGqiDOBPDiH2k90dDBNQPUKB/a13d/o7PjfQO9Alrwj3Mz8r+xAHX9NywXIwj48T8y2phDHHmV6JjfT9zRxCK6T26AAaMzABzSKUfIUO8+lD/xJ/yC3uPPB4sZ5J5GIdQszzAwOJzvAmCJWdzWfJQ+MgcE1J0IOnkGPPdiKyZmznuuWY/uaQbnAjPbGNnvq4Dq1Tr5zmeoKwm4V6EPw8zW4SrHCwuRlO2MASH4J6X0mV289n0wntT6qkW/Yv5qS+UfEah6hNpwQAsvAtqSAfspvOd471YiEe2VIA6kPFJKtidPEUPgAviIR6hbAl/+oATUvkwHGRhZLAIzBrIvYK+6Guek0+nSbv9nLArdAt9a1UVzHJLHQOisDD7VxEqNnf9j/SQTc4c7G5es+vLyAhGoV4L5n9sw8dZDviSM/x4VA9RzqO9MXArRzmlUoo5jAj84cMzj50PSqUFHgin9GnfK3+GLq3mr5CyI9ySV3VcSAJhz3+iS2d4bEm/sdDsspCIJefZtUzL1ZjO+AEFJeCE5Atc53sqGyMlwxKxQ9AmsF9Ru0rMGOnboJOoN08I7F9w9AiN/hN9sffNBw8gYPPa6L9tKQz1iA+N1Xw3woOLiUbvcALLlfi8WuNx12s/+tNTbYKUvRzItBFA0QWLs7h27SW75ARv5aWkd7O/nIb71sOwsDm2UFVPdDFHGgH92Med7y/+mAusLL2rqvUXqaGXlF8HY/F9DAN+49XkKMGAsljDxQxa7BHT/6cd5EOCIvNBmANEygvtx+zsz7fwhqjdhSzTEl9n2JqwFmSTe5yEAAAAASUVORK5CYII=\",\"data:image/png;base64,iVBORw0KGgoAAAANSUhEUgAAACAAAAAgCAAAAABWESUoAAAEK0lEQVR4nAEgBN/7ACOKG6hM0863D180Li1dmno8AuQ8PXniUQGJu8YrSQh/AqVf2MRr3Nqt8gWJtjEyCj24UL0GEjBIpCmbp+WbEpzqAqrowjx+M6zEizMpBYgsCXdeyQLWRw+howMYDieQQqklAGMMoWmgZEIKHPAH4P4Ggajck+zkQqMasAG710Bw65uYBEBfEhOcD28exOA+LluYlCmV/bwZ8VDKvNUl4Aq/DpNNAuwNFzcivBu6gqpJlA5j+R9eb87Qg4/1uTKvTdw/+rYIATIDKCc8w+9m1wI85oOkA4NMWpj/vL2jXHg+8x+fK2grBD25EfY2pRkW/IHu4FwGliUYunz79FD22nrqVC5gr2kmAbUunwP9s6pT1QgWXPtDeZQ5uR3T6pcnHzmPY2XXl2x+ADAA6hklkj/oe6RdS9b6KDZBDxQbKWID0jz6NKRFJMdvAe4Oy/l8JVjT8Q0hDGSb2W0+DZvpX3PSAo2lF4eZP0WGAmtxrYn+xTVJHB65Uz4uJ4e15Z0uOWk6EBHr/hRZ4ltsAiUONFHZTyB6v7r95NY2PtTCGmuVV/DesZaEqK0VGZHZBLze1Pclz29/sOrvChQAg7v8QWFo1RIAV8LwXQf4cecnAlmuc+PZTt/MTPFR8jZwz/yjAMZFNs63dAv4rO3HndEsBJuXOUuV/nuSCwR6AeJsDLcBD8MySSFA4JwzivIqkqb2ATAvYk34N+QPKhE/0R5YRwADRWopEuVT9uvT/eRlH+OjBPoj9sHjU0+yXT4uYjTbWN7AUf9gPk9o1MAnHsqcBsURATay313mvgg4BKzGDFITFdIBAPv/87fZoFrywfur/f7oAMGgHgUWZi26xV/0fa8mXfLnmsKmqSyUqq/3dMY+SHgqBGwDWNn1Adk0baoz4YroyjhihL4jhbp++22hI+Ey/ADMAkmozEuHAqCn0owuydFvxRHQc6KthuJD5/Vk17So0iYGAdWLiRqDrA6HCb4OL5sAYUk7CQ/0EqF2YJAvqLsW0VjMAvfKuTUYFx3Ey6Ta2G7pPMYXEUp8BPEgsVyx6+CLh22bABkqahpT064MytBwDSQaLLE7Hs8xtnBQLA22PUQrI2E7AT+M9O5zHk2UCeweZDra370OHKJ5MMctESX75mOpDNwcAKyGEkwC+d18sUobzkYnl4U7Ua1IM76vLMUI3XIY5jwcADUy2UJAgEeTFO2ZTclFoABbzK3edTMemsIqal3hMac3ARRS/uQ+DwsUsw4hP5cncuatVJ3N76VBcATgvETZSC2SApccmgGS1FOUm/5jNNdUogcrOW/nMK8y33HXIE5ezxMRAAVehQhb3OTQRQOSZbEzBz/aejFpwEk80CkO3eGBBp8yBE9QywAqTnb+XU8bPynjZfp1dbch4JthibOEXB7G0Tdz6sLjOhjTrrwAAAAASUVORK5CYII=\",\"data:image/png;base64,iVBORw0KGgoAAAANSUhEUgAAACAAAAAgCAAAAABWESUoAAAEK0lEQVR4nAEgBN/7AASGjLjYc71xEst6SwEsBMY7+gnN7qjkNj9Cb0IWAlITAChdGTsJazrlJ3FV4Bj0n/ZhCxB7liM4QMnWC9PSLgNaABPzMggACUToP1QVOLWI6xU+yp/L65McAEN5TGQufCZPASaCp0w++gjGHej/1UWG26aJS8iFhgwyio4n8XIUC97xBPrcmkAiB6kA7QbQFJsyh7h0+JUBlmoWSLccQgO7CbwCAG4DAzijFzTpe1UO4k+VZEZiOCmFOXsNYMpmZ8+CifwDAoIR82U1e/uWpUGyYEGOpT/E7G48QAP3zBsAQZYfZV9nBFQy8CgxmOJbiVKCicWJGNVTBQDsu6gK/fT40mWK62huAQtL7DTbJSQwwLzjr5z0ezmjh0UEjnlXLqmixSLmCUHPAZnxZ/QWxX6a9lZmBDr0ZRppJ7cnxbMw755Mx65Ik8iVAKQzS2fLAlj69Q7W0hfIDvWFJ+BV2HmOmiUH5oZJ6dzCAQZrkciFoxMYbCe3OpuqrdUf8cvckcbmxHYzuU6qCxmBAIOa59IcBQMBWZLsPqVs6M0LRiTIDeZu8+p/xSD6RQndBD2OyMGnLu0IqF6DrsGVvVw1EP7Dm3zUnbfOAXVCJN4IAPR5d4eAa/o9DkYV3XUO1WPvYtQAzR6nBEII9ueP3jL+BOeSO+RdNoYUtU8ANOrlrG01OJYI/vQjl8NIp/7fFwtrAujzA18n/5f1yY3SSJuZqB4puX+fCjdTDRJj8Oed7ts2BPykz+7RqHUVjLPBCsqOZRM78cwfG0kuZv3QkPSp+Vk/Avf2fgufSfKT3enM12DQ89oXivIOGPiwHjesJaU8NSiRAhPnZXfB7K941aS0TVGZIe9MO3ViiA6qVJ6RIicoePo2AU8EadCaP1T9to/Utj/3fVvn922bVetWy4pdGKTqqbu2AVqcFqD7LgcAFU+8n9AGqf25ZvIoxBiptVTEh83AsgUuAgbxhl6wIWBY8WJb685+ovC+7fZTuo6YHQPfMfZ+ZO79AefLiZvYG+HcqpbjP0ckQ6kaZ0pw/JO1o+84YhuCK8/NAmhfBcSKq6N0rvr3XPFNQCnZXBfHMNcpyn32KHVAyyEPApu3SDAikkDoZjP35hofq5QeWf+lrezmv58YFa3AX4o/AFaQZMGM468uQmEZvgW+KvSr1GSkIbtbv6YQFD/ZDtVSArwvTfnAARiZPOpU9AtxLdVLy68EACxNWk3NsQa1eoiUAavnR7o/ZkKmfwUkv003i0UHOxD5+XT5TtYMeUXnARnsBJYREv7kKLZNq7QLGdZljc/HBtPhTSQi7r5EGPFyyOwaBDrj+f+3JnbuWjPjpmgP2GPuv/eKqnsQbjMNIvYm8QFjABM+BblPtQTf0ClI7sfjovur42elhQqPKWhXuQyP61hParT4TsCdDB4AAAAASUVORK5CYII=\",\"data:image/png;base64,iVBORw0KGgoAAAANSUhEUgAAACAAAAAgCAAAAABWESUoAAAEK0lEQVR4nAEgBN/7AE6LS4L86mmIS7T50l7cdhzdJmLjb9maV+j2NWAT6sxDAhH4/PfquwEsbReXdARnMPPivz+ZK8+PMxPB8qwBVnqdAKsoIuW4CzEmp0MavenpVCZBtfpTq3SaJmfDicFfQUzAAO9ogiSl9WHGR4hwAuiNLytgEYPAG/YuRgNbrS8gHQLHBLdT8/v7DEN/d71b1TQucpu6fhPH7Lz8+S1Vpd6w4/XiBLhqL2Me3+QJ5MdXEaH/KCmmX7kOMlSkCuSwqzSTamrKAv+bfSJ343GwVFuxlxsZKWUkFfc0i+TrLOnuxUmB+p3BAeVXe8wgPScVU9X+DPlz+rmcK5wHSQn713HmESvGFoAIAKOQBWvnOMoQtNfiAKAl/bP0HHWPsD+L9wFuSpQA4kdVAWM94lzp0iQTmSoHI5uY0SroDpPFmuCqqehBCBmrSSm/AM8s4WmKdPlC0gzEq3ouE17SXimP5m97jlAmsgZKuANdBOLhTjj3GZ3+Eku4bjj+0pCSAto18fHTdU8EDUmz7vuJApRfL/uERgrISjhnIF4O+DY2LQCsC9omM+UnMSz6cjdQArLna1VCdcgEAXdL+e0ppENEAa5w2CZlVr8p3zBixenGAYkmt1Snoo5FizUkIoSpOl4mDey85A4AF9bjKIiGEnQcBH6THEOb8+X3GOV8+DtwsRvwDsWEICjSCk1Co6N+KuyNASMlSzK4O7rauAOKyuYuRHbKkRRxAZxAx+OJGkoLQAE4Ae9Y3hwTQsUkVUoaxaHCBshSJB4yrAC8VXue+qFIhCDpBGplVp5/x6okACpdQgkr5medsmfq2ca8/2KDFKTm7Dk5AhPEanq36DcZYDtIUHF11DSnBFRMxKOcHLlj5zIdt/lDAKvNO6yDYeY7iXgoLt3ejUuYRTsQURif3hdO90jn7S1zASETMqbtfzPx1yJND1UILFezhBT3mUehqvmG6bgbYmC2ArKGD1lLI47KvaHihLyB3yrQIllIAZXpErXrrCCULV4YAldMIb89Dmm6J0rBiZC+eqk58T8s38/GCuH1xTQ/bpKZAhEbT5L2kB5R3NPR1a3Tcu/00evvys8d68wJjpT3LQStAEW5YVKwAsJGbBzrhfFL4ecRc988/et6bgv2kS8OL0NgAVGdNBrj0boDDAAbLz/yBRhZJBZnN0bUZ7mo+KuB2efXAMFIb9rvW78ttg7aEsS3OQBA7+SsoHvh1rLfgAbu6uFOAF7wXvHhd/gF28HBZeo9tkeOOmAsvF+l08UdUPNT0QfdAh3PrmQRV3I/d7ZF//yKHKnMPhpjXPnhVchLPH6pydTPAS5PBiDLjBKy6ncHNndzQnElJqtQ5AqmlUPccnY7te7qAXK5Qj6YIBvFGHRy1IjlAvHAj5v/YOUn6FFvTW4Tgmq+mnD1YgpuUkMAAAAASUVORK5CYII=\",\"data:image/png;base64,iVBORw0KGgoAAAANSUhEUgAAACAAAAAgCAAAAABWESUoAAAEK0lEQVR4nAEgBN/7AN3P7j02qebT6JjKAM2d8fPy5KZOChbgegbe9tNTo/dnAXhOzzdZ0SPdPdpZ/y+K2012XzPhQRdpwiVDQ0YmrLg2ACjH41gCs9FdnLY1th92LGw0oYL2d0xgXlhisvXc+T6/AGalYf3c1M0VWdqA5jpvhtgSVXIA1qzoYj0rAjaEH9g1AXq/BzBizcAUVO3e0l9zipCm6esPchKWE4TE5f6VTFosASDxgxMp3pJ2zMRTrGjkBag82wbKDqxE2N46cjGYBQQRApyWSvw/M/3Nw8A06wroay2R1Amep5NQsLmPI6FgLhEoAk8lHFY0LyMPvaDD+dagPBQKQ2ln1LTG4NE/aNjjYmnHAPBEIQzELafv3ycI7GXShSzms9KOIYekNbWRkwN9bLvpAEKU3BCNC67wpiaeYeAo6TZhspq7rx0NoMwFRtq3uRDMAnMm4sXC0UnQ3ufRQEFU6S/Xw6izBGL4m/YgXCTfSKE8Ap3oJTBBgCErLvB6yzsXc6Pa3JvV0SLJJ4Itzwk4ZIDXBGbhaE0vrDZQKeekVLElcO1p5R4Ukwz0uqBFQuEmAb0DANpotrcBqzJCAArHpYQOEqndwMuTTP28fb9N6K9mt+d1AkNKERpK0I3aeEpG2neND2zotiafn/H/VA1J9+x43a2xACrCJ5R2CALH2J9rVEBaXXvpZk2yTxabMnPaGtsksecbBGKvTwiuyOjoTBfoW1Od8+oeqdU9b0DwdfAdMpPsyw5DAtRnsm8zZKVG3IG8MZP6UzPt+OkCQMgKkPah9rL6Y77YAWH4YP3//UReKBj1A0SsQU8k9be8sQYhWYcK/1PlRowKAF4S8AmNudBzr5EmYpYYFMgiyPAOjEQ/qNgVGjxsP6XrATTYCOlK2JnRW/m+ON0hcjzzNoyxDUUL0UjeADj3/DO9AWz1Yb0MkQsIFy579BsYftJx4gW93KmJEwW9eQw7IgvNBAGKZjqiuHAiPtpJM6iBQ7CcBdoQ9ZX6lvS5kbysR6VCAMPmJj2TFXMhgPfC9zu218zzyyoK1oD680K26L6ALtkvARbfEhoZfNNUcNiDLCJaINZPffjhb4it5wAZmfJD/iU4BDI+fKHIcAQcI/BI6DXApx9ysAn7Fd0i015SyCLZNu7dAccvfNf16KHw7QdS4c08R7D4lcvTrFOt4eUT8gAmREuzAT98oaynr+kAKenk6Q+BIiCc1YAVMizv2mLpiwVVwladAOxpeyUlS4gV4NAhQt1c+UxRMtxIHM8FkSCraWQcw6efAJLDGBnAKD4n6oKLaGYKOLb5obj37c6EH6gZmL7khJbxAs3sBPSN9vw7bgnTUBwz2F+16wW46HLKD6KwP7FOKve7AEEs3VQjkTH5kGJJ0bN5ZZxjXXcWhJrxujIUz0yzROU24x0FGdBaSvMAAAAASUVORK5CYII=\",\"data:image/png;base64,iVBORw0KGgoAAAANSUhEUgAAACAAAAAgCAAAAABWESUoAAAEK0lEQVR4nAEgBN/7AGEsUF0cWxkIPNfVFdbrSzq0P80XxFjYIdNvF4PVQ25lALy2IVFLBmP5a58N2lAojd+kK0TKlYL7gVQsXMp5u/jgAWbh032DHdDhFYpWha5TJtXzBKsdUQ4ICT/TWIR2PSquApXp7AP2YEUKAF8Fr1JapAXJgx5E0xXfyMuomWAyTdYbAOih6C6/EhX2BNatecjy3Sojltbvi2/4ei2Y/Y+NycAyAHTRfv1Ett+HIs6/tdo9fqCgcQCLAezODEXEWQuj32lgBBAX2wWpAUUeim0iH28v5Hltn1zWZZHNnyHCuqwpz7gIBMDwi8MdBmTzi+g/+cG1H3a2cylQ1Jc1LEtSBZ0PV3YJAnnFTYgEaPxzSUJhq8sN9MEF6+ih9mC8UIjm+pVTA5dJADD6ckQp5GhPKUXzRDe+h6QgCec892wXhGrNI7+gk+VbASpYFSe83C17RBKKLX3csP2E3mXK2B17vjArZi1AB7JQAojYwTwyYRekPSAkun8Ktw4wia0eATPwrsQdh9Yce1ioAWbnOvtPedp52gz2X9vrqY7Mii0FgxIe5SuWa+nQzUVfAg4p4NbwfgQh/WFVQKnvttPt9sIuQ6J8HzEY61UghGAmAvJPrdS4DMO9tkaPqfw3QV9+KbDmiT+8afgzBeyBUTiVApHx1avuJpXoQv/8CSokS6gIHbH6SkGbuhkNPWYmyLDsAFJFjOS2q5LmtclLYtQn2f5uSRJwlucTBQQuRfE/2DUwAelg9bsjKRXVYLJvvTEVHSGk046vgwRmGWeag1THIhTjATmtOR35nOqJzXSfQt6bmkcQmJpv96B4ACCfgQ34GM6yBHT5RMQZKAAt4MJyBaA43Yv1ub1o7IuzCrS/2p/WKuK6Ae6VDhfjFTsplNu64TAzQhsY7nm8mP79mXYFINzh0jeQAd/6oN4E0BBYIU5xQH0z19v9Nd1xFCPFo4FzR4rdX8VDAJA13/puyVEBuGu3x5JM8JTKkPvfHXE9wZkNbKjOr13FBGkZFvrl3SR1+ZnXf6ZtKHEDwAugB+NYmLVZYkTUINbQAAmDUdFBIr/oUsVzRyTVVkmSsWE5DCLfQLbzNzAjv7UfAEtrJkY2EEwAEY3s6sDl61fqulhN7xKL0KzjfsMG7Gv5BJL4CM+77/WxGyjgpYylSGA6x7trGH2UrxsANK/ayRCfAqkLroBNGmq6+4A52BpPNsMVCCTH1gOaD1DfLA1++bjyAtbwkN1fSZiHHeOOtFVDC70u7zrAdvfU2nxfkIUchUL+ABKrmufAxOFcy/10tLQDbS0IOs95/k+xTC018nMg4auMAubyYPioNjVdqhgrjzCAHd4k/Kq669Tl3TGfQaxBppibAZlGCFNIwdJvzaLug9c0RO3TLvbKNyw15eTC3I6k5P4bPAYA38LxgAQAAAAASUVORK5CYII=\",\"data:image/png;base64,iVBORw0KGgoAAAANSUhEUgAAACAAAAAgCAAAAABWESUoAAAEK0lEQVR4nAEgBN/7ANHqVSnFhDkdPuPO+hFJ8bN2F4bDXT3Tq86UVLTckibvAgD7JqEwDESWIKm4OvnYBolJnOP3VUueFMFdFWOC6f5IBGnmVlkjIR2RzkslFBvN3D6xN8kwCcsMuK8hJzAjGX4BAr6cLGXjOmho8fcnqe+Q+Fn9NoscEaYDPn+MwhoWRfCcAOqdAedT4ejhMATiNEQ4jA3Hi7FYoWjoe2TZEm0LboPoBPDhfaTSF9C/+LXiu/I3sPWfIFLYMozn+tGcQdZq63+sATc7+PRDrVK0QXs/Lm0O0ylw6yTGbZI0mOhVM+OibSJjAXuo49dnpezpyu70dskKcjam3JQ3PwHHAdvwpVTeB5LSBMUEmfcsO0nrRKV5r0awVbyb9tWR5qdCWRTSt82Z3WEQAYFgKfh/Ok+4qQx1IJ9u+pvPw005z0rb5Q4/v1ON10clAelzJHp5t+YDkCJAnQ7X5vGxAYA5u6LrcPtgu7KcBhjiACIRaUCbLnp2EskV/AI6ENlC9q/M+pnD7v37bKJ5KxTmAMuNPga7qNzoiuSHXzTeCvY55HrkQpG4YTJODa1DzypaAfdOSKVEWo/5ipRc/vG3sbbCmjzYrdfblBuVSxJGZyIMAkWvbR5DtV/S1PrMGf/X57G9ufQ6CuWNY2MsBmXlxMrlAvwyDOxvMJ8JvFUPuhUYBm3TEmufAs0iRqY91onY1Kk+ARCosxPk874oey1ylw68MoiVKjMfEoB3gcN0jrPC9PtLAo3xkEXdgf1WJw7eRzXTM02y6k3fGFYQyyEovLF6giKoBEc5Ju1NS4mUATTryrXoDQcIF6DpZPrx/Ygd9x98QclnAIAOuSrBbhO8J3nSj3GEqSFotJazvPgyH7PKotA+8kXGAJlgpw1kYxAek9KP7vaN/FwAT/oymjUS0/6bZVZXz+ieAYZCZvjoWiQT/xnT9shK3V4ipKprjE8dxas1R4/yqOC+BAyuBrCDqhb/UY1yNQwn81xsD3rhRGs5+Gy+XhEpqkuqALCV3JXDvUjDHx6vPm4+B/XW95MDqOCyhScJQYPsq+zsAg7fg3+vHve6cPDTmFCrj3L9SAeg6fVjjNUugqkGIxKbAe7PMkCTN/ggh5qcnya7Ag+JNwtT3Cm1zE1Up2oFCwkqAVou+yNAyl8Q/lrOGq8OFukENHAyyDwEfHKj8wPpK8eIAkUNTxzm5b527eOyAY745aX1vlyQc3x+S/uVUvQDIkJUBAPAifNfaKbpzUpN72MKdbIApPasGarX7N4ofRdstR/4AiWumPytN2cs3D7HS8M7HjmwENPpz2hSzpNcMQEMoTcCAttSEoXH045Da/3q9fFH2nH45r5i9/9SEO3XpLjH8m3EAdwhnKpojzQ0lP3obZVVA5r/b8xFm+LHySYx4f486eCWr50M1drB+AMAAAAASUVORK5CYII=\",\"data:image/png;base64,iVBORw0KGgoAAAANSUhEUgAAACAAAAAgCAAAAABWESUoAAAEK0lEQVR4nAEgBN/7AM32V/sKQNVH3XY1VAKFk/QDV5rbjLuRplbRpe77oZHmAsulp2wCw1+YC7ps0sncxPFzZ9OrERj/Q3aY5H0i87WTAKAT0ByngOPPCahuitrAV5G8FoTiEsw83ZkQyeRdGWo2ADKcpt8fzwpVutIRMAAWrZYOTfxJ3lx8cdOfqeYoGQzXAhfGyNOO7APdHQ0/1YwTvfGBAbZY7yhmE+lbSminBKrSBHz+N5nfJ0lspVLZMATnJOb4cxv9FbdxCA1wK6d5EM77ATHz8E8YGtCQRmTZX13yaRTxrAIK7moRGZD3zne/EtP7AU9OXho+Qf/MDzNEu4xF2+aE9PSl36ajwEno7OoKUP37AS8DWQ7eVxsS9HceqA9JWTNblksaUNThJoHUEWdD8jYOAHv59Skt4WvdJeNhidlySeQHT5Hca2IaPPTSfDUl/H0FAVcP0D4CIxvf3dKulbD4cLxb+nONcC2TpEfpkrIuFFaRAfSVnzDfg91h8ZbIwHW3EUU3CBng0eUHWCfgXjNoSjtUArHRlnwtmcbo2k/ZWyKmPuZwzU3nEWfo15CYzdqD8zMzAEL4F1/cM5x2l0AhDDJtDsgZ9N2aFuFzZ1nyUJPZFtEhAMu/u/EL2UEqBIYcPLNMi86LrdFE+KhU8ilDGRnuYYX+Ab9tehqOKU8R5Vu+vmGlmeADZcXv9yCxpAeWCVLRQa6UBBFbGK0HSx6jFMqaII7CtPbNH6GPw9nIuwi9BWyFWdQnBJ12UniaQ/Tpm0MUImAKqwkWF9xwPmiPKalDI8AjgxWwBEgUG46rG+KlR8NAlLrAsPCYIcXSdERCUPnPCcdc4b3qAulVhEwJ7mPUzzCedp0O49k+6apn7fXor57ZB66V22UVAfc1kEBai8fzGHxEPrgozBALO8DaDR9E7ZJdGZl4B7MOAOuiTVpBf1knRR31EItTsOa4ti00oO4djS7ikcxt82oZAsfzMvI2bhdV8+y95tL/evfcvoyt0jjIGZgKgKeqFmEHAarH6t1oM+sZBK66CV1Kcr3MC1XgD4/cwDf62uEpnL3FAYaLheTYKlCwJoqE0YIbBKm88E/HBCNPnn4l1oRMTQn0BFbBKLTXx+KR3KLTDsfGD8IMsdCE+eX0GcEGtmvm+q3xAVPqOepUKRD7RWr73GP0l9uX3RpjOWsC+sUK0irFpZJHAYrx+cXNq0odguQ79i/1Bj42NRDFibUoZgtC0mYO4cywAmS99eR6B41JOA1ScJfs6YFHJ5rh46bLmsdDDLc37QafAJpd/YGrZAXTcGwoDdhJdykwFJHo0WUwJulAfLATpTGrBNIfG1wD7HEfdiZRxgS5AqIBy2E8NAaAS8dP+vkDUTMNApfghAE/bb7uJYfWPljAS8okApsZSYAtdHkFsvzqQMSTFwMCwxWA1nAAAAAASUVORK5CYII=\",\"data:image/png;base64,iVBORw0KGgoAAAANSUhEUgAAACAAAAAgCAAAAABWESUoAAAEK0lEQVR4nAEgBN/7AJMwUXyiFo/lFbs0IwLU4Vg3SxJlvFUttECvBAGC5kOEAVQkqI7R2aBjOjblPPWu/rzD2X0DNOsO/qMBGisoK9kgALwJD54O5KDeEf5TVDnc1Sf7SWItOQ3lZ0elvtuosSGLAm67CaWfWBH34YEmSp5/X1ZZDBJ2/Z1CMtP81C+bV6e/AEv+qTYoxmYXQL42PRO37g3+Z/IQol7lrvdZOPrqg9v3BCT4+vQHCkikgu0uFE7hyAAv2emBHXcmeT7cgcqC6PwPAeOpy1TfGjhQh5IGP2e06v4PflQC/JIfNWbO3RqhK8prAsqqOBBGBwNr+R4O9d+g+r7Kl9g2mt3+LzW1s79MU4XPAPhaGh5WZZXWtSU0FrzT/fLU8VAl7qXY0wJ5J40edQJbAicEfKECuL6/V0Gvuq99WtjTh444LhhI+B0Gw1mPwaAsAU+g/HTxYflJ756zZORbbND6DH60QOI5RgerpgGWE5kvAWcBbywb8DLg+dK229J4usVrx9eh03n5AROOhDipXRxXAA4eVuTbvvQ2nfM0l69GxNEVD7SY4EHEoOrs9PTfJ1URAi1oa7qnBdP+9ZvqUumdnPttJeyc+be/m33TGXqNK6RfAlEkhNuGAyNXEHUZ4sG015WznKdQ14yY7lfGou5OMxPrAX8+6zqgEwUmHkz/TvFP7lxkPPdvr3xO5B7lmcUvL5h3AANKIwDaAc7p/T39atB4pktRDx7YFrctgD2Q4OwolwJYAC9P5KxeCvKCVLgBizGPP9H8XtpSDtmdIVBHR1bcGG3CAYHRtzwjA5bhGzMoHUW8GrHsFqR52rolFNfh+joP4RBKABU6moz8Pw5OwrXLGawni3SwCORHZVHOarj3nANCTp8aAF/wNoJPwvxR/bqHOt4lGP5+PdsDz+jL95fwqqtosOkqAW3/2v1XB+s9uZwCplmfpoHnNUCAJYGkgRFk9HpV+cYdAOhGPgKituvmYyGb4VbxJIPiTLZvGElFuQsLQy5ygvxDAofMCJi+QCOoWLQeGL79RElncevSh7fbF2V1nPo57uYXBPvD+/4jKSl8jCKCyvJtlnUryQy2mPrG5j1d0o6+WZdKAevUfKcLdLkSBDD3BtjMEKDR3GEIh+VKo2bp3b70iGYdAqsRFmPzCa3NoI3ZPFifIxN8uA0ABeIgHf/PnvdBxBlRAgU4LIzdbkBVZs2en74hqvS6SxwvJoTiiflOP4sYDpjbBEyrWeXRFA5F9T9QogXBxmeVPmYGitLxZBfjUSP6LBxEAvwrTkrb0xGBysbSbri+2lY9iuEX9Bt+zPvh7BA9VMw7ApoB64N8B0SSsVxstAUq0TahciPRljiebDcJHv94qpUKBG9D6eLIzxdysw8CdykJLbbZF+VL/xTH0droGejSLZWDIiIAShq1D2kAAAAASUVORK5CYII=\",\"data:image/png;base64,iVBORw0KGgoAAAANSUhEUgAAACAAAAAgCAAAAABWESUoAAAEK0lEQVR4nAEgBN/7AT+cxig1GgCjImCx8TF85uuxfRTIMp+4NwsqU9Y4dyL/Ae9zIANvYCet1R0HiViWCg8L5jv3W6jIVDTyMp66pdncAW/kL1JIfMqqJfEGFUuhA7YocYBJQfgCL8hYlcuyRMT2AkBDnvF4x3TyWgi/8aeC6kFj/3hQX+LRZMnAEhbMC12DAG3YMejkBTzVRLZKd8VDOEsTK0DqvxxBEFLfX9LRQlugAUfXRtXSmhZ+ErwFDX08S42AGRY3TP6zUdJI2nU2x/UOAdi2iuwQBUjD02PLSGZQaQIQZcocq7hC6s/uaUx9K36mAAryMgxGA4K+FBS9TC8ZLSs/8L+wMoT7ANftYXrpJje1AopGqcTd8vujmSSkHu/9dsL7fA3Yhme5MdRwdBIV+yykBCjXNZJS6kXrfi1BDw98UiuA8/0EJBcbjgBTagq41UyBAJJNFUdSgyVa4RuCERUVGDuTOH11w3gL73sCsBEYMtCzAlJPSk+7OCv9AiwI7D/gzE0qAR8iLt31HX/+mLubAKadALII68hPnPQ4bdnhE79WLAO5muBiSAicMbngpR0Zhuc7AN1546w8AUU/P89soJnl826O8VQlnvN20Dkj8hf8gu++BGrsZKftSQBdw3t8IkHve8xNFnHN/XpdNDEkzVni+rw7AqAJ2ct/jgPP6LgOfjWrZcHgivcIqidpURAiFdyrgcWMAMTs4bFgn5/AJUtkMbwv968G96wnMBTG3Wve+bTRXGvyAJgfwTdOU72b15LwVu59MRVsRK61z6twQSwQvfYw4ds4Aq/iMT/HUduKsJubxsLClch9GRRVA8P8kCQwBaxjlPCrBDaZtKoaBYZcnyeMS0z8wNI0+uRAXgj51+kOIlUf6q1PAhL86YgkPaWqDzypbgx+UkYdkyC4JHU+lAKDChUGcvQrAf19phZoC9NqcTHgBEJ7aeGDkHOw0n0VHkEQcdDRBoEhAu/7itGJfg3b3zVwUsJFdflDi4f3jNEL/3vRAvEbxpsbApZu/y87KZkz99zHp/jn7GsAOcRJtDwOryQdMB18W1oSAsGfhKkk9Vav9+YcDuaBn2vWKa0wofV3bokPKqaUck5FBFzusfk6GNiXaiuUPeIi2am55c9IAEuNPmnOeVD8M9gqBIFTFz1nuLjbTUC/SSuVL6k8mtZaGlXcGetuM9O6tmTcARUoJt+7fAdMfJW/K1d6gA76Lctnnb85RSSt0U4KTwjnAC+HT9oLtz9oG9QTKSMdpU5xPFYN9wqhTgeJYD2/4SCOAc5c8QZfQiL9yr4O7D9qizsAlxs+rx3KTGlNc1oA3K2eAmM3oifrQoasVtUa+Vy/IrxFksyeIMDJv+oKsV05P9qHAvHocQ+sL/0GfrbL4v3V2ufjNk+7KfG2139Ev6RnucUWTgbsx64yvWAAAAAASUVORK5CYII=\",\"data:image/png;base64,iVBORw0KGgoAAAANSUhEUgAAACAAAAAgCAAAAABWESUoAAAEK0lEQVR4nAEgBN/7AYZ/Mcz79tHLn34Inb8LdzvX9mhf68AP+GbVCgfnAH9QBCaqJRimBbHv/SgXynONvPOD40BpFbhz4Q84QAfXNJkCAMEnnIbjFaDp4QDmmqmmXxNfNv3zX+fKcNCcfkMwXvIKBOS0mv8JxxUh4r0tYJ/3nxL/VJD1UFjbGMqR8/0dgjAIBNIwb7QZPwelXmezui5ACOjrsn8hOgCgTziAq7FHo3KzAbf7x1uuvWOvIfuT0HGS1QACLNwUuwHWfqDMQdwODlomAcP8RGv7RQL5kRZVdMBVkwMDHhBTogUaYPwGnPDhXdtfAQOuPAjwRZ6gPOUn/Q/Ci7tvWRPPcE6dOV4ElFNe/uwYAb3ARf57q8+Kp9yw6eDG62CQjpxc+LQ032hSvgNM57EEAPO895yNRxr2nUa9k7pQMACkSOt64p9WhBgYFamsWac+AquSF30Rc/1jG0DUHApXydnH1hrlvFEbm//4E2dBG8l0BNoVzLi3k0I6mDNYcdcAHD2H3fNXPdiN/WOkPjNlMqYUAoBd/NTfHToP6hz/jDNqq3E+5hUXRgECxypMrn6krfRmAFFj78Yg5bnZJPsDI38SxBVOTwpuK2P1LRq/OYYMC8PcBIfFvJqd/18mqDIYC0gkaL9+NmjrCI7cy025KBHjn9YqAIwZDqbLs/fe7aB9oiHTLxqxI0GMSEWxOznysX1K+tJDBNCGyHkqAQ1jP7efn0EuNJ0Z+OtTwwCFjXKzywwyN7z0AbEmgkeKmIfEUhHWQ1JCqJlcDb4Z+D39rxuo/1P0HeIlAnMDk1PK/SHYGV1GHO74cHK6hFd+IxLKuRhvKQI90+kWALhbOXCNdek0BsMQhx6V8z3mgriE7Y+KU6uSq/I8Dm4fAJejmI/r3TMzyeAUXyHFWbj8+vXNa+EP+SGMDeKO8UHiAPxKvgOOqD3gtG7jHo+RLCHaJcI/b0rwO1MUkdWpzMBxAkDfq3uSregoLje99mnuIT0rEPHBGgZeR7mWXOvWMs4NBA57pfy2jG1WUAD2bwTerKyyRfMITRwRLUxpmrjNxOl8AGpHqOQTF8DSC9TJykmNHO40ZbXzbQIfXeGWFfPYqgVSBNjl5RnV83kuKadqMoPgDYw1nfqvXiJvjSQMOiqtoaMCARxo/JpssEArEaL7K+NO3AeT/D5mUQZCQFbO/Pjo+dJaAjdmKk4jURIXhyURDzztyY5/lB9CXLH32QOgBqr591GhAjaDWAIIviKx5vgkeUuR7/9e7wXPIRNLH4R/eBAiQFxaAVIk55atnNxe9Bp6R78WA8On8h5PuBzs+2ciVGEwEdAVApMICchnEx+WIR8I9CbtFik0wSM936Ej1FEUFeps45YZAGXCZ+9nYxvi/D4S903kdJEXkzbGACmqfSRsNkqA9VT7bqPwra16BrQAAAAASUVORK5CYII=\",\"data:image/png;base64,iVBORw0KGgoAAAANSUhEUgAAACAAAAAgCAAAAABWESUoAAAEK0lEQVR4nAEgBN/7ADir8y1g7Q3ddyHCdb4XEyfbvk78j5xd3qfSiU4fQLXAACj0AVpePGo+7rpb7xPm0Wa7GRG9SWH98sIQgcwfT8bWAHbLueXyChuCC0bbZ3YMwdkxxxiW5Wuy6ldaHuOhpvA6AY03ogkvRJ1s/TkNQcJUJglJVX7y9j44otWDfwU13csbBEkux2Oq5b/CZMGrQhHwpef25r4VO4KyO3pl4X/+Nw1WACeMyvLr9E8jWfL0zijBFTXe1fdwcAVESIQ74P3vcgYHBEw423cxWhf2yKhTGEPZ6LfPydyrFLa4W4wehT2X5SzpAl/10uQApmc0Z9PiSKxB4oXjWDZCOfalipO7TkgtvEzdAHA/2eGFLrvgOxi69t0vRxXx/sc7G+zJldBfGBjHUm2lABg1jBFioVAi4lGN5nDUKpylvPD00QjqUlNLvkSZS/BBAIWKL+P+U/JhLEl72xi5td8P7sAZe6XySUMP1hTuDE3NAjx+cf430uIEoRCDpAqrEnuMpN+n/GqZCKNdxq/OR+05ABNvMy1ehpkKEMxEvlzXpnkJ+d239eNIk2OuGkcg3XCjBMitSv3VFxHaGWUDlaQKT44Z+PmsDWe1anypINRB0G0AAtPwHNDaD0tozlMba4kAPwvoHtF/VQdVjBYLw6ldMjGiAS4MqfAUqLVHjcc+7gBeP2iEP6PjCwM88Te2HqEZlkA8Ai/sAcPfGGVMeeeG98/mFQdPd7MQl4jUvo2kEfzHW/n/Aapb9xvbWdw5+zEzzc1yLim0suyfrjOY5KiBxTgzGW7bAIdZl0FPwmjUlVTFrcQsCcRjELIKzO+N/JM9z0FJWpHsAQfktN3x2x9Og71k7Xfp1F/8QjXqFXan8R0xxV1eQHV+Apg9osX/ePETaLBOA50KxxafybYz9Zr8CV3fYe097OUHAQik/UbdRBpVTb7N+oFKYzQPWv0h1v/7JzpTq70hPKGEAYCaayvNwxLox8L47KYKz5CRiyyUhsLczzG9GRdk+uUPAkH6iDrL5CspVwUAZToGG9Tobz71ZVNDr0IsLt2ymDSWANz0l6g52mDWF/F63NuSatjXOMkcYhqXy4vYkwHj7kSwAm3Z6wjZs6D6ah16GdheS0e7STl67AcdVeFycpi5VSW8AX4vZgJrL7+zILrzHF4Ca3Mx/xsaPbpSwHKrdOA+tMShACwgYOIOGNY+5/HlP57i7Yon5kITjF7KsUOCz6Q5VNmLAELYbs34eu8FV+pefokQN45XF+P8A9Pn6x598iZLuDo4AQbyoDvejUU48/MaXPSmWyN8pcGsDGzvZr8BD3P6wiCIADwAcAJyAE54U6BK+TIG6BNTBe3SCkUzMfBCBJNUlNjVBMktXx4B+U7APXnHRE8E4+vIKRz7Ky20Kt3F9dIayp4VMC0DQBE0+9QAAAAASUVORK5CYII=\",\"data:image/png;base64,iVBORw0KGgoAAAANSUhEUgAAACAAAAAgCAAAAABWESUoAAAEK0lEQVR4nAEgBN/7AL5ELIMg+NoIqeMlULj866upHndEBkj3DqPyO+3AfqEbAoKcTjmPdOLi8cvyHd8bulsPKQ0iH98JXEqpLuBAOuv7AiC1V/uy2I8IHyCOSBM+FGI4FawcsDD75xcAN/ofgCuKArATsTNSEPHCR2ao4Tp+nSFlPfoFTDavhb8X2QJsuMUxAtwpalUhJVPn5vLC4HP2CXPMXS7bswLVzIIGms//7WPeAAqbgx3V7N9806J5twLl3Kj2WOfJ/jfmBuhPCHX921MXAacg7TySx1AJ0oVEvVr9O0vCCIePTG2OuNwIQTR35UcUAO1AcQztMmmFxghWzxUkCTbQ9+/vCdI14397rRT0R5n+AvbMDyYToTYLfsjn7xmcWAyyI4d9eiSiz/qn5CJEE532AJ7r1Mo0v4eUrvbqhk4UqtIRwugdqaVk3UgV/rndMOxcAsnc0dFmpzKNrFSwGPa8HMkI4aefxQLAd3QrG+6KMMBsARa86Wsd1swQKjXHVAoVAKj1rZ33g+IyVdrLp4chyEhGAbh6yP9cAPNCsTJ573XlL16jvfP54SMPKGS2s2MWMEghBI0jGEk6RNRq4jHx7uMRI6uWgFgpIgIb2Mo/r2DC0iVsAeWEOx5FHilVubaA6NmNYPC8ed1p5jy6M/EdJ3tF0xe3BJlcjBTxJZUQA9Qzb4bpetw0O1TWdpo5w0GZBa4A01cNARcuM7wkcGj+/lOGO/8tDjUB0s2RFcEVqzxHBMT1+/AvAkG/WSwhSSCr3sAvrndy2gG4uUcbfPF4DBIDKuKIibQMAbDdH2tqSURjKj14ex8zufTTHQr5Yxy4ChqnXj4+silPBLYMgcE16iDr4/cHCzERrpEAanJVUTPpSC4Q61/MfkFKApTPwoBLPijEK8vhVNnHITC4F3aCGvJKZeDUaCgSet8yAbAR5Zzh9AUTNvEZ3wei2wz3gf9K86fn9cRIGQ2bu0xiAalETTMDAZib+sQlXOw3Jf5RG3uJb917fE0gTdtB9Rj7ARa89O7zKpk4O2kPZukAV9wG6eobDz4Bu/r/J0c80QRDBF1uQVU/P1cOj388aagkvzQ0cCRMRFYR+w4YmwrShj0CATCUaj0X8tAevcSJYrDV1GYOZeBZP/IyuofpZ2O/c/AxAt+NFCdUUYfA+FVF7wvV3v4xb8YIcaNL8goIN988/3yhASRU3qbon+r+7vQdAD3bcB1Xb8Ap7NECRYBTYFM6hNjLBMi8Bv6A3G0tVuwNunrVnTfot6MJIfhJ//coIAeCo/mJApnPySkZwfYNcIqbF/33gSd/sKh4Bp7tUDsmS5hVG7jbAp8GdeCyLrAKLugT/hZF8tGOGSdz9e65CL7uXyRjTQkxBI/vCO45BPnM5A05vEA9LEJy+J/6y85sOOWk5h33In84ddDyG7FPi4kAAAAASUVORK5CYII=\",\"data:image/png;base64,iVBORw0KGgoAAAANSUhEUgAAACAAAAAgCAAAAABWESUoAAAEK0lEQVR4nAEgBN/7AfkS8xyptDL2dpdE+kjBnvxtjejiaSSoBqW04y6JBE/yAo6NIwURKEzbjyiARFY4fi05tzHCxPCso8FKy73AB6cxAD3figM3ddavBO9kQrnGY+TNet+/Le+hNJM2slEPCblXAZBa3vMIegsUnlQJJIgpFJw8Je2fWv5HNIxKaeUL7yGxAtbN9GWvqiu36loSJw2twhQSzYy+FjtguXMskGruXiMdAAy9r3LBXAMN7jEE72OYNugohhGIHEYRTmPF3upF9aPKAtUD8NtAg7v73ebntavvUz+gL7i2y0+r4vMXTuSEHo2oAmN2GfXS/MoJ4Sw86RNuv97SEZWM9amMB53g2Lqn2xg7AtE8/D4E0uLje44veY5t7VoazkkAuyWrYgUnQaVRcv0hBBRjrbzjBHy5GJyZwzUqoPyzM2Fc34KjElhionf/CLFHADGYSCVJSMgXVBA0DwusZPqNye9sHU3oKBjl3LVjBZwZBEhIpua1Ob4zau52xYOR1VoDO2WaDlQQaAv7Y04Rw94UAozW5Xczs6AUqE/xAX/6zPEOeeIcutfz5cXQWgnv/rUwAVNLDRkYolAfjFpr3O5WFYZ350ccY5CvKGgaLAt1yNdhAp/j1MAABdwBgR70rLX4fdMs3e8XSZjzGfizUhDiscX6AM6CBQ9ZigBuLOBsVmpB7BIVwzGhB8dRURAirTlgwTN7BOD6r/ZUPc/CQKnNIXlUyEzCkGCK3xFpLqbuUKsNMaA/ArHBhv5QH/COzROmKNg8Ot2d8qKtdgP1lCVPu6Pm7lgdAB626WTuqhCywAB713IR+52G8G5Qajtl545KQC9Cz5yWBFwWarMJMltc6/rKv22/2M/mfBMYJMJVU+h+jZT86vFOAHGDoqXzcGvGBILdlAZtN90NGJbd9vEVbytg50q0Oh+9AdCFFydRZNQK8S3peJqr/4Mn3FezF9cgDUR2X5MnVGUNAQA0efK+9JWqn9wIn9PAJuQPqTGLzaapjBNKtQQAkr9OAUIxXja3tFSe8gPcEBKi8wGgKmDRMW4z3q8LROuqCfUlAbE8ymAbwT650gs+6TByDtoCyR83U9dozywP81wc6VfmAuPk9g676t0QETHW/3/+kQhxy+ZPNOGlqxgiHElOjyuaAkWjBkHFxpP+IL8ySRhtAsyBMU8cJLGGHPAC37cluikBALYot3L4Li9aFIPV3Rt/aQbXKMjmnS5OiE49vRNaGtokBJUofOMysVdHhlr0yovXjb9L1JcA4wTxPfjzbbEfHiZEATv6d8IAj0zuxpDNwRbXjITuduAJAx/V252p/gdt30VyAAhQAnLPZrT5Ga9ACLPur3r9D+LJH0FpEaDGR6M0UmU2ANwTdkpKzR4J7xjSNnRBJPH+BUF9xMxo1Ipl12MtEB2s4uD0jDN4GisAAAAASUVORK5CYII=\",\"data:image/png;base64,iVBORw0KGgoAAAANSUhEUgAAACAAAAAgCAAAAABWESUoAAAEK0lEQVR4nAEgBN/7ABejQQ8RGqjOn1Eag68uq75Ny03UCwrpmM652+hgEgMbAXG6egUcF2bp647fM8ntRxH2DwaQ72+mFDiYqHm+/TtYAsMx/z0ciY91KS2hI+l1Wvh3cpi36SvrLi73oeTZTvrlAmJt544HDnP3NTpwk/3/aDgj9SCAUeCvsprwuXGT8Y8QBO+/C2maF8RP7Oil/aggdRlTT2oJA2XNmKZoF0B031A+ADD3sJTtj0OLn9oYj50X7jrwaSAXscVVIKm1+1KgmtIqBPRK0a2WvVyHn2k6+0Mzz35nSwaa5+HiwEia0v9KMSIZAU6kCH7eMcL1/1rWjg9qRwvHwV4FzuAvmbq1/dCx9utDBBawa+Te8rH/C+Us53knQaLvbbvCxe4IGOZorkwcx0RFAkyWR+UYURukDAN8lCMvahwEE/deNyz9+1HqunbOB6OmAAPqf8lKzfx/ZLsnUMykUQXHBjyFqjYYBMrsQCzaDBVRApZvKB1FfJrOxnIB4zvejCEM2lgQxyzJP+PxPhxl2aY0BHBbEV4CHQl2NFhrCdAy6gm/2dQGaxaRBF2xG+UulRUrBDNg1i5N9QbIBjQk4uzs72bV5rvkBg7atIAKZTxrbZlMAEoFLBfgvjHgo7I6fvgN8WTh070VsV0I/mke5Di1+c6dAXUT57kOqWFgLe3bi5nM/oUUY4fRuS3A12xVFF9a7MclANuKCIggewTSNvsIBqIg8/YxULwaflNHvoetN81jSnqqAUKX2ODPeDcJH6cb4Fw0SCfj+7D1AzLOrETRUPp1ti9JAvtW8jtEet4Ef/rCGVLJWTc4sCsLXP94j6qr6dFH76KhAv8SYNJeAW3s3HDoMRCrMFH5WdEKIM4OsBGJBSHl6hDGAK68UkW0+oY23JXITHIDziOD7Oioz1Xq80OJZZgQFLIVArcOPACMOjGE+QyQBXzU9xiN7VH75BrcIVlA6s6HXmE9AdJ07kOqAnrnY2Su+y/PBPc5+NA7bCgEpibvEwfc21k6AHt3aw7WmEh3gggI9RCo3RFMCKHM0gGv99NeWRpbvEHCAftAWCemAfFEXWXXNcYmHaVYB8+7wuerJqVovCMOjyNDACmgEAGlDH5GszXj1qAabLqWUdm9YTtSOF8kw+YeiCS+AfGLM6/p/d+xudH/kj+k6hL8VECdNTPLIoYr0wPx8PeNAg8KW3hz+AXBsF7d9nEmpuTktDP6WNYkL76mOraFFluRAcSD7leNc37XPDMNNNrkn4XsB+xJgoidJtmkfJLd5NdFBPM0Tuz+yjHcqSBvRUcsYJlXqhQ/JpV++9a1OeDnqOFZAE3rOcR5Zfn4UikaZC6xi+Q4CXfTkstgqYBD3LITus5WAeyjkQNYvWMl1vuSgIn/HN+CPoxGz634xgOn4+F1sqPxw5QA4YP4f+AAAAAASUVORK5CYII=\",\"data:image/png;base64,iVBORw0KGgoAAAANSUhEUgAAACAAAAAgCAAAAABWESUoAAAEK0lEQVR4nAEgBN/7AebqJ/zob051970FD8a1Enb5I0tSY9uGBPNPNacWpdFxBMl8ZeU3KgI8uNra09bPzBZLPy9gfrxqXZUhCVIa1iWfAudsLmLb1e+SoTcn9Eta2z3O+L5MzZQM0ovMQbrbzu0nAmQVabAKuwBrDpu8B4YlEjwky3E4N7InIbcrtnn35YZDAgIcBTXUxAjggy3aHtsDrS8g4IQsZbZTmketHnsRck7MAsRWw0g92fm4MCIMKQjBFcvZbujlYH42qiLIPqg2EDH3AsWOWPNFmuot0toTgn2VuQ+6EibtOqGqGEoiI0fjWL9nAsvv/el5IavwJ0nxQf9DbHMzGZGWa5bLXwGtDUWdWAebABX5vOY+9+LSmoiM+Jv9dqTWSPPzsDSW+0W1FKNXk5fsBPAiX529qsURr2ed1wDQ9XAa/pgO18oZ9K00BBLB2lqNABN9EMnb5/2b4tlNeaWrO/EyfyDP8xujXr76GN5XMGYRBM706hvBkm6rdAZuKhM5n4/iIAlUZW2ZVgKcmMT1jgs9AN2ZBw10nQgMlPqwOjYE5lWdPgni5s7FRznDGpgtIhHlAp4yIOsJnp781na9LZ0U/zoRv7we2NGXWd0sKs++/K48AEzt5pTfzwigI9ZzK89glGSAqa0uwED3sZRi6H0dAiUlACoa+ru2oZnKvdAnubsCWebzf5wUH/a1eN4gBRLiH9AXADoj0fK7DnV20wAGGLKDc9nq5g0EiVOPICJPD3sWpPN4AXzCTTxO0mOCm1PS5dA5QPPoeN6e4vJd6QERKcgOrexvBEDPGeLtRbSDbbe0fw0yIYPXeLdBK6acWfjtUN0Z9uO9BB/BUPZtpJrh2doUiQIVC4PFlFum1SPc0AiSDS8+7t23AGGp8/3vzQ8nxU2aAhqgTwQFK03jN4ia+5Vu+PmwgPFaBBDtsSfQACtF3xNjAGampg7W2juTlI8sme5ndDiAP8BsAp0ak8llu0pXuoSozukhWm25bPTAaBilDepg3ryS/Q6kAVM+TboTruzb4teEbC0W2za07aW/fumypN7b6wqeQy8KBP/88JatFIJxu+HkuoLbmX8IjuqpxM/AKf+7FoE2T54FBK+y6D8u4x4OdwiaRhRe/rK055+mLKlR/q1kA3/D4CTbAaLW/oXLksBIDfupUcIfGzGzlWpPtwKWx6A3QtwmtISABLX2IMuuwFot98K5wEAkaf3gB/wy9EfEvVbi8V10WZbKAg2czaGKLPKItB1T8NRlFjMEw59m3yn8IoApOQJ9E0zvBKSzjUl541wAczwEE+/78xne87vITxMcIr378vxkJ7K4ALoiE5YZblK1EUQXTTkf9aF3+iOwB462gxCZm2/XBARYBABfCfTcXUiCJ/xVP2UKsSjsow9vX0IjfFrDC5vu1e4+0pMFS43Mb9IAAAAASUVORK5CYII=\",\"data:image/png;base64,iVBORw0KGgoAAAANSUhEUgAAACAAAAAgCAAAAABWESUoAAAEK0lEQVR4nAEgBN/7AVDC1HX1IqQzlLevFtmeRGkYkBT1pyaU6lHl9yen+K4uBOPIRGpcxxXo6ZPT7Wewx8Oy31GGat4xXLuzNsrvVB0qBPYXUKjSplBmwwEeNqPnk6jSuOQ7rGUPHvZWth2x3OndAcnu2PwbGtsy74OcWHHxzCKn8QwA73L72r/d5ERMBKYZAAEBnKiIltkYeOlCq1e8+N0YbwHSzJTWZ+Gu3PrpUsyvBOBItuapRXja6mk7/nLZA4o2DLwkg5Dk79/l6wBCsyh3AI4/PpR2v/eelgdoQwXTZxbZMScI5HPh7+nq3J8Mb9ymBLFCi0c6GgGt+yLT4C32JDkSV3ZMrdQcf+0aIqijegDQAFogJN1CHWb6sslXt66HgfoWJtVc8ofTJdFuHwOp+TQZAMRbSQbUYUdevYWBZ6wXkjuuGtTg3Ti+/iH1vA9nMbjvBNB93s2B7Q4qJG2/P+R9v62hJ+YaWP0U8KbmjZLM6O9CAOsggzMc06gmI5Oru4DyFYkksDdBTc0xzYUm7LgR1MlsAbMryzWg1dLRUaIQ4dr4yNIBNVfyoJCLKkAXveGYGyqCAeUr0MRpt4wsCokmkrFUVQ0/LRj16RsGu/RCFc+yLCYPANwSN+uPIxn2Z/FU5jbApzLZQ9qW/UJ2svnlfG3kfQWzApMbgZMZ/QrazRJYcfEHqXU/69ylBmPSK1AFVFBAXDH4AmyrdQElcvARul/MR8ceSL8Sbs2wvkIb4MiLyBjaS7XaAvhneZIY30VRD40c/ogL+wULMoGYxEyuZg2OK3n4DUDhAHDri9RZ1jLiMRxZvBxohpvumWtbSKUuhU7GjNG74d3fATME2nUotXeoEtVFER5zPJtG87f3qdGPrIsNsPI4gEknARYwGut2BRwU8l2YxClAQsKsXCVM625GPTsFL7M8OtSlAatqjD/u27H6l3EBUFV620TutqwcUpxkJPHZKufmpUruARlNiMmk4dso9tocHJ2wYqPoZHTxLBEXZs8ibCMDC8ybAnoYkBYtWoGSkebjrRUAAf1OSC1w0u0iwmUOL802yMElAEEZZGfKGb3heyAkWFLz4HzZT8Dm7e6r88VPFqDtq7bOAKkI0b8WSYMcpAkBFJxUME0HfxROk6ZPjRXoMJ9oG4syAHXPF64S27MvECWL1BgLTTAQERt5Ouq+zt9rKVz1Qw8EAObKZ+Sf7g/EOmL5JnznKFWwsVaC1yEFf/KfeLGzb03RAGeqQ9F2Qe0DkQ1YWwU8fp4Au1WzV00K01vVfwMfZtzqAvsAGrHA6h35sSVQR3uk36XIssoCVZ9DqaYasCUgUhMpABal7xAhYLcPIqz3Ttceh/DkW9XliIiInDYdFAEoKufZACUW/KGYtAbiRfGTYwAzBigpCgVChtKKcRhD06sb3cl0JCj8FJ+Vt2sAAAAASUVORK5CYII=\",\"data:image/png;base64,iVBORw0KGgoAAAANSUhEUgAAACAAAAAgCAAAAABWESUoAAAEK0lEQVR4nAEgBN/7AezxE3C/yEAiwiA8PEbCN46QZQVY1c+SL33i9PoPRiVqAgHB7fYIAqX/sx62JW8oM+qrR1OkXtA4v6cX7FYwTYNwAPC2oTftwHqn954b2cJ55hRy3iSk8xMSd/gMmFBOz1a8Ao5Exv3233yDECB/GKqrEp5KqOzxnqyEOPOGok1BTVPEBB0pRnfoGh0JAj22FbQe5o04IrMTgecy1P/9FQ30KUZAAQ5WxpRb/ZccZJ1dB1X6Bjepv1X9eY/deDQWx4BTAtgIAFvqqhmG2BkEtXtiTV0iyARsCgAcu2D8qoIei+mt3B4oAU06S5XeC2DhEed4Y6lWx58+jbWlvGTsBj11CwUyZd85APoBBcdH22mmzji4FsQlmuoPV5c8aeC5Jtdw91gYEJ4oAs4L4gLlFUWATczf9wXZPSH8/UbxIJkhKacMkZC8OPKsANWSO9UYWEcJFbIO5MFQs6rTR0ps7YrK2xGnkSFU7RbNAgxFC69p98zDWCu+rgW+JRHWSelTTnYMm56Xg8k03As6BBK6yxXlTPTImLMeGZhGLPe31/19qAcoGcQ/A4q+TNEGBJzxThLXSOfrqFhLhu/TN80RGXz8G9LPyNgf7I73LN5nAoZcofPtrHvtZrC8af227fKqS8MFSQdBYUbqTiAwcC28AP69trWT6vd0pjC+zQmvyLHnae1bugaulaqwIxk11xzzABfTQCJTDv17PavHoZttNIL9/WPyUgsERyZO7CXPS+ljAXK139eEaNyOht4XFf4d03tKMPAyL8mp0PdaT8j8uh4wBO1t+oFXWpHU+w+/+eqfbJbIMhXbke2dP1vO7npZZRb+As8Rr2xGd1NhqDC4LgcecrtAtjfDGTOfcdmXESzLXK6QAona+W4JxdRAFFpA1DkfTALLAwDEpKJhyXWHGtDMQu5ZAj7FQ+Rw1J+aUtHkQqcOyB7YUQfpwTcEB7MAnvRCRJ5iASTrlyoP9y6j0rL6ec7zqEkeEnREboxx06grTyIk8+bVAeF3N97NrZ8HIRleLeFB38M9ofH9LBoIBzPS+Le+ZwmMAi8wJ/3mN+x1VdYOAgUpziBkPpK27seLKP/udR8uoO2SApYF/BvYVI7tmh/ttSI/lOO3HssjkQUG2XLg8OGmmxwABNYnCeWl0h2JUoWCtzYfXHQ1rSSqMpW/uhgo6UqxY0xSAiJH3khAhDE3d2+b0zkkHmYhHEID6wMaC7kEgxsTOb0iApCwohDIe1gh3tofQdIuYL6iuLxbFyuVN+yiG9vECS5CACTXFZlhS2mWmbD8nxbzF0S3NvPDICyVJMkTkpbJWdpoAXLD7OMHcTZ9NREl1lIDp2DGBiGWoQAc1Jzv+xyC4xUuAFyz5y0+D4HVFflrAK9Gxsn2bicDTJOxMs1DDphElqUcKqnwtAn71p4AAAAASUVORK5CYII=\",\"data:image/png;base64,iVBORw0KGgoAAAANSUhEUgAAACAAAAAgCAAAAABWESUoAAAEK0lEQVR4nAEgBN/7ARZvWGISvpOGDQVQpsWQ4nAVv8fjZfspxejSQm+vc6DcArHxyX7soYdcnKtGZmcPaHMeG4j4C+ox7cpaoCiRWOrbAgen+hZ/6MH/p9YR9eBo08GimoGSH1H0S/uOKUWZEkpOAb4o/wzYy7+lUI9u1T8NHjTYyLPbDobVcv+LKHs81s35BFzgUxMBdxtNi80N9zyrz6sp82BH7ay5QS4lCzw/63haAdr9AynqeK7BMqCz9T0YKia/+vEQw+biF7iWZpgNpTbkADiyUerlp3Jp8v6mwcLVvWIBLdhG7SuzgrLXAPwTKWH2BE9jHLuvVAVPwu+T89nmPwY+XlP4UIyhJh2iNvyatzNgAlKBFx0B725B2tyV2jUSJKQI+QlyrACyNxUrVj3/XpKLAhNTMy52yngF/qYZU4o4b1tBh1IgG/qwT5QDlh/N2YwQAldTRAV8xPQoMeLKvG8gZd0Hyvhkhfrk0Sq0GQd1DEyTAjJokb51s95wIex51b3i+dXdWgDgJrHphWjmKo8F3vHpAb/l8Ck7yhRUL/pYgxNXYDRknIEt2vB6SSPP0wCoEPp+ACeMvCCJRjCF/sIYbxVOrNn9t/UaV/eLfgETk2qgzBzhBEhPud7QHAt8a4YaNgj5Xnu/pOYWxzE32nzn4PvkLMqfAHMf98FXul0SZTK8IIUC+TA/YNI0l+casX2zFNT06mLbAd48QxKvZzpDslf1Sytzdq3x686105IPMJ4iuPP8104cBHXSDhvbRE0gqKHK5jJGvXnZ3G6W3+igAri4JYPEBvdHAW/rFznaTeimu0I+5Aaq5B/bcTP24btdbf9EDCjlKll8AGC0LtS4HCe9/VNxpyNKvAPPGP7usRb8cwF2k4VM3w8kAfjM9b5KVj3w4uW4TwZhtOIp41RdWVsEiKGVPLkpdrEOAA+Sr6orAcg5D7X51Kukv/pFj6IJnn3to3zzHs6cOeQbADgVCzHy1YzQ7b4wkSU/EQrZ/g0PGd5ypMf8xTMR9SMeACbZnAl6rb2PQ8spt12NDWlagC2yStb6GXdTEuQm+te8BD1W8LDfKvX3sU9A0/JOkTErgYZ0TiW2thQX+ZBtY+DvAPZwHtbhOEEhC60akJ8ES0yaDR5SxUvt0LvznwD1Bz0vBON7D0ahF0S4MYf4PxJijX19RRUD2J/U0t+FJBbH6xHUBP/xS0GVFmoX/Qj42bQ4tyIg1r/flFcSKGjyfgPRxxBfBMPLhK8pL9D9n/Bl1ir69ePCutHImh4JZ/QLcVXPCtB+AKRQ7SWUS/sKEApHG4FwoV7Imxql2WD8G+fhqu3f9tjmBOG0/EUGhxk+Z2bq4Ow9uNZ5JFyLGBPzxXdW3v2/+Mc1Ae4JPhgk9sDnOUYfj4NPGIsp765WMnbCVihj+H6lj9jfMX8I4Chh8v4AAAAASUVORK5CYII=\",\"data:image/png;base64,iVBORw0KGgoAAAANSUhEUgAAACAAAAAgCAAAAABWESUoAAAEK0lEQVR4nAEgBN/7ANBCTMWrXYU1tJEYF1CrdM6nD6lMltNgwTwKdBtuNqYiAJaKo8weFzv7gKX50WEFfzfc3ETZw0JGLhcXS8NLFB3HArxD+DfNCSKozTh0LeKRVhmANm7z9iCS9bgdPTPaH8+fAoL/8wx1WqeyT9bjHODhlxFJBqbd67VE0HrI4UV5KIr9AUkvnGeKQxzL0cywEYW8Qb4W5HoK41GTwMecVswc4TwnAF0ESdpMxDitYS90ie1PYPr+ndaL5084pIXbqF717BskACOa1O42MFsEBPIJghvfCqNA6r2IuKg5NxbjU7y70MAXBI9Mbw9FP93vbhOBBRKbN+krouUNA8G/WIZZuRK5Os09AfdS8v10IMYkieMmd/ufRhQohe9xSyT+s37PYVyC2QEVBBsPSyKsPhZzrrX8D4hd7BRoW4PzueYw80ZJXsMwY61tAZf7VX+dl9z5zxdbLBiTG8kwIwG6FPo81euDnwNtfiJZAXLV67XlwG1byYZPlTGbAQJU4ukyL/N1y3RBXVMbugHpBOFBJQrV+1cC/ZU6SyILrHQEA/3XJUDQAfOyYDObmx1JAml939Gaq2AFbKiD8wFj4Lr44AbHZnRFYNH1VCW5/W/cBI7uEB1Pwi8t5EpQYBIjBuwPbcHVePj1qekoiLJnWCn6AAL728juArxsCcA6N3/ksG6StnummfHjbfnyeQukSjfaAgu/aDzbqen4g00uGCpQzAl3Bvw4asYl8RLaiAjG3dEkAO1nnZeLDN3dTPPAcBXKXCPcAgGXn94z7HxAE60g5Ik8ACZiYx84DGbtP0yjvxQU68BQ5p/3KPvDgbq5QK1c0d/GAMSmEwR9I9R3QiHZatyy0FLum2/vA8g429teNAEY+wudAScl/3FdLgEBoVHGDrG7PbGeRdEB+PTdkpwVVejGlCQHAP14i2vN7NPNBQL2jCNQYrnfEBvJ8KfruTTJ97MnuhUGAOA2+qJGE5H5xdBpJVj1+Jb6OXC2kSuLuvoacc4GWZ9HAeZ9GCsuoswRM4+GOMWg1vDL7wV6dvCu4KRb3bxr2ZD5BBfyYf+l3QEvnxre6iTfYk0Z07nhBCALplNsCP+6Q12BANUJHHPfkrYGnxj3UXjOVMmfByY7oplcFA+ZIrB4xY0GBDSzAdvjknlNAB28LCrIG260eR7ZI+skBmqy8UlNiluVAXCGVJO37BV5IRMRTTBM+9SFoqJsatAjGJgGkfAbVl8fABwWQioH+ZEqLokbbgqxg8zZKgeANILyOwWnPerF4BlsASFB1S5fmF8tb5oKO8cRHFXomXtu/vCtkUDkURXfI8+tAN39oUktE7QaaKJtzVo4re2j5no0OTh0HZP9NFD6zqgxAQMZQDKGee5W4AMG9S3ls8/zyHthU/3vZSEoMeoOLt7Slxn137CMm74AAAAASUVORK5CYII=\"],\"x\":{\"__ndarray__\":\"Dh8fJzu13798CGwaJZf9v10EO41oeRDAp0r1/SEf9z/nJvkl+rj7P5W25rFo1+U/C4v1PvgS8r/IhVfJPkr8P6cLbkzua/k/kNl0fVW44L9vyrcE6AMAQFpRl2B1ovO/RxKnK2qR6D8WDjavV9rnv0KeDQ687v0/tVFfkcga/78GoXwMS8cSQELhqSI2NgTAXSS6sYg++78ahqnm3xrIP02OlBFHQNO/Sn2CE1Jx87+jFFeWuSz3P6V6RbKPqQRA1soyPBkJ0T/lTKLGzdwAQBatR9tC4eU/vBwRYZRd6L8rFvUwk6m2Pz4PVtwpOPa/13H/c+3+DsCrEhwnHL+9vw==\",\"dtype\":\"float64\",\"order\":\"little\",\"shape\":[32]},\"y\":{\"__ndarray__\":\"43+vLlzDsT8Akba0hBX4P85kLgaVuwjAvBD+NL81WD/2Oglzl9L1v/82tOmO7RRAcVQqb4kg8T+/j3bnoiTJv4u1DFT7RwzAR5PcLFtx5z+2zz+KPH/Qv+eXAHrXU9M/VJiTQGMF87+dsZ1xRcj6P6vnPaD2FgZAp6RAugiG47+5KP/juU3XvyiaDmx/79q/9pzrViwE4T891gxQObf3vxOsbOfaHAfAcYSQ53Ra/D9pAqDqXUHnP3J/DrKvVNs/1rt2ym/xBMCZXzG/e3P6v/LL2P9FBQPA5hiURNBy8j9cVzShHlQEQGw++yTif/Y/8n+v4Idr5b/iFQBtZvvpPw==\",\"dtype\":\"float64\",\"order\":\"little\",\"shape\":[32]}},\"selected\":{\"id\":\"1057\"},\"selection_policy\":{\"id\":\"1056\"}},\"id\":\"1002\",\"type\":\"ColumnDataSource\"},{\"attributes\":{},\"id\":\"1038\",\"type\":\"ResetTool\"},{\"attributes\":{\"data_source\":{\"id\":\"1002\"},\"glyph\":{\"id\":\"1045\"},\"hover_glyph\":null,\"muted_glyph\":null,\"nonselection_glyph\":{\"id\":\"1046\"},\"selection_glyph\":null,\"view\":{\"id\":\"1048\"}},\"id\":\"1047\",\"type\":\"GlyphRenderer\"},{\"attributes\":{},\"id\":\"1026\",\"type\":\"HelpTool\"},{\"attributes\":{},\"id\":\"1018\",\"type\":\"BasicTicker\"},{\"attributes\":{\"fill_alpha\":{\"value\":0.1},\"fill_color\":{\"value\":\"#1f77b4\"},\"line_alpha\":{\"value\":0.1},\"line_color\":{\"value\":\"#1f77b4\"},\"size\":{\"units\":\"screen\",\"value\":5},\"x\":{\"field\":\"x\"},\"y\":{\"field\":\"y\"}},\"id\":\"1046\",\"type\":\"Circle\"},{\"attributes\":{\"active_drag\":\"auto\",\"active_inspect\":\"auto\",\"active_multi\":null,\"active_scroll\":\"auto\",\"active_tap\":\"auto\",\"tools\":[{\"id\":\"1021\"},{\"id\":\"1022\"},{\"id\":\"1023\"},{\"id\":\"1024\"},{\"id\":\"1025\"},{\"id\":\"1026\"},{\"id\":\"1035\"},{\"id\":\"1036\"},{\"id\":\"1003\"},{\"id\":\"1037\"},{\"id\":\"1038\"}]},\"id\":\"1028\",\"type\":\"Toolbar\"},{\"attributes\":{\"callback\":null,\"tooltips\":\"\\n        <div>\\n            \\n            <div>\\n                <img\\n                    src=\\\"@imgs\\\" height=\\\"42\\\" alt=\\\"@imgs\\\" width=\\\"42\\\"\\n                    style=\\\"float: left; margin: 0px 15px 15px 0px;\\\"\\n                    border=\\\"2\\\"\\n                ></img>\\n            </div>\\n        \\n            <div>\\n                \\n                <span style=\\\"font-size: 15px; color: #966;\\\">[$index]</span>\\n            </div>\\n            <div>\\n                <span style=\\\"font-size: 15px;\\\">Location</span>\\n                <span style=\\\"font-size: 10px; color: #696;\\\">($x, $y)</span>\\n            </div>\\n        </div>\\n        \"},\"id\":\"1003\",\"type\":\"HoverTool\"},{\"attributes\":{},\"id\":\"1007\",\"type\":\"DataRange1d\"},{\"attributes\":{},\"id\":\"1005\",\"type\":\"DataRange1d\"},{\"attributes\":{},\"id\":\"1011\",\"type\":\"LinearScale\"},{\"attributes\":{\"bottom_units\":\"screen\",\"fill_alpha\":0.5,\"fill_color\":\"lightgrey\",\"left_units\":\"screen\",\"level\":\"overlay\",\"line_alpha\":1.0,\"line_color\":\"black\",\"line_dash\":[4,4],\"line_width\":2,\"right_units\":\"screen\",\"top_units\":\"screen\"},\"id\":\"1059\",\"type\":\"BoxAnnotation\"},{\"attributes\":{\"formatter\":{\"id\":\"1055\"},\"ticker\":{\"id\":\"1018\"}},\"id\":\"1017\",\"type\":\"LinearAxis\"},{\"attributes\":{\"formatter\":{\"id\":\"1053\"},\"ticker\":{\"id\":\"1014\"}},\"id\":\"1013\",\"type\":\"LinearAxis\"},{\"attributes\":{},\"id\":\"1056\",\"type\":\"UnionRenderers\"},{\"attributes\":{},\"id\":\"1014\",\"type\":\"BasicTicker\"},{\"attributes\":{},\"id\":\"1055\",\"type\":\"BasicTickFormatter\"},{\"attributes\":{\"bottom_units\":\"screen\",\"fill_alpha\":0.5,\"fill_color\":\"lightgrey\",\"left_units\":\"screen\",\"level\":\"overlay\",\"line_alpha\":1.0,\"line_color\":\"black\",\"line_dash\":[4,4],\"line_width\":2,\"right_units\":\"screen\",\"top_units\":\"screen\"},\"id\":\"1027\",\"type\":\"BoxAnnotation\"},{\"attributes\":{},\"id\":\"1009\",\"type\":\"LinearScale\"},{\"attributes\":{},\"id\":\"1037\",\"type\":\"CrosshairTool\"},{\"attributes\":{\"axis\":{\"id\":\"1013\"},\"ticker\":null},\"id\":\"1016\",\"type\":\"Grid\"},{\"attributes\":{\"text\":\"\"},\"id\":\"1051\",\"type\":\"Title\"},{\"attributes\":{\"overlay\":{\"id\":\"1059\"}},\"id\":\"1036\",\"type\":\"BoxZoomTool\"}],\"root_ids\":[\"1049\"]},\"title\":\"Bokeh Application\",\"version\":\"2.1.1\"}};\n",
       "  var render_items = [{\"docid\":\"8240de29-53d1-4e21-ad85-462b7bee3212\",\"notebook_comms_target\":\"1060\",\"root_ids\":[\"1049\"],\"roots\":{\"1049\":\"491e1e4d-9335-43b6-81e0-1edc0e6688bb\"}}];\n",
       "  root.Bokeh.embed.embed_items_notebook(docs_json, render_items);\n",
       "\n",
       "  }\n",
       "  if (root.Bokeh !== undefined) {\n",
       "    embed_document(root);\n",
       "  } else {\n",
       "    var attempts = 0;\n",
       "    var timer = setInterval(function(root) {\n",
       "      if (root.Bokeh !== undefined) {\n",
       "        clearInterval(timer);\n",
       "        embed_document(root);\n",
       "      } else {\n",
       "        attempts++;\n",
       "        if (attempts > 100) {\n",
       "          clearInterval(timer);\n",
       "          console.log(\"Bokeh: ERROR: Unable to run BokehJS code because BokehJS library is missing\");\n",
       "        }\n",
       "      }\n",
       "    }, 10, root)\n",
       "  }\n",
       "})(window);"
      ],
      "application/vnd.bokehjs_exec.v0+json": ""
     },
     "metadata": {
      "application/vnd.bokehjs_exec.v0+json": {
       "id": "1049"
      }
     },
     "output_type": "display_data"
    },
    {
     "data": {
      "text/html": [
       "<p><code>&lt;Bokeh Notebook handle for <strong>In[18]</strong>&gt;</code></p>"
      ],
      "text/plain": [
       "<bokeh.io.notebook.CommsHandle at 0x11cb45050>"
      ]
     },
     "execution_count": 18,
     "metadata": {},
     "output_type": "execute_result"
    }
   ],
   "source": [
    "show(row(p_scatter,), notebook_handle=True)"
   ]
  },
  {
   "cell_type": "code",
   "execution_count": null,
   "metadata": {},
   "outputs": [],
   "source": []
  }
 ],
 "metadata": {
  "kernelspec": {
   "display_name": "Python 3",
   "language": "python",
   "name": "python3"
  },
  "language_info": {
   "codemirror_mode": {
    "name": "ipython",
    "version": 3
   },
   "file_extension": ".py",
   "mimetype": "text/x-python",
   "name": "python",
   "nbconvert_exporter": "python",
   "pygments_lexer": "ipython3",
   "version": "3.7.7"
  }
 },
 "nbformat": 4,
 "nbformat_minor": 4
}
